{
 "cells": [
  {
   "cell_type": "code",
   "execution_count": 10,
   "metadata": {},
   "outputs": [],
   "source": [
    "import pandas as pd\n",
    "import numpy as np\n",
    "import torch\n",
    "import os\n",
    "#from utils.create_predwin import create_predwin"
   ]
  },
  {
   "cell_type": "markdown",
   "metadata": {},
   "source": [
    "### Make Timeseries"
   ]
  },
  {
   "cell_type": "code",
   "execution_count": 146,
   "metadata": {},
   "outputs": [],
   "source": [
    "PKL_NAMES = [i for i in os.listdir('data') if 'expt0' in i ]\n",
    "PKL_NAME = PKL_NAMES[6][:-4]\n",
    "combined = pd.read_pickle('data/' + PKL_NAME + '.pkl')"
   ]
  },
  {
   "cell_type": "code",
   "execution_count": 52,
   "metadata": {
    "scrolled": false
   },
   "outputs": [
    {
     "data": {
      "text/plain": [
       "['expt10.csv',\n",
       " 'expt11.csv',\n",
       " 'expt12.csv',\n",
       " 'expt13.csv',\n",
       " 'expt2_diff1_4hours.csv',\n",
       " 'expt3_diff1_9hours.csv',\n",
       " 'expt4_expt3plusdiffdiff1_9hours.csv',\n",
       " 'expt5_mean_diff1_9hours.csv',\n",
       " 'expt6_T0to-9mean.csv',\n",
       " 'expt7_nooffarms.csv',\n",
       " 'expt8_is_high_wind_season.csv',\n",
       " 'expt9.csv']"
      ]
     },
     "execution_count": 52,
     "metadata": {},
     "output_type": "execute_result"
    }
   ],
   "source": [
    "CSV_NAMES"
   ]
  },
  {
   "cell_type": "code",
   "execution_count": 155,
   "metadata": {},
   "outputs": [],
   "source": [
    "CSV_NAMES = [i for i in os.listdir('data') if 'csv' in i ]\n",
    "CSV_NAMES = [i for i in CSV_NAMES if 'expt' in i ]"
   ]
  },
  {
   "cell_type": "code",
   "execution_count": 156,
   "metadata": {},
   "outputs": [],
   "source": [
    "for csv in CSV_NAMES: \n",
    "    CSV_NAME = csv[:-4]\n",
    "    combined = pd.read_csv('data/' + CSV_NAME + '.csv')\n",
    "    \n",
    "    # Normalise\n",
    "    # M = combined.values\n",
    "    # M_mean = np.mean(M, axis=0)\n",
    "    # M_std = np.std(M, axis=0)\n",
    "    # M = (M - M_mean)/ M_std\n",
    "    \n",
    "    def create_predwin(a, winsize, pred_target, pred_lag, offset=0): \n",
    "        \"\"\"\n",
    "        a(np.array): time x dimensions \n",
    "        \"\"\"\n",
    "        padding = winsize + pred_lag - 1 \n",
    "        until = a.shape[0] - padding + offset\n",
    "\n",
    "        y = a[padding - offset:, pred_target]\n",
    "        X = np.zeros((until, winsize, a.shape[1]))\n",
    "\n",
    "        for i in np.arange(until): \n",
    "            X[i,:,:] = a[i:i+winsize,:]\n",
    "\n",
    "        # when target offsets predictor\n",
    "        if offset != 0: \n",
    "            X = np.delete(X,pred_target,axis=2)\n",
    "\n",
    "        return X,y\n",
    "    \n",
    "    ### CREATE PREDICTION WINDOW\n",
    "    WINDOW_SIZE = 64 # 128 \n",
    "    LAG = 18\n",
    "    X, y = create_predwin(combined.values, WINDOW_SIZE, 0, 1, offset=1) # lag is already included in the data \n",
    "\n",
    "    ### SPLIT TRAIN, VAL, TEST\n",
    "    # Make tensors\n",
    "    X,y = torch.Tensor(X), torch.Tensor(y)\n",
    "    \n",
    "    index = np.arange(X.shape[0])\n",
    "    index_train = index[: int(0.8 * X.shape[0])]\n",
    "    index_val = index[int(0.8 * X.shape[0]) : int(0.9 * X.shape[0])]\n",
    "    index_test = index[int(0.9 * X.shape[0]) : ]\n",
    "    \n",
    "    # Old Data Prediction of New Data\n",
    "    index = np.arange(X.shape[0])\n",
    "    index_train = index[: int(0.8 * X.shape[0])]\n",
    "    index_val = index[int(0.8 * X.shape[0]) : int(0.9 * X.shape[0])]\n",
    "    index_test = index[int(0.9 * X.shape[0]) : ]\n",
    "    #for i_ in [index_train, index_val]: \n",
    "    #    np.random.shuffle(i_)\n",
    "\n",
    "    # Splitting Dataset\n",
    "    train = (X[index_train, :, :], y[index_train])\n",
    "    val = (X[index_val, :, :], y[index_val])\n",
    "    test = (X[index_test, :, :], y[index_test])\n",
    "    torch.save((train, val, test), 'data/tensors/' + CSV_NAME + '.pkl')\n",
    "\n",
    "    persistence = y[index_test - LAG]\n",
    "    torch.save(persistence, 'data/tensors/' + CSV_NAME + '_persistence.pkl')"
   ]
  },
  {
   "cell_type": "markdown",
   "metadata": {},
   "source": [
    "### Loading"
   ]
  },
  {
   "cell_type": "code",
   "execution_count": 88,
   "metadata": {},
   "outputs": [],
   "source": [
    "train, val, test = torch.load('data/tensors/' + PKL_NAME + '.pkl')\n",
    "X_train, y_train = train \n",
    "X_val, y_val = val \n",
    "X_test, y_test = test "
   ]
  },
  {
   "cell_type": "code",
   "execution_count": 89,
   "metadata": {
    "scrolled": true
   },
   "outputs": [
    {
     "name": "stdout",
     "output_type": "stream",
     "text": [
      "torch.Size([24702, 64, 56])\n",
      "torch.Size([3088, 64, 56])\n",
      "torch.Size([3088, 64, 56])\n"
     ]
    }
   ],
   "source": [
    "print(X_train.shape)\n",
    "print(X_val.shape)\n",
    "print(X_test.shape)"
   ]
  }
 ],
 "metadata": {
  "kernelspec": {
   "display_name": "deeplearning",
   "language": "python",
   "name": "deeplearning"
  },
  "language_info": {
   "codemirror_mode": {
    "name": "ipython",
    "version": 3
   },
   "file_extension": ".py",
   "mimetype": "text/x-python",
   "name": "python",
   "nbconvert_exporter": "python",
   "pygments_lexer": "ipython3",
   "version": "3.8.3"
  }
 },
 "nbformat": 4,
 "nbformat_minor": 2
}
