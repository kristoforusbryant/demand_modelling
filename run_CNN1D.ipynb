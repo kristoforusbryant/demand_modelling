{
 "cells": [
  {
   "cell_type": "code",
   "execution_count": 1,
   "metadata": {
    "scrolled": true
   },
   "outputs": [],
   "source": [
    "import numpy as np\n",
    "import torch \n",
    "from collections import OrderedDict\n",
    "import os\n",
    "import copy\n",
    "\n",
    "from utils.sample_parameters import ParamSamples\n",
    "from utils.train_n_test import TrainTest\n",
    "from utils.custom_loss import revenue_loss\n",
    "\n",
    "from models.CNN_1D_vanilla import CNN_1D"
   ]
  },
  {
   "cell_type": "code",
   "execution_count": 2,
   "metadata": {},
   "outputs": [],
   "source": [
    "params_dict = {\n",
    "    # HYPERMARAMETER RANGES\n",
    "    'BATCH_SIZE': ([64, 128, 256, 512], None),\n",
    "    'EPOCHS': ([20, 40, 50], None),\n",
    "    'OPTIMIZER': ([torch.optim.RMSprop, torch.optim.Adam], None),\n",
    "    'LEARNING_RATE': ([1e-5, 5e-5, 1e-4, 5e-4, 1e-3], None),\n",
    "    'LOSS': ([revenue_loss()], None),\n",
    "    'EARLY_STOPPING': ([True], None),\n",
    "    'PATIENCE': (list(range(0,3)), None),\n",
    "    'MIN_DELTA': ([1e-6, 5e-6, 1e-5, 5e-5, 1e-4, 5e-4], None), \n",
    "\n",
    "    # NETWORK PARAMETER RANGES\n",
    "    'HIDDEN_DEPTH': (np.arange(2, 5), None),\n",
    "    'HIDDEN_SIZES': ([64, 128, 256, 512], \n",
    "                       {'max_depth': 'HIDDEN_DEPTH', # sample a list of maximum HIDDEN_DEPTH length \n",
    "                        'consecutive': 1}), # list must be increasing \n",
    "    'KERNEL_SIZES': ([3,5,7,9], \n",
    "                        {'max_depth': 'HIDDEN_DEPTH', \n",
    "                        'monotonic': -1}),  \n",
    "    'MAXPOOL': ([2], None),\n",
    "    'FC_DEPTH':  (np.arange(1,3), None),\n",
    "    'FC_SIZES': ([256, 512], \n",
    "                    {'max_depth': 'FC_DEPTH',\n",
    "                    'consecutive': -1}),\n",
    "    'DROPOUT': (np.arange(8)/10, None)\n",
    "}"
   ]
  },
  {
   "cell_type": "code",
   "execution_count": 34,
   "metadata": {},
   "outputs": [],
   "source": [
    "fixed_params = [{'BATCH_SIZE': 256,\n",
    "  'EPOCHS': 20,\n",
    "  'OPTIMIZER': torch.optim.RMSprop,\n",
    "  'LEARNING_RATE': 0.0001,\n",
    "  'LOSS': torch.nn.MSELoss(), #torch.nn.MSELoss()\n",
    "  'EARLY_STOPPING': True,\n",
    "  'PATIENCE': 1,\n",
    "  'MIN_DELTA': 1e-06,\n",
    "  'HIDDEN_DEPTH': 4,\n",
    "  'HIDDEN_SIZES': np.array([64,128, 256, 512]),\n",
    "  'KERNEL_SIZES': np.array([9, 7, 5, 3]),\n",
    "  'MAXPOOL': 2,\n",
    "  'FC_DEPTH': 2,\n",
    "  'FC_SIZES': np.array([512]),\n",
    "  'DROPOUT': 0.2}]"
   ]
  },
  {
   "cell_type": "code",
   "execution_count": 4,
   "metadata": {},
   "outputs": [],
   "source": [
    "N = 3\n",
    "FIX = True\n",
    "\n",
    "CSV_NAMES = [i for i in os.listdir('data/tensors') if 'expt' in i ]\n",
    "CSV_NAMES = [i for i in CSV_NAMES if 'expt0' not in i ]\n",
    "CSV_NAMES = [i for i in CSV_NAMES if 'persistence' not in i ]\n",
    "\n",
    "#PKL_NAMES = [i for i in os.listdir('data/tensors') if 'expt0' in i ]\n",
    "#PKL_NAMES = [i for i in PKL_NAMES if 'persistence' not in i ]"
   ]
  },
  {
   "cell_type": "code",
   "execution_count": 5,
   "metadata": {},
   "outputs": [],
   "source": [
    "#CSV_NAMES = ['expt0_mean_speeds_mean_dirs_1dtime_original_interpolation.pkl']"
   ]
  },
  {
   "cell_type": "code",
   "execution_count": 6,
   "metadata": {
    "scrolled": true
   },
   "outputs": [
    {
     "name": "stdout",
     "output_type": "stream",
     "text": [
      "expt10\n"
     ]
    },
    {
     "name": "stderr",
     "output_type": "stream",
     "text": [
      "\r",
      "  0%|          | 0/96 [00:00<?, ?it/s]"
     ]
    },
    {
     "name": "stdout",
     "output_type": "stream",
     "text": [
      "{'BATCH_SIZE': 256, 'EPOCHS': 20, 'OPTIMIZER': <class 'torch.optim.rmsprop.RMSprop'>, 'LEARNING_RATE': 0.0001, 'LOSS': MSELoss(), 'EARLY_STOPPING': True, 'PATIENCE': 1, 'MIN_DELTA': 1e-06, 'HIDDEN_DEPTH': 4, 'HIDDEN_SIZES': array([ 64, 128, 256, 512]), 'KERNEL_SIZES': array([9, 7, 5, 3]), 'MAXPOOL': 2, 'FC_DEPTH': 2, 'FC_SIZES': array([512]), 'DROPOUT': 0.2}\n"
     ]
    },
    {
     "name": "stderr",
     "output_type": "stream",
     "text": [
      "100%|██████████| 96/96 [00:29<00:00,  3.25it/s]\n",
      "100%|██████████| 12/12 [00:00<00:00, 12.84it/s]\n",
      "  0%|          | 0/96 [00:00<?, ?it/s]"
     ]
    },
    {
     "name": "stdout",
     "output_type": "stream",
     "text": [
      "Epoch: 0, train_loss: 0.019328530877828598, valid_loss: 0.04093233868479729\n"
     ]
    },
    {
     "name": "stderr",
     "output_type": "stream",
     "text": [
      "100%|██████████| 96/96 [00:32<00:00,  3.00it/s]\n",
      "100%|██████████| 12/12 [00:00<00:00, 12.98it/s]\n",
      "  0%|          | 0/96 [00:00<?, ?it/s]"
     ]
    },
    {
     "name": "stdout",
     "output_type": "stream",
     "text": [
      "Epoch: 1, train_loss: 0.009700950235128403, valid_loss: 0.02963401935994625\n"
     ]
    },
    {
     "name": "stderr",
     "output_type": "stream",
     "text": [
      "100%|██████████| 96/96 [00:32<00:00,  2.93it/s]\n",
      "100%|██████████| 12/12 [00:00<00:00, 12.66it/s]\n",
      "  0%|          | 0/96 [00:00<?, ?it/s]"
     ]
    },
    {
     "name": "stdout",
     "output_type": "stream",
     "text": [
      "Epoch: 2, train_loss: 0.008255809545516968, valid_loss: 0.029203960672020912\n"
     ]
    },
    {
     "name": "stderr",
     "output_type": "stream",
     "text": [
      "100%|██████████| 96/96 [00:33<00:00,  2.89it/s]\n",
      "100%|██████████| 12/12 [00:00<00:00, 12.33it/s]\n",
      "  0%|          | 0/96 [00:00<?, ?it/s]"
     ]
    },
    {
     "name": "stdout",
     "output_type": "stream",
     "text": [
      "Epoch: 3, train_loss: 0.007432269863784313, valid_loss: 0.025067610666155815\n"
     ]
    },
    {
     "name": "stderr",
     "output_type": "stream",
     "text": [
      "100%|██████████| 96/96 [00:35<00:00,  2.69it/s]\n",
      "100%|██████████| 12/12 [00:01<00:00, 11.39it/s]\n",
      "  0%|          | 0/96 [00:00<?, ?it/s]"
     ]
    },
    {
     "name": "stdout",
     "output_type": "stream",
     "text": [
      "Epoch: 4, train_loss: 0.006608509924262762, valid_loss: 0.02463442087173462\n"
     ]
    },
    {
     "name": "stderr",
     "output_type": "stream",
     "text": [
      "100%|██████████| 96/96 [00:37<00:00,  2.59it/s]\n",
      "100%|██████████| 12/12 [00:01<00:00,  8.60it/s]\n",
      "  0%|          | 0/96 [00:00<?, ?it/s]"
     ]
    },
    {
     "name": "stdout",
     "output_type": "stream",
     "text": [
      "Epoch: 5, train_loss: 0.006128729786723852, valid_loss: 0.02234731987118721\n"
     ]
    },
    {
     "name": "stderr",
     "output_type": "stream",
     "text": [
      "100%|██████████| 96/96 [00:41<00:00,  2.30it/s]\n",
      "100%|██████████| 12/12 [00:01<00:00, 10.80it/s]\n",
      "  0%|          | 0/96 [00:00<?, ?it/s]"
     ]
    },
    {
     "name": "stdout",
     "output_type": "stream",
     "text": [
      "decrease in val loss < min_delta, patience count:  1\n",
      "Epoch: 6, train_loss: 0.00573382992297411, valid_loss: 0.0242267195135355\n"
     ]
    },
    {
     "name": "stderr",
     "output_type": "stream",
     "text": [
      "100%|██████████| 96/96 [00:39<00:00,  2.46it/s]\n",
      "100%|██████████| 12/12 [00:01<00:00,  7.13it/s]\n"
     ]
    },
    {
     "name": "stdout",
     "output_type": "stream",
     "text": [
      "Early stopped at Epoch:  7\n"
     ]
    },
    {
     "name": "stderr",
     "output_type": "stream",
     "text": [
      "\r",
      "  0%|          | 0/96 [00:00<?, ?it/s]"
     ]
    },
    {
     "name": "stdout",
     "output_type": "stream",
     "text": [
      "train_time: 290.2586040496826\n",
      "test_loss: tensor(0.0211)\n",
      "revenue: 48.83351160058197\n",
      "{'BATCH_SIZE': 256, 'EPOCHS': 20, 'OPTIMIZER': <class 'torch.optim.rmsprop.RMSprop'>, 'LEARNING_RATE': 0.0001, 'LOSS': MSELoss(), 'EARLY_STOPPING': True, 'PATIENCE': 1, 'MIN_DELTA': 1e-06, 'HIDDEN_DEPTH': 4, 'HIDDEN_SIZES': array([ 64, 128, 256, 512]), 'KERNEL_SIZES': array([9, 7, 5, 3]), 'MAXPOOL': 2, 'FC_DEPTH': 2, 'FC_SIZES': array([512]), 'DROPOUT': 0.2}\n"
     ]
    },
    {
     "name": "stderr",
     "output_type": "stream",
     "text": [
      "100%|██████████| 96/96 [00:29<00:00,  3.26it/s]\n",
      "100%|██████████| 12/12 [00:00<00:00, 12.08it/s]\n",
      "  0%|          | 0/96 [00:00<?, ?it/s]"
     ]
    },
    {
     "name": "stdout",
     "output_type": "stream",
     "text": [
      "Epoch: 0, train_loss: 0.01826798915863037, valid_loss: 0.03831079974770546\n"
     ]
    },
    {
     "name": "stderr",
     "output_type": "stream",
     "text": [
      "100%|██████████| 96/96 [00:28<00:00,  3.33it/s]\n",
      "100%|██████████| 12/12 [00:01<00:00, 11.48it/s]\n",
      "  0%|          | 0/96 [00:00<?, ?it/s]"
     ]
    },
    {
     "name": "stdout",
     "output_type": "stream",
     "text": [
      "Epoch: 1, train_loss: 0.009817570447921753, valid_loss: 0.03465329855680466\n"
     ]
    },
    {
     "name": "stderr",
     "output_type": "stream",
     "text": [
      "100%|██████████| 96/96 [00:28<00:00,  3.32it/s]\n",
      "100%|██████████| 12/12 [00:01<00:00, 11.46it/s]\n",
      "  0%|          | 0/96 [00:00<?, ?it/s]"
     ]
    },
    {
     "name": "stdout",
     "output_type": "stream",
     "text": [
      "Epoch: 2, train_loss: 0.008412390016019344, valid_loss: 0.02944082021713257\n"
     ]
    },
    {
     "name": "stderr",
     "output_type": "stream",
     "text": [
      "100%|██████████| 96/96 [00:28<00:00,  3.31it/s]\n",
      "100%|██████████| 12/12 [00:01<00:00,  9.46it/s]\n",
      "  0%|          | 0/96 [00:00<?, ?it/s]"
     ]
    },
    {
     "name": "stdout",
     "output_type": "stream",
     "text": [
      "Epoch: 3, train_loss: 0.0072957598604261875, valid_loss: 0.02724328078329563\n"
     ]
    },
    {
     "name": "stderr",
     "output_type": "stream",
     "text": [
      "100%|██████████| 96/96 [00:31<00:00,  3.01it/s]\n",
      "100%|██████████| 12/12 [00:01<00:00,  9.39it/s]\n",
      "  0%|          | 0/96 [00:00<?, ?it/s]"
     ]
    },
    {
     "name": "stdout",
     "output_type": "stream",
     "text": [
      "Epoch: 4, train_loss: 0.006576030049473047, valid_loss: 0.026769330725073814\n"
     ]
    },
    {
     "name": "stderr",
     "output_type": "stream",
     "text": [
      "100%|██████████| 96/96 [00:30<00:00,  3.14it/s]\n",
      "100%|██████████| 12/12 [00:01<00:00, 11.54it/s]\n",
      "  0%|          | 0/96 [00:00<?, ?it/s]"
     ]
    },
    {
     "name": "stdout",
     "output_type": "stream",
     "text": [
      "Epoch: 5, train_loss: 0.006008279975503683, valid_loss: 0.024984780699014664\n"
     ]
    },
    {
     "name": "stderr",
     "output_type": "stream",
     "text": [
      "100%|██████████| 96/96 [00:30<00:00,  3.10it/s]\n",
      "100%|██████████| 12/12 [00:01<00:00, 10.54it/s]\n",
      "  0%|          | 0/96 [00:00<?, ?it/s]"
     ]
    },
    {
     "name": "stdout",
     "output_type": "stream",
     "text": [
      "decrease in val loss < min_delta, patience count:  1\n",
      "Epoch: 6, train_loss: 0.005498200189322233, valid_loss: 0.025180179625749588\n"
     ]
    },
    {
     "name": "stderr",
     "output_type": "stream",
     "text": [
      "100%|██████████| 96/96 [00:30<00:00,  3.14it/s]\n",
      "100%|██████████| 12/12 [00:01<00:00, 11.04it/s]\n",
      "  0%|          | 0/96 [00:00<?, ?it/s]"
     ]
    },
    {
     "name": "stdout",
     "output_type": "stream",
     "text": [
      "Epoch: 7, train_loss: 0.005112620070576668, valid_loss: 0.02349488064646721\n"
     ]
    },
    {
     "name": "stderr",
     "output_type": "stream",
     "text": [
      "100%|██████████| 96/96 [00:29<00:00,  3.24it/s]\n",
      "100%|██████████| 12/12 [00:01<00:00, 10.56it/s]\n",
      "  0%|          | 0/96 [00:00<?, ?it/s]"
     ]
    },
    {
     "name": "stdout",
     "output_type": "stream",
     "text": [
      "decrease in val loss < min_delta, patience count:  1\n",
      "Epoch: 8, train_loss: 0.004679759964346886, valid_loss: 0.025456110015511513\n"
     ]
    },
    {
     "name": "stderr",
     "output_type": "stream",
     "text": [
      "100%|██████████| 96/96 [00:29<00:00,  3.26it/s]\n",
      "100%|██████████| 12/12 [00:01<00:00, 10.37it/s]\n"
     ]
    },
    {
     "name": "stdout",
     "output_type": "stream",
     "text": [
      "Early stopped at Epoch:  9\n"
     ]
    },
    {
     "name": "stderr",
     "output_type": "stream",
     "text": [
      "\r",
      "  0%|          | 0/96 [00:00<?, ?it/s]"
     ]
    },
    {
     "name": "stdout",
     "output_type": "stream",
     "text": [
      "train_time: 310.5591232776642\n",
      "test_loss: tensor(0.0181)\n",
      "revenue: 49.88476954205439\n",
      "{'BATCH_SIZE': 256, 'EPOCHS': 20, 'OPTIMIZER': <class 'torch.optim.rmsprop.RMSprop'>, 'LEARNING_RATE': 0.0001, 'LOSS': MSELoss(), 'EARLY_STOPPING': True, 'PATIENCE': 1, 'MIN_DELTA': 1e-06, 'HIDDEN_DEPTH': 4, 'HIDDEN_SIZES': array([ 64, 128, 256, 512]), 'KERNEL_SIZES': array([9, 7, 5, 3]), 'MAXPOOL': 2, 'FC_DEPTH': 2, 'FC_SIZES': array([512]), 'DROPOUT': 0.2}\n"
     ]
    },
    {
     "name": "stderr",
     "output_type": "stream",
     "text": [
      "100%|██████████| 96/96 [00:28<00:00,  3.33it/s]\n",
      "100%|██████████| 12/12 [00:00<00:00, 12.36it/s]\n",
      "  0%|          | 0/96 [00:00<?, ?it/s]"
     ]
    },
    {
     "name": "stdout",
     "output_type": "stream",
     "text": [
      "Epoch: 0, train_loss: 0.018679829314351082, valid_loss: 0.03749066963791847\n"
     ]
    },
    {
     "name": "stderr",
     "output_type": "stream",
     "text": [
      "100%|██████████| 96/96 [00:28<00:00,  3.32it/s]\n",
      "100%|██████████| 12/12 [00:01<00:00, 11.22it/s]\n",
      "  0%|          | 0/96 [00:00<?, ?it/s]"
     ]
    },
    {
     "name": "stdout",
     "output_type": "stream",
     "text": [
      "Epoch: 1, train_loss: 0.009195390157401562, valid_loss: 0.03307227045297623\n"
     ]
    },
    {
     "name": "stderr",
     "output_type": "stream",
     "text": [
      "100%|██████████| 96/96 [00:31<00:00,  3.03it/s]\n",
      "100%|██████████| 12/12 [00:01<00:00, 10.33it/s]\n",
      "  0%|          | 0/96 [00:00<?, ?it/s]"
     ]
    },
    {
     "name": "stdout",
     "output_type": "stream",
     "text": [
      "Epoch: 2, train_loss: 0.007968219928443432, valid_loss: 0.0276847705245018\n"
     ]
    },
    {
     "name": "stderr",
     "output_type": "stream",
     "text": [
      "100%|██████████| 96/96 [00:29<00:00,  3.22it/s]\n",
      "100%|██████████| 12/12 [00:01<00:00, 11.83it/s]\n",
      "  0%|          | 0/96 [00:00<?, ?it/s]"
     ]
    },
    {
     "name": "stdout",
     "output_type": "stream",
     "text": [
      "Epoch: 3, train_loss: 0.006971899885684252, valid_loss: 0.02456606924533844\n"
     ]
    },
    {
     "name": "stderr",
     "output_type": "stream",
     "text": [
      "100%|██████████| 96/96 [00:30<00:00,  3.12it/s]\n",
      "100%|██████████| 12/12 [00:00<00:00, 12.47it/s]\n",
      "  0%|          | 0/96 [00:00<?, ?it/s]"
     ]
    },
    {
     "name": "stdout",
     "output_type": "stream",
     "text": [
      "decrease in val loss < min_delta, patience count:  1\n",
      "Epoch: 4, train_loss: 0.00625183992087841, valid_loss: 0.02497611939907074\n"
     ]
    },
    {
     "name": "stderr",
     "output_type": "stream",
     "text": [
      "100%|██████████| 96/96 [00:28<00:00,  3.34it/s]\n",
      "100%|██████████| 12/12 [00:01<00:00,  9.85it/s]\n"
     ]
    },
    {
     "name": "stdout",
     "output_type": "stream",
     "text": [
      "Early stopped at Epoch:  5\n",
      "train_time: 185.33167552947998\n",
      "test_loss: tensor(0.0225)\n",
      "revenue: 48.41222430854245\n",
      "expt11\n"
     ]
    },
    {
     "name": "stderr",
     "output_type": "stream",
     "text": [
      "\r",
      "  0%|          | 0/96 [00:00<?, ?it/s]"
     ]
    },
    {
     "name": "stdout",
     "output_type": "stream",
     "text": [
      "{'BATCH_SIZE': 256, 'EPOCHS': 20, 'OPTIMIZER': <class 'torch.optim.rmsprop.RMSprop'>, 'LEARNING_RATE': 0.0001, 'LOSS': MSELoss(), 'EARLY_STOPPING': True, 'PATIENCE': 1, 'MIN_DELTA': 1e-06, 'HIDDEN_DEPTH': 4, 'HIDDEN_SIZES': array([ 64, 128, 256, 512]), 'KERNEL_SIZES': array([9, 7, 5, 3]), 'MAXPOOL': 2, 'FC_DEPTH': 2, 'FC_SIZES': array([512]), 'DROPOUT': 0.2, 'epoch_stopped': 5, 'train_time': 185.33167552947998, 'test_loss': tensor(0.0225), 'mean_train_loss': [0.018679833, 0.00919539, 0.007968221, 0.0069718994, 0.0062518395, 0.005729035], 'mean_val_loss': [0.03749067, 0.033072267, 0.027684772, 0.024566067, 0.024976121], 'min_val_loss': 0.024566067, 'predictions': tensor([-0.0451,  0.0128,  0.0196,  ..., -0.1023, -0.0725,  0.0274]), 'bal_list': array([1.00000000e+07, 1.01057386e+07, 1.02268891e+07, ...,\n",
      "       4.83804288e+08, 4.83980279e+08, 4.84122243e+08]), 'revenue': 484122243.0854245}\n"
     ]
    },
    {
     "name": "stderr",
     "output_type": "stream",
     "text": [
      "100%|██████████| 96/96 [00:29<00:00,  3.20it/s]\n",
      "100%|██████████| 12/12 [00:01<00:00,  9.96it/s]\n",
      "  0%|          | 0/96 [00:00<?, ?it/s]"
     ]
    },
    {
     "name": "stdout",
     "output_type": "stream",
     "text": [
      "Epoch: 0, train_loss: 0.018795059993863106, valid_loss: 0.04260750114917755\n"
     ]
    },
    {
     "name": "stderr",
     "output_type": "stream",
     "text": [
      "100%|██████████| 96/96 [00:29<00:00,  3.27it/s]\n",
      "100%|██████████| 12/12 [00:01<00:00, 11.45it/s]\n",
      "  0%|          | 0/96 [00:00<?, ?it/s]"
     ]
    },
    {
     "name": "stdout",
     "output_type": "stream",
     "text": [
      "Epoch: 1, train_loss: 0.009987669996917248, valid_loss: 0.029198359698057175\n"
     ]
    },
    {
     "name": "stderr",
     "output_type": "stream",
     "text": [
      "100%|██████████| 96/96 [00:29<00:00,  3.31it/s]\n",
      "100%|██████████| 12/12 [00:00<00:00, 12.41it/s]\n",
      "  0%|          | 0/96 [00:00<?, ?it/s]"
     ]
    },
    {
     "name": "stdout",
     "output_type": "stream",
     "text": [
      "Epoch: 2, train_loss: 0.008460739627480507, valid_loss: 0.027823690325021744\n"
     ]
    },
    {
     "name": "stderr",
     "output_type": "stream",
     "text": [
      "100%|██████████| 96/96 [00:29<00:00,  3.31it/s]\n",
      "100%|██████████| 12/12 [00:01<00:00, 10.87it/s]\n",
      "  0%|          | 0/96 [00:00<?, ?it/s]"
     ]
    },
    {
     "name": "stdout",
     "output_type": "stream",
     "text": [
      "Epoch: 3, train_loss: 0.007475030142813921, valid_loss: 0.022358529269695282\n"
     ]
    },
    {
     "name": "stderr",
     "output_type": "stream",
     "text": [
      "100%|██████████| 96/96 [00:31<00:00,  3.08it/s]\n",
      "100%|██████████| 12/12 [00:01<00:00, 10.32it/s]\n",
      "  0%|          | 0/96 [00:00<?, ?it/s]"
     ]
    },
    {
     "name": "stdout",
     "output_type": "stream",
     "text": [
      "decrease in val loss < min_delta, patience count:  1\n",
      "Epoch: 4, train_loss: 0.006745679769665003, valid_loss: 0.02332345023751259\n"
     ]
    },
    {
     "name": "stderr",
     "output_type": "stream",
     "text": [
      "100%|██████████| 96/96 [00:32<00:00,  2.97it/s]\n",
      "100%|██████████| 12/12 [00:01<00:00, 10.03it/s]\n"
     ]
    },
    {
     "name": "stdout",
     "output_type": "stream",
     "text": [
      "Early stopped at Epoch:  5\n"
     ]
    },
    {
     "name": "stderr",
     "output_type": "stream",
     "text": [
      "\r",
      "  0%|          | 0/96 [00:00<?, ?it/s]"
     ]
    },
    {
     "name": "stdout",
     "output_type": "stream",
     "text": [
      "train_time: 187.68454599380493\n",
      "test_loss: tensor(0.0194)\n",
      "revenue: 48.049802552596695\n",
      "{'BATCH_SIZE': 256, 'EPOCHS': 20, 'OPTIMIZER': <class 'torch.optim.rmsprop.RMSprop'>, 'LEARNING_RATE': 0.0001, 'LOSS': MSELoss(), 'EARLY_STOPPING': True, 'PATIENCE': 1, 'MIN_DELTA': 1e-06, 'HIDDEN_DEPTH': 4, 'HIDDEN_SIZES': array([ 64, 128, 256, 512]), 'KERNEL_SIZES': array([9, 7, 5, 3]), 'MAXPOOL': 2, 'FC_DEPTH': 2, 'FC_SIZES': array([512]), 'DROPOUT': 0.2, 'epoch_stopped': 5, 'train_time': 185.33167552947998, 'test_loss': tensor(0.0225), 'mean_train_loss': [0.018679833, 0.00919539, 0.007968221, 0.0069718994, 0.0062518395, 0.005729035], 'mean_val_loss': [0.03749067, 0.033072267, 0.027684772, 0.024566067, 0.024976121], 'min_val_loss': 0.024566067, 'predictions': tensor([-0.0451,  0.0128,  0.0196,  ..., -0.1023, -0.0725,  0.0274]), 'bal_list': array([1.00000000e+07, 1.01057386e+07, 1.02268891e+07, ...,\n",
      "       4.83804288e+08, 4.83980279e+08, 4.84122243e+08]), 'revenue': 484122243.0854245}\n"
     ]
    },
    {
     "name": "stderr",
     "output_type": "stream",
     "text": [
      "100%|██████████| 96/96 [00:31<00:00,  3.09it/s]\n",
      "100%|██████████| 12/12 [00:01<00:00,  9.88it/s]\n",
      "  0%|          | 0/96 [00:00<?, ?it/s]"
     ]
    },
    {
     "name": "stdout",
     "output_type": "stream",
     "text": [
      "Epoch: 0, train_loss: 0.0180507805198431, valid_loss: 0.037245869636535645\n"
     ]
    },
    {
     "name": "stderr",
     "output_type": "stream",
     "text": [
      "100%|██████████| 96/96 [00:31<00:00,  3.09it/s]\n",
      "100%|██████████| 12/12 [00:01<00:00, 10.19it/s]\n",
      "  0%|          | 0/96 [00:00<?, ?it/s]"
     ]
    },
    {
     "name": "stdout",
     "output_type": "stream",
     "text": [
      "Epoch: 1, train_loss: 0.009422769770026207, valid_loss: 0.02747924067080021\n"
     ]
    },
    {
     "name": "stderr",
     "output_type": "stream",
     "text": [
      "100%|██████████| 96/96 [00:31<00:00,  3.03it/s]\n",
      "100%|██████████| 12/12 [00:01<00:00, 11.27it/s]\n",
      "  0%|          | 0/96 [00:00<?, ?it/s]"
     ]
    },
    {
     "name": "stdout",
     "output_type": "stream",
     "text": [
      "Epoch: 2, train_loss: 0.007986649870872498, valid_loss: 0.026717809960246086\n"
     ]
    },
    {
     "name": "stderr",
     "output_type": "stream",
     "text": [
      "100%|██████████| 96/96 [00:29<00:00,  3.30it/s]\n",
      "100%|██████████| 12/12 [00:01<00:00, 11.85it/s]\n",
      "  0%|          | 0/96 [00:00<?, ?it/s]"
     ]
    },
    {
     "name": "stdout",
     "output_type": "stream",
     "text": [
      "decrease in val loss < min_delta, patience count:  1\n",
      "Epoch: 3, train_loss: 0.007037539966404438, valid_loss: 0.027669589966535568\n"
     ]
    },
    {
     "name": "stderr",
     "output_type": "stream",
     "text": [
      "100%|██████████| 96/96 [00:29<00:00,  3.30it/s]\n",
      "100%|██████████| 12/12 [00:01<00:00, 11.62it/s]\n"
     ]
    },
    {
     "name": "stdout",
     "output_type": "stream",
     "text": [
      "Early stopped at Epoch:  4\n"
     ]
    },
    {
     "name": "stderr",
     "output_type": "stream",
     "text": [
      "\r",
      "  0%|          | 0/96 [00:00<?, ?it/s]"
     ]
    },
    {
     "name": "stdout",
     "output_type": "stream",
     "text": [
      "train_time: 157.6870152950287\n",
      "test_loss: tensor(0.0232)\n",
      "revenue: 44.634453647166524\n",
      "{'BATCH_SIZE': 256, 'EPOCHS': 20, 'OPTIMIZER': <class 'torch.optim.rmsprop.RMSprop'>, 'LEARNING_RATE': 0.0001, 'LOSS': MSELoss(), 'EARLY_STOPPING': True, 'PATIENCE': 1, 'MIN_DELTA': 1e-06, 'HIDDEN_DEPTH': 4, 'HIDDEN_SIZES': array([ 64, 128, 256, 512]), 'KERNEL_SIZES': array([9, 7, 5, 3]), 'MAXPOOL': 2, 'FC_DEPTH': 2, 'FC_SIZES': array([512]), 'DROPOUT': 0.2, 'epoch_stopped': 5, 'train_time': 185.33167552947998, 'test_loss': tensor(0.0225), 'mean_train_loss': [0.018679833, 0.00919539, 0.007968221, 0.0069718994, 0.0062518395, 0.005729035], 'mean_val_loss': [0.03749067, 0.033072267, 0.027684772, 0.024566067, 0.024976121], 'min_val_loss': 0.024566067, 'predictions': tensor([-0.0451,  0.0128,  0.0196,  ..., -0.1023, -0.0725,  0.0274]), 'bal_list': array([1.00000000e+07, 1.01057386e+07, 1.02268891e+07, ...,\n",
      "       4.83804288e+08, 4.83980279e+08, 4.84122243e+08]), 'revenue': 484122243.0854245}\n"
     ]
    },
    {
     "name": "stderr",
     "output_type": "stream",
     "text": [
      "100%|██████████| 96/96 [00:31<00:00,  3.09it/s]\n",
      "100%|██████████| 12/12 [00:01<00:00,  8.98it/s]\n",
      "  0%|          | 0/96 [00:00<?, ?it/s]"
     ]
    },
    {
     "name": "stdout",
     "output_type": "stream",
     "text": [
      "Epoch: 0, train_loss: 0.01874464936554432, valid_loss: 0.03808720037341118\n"
     ]
    },
    {
     "name": "stderr",
     "output_type": "stream",
     "text": [
      "100%|██████████| 96/96 [00:30<00:00,  3.11it/s]\n",
      "100%|██████████| 12/12 [00:01<00:00,  9.07it/s]\n",
      "  0%|          | 0/96 [00:00<?, ?it/s]"
     ]
    },
    {
     "name": "stdout",
     "output_type": "stream",
     "text": [
      "Epoch: 1, train_loss: 0.009698529727756977, valid_loss: 0.029262520372867584\n"
     ]
    },
    {
     "name": "stderr",
     "output_type": "stream",
     "text": [
      "100%|██████████| 96/96 [00:31<00:00,  3.08it/s]\n",
      "100%|██████████| 12/12 [00:01<00:00, 10.33it/s]\n",
      "  0%|          | 0/96 [00:00<?, ?it/s]"
     ]
    },
    {
     "name": "stdout",
     "output_type": "stream",
     "text": [
      "Epoch: 2, train_loss: 0.008321579545736313, valid_loss: 0.02580964006483555\n"
     ]
    },
    {
     "name": "stderr",
     "output_type": "stream",
     "text": [
      "100%|██████████| 96/96 [00:31<00:00,  3.04it/s]\n",
      "100%|██████████| 12/12 [00:01<00:00, 11.64it/s]\n",
      "  0%|          | 0/96 [00:00<?, ?it/s]"
     ]
    },
    {
     "name": "stdout",
     "output_type": "stream",
     "text": [
      "Epoch: 3, train_loss: 0.0073040202260017395, valid_loss: 0.025540219619870186\n"
     ]
    },
    {
     "name": "stderr",
     "output_type": "stream",
     "text": [
      "100%|██████████| 96/96 [00:29<00:00,  3.24it/s]\n",
      "100%|██████████| 12/12 [00:01<00:00,  7.14it/s]\n",
      "  0%|          | 0/96 [00:00<?, ?it/s]"
     ]
    },
    {
     "name": "stdout",
     "output_type": "stream",
     "text": [
      "decrease in val loss < min_delta, patience count:  1\n",
      "Epoch: 4, train_loss: 0.006646070163697004, valid_loss: 0.027634020894765854\n"
     ]
    },
    {
     "name": "stderr",
     "output_type": "stream",
     "text": [
      "100%|██████████| 96/96 [00:30<00:00,  3.17it/s]\n",
      "100%|██████████| 12/12 [00:00<00:00, 12.44it/s]\n",
      "  0%|          | 0/96 [00:00<?, ?it/s]"
     ]
    },
    {
     "name": "stdout",
     "output_type": "stream",
     "text": [
      "Epoch: 5, train_loss: 0.006077180150896311, valid_loss: 0.02347813919186592\n"
     ]
    },
    {
     "name": "stderr",
     "output_type": "stream",
     "text": [
      "100%|██████████| 96/96 [00:30<00:00,  3.18it/s]\n",
      "100%|██████████| 12/12 [00:01<00:00,  9.86it/s]\n",
      "  0%|          | 0/96 [00:00<?, ?it/s]"
     ]
    },
    {
     "name": "stdout",
     "output_type": "stream",
     "text": [
      "decrease in val loss < min_delta, patience count:  1\n",
      "Epoch: 6, train_loss: 0.005784240085631609, valid_loss: 0.023854980245232582\n"
     ]
    },
    {
     "name": "stderr",
     "output_type": "stream",
     "text": [
      "100%|██████████| 96/96 [00:31<00:00,  3.09it/s]\n",
      "100%|██████████| 12/12 [00:01<00:00,  9.73it/s]\n",
      "  0%|          | 0/96 [00:00<?, ?it/s]"
     ]
    },
    {
     "name": "stdout",
     "output_type": "stream",
     "text": [
      "Epoch: 7, train_loss: 0.005312869790941477, valid_loss: 0.021702580153942108\n"
     ]
    },
    {
     "name": "stderr",
     "output_type": "stream",
     "text": [
      "100%|██████████| 96/96 [00:32<00:00,  2.92it/s]\n",
      "100%|██████████| 12/12 [00:01<00:00, 10.41it/s]\n",
      "  0%|          | 0/96 [00:00<?, ?it/s]"
     ]
    },
    {
     "name": "stdout",
     "output_type": "stream",
     "text": [
      "decrease in val loss < min_delta, patience count:  1\n",
      "Epoch: 8, train_loss: 0.004886940121650696, valid_loss: 0.022120919078588486\n"
     ]
    },
    {
     "name": "stderr",
     "output_type": "stream",
     "text": [
      "100%|██████████| 96/96 [00:31<00:00,  3.02it/s]\n",
      "100%|██████████| 12/12 [00:01<00:00,  8.51it/s]\n",
      "  0%|          | 0/96 [00:00<?, ?it/s]"
     ]
    },
    {
     "name": "stdout",
     "output_type": "stream",
     "text": [
      "Epoch: 9, train_loss: 0.004590549971908331, valid_loss: 0.020813530310988426\n"
     ]
    },
    {
     "name": "stderr",
     "output_type": "stream",
     "text": [
      "100%|██████████| 96/96 [00:30<00:00,  3.17it/s]\n",
      "100%|██████████| 12/12 [00:01<00:00, 10.03it/s]\n",
      "  0%|          | 0/96 [00:00<?, ?it/s]"
     ]
    },
    {
     "name": "stdout",
     "output_type": "stream",
     "text": [
      "decrease in val loss < min_delta, patience count:  1\n",
      "Epoch: 10, train_loss: 0.004396229982376099, valid_loss: 0.022428929805755615\n"
     ]
    },
    {
     "name": "stderr",
     "output_type": "stream",
     "text": [
      "100%|██████████| 96/96 [00:32<00:00,  2.95it/s]\n",
      "100%|██████████| 12/12 [00:01<00:00, 10.87it/s]\n"
     ]
    },
    {
     "name": "stdout",
     "output_type": "stream",
     "text": [
      "Early stopped at Epoch:  11\n",
      "train_time: 388.4097511768341\n",
      "test_loss: tensor(0.0187)\n",
      "revenue: 50.22606710639504\n",
      "expt12\n"
     ]
    },
    {
     "name": "stderr",
     "output_type": "stream",
     "text": [
      "\r",
      "  0%|          | 0/96 [00:00<?, ?it/s]"
     ]
    },
    {
     "name": "stdout",
     "output_type": "stream",
     "text": [
      "{'BATCH_SIZE': 256, 'EPOCHS': 20, 'OPTIMIZER': <class 'torch.optim.rmsprop.RMSprop'>, 'LEARNING_RATE': 0.0001, 'LOSS': MSELoss(), 'EARLY_STOPPING': True, 'PATIENCE': 1, 'MIN_DELTA': 1e-06, 'HIDDEN_DEPTH': 4, 'HIDDEN_SIZES': array([ 64, 128, 256, 512]), 'KERNEL_SIZES': array([9, 7, 5, 3]), 'MAXPOOL': 2, 'FC_DEPTH': 2, 'FC_SIZES': array([512]), 'DROPOUT': 0.2, 'epoch_stopped': 11, 'train_time': 388.4097511768341, 'test_loss': tensor(0.0187), 'mean_train_loss': [0.018744653, 0.0096985325, 0.008321577, 0.0073040216, 0.006646069, 0.006077184, 0.0057842415, 0.0053128675, 0.0048869387, 0.0045905462, 0.0043962314, 0.0040087835], 'mean_val_loss': [0.0380872, 0.029262526, 0.02580964, 0.02554022, 0.027634017, 0.023478141, 0.02385498, 0.021702582, 0.022120923, 0.020813532, 0.022428928], 'min_val_loss': 0.020813532, 'predictions': tensor([ 0.0147,  0.0806,  0.1366,  ..., -0.0697, -0.0019,  0.0729]), 'bal_list': array([1.00000000e+07, 1.01577602e+07, 1.03378740e+07, ...,\n",
      "       5.01852977e+08, 5.02057351e+08, 5.02260671e+08]), 'revenue': 502260671.0639504}\n"
     ]
    },
    {
     "name": "stderr",
     "output_type": "stream",
     "text": [
      "100%|██████████| 96/96 [00:29<00:00,  3.22it/s]\n",
      "100%|██████████| 12/12 [00:01<00:00, 11.41it/s]\n",
      "  0%|          | 0/96 [00:00<?, ?it/s]"
     ]
    },
    {
     "name": "stdout",
     "output_type": "stream",
     "text": [
      "Epoch: 0, train_loss: 0.018717069178819656, valid_loss: 0.04304537922143936\n"
     ]
    },
    {
     "name": "stderr",
     "output_type": "stream",
     "text": [
      "100%|██████████| 96/96 [00:30<00:00,  3.19it/s]\n",
      "100%|██████████| 12/12 [00:01<00:00, 11.62it/s]\n",
      "  0%|          | 0/96 [00:00<?, ?it/s]"
     ]
    },
    {
     "name": "stdout",
     "output_type": "stream",
     "text": [
      "Epoch: 1, train_loss: 0.00948088988661766, valid_loss: 0.028446689248085022\n"
     ]
    },
    {
     "name": "stderr",
     "output_type": "stream",
     "text": [
      "100%|██████████| 96/96 [00:29<00:00,  3.30it/s]\n",
      "100%|██████████| 12/12 [00:01<00:00, 11.38it/s]\n",
      "  0%|          | 0/96 [00:00<?, ?it/s]"
     ]
    },
    {
     "name": "stdout",
     "output_type": "stream",
     "text": [
      "Epoch: 2, train_loss: 0.00788090005517006, valid_loss: 0.02510426938533783\n"
     ]
    },
    {
     "name": "stderr",
     "output_type": "stream",
     "text": [
      "100%|██████████| 96/96 [00:29<00:00,  3.28it/s]\n",
      "100%|██████████| 12/12 [00:01<00:00, 11.53it/s]\n",
      "  0%|          | 0/96 [00:00<?, ?it/s]"
     ]
    },
    {
     "name": "stdout",
     "output_type": "stream",
     "text": [
      "decrease in val loss < min_delta, patience count:  1\n",
      "Epoch: 3, train_loss: 0.0069107902236282825, valid_loss: 0.028738470748066902\n"
     ]
    },
    {
     "name": "stderr",
     "output_type": "stream",
     "text": [
      "100%|██████████| 96/96 [00:29<00:00,  3.24it/s]\n",
      "100%|██████████| 12/12 [00:01<00:00, 11.40it/s]\n",
      "  0%|          | 0/96 [00:00<?, ?it/s]"
     ]
    },
    {
     "name": "stdout",
     "output_type": "stream",
     "text": [
      "Epoch: 4, train_loss: 0.006232250016182661, valid_loss: 0.024828599765896797\n"
     ]
    },
    {
     "name": "stderr",
     "output_type": "stream",
     "text": [
      "100%|██████████| 96/96 [00:29<00:00,  3.28it/s]\n",
      "100%|██████████| 12/12 [00:00<00:00, 12.65it/s]\n",
      "  0%|          | 0/96 [00:00<?, ?it/s]"
     ]
    },
    {
     "name": "stdout",
     "output_type": "stream",
     "text": [
      "Epoch: 5, train_loss: 0.00591519009321928, valid_loss: 0.023220840841531754\n"
     ]
    },
    {
     "name": "stderr",
     "output_type": "stream",
     "text": [
      "100%|██████████| 96/96 [00:29<00:00,  3.28it/s]\n",
      "100%|██████████| 12/12 [00:01<00:00, 11.97it/s]\n",
      "  0%|          | 0/96 [00:00<?, ?it/s]"
     ]
    },
    {
     "name": "stdout",
     "output_type": "stream",
     "text": [
      "decrease in val loss < min_delta, patience count:  1\n",
      "Epoch: 6, train_loss: 0.005208970047533512, valid_loss: 0.023816389963030815\n"
     ]
    },
    {
     "name": "stderr",
     "output_type": "stream",
     "text": [
      "100%|██████████| 96/96 [00:29<00:00,  3.31it/s]\n",
      "100%|██████████| 12/12 [00:01<00:00, 11.78it/s]\n"
     ]
    },
    {
     "name": "stdout",
     "output_type": "stream",
     "text": [
      "Early stopped at Epoch:  7\n"
     ]
    },
    {
     "name": "stderr",
     "output_type": "stream",
     "text": [
      "\r",
      "  0%|          | 0/96 [00:00<?, ?it/s]"
     ]
    },
    {
     "name": "stdout",
     "output_type": "stream",
     "text": [
      "train_time: 243.69562363624573\n",
      "test_loss: tensor(0.0181)\n",
      "revenue: 50.152533615566334\n",
      "{'BATCH_SIZE': 256, 'EPOCHS': 20, 'OPTIMIZER': <class 'torch.optim.rmsprop.RMSprop'>, 'LEARNING_RATE': 0.0001, 'LOSS': MSELoss(), 'EARLY_STOPPING': True, 'PATIENCE': 1, 'MIN_DELTA': 1e-06, 'HIDDEN_DEPTH': 4, 'HIDDEN_SIZES': array([ 64, 128, 256, 512]), 'KERNEL_SIZES': array([9, 7, 5, 3]), 'MAXPOOL': 2, 'FC_DEPTH': 2, 'FC_SIZES': array([512]), 'DROPOUT': 0.2, 'epoch_stopped': 11, 'train_time': 388.4097511768341, 'test_loss': tensor(0.0187), 'mean_train_loss': [0.018744653, 0.0096985325, 0.008321577, 0.0073040216, 0.006646069, 0.006077184, 0.0057842415, 0.0053128675, 0.0048869387, 0.0045905462, 0.0043962314, 0.0040087835], 'mean_val_loss': [0.0380872, 0.029262526, 0.02580964, 0.02554022, 0.027634017, 0.023478141, 0.02385498, 0.021702582, 0.022120923, 0.020813532, 0.022428928], 'min_val_loss': 0.020813532, 'predictions': tensor([ 0.0147,  0.0806,  0.1366,  ..., -0.0697, -0.0019,  0.0729]), 'bal_list': array([1.00000000e+07, 1.01577602e+07, 1.03378740e+07, ...,\n",
      "       5.01852977e+08, 5.02057351e+08, 5.02260671e+08]), 'revenue': 502260671.0639504}\n"
     ]
    },
    {
     "name": "stderr",
     "output_type": "stream",
     "text": [
      "100%|██████████| 96/96 [00:31<00:00,  3.09it/s]\n",
      "100%|██████████| 12/12 [00:01<00:00, 10.82it/s]\n",
      "  0%|          | 0/96 [00:00<?, ?it/s]"
     ]
    },
    {
     "name": "stdout",
     "output_type": "stream",
     "text": [
      "Epoch: 0, train_loss: 0.016587650403380394, valid_loss: 0.036937400698661804\n"
     ]
    },
    {
     "name": "stderr",
     "output_type": "stream",
     "text": [
      "100%|██████████| 96/96 [00:30<00:00,  3.11it/s]\n",
      "100%|██████████| 12/12 [00:01<00:00, 10.10it/s]\n",
      "  0%|          | 0/96 [00:00<?, ?it/s]"
     ]
    },
    {
     "name": "stdout",
     "output_type": "stream",
     "text": [
      "Epoch: 1, train_loss: 0.00876316986978054, valid_loss: 0.031852979212999344\n"
     ]
    },
    {
     "name": "stderr",
     "output_type": "stream",
     "text": [
      "100%|██████████| 96/96 [00:30<00:00,  3.15it/s]\n",
      "100%|██████████| 12/12 [00:01<00:00, 10.92it/s]\n",
      "  0%|          | 0/96 [00:00<?, ?it/s]"
     ]
    },
    {
     "name": "stdout",
     "output_type": "stream",
     "text": [
      "Epoch: 2, train_loss: 0.0073243300430476665, valid_loss: 0.025936370715498924\n"
     ]
    },
    {
     "name": "stderr",
     "output_type": "stream",
     "text": [
      "100%|██████████| 96/96 [00:29<00:00,  3.29it/s]\n",
      "100%|██████████| 12/12 [00:01<00:00, 11.58it/s]\n",
      "  0%|          | 0/96 [00:00<?, ?it/s]"
     ]
    },
    {
     "name": "stdout",
     "output_type": "stream",
     "text": [
      "decrease in val loss < min_delta, patience count:  1\n",
      "Epoch: 3, train_loss: 0.006502309814095497, valid_loss: 0.03055921010673046\n"
     ]
    },
    {
     "name": "stderr",
     "output_type": "stream",
     "text": [
      "100%|██████████| 96/96 [00:30<00:00,  3.16it/s]\n",
      "100%|██████████| 12/12 [00:01<00:00,  9.49it/s]\n",
      "  0%|          | 0/96 [00:00<?, ?it/s]"
     ]
    },
    {
     "name": "stdout",
     "output_type": "stream",
     "text": [
      "Epoch: 4, train_loss: 0.005918699782341719, valid_loss: 0.02160191908478737\n"
     ]
    },
    {
     "name": "stderr",
     "output_type": "stream",
     "text": [
      "100%|██████████| 96/96 [00:31<00:00,  3.03it/s]\n",
      "100%|██████████| 12/12 [00:01<00:00,  9.53it/s]\n",
      "  0%|          | 0/96 [00:00<?, ?it/s]"
     ]
    },
    {
     "name": "stdout",
     "output_type": "stream",
     "text": [
      "decrease in val loss < min_delta, patience count:  1\n",
      "Epoch: 5, train_loss: 0.005348979961127043, valid_loss: 0.02589040994644165\n"
     ]
    },
    {
     "name": "stderr",
     "output_type": "stream",
     "text": [
      "100%|██████████| 96/96 [00:33<00:00,  2.89it/s]\n",
      "100%|██████████| 12/12 [00:01<00:00,  9.32it/s]\n"
     ]
    },
    {
     "name": "stdout",
     "output_type": "stream",
     "text": [
      "Early stopped at Epoch:  6\n"
     ]
    },
    {
     "name": "stderr",
     "output_type": "stream",
     "text": [
      "\r",
      "  0%|          | 0/96 [00:00<?, ?it/s]"
     ]
    },
    {
     "name": "stdout",
     "output_type": "stream",
     "text": [
      "train_time: 225.26785230636597\n",
      "test_loss: tensor(0.0171)\n",
      "revenue: 50.91963199613709\n",
      "{'BATCH_SIZE': 256, 'EPOCHS': 20, 'OPTIMIZER': <class 'torch.optim.rmsprop.RMSprop'>, 'LEARNING_RATE': 0.0001, 'LOSS': MSELoss(), 'EARLY_STOPPING': True, 'PATIENCE': 1, 'MIN_DELTA': 1e-06, 'HIDDEN_DEPTH': 4, 'HIDDEN_SIZES': array([ 64, 128, 256, 512]), 'KERNEL_SIZES': array([9, 7, 5, 3]), 'MAXPOOL': 2, 'FC_DEPTH': 2, 'FC_SIZES': array([512]), 'DROPOUT': 0.2, 'epoch_stopped': 11, 'train_time': 388.4097511768341, 'test_loss': tensor(0.0187), 'mean_train_loss': [0.018744653, 0.0096985325, 0.008321577, 0.0073040216, 0.006646069, 0.006077184, 0.0057842415, 0.0053128675, 0.0048869387, 0.0045905462, 0.0043962314, 0.0040087835], 'mean_val_loss': [0.0380872, 0.029262526, 0.02580964, 0.02554022, 0.027634017, 0.023478141, 0.02385498, 0.021702582, 0.022120923, 0.020813532, 0.022428928], 'min_val_loss': 0.020813532, 'predictions': tensor([ 0.0147,  0.0806,  0.1366,  ..., -0.0697, -0.0019,  0.0729]), 'bal_list': array([1.00000000e+07, 1.01577602e+07, 1.03378740e+07, ...,\n",
      "       5.01852977e+08, 5.02057351e+08, 5.02260671e+08]), 'revenue': 502260671.0639504}\n"
     ]
    },
    {
     "name": "stderr",
     "output_type": "stream",
     "text": [
      "100%|██████████| 96/96 [00:29<00:00,  3.22it/s]\n",
      "100%|██████████| 12/12 [00:01<00:00, 11.36it/s]\n",
      "  0%|          | 0/96 [00:00<?, ?it/s]"
     ]
    },
    {
     "name": "stdout",
     "output_type": "stream",
     "text": [
      "Epoch: 0, train_loss: 0.017790550366044044, valid_loss: 0.03455169126391411\n"
     ]
    },
    {
     "name": "stderr",
     "output_type": "stream",
     "text": [
      "100%|██████████| 96/96 [00:29<00:00,  3.23it/s]\n",
      "100%|██████████| 12/12 [00:01<00:00, 10.89it/s]\n",
      "  0%|          | 0/96 [00:00<?, ?it/s]"
     ]
    },
    {
     "name": "stdout",
     "output_type": "stream",
     "text": [
      "Epoch: 1, train_loss: 0.008978069759905338, valid_loss: 0.027956120669841766\n"
     ]
    },
    {
     "name": "stderr",
     "output_type": "stream",
     "text": [
      "100%|██████████| 96/96 [00:29<00:00,  3.26it/s]\n",
      "100%|██████████| 12/12 [00:01<00:00, 10.80it/s]\n",
      "  0%|          | 0/96 [00:00<?, ?it/s]"
     ]
    },
    {
     "name": "stdout",
     "output_type": "stream",
     "text": [
      "Epoch: 2, train_loss: 0.007601679768413305, valid_loss: 0.02232109010219574\n"
     ]
    },
    {
     "name": "stderr",
     "output_type": "stream",
     "text": [
      "100%|██████████| 96/96 [00:29<00:00,  3.26it/s]\n",
      "100%|██████████| 12/12 [00:01<00:00, 10.35it/s]\n",
      "  0%|          | 0/96 [00:00<?, ?it/s]"
     ]
    },
    {
     "name": "stdout",
     "output_type": "stream",
     "text": [
      "decrease in val loss < min_delta, patience count:  1\n",
      "Epoch: 3, train_loss: 0.006789979990571737, valid_loss: 0.026411380618810654\n"
     ]
    },
    {
     "name": "stderr",
     "output_type": "stream",
     "text": [
      "100%|██████████| 96/96 [00:30<00:00,  3.18it/s]\n",
      "100%|██████████| 12/12 [00:01<00:00, 11.23it/s]\n"
     ]
    },
    {
     "name": "stdout",
     "output_type": "stream",
     "text": [
      "Early stopped at Epoch:  4\n",
      "train_time: 154.2636866569519\n",
      "test_loss: tensor(0.0178)\n",
      "revenue: 50.91617311884137\n",
      "expt13\n"
     ]
    },
    {
     "name": "stderr",
     "output_type": "stream",
     "text": [
      "\r",
      "  0%|          | 0/96 [00:00<?, ?it/s]"
     ]
    },
    {
     "name": "stdout",
     "output_type": "stream",
     "text": [
      "{'BATCH_SIZE': 256, 'EPOCHS': 20, 'OPTIMIZER': <class 'torch.optim.rmsprop.RMSprop'>, 'LEARNING_RATE': 0.0001, 'LOSS': MSELoss(), 'EARLY_STOPPING': True, 'PATIENCE': 1, 'MIN_DELTA': 1e-06, 'HIDDEN_DEPTH': 4, 'HIDDEN_SIZES': array([ 64, 128, 256, 512]), 'KERNEL_SIZES': array([9, 7, 5, 3]), 'MAXPOOL': 2, 'FC_DEPTH': 2, 'FC_SIZES': array([512]), 'DROPOUT': 0.2, 'epoch_stopped': 4, 'train_time': 154.2636866569519, 'test_loss': tensor(0.0178), 'mean_train_loss': [0.017790549, 0.0089780735, 0.00760168, 0.006789983, 0.006216299], 'mean_val_loss': [0.034551688, 0.027956119, 0.022321092, 0.026411379], 'min_val_loss': 0.022321092, 'predictions': tensor([ 0.1630,  0.2047,  0.2962,  ..., -0.0695, -0.0003,  0.0771]), 'bal_list': array([1.00000000e+07, 1.02131675e+07, 1.05012928e+07, ...,\n",
      "       5.08752484e+08, 5.08957026e+08, 5.09161731e+08]), 'revenue': 509161731.18841374}\n"
     ]
    },
    {
     "name": "stderr",
     "output_type": "stream",
     "text": [
      "100%|██████████| 96/96 [00:30<00:00,  3.15it/s]\n",
      "100%|██████████| 12/12 [00:01<00:00, 10.83it/s]\n",
      "  0%|          | 0/96 [00:00<?, ?it/s]"
     ]
    },
    {
     "name": "stdout",
     "output_type": "stream",
     "text": [
      "Epoch: 0, train_loss: 0.017640799283981323, valid_loss: 0.04084201902151108\n"
     ]
    },
    {
     "name": "stderr",
     "output_type": "stream",
     "text": [
      "100%|██████████| 96/96 [00:30<00:00,  3.18it/s]\n",
      "100%|██████████| 12/12 [00:01<00:00, 11.06it/s]\n",
      "  0%|          | 0/96 [00:00<?, ?it/s]"
     ]
    },
    {
     "name": "stdout",
     "output_type": "stream",
     "text": [
      "Epoch: 1, train_loss: 0.010107100009918213, valid_loss: 0.03603490814566612\n"
     ]
    },
    {
     "name": "stderr",
     "output_type": "stream",
     "text": [
      "100%|██████████| 96/96 [00:30<00:00,  3.16it/s]\n",
      "100%|██████████| 12/12 [00:01<00:00, 10.61it/s]\n",
      "  0%|          | 0/96 [00:00<?, ?it/s]"
     ]
    },
    {
     "name": "stdout",
     "output_type": "stream",
     "text": [
      "Epoch: 2, train_loss: 0.00855643954128027, valid_loss: 0.032572321593761444\n"
     ]
    },
    {
     "name": "stderr",
     "output_type": "stream",
     "text": [
      "100%|██████████| 96/96 [00:30<00:00,  3.10it/s]\n",
      "100%|██████████| 12/12 [00:01<00:00, 11.54it/s]\n",
      "  0%|          | 0/96 [00:00<?, ?it/s]"
     ]
    },
    {
     "name": "stdout",
     "output_type": "stream",
     "text": [
      "decrease in val loss < min_delta, patience count:  1\n",
      "Epoch: 3, train_loss: 0.00773447984829545, valid_loss: 0.034101080149412155\n"
     ]
    },
    {
     "name": "stderr",
     "output_type": "stream",
     "text": [
      "100%|██████████| 96/96 [00:29<00:00,  3.27it/s]\n",
      "100%|██████████| 12/12 [00:01<00:00, 11.69it/s]\n",
      "  0%|          | 0/96 [00:00<?, ?it/s]"
     ]
    },
    {
     "name": "stdout",
     "output_type": "stream",
     "text": [
      "Epoch: 4, train_loss: 0.006770499981939793, valid_loss: 0.0248357392847538\n"
     ]
    },
    {
     "name": "stderr",
     "output_type": "stream",
     "text": [
      "100%|██████████| 96/96 [00:28<00:00,  3.31it/s]\n",
      "100%|██████████| 12/12 [00:01<00:00, 11.77it/s]\n",
      "  0%|          | 0/96 [00:00<?, ?it/s]"
     ]
    },
    {
     "name": "stdout",
     "output_type": "stream",
     "text": [
      "decrease in val loss < min_delta, patience count:  1\n",
      "Epoch: 5, train_loss: 0.0062377601861953735, valid_loss: 0.025271739810705185\n"
     ]
    },
    {
     "name": "stderr",
     "output_type": "stream",
     "text": [
      "100%|██████████| 96/96 [00:29<00:00,  3.30it/s]\n",
      "100%|██████████| 12/12 [00:01<00:00, 11.87it/s]\n"
     ]
    },
    {
     "name": "stdout",
     "output_type": "stream",
     "text": [
      "Early stopped at Epoch:  6\n"
     ]
    },
    {
     "name": "stderr",
     "output_type": "stream",
     "text": [
      "\r",
      "  0%|          | 0/96 [00:00<?, ?it/s]"
     ]
    },
    {
     "name": "stdout",
     "output_type": "stream",
     "text": [
      "train_time: 216.91276621818542\n",
      "test_loss: tensor(0.0238)\n",
      "revenue: 47.65223292984764\n",
      "{'BATCH_SIZE': 256, 'EPOCHS': 20, 'OPTIMIZER': <class 'torch.optim.rmsprop.RMSprop'>, 'LEARNING_RATE': 0.0001, 'LOSS': MSELoss(), 'EARLY_STOPPING': True, 'PATIENCE': 1, 'MIN_DELTA': 1e-06, 'HIDDEN_DEPTH': 4, 'HIDDEN_SIZES': array([ 64, 128, 256, 512]), 'KERNEL_SIZES': array([9, 7, 5, 3]), 'MAXPOOL': 2, 'FC_DEPTH': 2, 'FC_SIZES': array([512]), 'DROPOUT': 0.2, 'epoch_stopped': 4, 'train_time': 154.2636866569519, 'test_loss': tensor(0.0178), 'mean_train_loss': [0.017790549, 0.0089780735, 0.00760168, 0.006789983, 0.006216299], 'mean_val_loss': [0.034551688, 0.027956119, 0.022321092, 0.026411379], 'min_val_loss': 0.022321092, 'predictions': tensor([ 0.1630,  0.2047,  0.2962,  ..., -0.0695, -0.0003,  0.0771]), 'bal_list': array([1.00000000e+07, 1.02131675e+07, 1.05012928e+07, ...,\n",
      "       5.08752484e+08, 5.08957026e+08, 5.09161731e+08]), 'revenue': 509161731.18841374}\n"
     ]
    },
    {
     "name": "stderr",
     "output_type": "stream",
     "text": [
      "100%|██████████| 96/96 [00:28<00:00,  3.32it/s]\n",
      "100%|██████████| 12/12 [00:01<00:00, 11.38it/s]\n",
      "  0%|          | 0/96 [00:00<?, ?it/s]"
     ]
    },
    {
     "name": "stdout",
     "output_type": "stream",
     "text": [
      "Epoch: 0, train_loss: 0.016628079116344452, valid_loss: 0.03754527121782303\n"
     ]
    },
    {
     "name": "stderr",
     "output_type": "stream",
     "text": [
      "100%|██████████| 96/96 [00:28<00:00,  3.32it/s]\n",
      "100%|██████████| 12/12 [00:01<00:00, 11.94it/s]\n",
      "  0%|          | 0/96 [00:00<?, ?it/s]"
     ]
    },
    {
     "name": "stdout",
     "output_type": "stream",
     "text": [
      "Epoch: 1, train_loss: 0.009263020008802414, valid_loss: 0.026978369802236557\n"
     ]
    },
    {
     "name": "stderr",
     "output_type": "stream",
     "text": [
      "100%|██████████| 96/96 [00:29<00:00,  3.30it/s]\n",
      "100%|██████████| 12/12 [00:00<00:00, 12.20it/s]\n",
      "  0%|          | 0/96 [00:00<?, ?it/s]"
     ]
    },
    {
     "name": "stdout",
     "output_type": "stream",
     "text": [
      "decrease in val loss < min_delta, patience count:  1\n",
      "Epoch: 2, train_loss: 0.007980270311236382, valid_loss: 0.027992120012640953\n"
     ]
    },
    {
     "name": "stderr",
     "output_type": "stream",
     "text": [
      "100%|██████████| 96/96 [00:29<00:00,  3.30it/s]\n",
      "100%|██████████| 12/12 [00:01<00:00, 11.78it/s]\n",
      "  0%|          | 0/96 [00:00<?, ?it/s]"
     ]
    },
    {
     "name": "stdout",
     "output_type": "stream",
     "text": [
      "Epoch: 3, train_loss: 0.0070587098598480225, valid_loss: 0.025904329493641853\n"
     ]
    },
    {
     "name": "stderr",
     "output_type": "stream",
     "text": [
      "100%|██████████| 96/96 [00:28<00:00,  3.32it/s]\n",
      "100%|██████████| 12/12 [00:01<00:00, 11.28it/s]\n",
      "  0%|          | 0/96 [00:00<?, ?it/s]"
     ]
    },
    {
     "name": "stdout",
     "output_type": "stream",
     "text": [
      "decrease in val loss < min_delta, patience count:  1\n",
      "Epoch: 4, train_loss: 0.006402039900422096, valid_loss: 0.026249220594763756\n"
     ]
    },
    {
     "name": "stderr",
     "output_type": "stream",
     "text": [
      "100%|██████████| 96/96 [00:29<00:00,  3.30it/s]\n",
      "100%|██████████| 12/12 [00:01<00:00, 11.71it/s]\n",
      "  0%|          | 0/96 [00:00<?, ?it/s]"
     ]
    },
    {
     "name": "stdout",
     "output_type": "stream",
     "text": [
      "Epoch: 5, train_loss: 0.0057439301162958145, valid_loss: 0.024392880499362946\n"
     ]
    },
    {
     "name": "stderr",
     "output_type": "stream",
     "text": [
      "100%|██████████| 96/96 [00:29<00:00,  3.30it/s]\n",
      "100%|██████████| 12/12 [00:01<00:00,  9.74it/s]\n",
      "  0%|          | 0/96 [00:00<?, ?it/s]"
     ]
    },
    {
     "name": "stdout",
     "output_type": "stream",
     "text": [
      "Epoch: 6, train_loss: 0.005532019771635532, valid_loss: 0.021874109283089638\n"
     ]
    },
    {
     "name": "stderr",
     "output_type": "stream",
     "text": [
      "100%|██████████| 96/96 [00:29<00:00,  3.29it/s]\n",
      "100%|██████████| 12/12 [00:01<00:00, 11.85it/s]\n",
      "  0%|          | 0/96 [00:00<?, ?it/s]"
     ]
    },
    {
     "name": "stdout",
     "output_type": "stream",
     "text": [
      "decrease in val loss < min_delta, patience count:  1\n",
      "Epoch: 7, train_loss: 0.005058039911091328, valid_loss: 0.028013290837407112\n"
     ]
    },
    {
     "name": "stderr",
     "output_type": "stream",
     "text": [
      "100%|██████████| 96/96 [00:29<00:00,  3.31it/s]\n",
      "100%|██████████| 12/12 [00:00<00:00, 12.09it/s]\n",
      "  0%|          | 0/96 [00:00<?, ?it/s]"
     ]
    },
    {
     "name": "stdout",
     "output_type": "stream",
     "text": [
      "Epoch: 8, train_loss: 0.0048169298097491264, valid_loss: 0.020727600902318954\n"
     ]
    },
    {
     "name": "stderr",
     "output_type": "stream",
     "text": [
      "100%|██████████| 96/96 [00:28<00:00,  3.31it/s]\n",
      "100%|██████████| 12/12 [00:01<00:00, 11.92it/s]\n",
      "  0%|          | 0/96 [00:00<?, ?it/s]"
     ]
    },
    {
     "name": "stdout",
     "output_type": "stream",
     "text": [
      "decrease in val loss < min_delta, patience count:  1\n",
      "Epoch: 9, train_loss: 0.004467660095542669, valid_loss: 0.02085568942129612\n"
     ]
    },
    {
     "name": "stderr",
     "output_type": "stream",
     "text": [
      "100%|██████████| 96/96 [00:29<00:00,  3.29it/s]\n",
      "100%|██████████| 12/12 [00:01<00:00, 11.98it/s]\n"
     ]
    },
    {
     "name": "stdout",
     "output_type": "stream",
     "text": [
      "Early stopped at Epoch:  10\n"
     ]
    },
    {
     "name": "stderr",
     "output_type": "stream",
     "text": [
      "\r",
      "  0%|          | 0/96 [00:00<?, ?it/s]"
     ]
    },
    {
     "name": "stdout",
     "output_type": "stream",
     "text": [
      "train_time: 331.0972409248352\n",
      "test_loss: tensor(0.0199)\n",
      "revenue: 47.69642238625607\n",
      "{'BATCH_SIZE': 256, 'EPOCHS': 20, 'OPTIMIZER': <class 'torch.optim.rmsprop.RMSprop'>, 'LEARNING_RATE': 0.0001, 'LOSS': MSELoss(), 'EARLY_STOPPING': True, 'PATIENCE': 1, 'MIN_DELTA': 1e-06, 'HIDDEN_DEPTH': 4, 'HIDDEN_SIZES': array([ 64, 128, 256, 512]), 'KERNEL_SIZES': array([9, 7, 5, 3]), 'MAXPOOL': 2, 'FC_DEPTH': 2, 'FC_SIZES': array([512]), 'DROPOUT': 0.2, 'epoch_stopped': 4, 'train_time': 154.2636866569519, 'test_loss': tensor(0.0178), 'mean_train_loss': [0.017790549, 0.0089780735, 0.00760168, 0.006789983, 0.006216299], 'mean_val_loss': [0.034551688, 0.027956119, 0.022321092, 0.026411379], 'min_val_loss': 0.022321092, 'predictions': tensor([ 0.1630,  0.2047,  0.2962,  ..., -0.0695, -0.0003,  0.0771]), 'bal_list': array([1.00000000e+07, 1.02131675e+07, 1.05012928e+07, ...,\n",
      "       5.08752484e+08, 5.08957026e+08, 5.09161731e+08]), 'revenue': 509161731.18841374}\n"
     ]
    },
    {
     "name": "stderr",
     "output_type": "stream",
     "text": [
      "100%|██████████| 96/96 [00:29<00:00,  3.30it/s]\n",
      "100%|██████████| 12/12 [00:00<00:00, 12.16it/s]\n",
      "  0%|          | 0/96 [00:00<?, ?it/s]"
     ]
    },
    {
     "name": "stdout",
     "output_type": "stream",
     "text": [
      "Epoch: 0, train_loss: 0.017768949270248413, valid_loss: 0.040761809796094894\n"
     ]
    },
    {
     "name": "stderr",
     "output_type": "stream",
     "text": [
      "100%|██████████| 96/96 [00:28<00:00,  3.33it/s]\n",
      "100%|██████████| 12/12 [00:01<00:00, 11.64it/s]\n",
      "  0%|          | 0/96 [00:00<?, ?it/s]"
     ]
    },
    {
     "name": "stdout",
     "output_type": "stream",
     "text": [
      "Epoch: 1, train_loss: 0.010016979649662971, valid_loss: 0.03045077994465828\n"
     ]
    },
    {
     "name": "stderr",
     "output_type": "stream",
     "text": [
      "100%|██████████| 96/96 [00:28<00:00,  3.32it/s]\n",
      "100%|██████████| 12/12 [00:01<00:00, 11.85it/s]\n",
      "  0%|          | 0/96 [00:00<?, ?it/s]"
     ]
    },
    {
     "name": "stdout",
     "output_type": "stream",
     "text": [
      "Epoch: 2, train_loss: 0.008353520184755325, valid_loss: 0.029078640043735504\n"
     ]
    },
    {
     "name": "stderr",
     "output_type": "stream",
     "text": [
      "100%|██████████| 96/96 [00:28<00:00,  3.32it/s]\n",
      "100%|██████████| 12/12 [00:01<00:00, 11.65it/s]\n",
      "  0%|          | 0/96 [00:00<?, ?it/s]"
     ]
    },
    {
     "name": "stdout",
     "output_type": "stream",
     "text": [
      "Epoch: 3, train_loss: 0.007485220208764076, valid_loss: 0.02324840985238552\n"
     ]
    },
    {
     "name": "stderr",
     "output_type": "stream",
     "text": [
      "100%|██████████| 96/96 [00:29<00:00,  3.28it/s]\n",
      "100%|██████████| 12/12 [00:01<00:00, 11.50it/s]\n",
      "  0%|          | 0/96 [00:00<?, ?it/s]"
     ]
    },
    {
     "name": "stdout",
     "output_type": "stream",
     "text": [
      "decrease in val loss < min_delta, patience count:  1\n",
      "Epoch: 4, train_loss: 0.006764589808881283, valid_loss: 0.02346201054751873\n"
     ]
    },
    {
     "name": "stderr",
     "output_type": "stream",
     "text": [
      "100%|██████████| 96/96 [00:28<00:00,  3.31it/s]\n",
      "100%|██████████| 12/12 [00:00<00:00, 12.34it/s]\n",
      "  0%|          | 0/96 [00:00<?, ?it/s]"
     ]
    },
    {
     "name": "stdout",
     "output_type": "stream",
     "text": [
      "Epoch: 5, train_loss: 0.006121349986642599, valid_loss: 0.0221578199416399\n"
     ]
    },
    {
     "name": "stderr",
     "output_type": "stream",
     "text": [
      "100%|██████████| 96/96 [00:29<00:00,  3.28it/s]\n",
      "100%|██████████| 12/12 [00:01<00:00, 10.91it/s]\n",
      "  0%|          | 0/96 [00:00<?, ?it/s]"
     ]
    },
    {
     "name": "stdout",
     "output_type": "stream",
     "text": [
      "decrease in val loss < min_delta, patience count:  1\n",
      "Epoch: 6, train_loss: 0.0056159100495278835, valid_loss: 0.026319580152630806\n"
     ]
    },
    {
     "name": "stderr",
     "output_type": "stream",
     "text": [
      "100%|██████████| 96/96 [00:28<00:00,  3.32it/s]\n",
      "100%|██████████| 12/12 [00:00<00:00, 12.32it/s]\n"
     ]
    },
    {
     "name": "stdout",
     "output_type": "stream",
     "text": [
      "Early stopped at Epoch:  7\n",
      "train_time: 240.34949588775635\n",
      "test_loss: tensor(0.0182)\n",
      "revenue: 50.20777363303214\n",
      "expt2_diff1_4hours\n"
     ]
    },
    {
     "name": "stderr",
     "output_type": "stream",
     "text": [
      "\r",
      "  0%|          | 0/96 [00:00<?, ?it/s]"
     ]
    },
    {
     "name": "stdout",
     "output_type": "stream",
     "text": [
      "{'BATCH_SIZE': 256, 'EPOCHS': 20, 'OPTIMIZER': <class 'torch.optim.rmsprop.RMSprop'>, 'LEARNING_RATE': 0.0001, 'LOSS': MSELoss(), 'EARLY_STOPPING': True, 'PATIENCE': 1, 'MIN_DELTA': 1e-06, 'HIDDEN_DEPTH': 4, 'HIDDEN_SIZES': array([ 64, 128, 256, 512]), 'KERNEL_SIZES': array([9, 7, 5, 3]), 'MAXPOOL': 2, 'FC_DEPTH': 2, 'FC_SIZES': array([512]), 'DROPOUT': 0.2, 'epoch_stopped': 7, 'train_time': 240.34949588775635, 'test_loss': tensor(0.0182), 'mean_train_loss': [0.017768951, 0.010016978, 0.008353523, 0.0074852183, 0.0067645907, 0.0061213463, 0.0056159124, 0.005335372], 'mean_val_loss': [0.04076181, 0.030450784, 0.02907864, 0.023248414, 0.02346201, 0.022157826, 0.026319578], 'min_val_loss': 0.022157826, 'predictions': tensor([ 0.1583,  0.2031,  0.2518,  ..., -0.0204,  0.0366,  0.0957]), 'bal_list': array([1.00000000e+07, 1.02172761e+07, 1.05040125e+07, ...,\n",
      "       5.01593629e+08, 5.01840859e+08, 5.02077736e+08]), 'revenue': 502077736.3303214}\n"
     ]
    },
    {
     "name": "stderr",
     "output_type": "stream",
     "text": [
      "100%|██████████| 96/96 [00:29<00:00,  3.31it/s]\n",
      "100%|██████████| 12/12 [00:01<00:00, 11.25it/s]\n",
      "  0%|          | 0/96 [00:00<?, ?it/s]"
     ]
    },
    {
     "name": "stdout",
     "output_type": "stream",
     "text": [
      "Epoch: 0, train_loss: 0.017564669251441956, valid_loss: 0.04864842817187309\n"
     ]
    },
    {
     "name": "stderr",
     "output_type": "stream",
     "text": [
      "100%|██████████| 96/96 [00:29<00:00,  3.31it/s]\n",
      "100%|██████████| 12/12 [00:00<00:00, 12.09it/s]\n",
      "  0%|          | 0/96 [00:00<?, ?it/s]"
     ]
    },
    {
     "name": "stdout",
     "output_type": "stream",
     "text": [
      "Epoch: 1, train_loss: 0.008649409748613834, valid_loss: 0.026047740131616592\n"
     ]
    },
    {
     "name": "stderr",
     "output_type": "stream",
     "text": [
      "100%|██████████| 96/96 [00:29<00:00,  3.30it/s]\n",
      "100%|██████████| 12/12 [00:00<00:00, 12.02it/s]\n",
      "  0%|          | 0/96 [00:00<?, ?it/s]"
     ]
    },
    {
     "name": "stdout",
     "output_type": "stream",
     "text": [
      "Epoch: 2, train_loss: 0.0070768301375210285, valid_loss: 0.02410862036049366\n"
     ]
    },
    {
     "name": "stderr",
     "output_type": "stream",
     "text": [
      "100%|██████████| 96/96 [00:29<00:00,  3.30it/s]\n",
      "100%|██████████| 12/12 [00:01<00:00, 11.53it/s]\n",
      "  0%|          | 0/96 [00:00<?, ?it/s]"
     ]
    },
    {
     "name": "stdout",
     "output_type": "stream",
     "text": [
      "Epoch: 3, train_loss: 0.006359410006552935, valid_loss: 0.02211170084774494\n"
     ]
    },
    {
     "name": "stderr",
     "output_type": "stream",
     "text": [
      "100%|██████████| 96/96 [00:29<00:00,  3.30it/s]\n",
      "100%|██████████| 12/12 [00:01<00:00, 11.35it/s]\n",
      "  0%|          | 0/96 [00:00<?, ?it/s]"
     ]
    },
    {
     "name": "stdout",
     "output_type": "stream",
     "text": [
      "decrease in val loss < min_delta, patience count:  1\n",
      "Epoch: 4, train_loss: 0.005663429852575064, valid_loss: 0.0223283302038908\n"
     ]
    },
    {
     "name": "stderr",
     "output_type": "stream",
     "text": [
      "100%|██████████| 96/96 [00:29<00:00,  3.31it/s]\n",
      "100%|██████████| 12/12 [00:01<00:00,  9.80it/s]\n",
      "  0%|          | 0/96 [00:00<?, ?it/s]"
     ]
    },
    {
     "name": "stdout",
     "output_type": "stream",
     "text": [
      "Epoch: 5, train_loss: 0.005224729888141155, valid_loss: 0.01874574087560177\n"
     ]
    },
    {
     "name": "stderr",
     "output_type": "stream",
     "text": [
      "100%|██████████| 96/96 [00:29<00:00,  3.27it/s]\n",
      "100%|██████████| 12/12 [00:00<00:00, 12.10it/s]\n",
      "  0%|          | 0/96 [00:00<?, ?it/s]"
     ]
    },
    {
     "name": "stdout",
     "output_type": "stream",
     "text": [
      "decrease in val loss < min_delta, patience count:  1\n",
      "Epoch: 6, train_loss: 0.0047875698655843735, valid_loss: 0.02040359005331993\n"
     ]
    },
    {
     "name": "stderr",
     "output_type": "stream",
     "text": [
      "100%|██████████| 96/96 [00:29<00:00,  3.31it/s]\n",
      "100%|██████████| 12/12 [00:01<00:00, 11.90it/s]\n"
     ]
    },
    {
     "name": "stdout",
     "output_type": "stream",
     "text": [
      "Early stopped at Epoch:  7\n"
     ]
    },
    {
     "name": "stderr",
     "output_type": "stream",
     "text": [
      "\r",
      "  0%|          | 0/96 [00:00<?, ?it/s]"
     ]
    },
    {
     "name": "stdout",
     "output_type": "stream",
     "text": [
      "train_time: 241.10624647140503\n",
      "test_loss: tensor(0.0164)\n",
      "revenue: 50.63401127969987\n",
      "{'BATCH_SIZE': 256, 'EPOCHS': 20, 'OPTIMIZER': <class 'torch.optim.rmsprop.RMSprop'>, 'LEARNING_RATE': 0.0001, 'LOSS': MSELoss(), 'EARLY_STOPPING': True, 'PATIENCE': 1, 'MIN_DELTA': 1e-06, 'HIDDEN_DEPTH': 4, 'HIDDEN_SIZES': array([ 64, 128, 256, 512]), 'KERNEL_SIZES': array([9, 7, 5, 3]), 'MAXPOOL': 2, 'FC_DEPTH': 2, 'FC_SIZES': array([512]), 'DROPOUT': 0.2, 'epoch_stopped': 7, 'train_time': 240.34949588775635, 'test_loss': tensor(0.0182), 'mean_train_loss': [0.017768951, 0.010016978, 0.008353523, 0.0074852183, 0.0067645907, 0.0061213463, 0.0056159124, 0.005335372], 'mean_val_loss': [0.04076181, 0.030450784, 0.02907864, 0.023248414, 0.02346201, 0.022157826, 0.026319578], 'min_val_loss': 0.022157826, 'predictions': tensor([ 0.1583,  0.2031,  0.2518,  ..., -0.0204,  0.0366,  0.0957]), 'bal_list': array([1.00000000e+07, 1.02172761e+07, 1.05040125e+07, ...,\n",
      "       5.01593629e+08, 5.01840859e+08, 5.02077736e+08]), 'revenue': 502077736.3303214}\n"
     ]
    },
    {
     "name": "stderr",
     "output_type": "stream",
     "text": [
      "100%|██████████| 96/96 [00:29<00:00,  3.31it/s]\n",
      "100%|██████████| 12/12 [00:01<00:00, 11.48it/s]\n",
      "  0%|          | 0/96 [00:00<?, ?it/s]"
     ]
    },
    {
     "name": "stdout",
     "output_type": "stream",
     "text": [
      "Epoch: 0, train_loss: 0.018175140023231506, valid_loss: 0.03917669877409935\n"
     ]
    },
    {
     "name": "stderr",
     "output_type": "stream",
     "text": [
      "100%|██████████| 96/96 [00:29<00:00,  3.27it/s]\n",
      "100%|██████████| 12/12 [00:00<00:00, 12.00it/s]\n",
      "  0%|          | 0/96 [00:00<?, ?it/s]"
     ]
    },
    {
     "name": "stdout",
     "output_type": "stream",
     "text": [
      "Epoch: 1, train_loss: 0.00891191978007555, valid_loss: 0.024968739598989487\n"
     ]
    },
    {
     "name": "stderr",
     "output_type": "stream",
     "text": [
      "100%|██████████| 96/96 [00:28<00:00,  3.32it/s]\n",
      "100%|██████████| 12/12 [00:01<00:00, 11.00it/s]\n",
      "  0%|          | 0/96 [00:00<?, ?it/s]"
     ]
    },
    {
     "name": "stdout",
     "output_type": "stream",
     "text": [
      "decrease in val loss < min_delta, patience count:  1\n",
      "Epoch: 2, train_loss: 0.007479059975594282, valid_loss: 0.025699999183416367\n"
     ]
    },
    {
     "name": "stderr",
     "output_type": "stream",
     "text": [
      "100%|██████████| 96/96 [00:28<00:00,  3.32it/s]\n",
      "100%|██████████| 12/12 [00:01<00:00, 11.56it/s]\n",
      "  0%|          | 0/96 [00:00<?, ?it/s]"
     ]
    },
    {
     "name": "stdout",
     "output_type": "stream",
     "text": [
      "Epoch: 3, train_loss: 0.006352529861032963, valid_loss: 0.022181840613484383\n"
     ]
    },
    {
     "name": "stderr",
     "output_type": "stream",
     "text": [
      "100%|██████████| 96/96 [00:29<00:00,  3.31it/s]\n",
      "100%|██████████| 12/12 [00:00<00:00, 12.40it/s]\n",
      "  0%|          | 0/96 [00:00<?, ?it/s]"
     ]
    },
    {
     "name": "stdout",
     "output_type": "stream",
     "text": [
      "Epoch: 4, train_loss: 0.005765459965914488, valid_loss: 0.020287180319428444\n"
     ]
    },
    {
     "name": "stderr",
     "output_type": "stream",
     "text": [
      "100%|██████████| 96/96 [00:28<00:00,  3.31it/s]\n",
      "100%|██████████| 12/12 [00:01<00:00, 11.66it/s]\n",
      "  0%|          | 0/96 [00:00<?, ?it/s]"
     ]
    },
    {
     "name": "stdout",
     "output_type": "stream",
     "text": [
      "decrease in val loss < min_delta, patience count:  1\n",
      "Epoch: 5, train_loss: 0.005290459841489792, valid_loss: 0.02475656010210514\n"
     ]
    },
    {
     "name": "stderr",
     "output_type": "stream",
     "text": [
      "100%|██████████| 96/96 [00:29<00:00,  3.31it/s]\n",
      "100%|██████████| 12/12 [00:01<00:00, 11.43it/s]\n"
     ]
    },
    {
     "name": "stdout",
     "output_type": "stream",
     "text": [
      "Early stopped at Epoch:  6\n"
     ]
    },
    {
     "name": "stderr",
     "output_type": "stream",
     "text": [
      "\r",
      "  0%|          | 0/96 [00:00<?, ?it/s]"
     ]
    },
    {
     "name": "stdout",
     "output_type": "stream",
     "text": [
      "train_time: 210.61504745483398\n",
      "test_loss: tensor(0.0164)\n",
      "revenue: 51.99818566267609\n",
      "{'BATCH_SIZE': 256, 'EPOCHS': 20, 'OPTIMIZER': <class 'torch.optim.rmsprop.RMSprop'>, 'LEARNING_RATE': 0.0001, 'LOSS': MSELoss(), 'EARLY_STOPPING': True, 'PATIENCE': 1, 'MIN_DELTA': 1e-06, 'HIDDEN_DEPTH': 4, 'HIDDEN_SIZES': array([ 64, 128, 256, 512]), 'KERNEL_SIZES': array([9, 7, 5, 3]), 'MAXPOOL': 2, 'FC_DEPTH': 2, 'FC_SIZES': array([512]), 'DROPOUT': 0.2, 'epoch_stopped': 7, 'train_time': 240.34949588775635, 'test_loss': tensor(0.0182), 'mean_train_loss': [0.017768951, 0.010016978, 0.008353523, 0.0074852183, 0.0067645907, 0.0061213463, 0.0056159124, 0.005335372], 'mean_val_loss': [0.04076181, 0.030450784, 0.02907864, 0.023248414, 0.02346201, 0.022157826, 0.026319578], 'min_val_loss': 0.022157826, 'predictions': tensor([ 0.1583,  0.2031,  0.2518,  ..., -0.0204,  0.0366,  0.0957]), 'bal_list': array([1.00000000e+07, 1.02172761e+07, 1.05040125e+07, ...,\n",
      "       5.01593629e+08, 5.01840859e+08, 5.02077736e+08]), 'revenue': 502077736.3303214}\n"
     ]
    },
    {
     "name": "stderr",
     "output_type": "stream",
     "text": [
      "100%|██████████| 96/96 [00:28<00:00,  3.33it/s]\n",
      "100%|██████████| 12/12 [00:01<00:00, 11.62it/s]\n",
      "  0%|          | 0/96 [00:00<?, ?it/s]"
     ]
    },
    {
     "name": "stdout",
     "output_type": "stream",
     "text": [
      "Epoch: 0, train_loss: 0.01760181039571762, valid_loss: 0.035542458295822144\n"
     ]
    },
    {
     "name": "stderr",
     "output_type": "stream",
     "text": [
      "100%|██████████| 96/96 [00:29<00:00,  3.29it/s]\n",
      "100%|██████████| 12/12 [00:01<00:00, 10.91it/s]\n",
      "  0%|          | 0/96 [00:00<?, ?it/s]"
     ]
    },
    {
     "name": "stdout",
     "output_type": "stream",
     "text": [
      "Epoch: 1, train_loss: 0.008794549852609634, valid_loss: 0.027426820248365402\n"
     ]
    },
    {
     "name": "stderr",
     "output_type": "stream",
     "text": [
      "100%|██████████| 96/96 [00:29<00:00,  3.30it/s]\n",
      "100%|██████████| 12/12 [00:01<00:00, 10.21it/s]\n",
      "  0%|          | 0/96 [00:00<?, ?it/s]"
     ]
    },
    {
     "name": "stdout",
     "output_type": "stream",
     "text": [
      "decrease in val loss < min_delta, patience count:  1\n",
      "Epoch: 2, train_loss: 0.007301650010049343, valid_loss: 0.029502039775252342\n"
     ]
    },
    {
     "name": "stderr",
     "output_type": "stream",
     "text": [
      "100%|██████████| 96/96 [00:28<00:00,  3.31it/s]\n",
      "100%|██████████| 12/12 [00:01<00:00, 11.72it/s]\n",
      "  0%|          | 0/96 [00:00<?, ?it/s]"
     ]
    },
    {
     "name": "stdout",
     "output_type": "stream",
     "text": [
      "Epoch: 3, train_loss: 0.006426080130040646, valid_loss: 0.024373529478907585\n"
     ]
    },
    {
     "name": "stderr",
     "output_type": "stream",
     "text": [
      "100%|██████████| 96/96 [00:29<00:00,  3.31it/s]\n",
      "100%|██████████| 12/12 [00:01<00:00, 11.72it/s]\n",
      "  0%|          | 0/96 [00:00<?, ?it/s]"
     ]
    },
    {
     "name": "stdout",
     "output_type": "stream",
     "text": [
      "decrease in val loss < min_delta, patience count:  1\n",
      "Epoch: 4, train_loss: 0.005905069876462221, valid_loss: 0.027804939076304436\n"
     ]
    },
    {
     "name": "stderr",
     "output_type": "stream",
     "text": [
      "100%|██████████| 96/96 [00:29<00:00,  3.31it/s]\n",
      "100%|██████████| 12/12 [00:01<00:00, 11.50it/s]\n",
      "  0%|          | 0/96 [00:00<?, ?it/s]"
     ]
    },
    {
     "name": "stdout",
     "output_type": "stream",
     "text": [
      "Epoch: 5, train_loss: 0.005328290164470673, valid_loss: 0.020544860512018204\n"
     ]
    },
    {
     "name": "stderr",
     "output_type": "stream",
     "text": [
      "100%|██████████| 96/96 [00:28<00:00,  3.33it/s]\n",
      "100%|██████████| 12/12 [00:01<00:00, 11.85it/s]\n",
      "  0%|          | 0/96 [00:00<?, ?it/s]"
     ]
    },
    {
     "name": "stdout",
     "output_type": "stream",
     "text": [
      "decrease in val loss < min_delta, patience count:  1\n",
      "Epoch: 6, train_loss: 0.004977080039680004, valid_loss: 0.0234514307230711\n"
     ]
    },
    {
     "name": "stderr",
     "output_type": "stream",
     "text": [
      "100%|██████████| 96/96 [00:28<00:00,  3.31it/s]\n",
      "100%|██████████| 12/12 [00:01<00:00, 11.48it/s]\n"
     ]
    },
    {
     "name": "stdout",
     "output_type": "stream",
     "text": [
      "Early stopped at Epoch:  7\n",
      "train_time: 240.53650379180908\n",
      "test_loss: tensor(0.0166)\n",
      "revenue: 49.9886191002936\n",
      "expt3_diff1_9hours\n"
     ]
    },
    {
     "name": "stderr",
     "output_type": "stream",
     "text": [
      "\r",
      "  0%|          | 0/96 [00:00<?, ?it/s]"
     ]
    },
    {
     "name": "stdout",
     "output_type": "stream",
     "text": [
      "{'BATCH_SIZE': 256, 'EPOCHS': 20, 'OPTIMIZER': <class 'torch.optim.rmsprop.RMSprop'>, 'LEARNING_RATE': 0.0001, 'LOSS': MSELoss(), 'EARLY_STOPPING': True, 'PATIENCE': 1, 'MIN_DELTA': 1e-06, 'HIDDEN_DEPTH': 4, 'HIDDEN_SIZES': array([ 64, 128, 256, 512]), 'KERNEL_SIZES': array([9, 7, 5, 3]), 'MAXPOOL': 2, 'FC_DEPTH': 2, 'FC_SIZES': array([512]), 'DROPOUT': 0.2, 'epoch_stopped': 7, 'train_time': 240.53650379180908, 'test_loss': tensor(0.0166), 'mean_train_loss': [0.017601809, 0.00879455, 0.007301646, 0.0064260815, 0.0059050717, 0.0053282864, 0.0049770772, 0.004796735], 'mean_val_loss': [0.035542455, 0.027426818, 0.029502034, 0.02437353, 0.02780494, 0.02054486, 0.023451427], 'min_val_loss': 0.02054486, 'predictions': tensor([0.1007, 0.1793, 0.2639,  ..., 0.0067, 0.0949, 0.1784]), 'bal_list': array([1.00000000e+07, 1.02326361e+07, 1.04985998e+07, ...,\n",
      "       4.99327866e+08, 4.99598667e+08, 4.99886191e+08]), 'revenue': 499886191.002936}\n"
     ]
    },
    {
     "name": "stderr",
     "output_type": "stream",
     "text": [
      "100%|██████████| 96/96 [00:29<00:00,  3.30it/s]\n",
      "100%|██████████| 12/12 [00:01<00:00, 11.62it/s]\n",
      "  0%|          | 0/96 [00:00<?, ?it/s]"
     ]
    },
    {
     "name": "stdout",
     "output_type": "stream",
     "text": [
      "Epoch: 0, train_loss: 0.016790300607681274, valid_loss: 0.038666289299726486\n"
     ]
    },
    {
     "name": "stderr",
     "output_type": "stream",
     "text": [
      "100%|██████████| 96/96 [00:29<00:00,  3.28it/s]\n",
      "100%|██████████| 12/12 [00:01<00:00, 11.54it/s]\n",
      "  0%|          | 0/96 [00:00<?, ?it/s]"
     ]
    },
    {
     "name": "stdout",
     "output_type": "stream",
     "text": [
      "Epoch: 1, train_loss: 0.00889177992939949, valid_loss: 0.025973999872803688\n"
     ]
    },
    {
     "name": "stderr",
     "output_type": "stream",
     "text": [
      "100%|██████████| 96/96 [00:29<00:00,  3.29it/s]\n",
      "100%|██████████| 12/12 [00:01<00:00, 11.54it/s]\n",
      "  0%|          | 0/96 [00:00<?, ?it/s]"
     ]
    },
    {
     "name": "stdout",
     "output_type": "stream",
     "text": [
      "Epoch: 2, train_loss: 0.007315489929169416, valid_loss: 0.021970249712467194\n"
     ]
    },
    {
     "name": "stderr",
     "output_type": "stream",
     "text": [
      "100%|██████████| 96/96 [00:29<00:00,  3.29it/s]\n",
      "100%|██████████| 12/12 [00:01<00:00, 11.52it/s]\n",
      "  0%|          | 0/96 [00:00<?, ?it/s]"
     ]
    },
    {
     "name": "stdout",
     "output_type": "stream",
     "text": [
      "decrease in val loss < min_delta, patience count:  1\n",
      "Epoch: 3, train_loss: 0.006414259783923626, valid_loss: 0.03131498023867607\n"
     ]
    },
    {
     "name": "stderr",
     "output_type": "stream",
     "text": [
      "100%|██████████| 96/96 [00:29<00:00,  3.28it/s]\n",
      "100%|██████████| 12/12 [00:01<00:00, 11.30it/s]\n"
     ]
    },
    {
     "name": "stdout",
     "output_type": "stream",
     "text": [
      "Early stopped at Epoch:  4\n"
     ]
    },
    {
     "name": "stderr",
     "output_type": "stream",
     "text": [
      "\r",
      "  0%|          | 0/96 [00:00<?, ?it/s]"
     ]
    },
    {
     "name": "stdout",
     "output_type": "stream",
     "text": [
      "train_time: 151.10237669944763\n",
      "test_loss: tensor(0.0209)\n",
      "revenue: 46.31284335644311\n",
      "{'BATCH_SIZE': 256, 'EPOCHS': 20, 'OPTIMIZER': <class 'torch.optim.rmsprop.RMSprop'>, 'LEARNING_RATE': 0.0001, 'LOSS': MSELoss(), 'EARLY_STOPPING': True, 'PATIENCE': 1, 'MIN_DELTA': 1e-06, 'HIDDEN_DEPTH': 4, 'HIDDEN_SIZES': array([ 64, 128, 256, 512]), 'KERNEL_SIZES': array([9, 7, 5, 3]), 'MAXPOOL': 2, 'FC_DEPTH': 2, 'FC_SIZES': array([512]), 'DROPOUT': 0.2, 'epoch_stopped': 7, 'train_time': 240.53650379180908, 'test_loss': tensor(0.0166), 'mean_train_loss': [0.017601809, 0.00879455, 0.007301646, 0.0064260815, 0.0059050717, 0.0053282864, 0.0049770772, 0.004796735], 'mean_val_loss': [0.035542455, 0.027426818, 0.029502034, 0.02437353, 0.02780494, 0.02054486, 0.023451427], 'min_val_loss': 0.02054486, 'predictions': tensor([0.1007, 0.1793, 0.2639,  ..., 0.0067, 0.0949, 0.1784]), 'bal_list': array([1.00000000e+07, 1.02326361e+07, 1.04985998e+07, ...,\n",
      "       4.99327866e+08, 4.99598667e+08, 4.99886191e+08]), 'revenue': 499886191.002936}\n"
     ]
    },
    {
     "name": "stderr",
     "output_type": "stream",
     "text": [
      "100%|██████████| 96/96 [00:29<00:00,  3.30it/s]\n",
      "100%|██████████| 12/12 [00:01<00:00, 11.34it/s]\n",
      "  0%|          | 0/96 [00:00<?, ?it/s]"
     ]
    },
    {
     "name": "stdout",
     "output_type": "stream",
     "text": [
      "Epoch: 0, train_loss: 0.017148610204458237, valid_loss: 0.038127150386571884\n"
     ]
    },
    {
     "name": "stderr",
     "output_type": "stream",
     "text": [
      "100%|██████████| 96/96 [00:30<00:00,  3.18it/s]\n",
      "100%|██████████| 12/12 [00:01<00:00, 11.05it/s]\n",
      "  0%|          | 0/96 [00:00<?, ?it/s]"
     ]
    },
    {
     "name": "stdout",
     "output_type": "stream",
     "text": [
      "Epoch: 1, train_loss: 0.009005350060760975, valid_loss: 0.02710662968456745\n"
     ]
    },
    {
     "name": "stderr",
     "output_type": "stream",
     "text": [
      "100%|██████████| 96/96 [00:29<00:00,  3.30it/s]\n",
      "100%|██████████| 12/12 [00:01<00:00, 11.72it/s]\n",
      "  0%|          | 0/96 [00:00<?, ?it/s]"
     ]
    },
    {
     "name": "stdout",
     "output_type": "stream",
     "text": [
      "decrease in val loss < min_delta, patience count:  1\n",
      "Epoch: 2, train_loss: 0.00753274979069829, valid_loss: 0.0317307710647583\n"
     ]
    },
    {
     "name": "stderr",
     "output_type": "stream",
     "text": [
      "100%|██████████| 96/96 [00:29<00:00,  3.29it/s]\n",
      "100%|██████████| 12/12 [00:01<00:00, 10.04it/s]\n",
      "  0%|          | 0/96 [00:00<?, ?it/s]"
     ]
    },
    {
     "name": "stdout",
     "output_type": "stream",
     "text": [
      "Epoch: 3, train_loss: 0.006611139979213476, valid_loss: 0.020755909383296967\n"
     ]
    },
    {
     "name": "stderr",
     "output_type": "stream",
     "text": [
      "100%|██████████| 96/96 [00:29<00:00,  3.28it/s]\n",
      "100%|██████████| 12/12 [00:01<00:00,  8.35it/s]\n",
      "  0%|          | 0/96 [00:00<?, ?it/s]"
     ]
    },
    {
     "name": "stdout",
     "output_type": "stream",
     "text": [
      "decrease in val loss < min_delta, patience count:  1\n",
      "Epoch: 4, train_loss: 0.005789239890873432, valid_loss: 0.02194756083190441\n"
     ]
    },
    {
     "name": "stderr",
     "output_type": "stream",
     "text": [
      "100%|██████████| 96/96 [00:29<00:00,  3.27it/s]\n",
      "100%|██████████| 12/12 [00:01<00:00, 11.67it/s]\n",
      "  0%|          | 0/96 [00:00<?, ?it/s]"
     ]
    },
    {
     "name": "stdout",
     "output_type": "stream",
     "text": [
      "Epoch: 5, train_loss: 0.005321170203387737, valid_loss: 0.02058098092675209\n"
     ]
    },
    {
     "name": "stderr",
     "output_type": "stream",
     "text": [
      "100%|██████████| 96/96 [00:29<00:00,  3.29it/s]\n",
      "100%|██████████| 12/12 [00:01<00:00, 11.83it/s]\n",
      "  0%|          | 0/96 [00:00<?, ?it/s]"
     ]
    },
    {
     "name": "stdout",
     "output_type": "stream",
     "text": [
      "decrease in val loss < min_delta, patience count:  1\n",
      "Epoch: 6, train_loss: 0.00483507988974452, valid_loss: 0.0260362196713686\n"
     ]
    },
    {
     "name": "stderr",
     "output_type": "stream",
     "text": [
      "100%|██████████| 96/96 [00:29<00:00,  3.28it/s]\n",
      "100%|██████████| 12/12 [00:01<00:00, 11.57it/s]\n"
     ]
    },
    {
     "name": "stdout",
     "output_type": "stream",
     "text": [
      "Early stopped at Epoch:  7\n"
     ]
    },
    {
     "name": "stderr",
     "output_type": "stream",
     "text": [
      "\r",
      "  0%|          | 0/96 [00:00<?, ?it/s]"
     ]
    },
    {
     "name": "stdout",
     "output_type": "stream",
     "text": [
      "train_time: 243.65241742134094\n",
      "test_loss: tensor(0.0185)\n",
      "revenue: 50.634889281979056\n",
      "{'BATCH_SIZE': 256, 'EPOCHS': 20, 'OPTIMIZER': <class 'torch.optim.rmsprop.RMSprop'>, 'LEARNING_RATE': 0.0001, 'LOSS': MSELoss(), 'EARLY_STOPPING': True, 'PATIENCE': 1, 'MIN_DELTA': 1e-06, 'HIDDEN_DEPTH': 4, 'HIDDEN_SIZES': array([ 64, 128, 256, 512]), 'KERNEL_SIZES': array([9, 7, 5, 3]), 'MAXPOOL': 2, 'FC_DEPTH': 2, 'FC_SIZES': array([512]), 'DROPOUT': 0.2, 'epoch_stopped': 7, 'train_time': 240.53650379180908, 'test_loss': tensor(0.0166), 'mean_train_loss': [0.017601809, 0.00879455, 0.007301646, 0.0064260815, 0.0059050717, 0.0053282864, 0.0049770772, 0.004796735], 'mean_val_loss': [0.035542455, 0.027426818, 0.029502034, 0.02437353, 0.02780494, 0.02054486, 0.023451427], 'min_val_loss': 0.02054486, 'predictions': tensor([0.1007, 0.1793, 0.2639,  ..., 0.0067, 0.0949, 0.1784]), 'bal_list': array([1.00000000e+07, 1.02326361e+07, 1.04985998e+07, ...,\n",
      "       4.99327866e+08, 4.99598667e+08, 4.99886191e+08]), 'revenue': 499886191.002936}\n"
     ]
    },
    {
     "name": "stderr",
     "output_type": "stream",
     "text": [
      "100%|██████████| 96/96 [00:29<00:00,  3.29it/s]\n",
      "100%|██████████| 12/12 [00:01<00:00, 11.28it/s]\n",
      "  0%|          | 0/96 [00:00<?, ?it/s]"
     ]
    },
    {
     "name": "stdout",
     "output_type": "stream",
     "text": [
      "Epoch: 0, train_loss: 0.017674539238214493, valid_loss: 0.03653848171234131\n"
     ]
    },
    {
     "name": "stderr",
     "output_type": "stream",
     "text": [
      "100%|██████████| 96/96 [00:30<00:00,  3.15it/s]\n",
      "100%|██████████| 12/12 [00:01<00:00, 11.61it/s]\n",
      "  0%|          | 0/96 [00:00<?, ?it/s]"
     ]
    },
    {
     "name": "stdout",
     "output_type": "stream",
     "text": [
      "Epoch: 1, train_loss: 0.009272879920899868, valid_loss: 0.02956159971654415\n"
     ]
    },
    {
     "name": "stderr",
     "output_type": "stream",
     "text": [
      "100%|██████████| 96/96 [00:29<00:00,  3.21it/s]\n",
      "100%|██████████| 12/12 [00:01<00:00, 10.89it/s]\n",
      "  0%|          | 0/96 [00:00<?, ?it/s]"
     ]
    },
    {
     "name": "stdout",
     "output_type": "stream",
     "text": [
      "decrease in val loss < min_delta, patience count:  1\n",
      "Epoch: 2, train_loss: 0.00760385999456048, valid_loss: 0.03091881051659584\n"
     ]
    },
    {
     "name": "stderr",
     "output_type": "stream",
     "text": [
      "100%|██████████| 96/96 [00:31<00:00,  3.05it/s]\n",
      "100%|██████████| 12/12 [00:01<00:00, 11.60it/s]\n"
     ]
    },
    {
     "name": "stdout",
     "output_type": "stream",
     "text": [
      "Early stopped at Epoch:  3\n",
      "train_time: 125.27212071418762\n",
      "test_loss: tensor(0.0240)\n",
      "revenue: 47.436500356752425\n",
      "expt4_expt3plusdiffdiff1_9hours\n"
     ]
    },
    {
     "name": "stderr",
     "output_type": "stream",
     "text": [
      "\r",
      "  0%|          | 0/96 [00:00<?, ?it/s]"
     ]
    },
    {
     "name": "stdout",
     "output_type": "stream",
     "text": [
      "{'BATCH_SIZE': 256, 'EPOCHS': 20, 'OPTIMIZER': <class 'torch.optim.rmsprop.RMSprop'>, 'LEARNING_RATE': 0.0001, 'LOSS': MSELoss(), 'EARLY_STOPPING': True, 'PATIENCE': 1, 'MIN_DELTA': 1e-06, 'HIDDEN_DEPTH': 4, 'HIDDEN_SIZES': array([ 64, 128, 256, 512]), 'KERNEL_SIZES': array([9, 7, 5, 3]), 'MAXPOOL': 2, 'FC_DEPTH': 2, 'FC_SIZES': array([512]), 'DROPOUT': 0.2, 'epoch_stopped': 3, 'train_time': 125.27212071418762, 'test_loss': tensor(0.0240), 'mean_train_loss': [0.017674545, 0.009272881, 0.0076038633, 0.00657154], 'mean_val_loss': [0.036538485, 0.0295616, 0.030918812], 'min_val_loss': 0.0295616, 'predictions': tensor([ 0.0840,  0.1242,  0.1849,  ..., -0.0558,  0.0205,  0.0632]), 'bal_list': array([1.00000000e+07, 1.02181130e+07, 1.04361644e+07, ...,\n",
      "       4.73925733e+08, 4.74142178e+08, 4.74365004e+08]), 'revenue': 474365003.56752425}\n"
     ]
    },
    {
     "name": "stderr",
     "output_type": "stream",
     "text": [
      "100%|██████████| 96/96 [00:30<00:00,  3.11it/s]\n",
      "100%|██████████| 12/12 [00:01<00:00, 10.26it/s]\n",
      "  0%|          | 0/96 [00:00<?, ?it/s]"
     ]
    },
    {
     "name": "stdout",
     "output_type": "stream",
     "text": [
      "Epoch: 0, train_loss: 0.017989320680499077, valid_loss: 0.0347982794046402\n"
     ]
    },
    {
     "name": "stderr",
     "output_type": "stream",
     "text": [
      "100%|██████████| 96/96 [00:31<00:00,  3.03it/s]\n",
      "100%|██████████| 12/12 [00:01<00:00,  9.22it/s]\n",
      "  0%|          | 0/96 [00:00<?, ?it/s]"
     ]
    },
    {
     "name": "stdout",
     "output_type": "stream",
     "text": [
      "Epoch: 1, train_loss: 0.009055179543793201, valid_loss: 0.02670516073703766\n"
     ]
    },
    {
     "name": "stderr",
     "output_type": "stream",
     "text": [
      "100%|██████████| 96/96 [00:30<00:00,  3.12it/s]\n",
      "100%|██████████| 12/12 [00:01<00:00, 10.31it/s]\n",
      "  0%|          | 0/96 [00:00<?, ?it/s]"
     ]
    },
    {
     "name": "stdout",
     "output_type": "stream",
     "text": [
      "Epoch: 2, train_loss: 0.0074203601107001305, valid_loss: 0.02245716005563736\n"
     ]
    },
    {
     "name": "stderr",
     "output_type": "stream",
     "text": [
      "100%|██████████| 96/96 [00:31<00:00,  3.08it/s]\n",
      "100%|██████████| 12/12 [00:01<00:00,  9.22it/s]\n",
      "  0%|          | 0/96 [00:00<?, ?it/s]"
     ]
    },
    {
     "name": "stdout",
     "output_type": "stream",
     "text": [
      "Epoch: 3, train_loss: 0.006241879891604185, valid_loss: 0.022027229890227318\n"
     ]
    },
    {
     "name": "stderr",
     "output_type": "stream",
     "text": [
      "100%|██████████| 96/96 [00:35<00:00,  2.67it/s]\n",
      "100%|██████████| 12/12 [00:01<00:00,  8.77it/s]\n",
      "  0%|          | 0/96 [00:00<?, ?it/s]"
     ]
    },
    {
     "name": "stdout",
     "output_type": "stream",
     "text": [
      "Epoch: 4, train_loss: 0.005763209890574217, valid_loss: 0.020305989310145378\n"
     ]
    },
    {
     "name": "stderr",
     "output_type": "stream",
     "text": [
      "100%|██████████| 96/96 [00:32<00:00,  3.00it/s]\n",
      "100%|██████████| 12/12 [00:01<00:00,  9.08it/s]\n",
      "  0%|          | 0/96 [00:00<?, ?it/s]"
     ]
    },
    {
     "name": "stdout",
     "output_type": "stream",
     "text": [
      "Epoch: 5, train_loss: 0.005164240021258593, valid_loss: 0.02019418030977249\n"
     ]
    },
    {
     "name": "stderr",
     "output_type": "stream",
     "text": [
      "100%|██████████| 96/96 [00:31<00:00,  3.04it/s]\n",
      "100%|██████████| 12/12 [00:01<00:00, 10.07it/s]\n",
      "  0%|          | 0/96 [00:00<?, ?it/s]"
     ]
    },
    {
     "name": "stdout",
     "output_type": "stream",
     "text": [
      "Epoch: 6, train_loss: 0.004740280099213123, valid_loss: 0.019320139661431313\n"
     ]
    },
    {
     "name": "stderr",
     "output_type": "stream",
     "text": [
      "100%|██████████| 96/96 [00:30<00:00,  3.13it/s]\n",
      "100%|██████████| 12/12 [00:01<00:00, 10.46it/s]\n",
      "  0%|          | 0/96 [00:00<?, ?it/s]"
     ]
    },
    {
     "name": "stdout",
     "output_type": "stream",
     "text": [
      "decrease in val loss < min_delta, patience count:  1\n",
      "Epoch: 7, train_loss: 0.004516750108450651, valid_loss: 0.020215969532728195\n"
     ]
    },
    {
     "name": "stderr",
     "output_type": "stream",
     "text": [
      "100%|██████████| 96/96 [00:31<00:00,  3.05it/s]\n",
      "100%|██████████| 12/12 [00:01<00:00,  8.66it/s]\n"
     ]
    },
    {
     "name": "stdout",
     "output_type": "stream",
     "text": [
      "Early stopped at Epoch:  8\n"
     ]
    },
    {
     "name": "stderr",
     "output_type": "stream",
     "text": [
      "\r",
      "  0%|          | 0/96 [00:00<?, ?it/s]"
     ]
    },
    {
     "name": "stdout",
     "output_type": "stream",
     "text": [
      "train_time: 297.69822692871094\n",
      "test_loss: tensor(0.0166)\n",
      "revenue: 50.42769181739725\n",
      "{'BATCH_SIZE': 256, 'EPOCHS': 20, 'OPTIMIZER': <class 'torch.optim.rmsprop.RMSprop'>, 'LEARNING_RATE': 0.0001, 'LOSS': MSELoss(), 'EARLY_STOPPING': True, 'PATIENCE': 1, 'MIN_DELTA': 1e-06, 'HIDDEN_DEPTH': 4, 'HIDDEN_SIZES': array([ 64, 128, 256, 512]), 'KERNEL_SIZES': array([9, 7, 5, 3]), 'MAXPOOL': 2, 'FC_DEPTH': 2, 'FC_SIZES': array([512]), 'DROPOUT': 0.2, 'epoch_stopped': 3, 'train_time': 125.27212071418762, 'test_loss': tensor(0.0240), 'mean_train_loss': [0.017674545, 0.009272881, 0.0076038633, 0.00657154], 'mean_val_loss': [0.036538485, 0.0295616, 0.030918812], 'min_val_loss': 0.0295616, 'predictions': tensor([ 0.0840,  0.1242,  0.1849,  ..., -0.0558,  0.0205,  0.0632]), 'bal_list': array([1.00000000e+07, 1.02181130e+07, 1.04361644e+07, ...,\n",
      "       4.73925733e+08, 4.74142178e+08, 4.74365004e+08]), 'revenue': 474365003.56752425}\n"
     ]
    },
    {
     "name": "stderr",
     "output_type": "stream",
     "text": [
      "100%|██████████| 96/96 [00:32<00:00,  2.94it/s]\n",
      "100%|██████████| 12/12 [00:01<00:00,  9.50it/s]\n",
      "  0%|          | 0/96 [00:00<?, ?it/s]"
     ]
    },
    {
     "name": "stdout",
     "output_type": "stream",
     "text": [
      "Epoch: 0, train_loss: 0.018874840810894966, valid_loss: 0.03617313876748085\n"
     ]
    },
    {
     "name": "stderr",
     "output_type": "stream",
     "text": [
      "100%|██████████| 96/96 [00:32<00:00,  2.93it/s]\n",
      "100%|██████████| 12/12 [00:01<00:00,  8.11it/s]\n",
      "  0%|          | 0/96 [00:00<?, ?it/s]"
     ]
    },
    {
     "name": "stdout",
     "output_type": "stream",
     "text": [
      "Epoch: 1, train_loss: 0.009178560227155685, valid_loss: 0.03297905996441841\n"
     ]
    },
    {
     "name": "stderr",
     "output_type": "stream",
     "text": [
      "100%|██████████| 96/96 [00:31<00:00,  3.00it/s]\n",
      "100%|██████████| 12/12 [00:01<00:00, 10.38it/s]\n",
      "  0%|          | 0/96 [00:00<?, ?it/s]"
     ]
    },
    {
     "name": "stdout",
     "output_type": "stream",
     "text": [
      "Epoch: 2, train_loss: 0.007457689847797155, valid_loss: 0.02808069996535778\n"
     ]
    },
    {
     "name": "stderr",
     "output_type": "stream",
     "text": [
      "100%|██████████| 96/96 [00:31<00:00,  3.03it/s]\n",
      "100%|██████████| 12/12 [00:01<00:00, 10.52it/s]\n",
      "  0%|          | 0/96 [00:00<?, ?it/s]"
     ]
    },
    {
     "name": "stdout",
     "output_type": "stream",
     "text": [
      "Epoch: 3, train_loss: 0.006508439779281616, valid_loss: 0.021141329780220985\n"
     ]
    },
    {
     "name": "stderr",
     "output_type": "stream",
     "text": [
      "100%|██████████| 96/96 [00:30<00:00,  3.17it/s]\n",
      "100%|██████████| 12/12 [00:01<00:00, 10.35it/s]\n",
      "  0%|          | 0/96 [00:00<?, ?it/s]"
     ]
    },
    {
     "name": "stdout",
     "output_type": "stream",
     "text": [
      "decrease in val loss < min_delta, patience count:  1\n",
      "Epoch: 4, train_loss: 0.005738609936088324, valid_loss: 0.02777726948261261\n"
     ]
    },
    {
     "name": "stderr",
     "output_type": "stream",
     "text": [
      "100%|██████████| 96/96 [00:30<00:00,  3.15it/s]\n",
      "100%|██████████| 12/12 [00:01<00:00,  9.91it/s]\n"
     ]
    },
    {
     "name": "stdout",
     "output_type": "stream",
     "text": [
      "Early stopped at Epoch:  5\n"
     ]
    },
    {
     "name": "stderr",
     "output_type": "stream",
     "text": [
      "\r",
      "  0%|          | 0/96 [00:00<?, ?it/s]"
     ]
    },
    {
     "name": "stdout",
     "output_type": "stream",
     "text": [
      "train_time: 197.30009722709656\n",
      "test_loss: tensor(0.0179)\n",
      "revenue: 50.365104581994956\n",
      "{'BATCH_SIZE': 256, 'EPOCHS': 20, 'OPTIMIZER': <class 'torch.optim.rmsprop.RMSprop'>, 'LEARNING_RATE': 0.0001, 'LOSS': MSELoss(), 'EARLY_STOPPING': True, 'PATIENCE': 1, 'MIN_DELTA': 1e-06, 'HIDDEN_DEPTH': 4, 'HIDDEN_SIZES': array([ 64, 128, 256, 512]), 'KERNEL_SIZES': array([9, 7, 5, 3]), 'MAXPOOL': 2, 'FC_DEPTH': 2, 'FC_SIZES': array([512]), 'DROPOUT': 0.2, 'epoch_stopped': 3, 'train_time': 125.27212071418762, 'test_loss': tensor(0.0240), 'mean_train_loss': [0.017674545, 0.009272881, 0.0076038633, 0.00657154], 'mean_val_loss': [0.036538485, 0.0295616, 0.030918812], 'min_val_loss': 0.0295616, 'predictions': tensor([ 0.0840,  0.1242,  0.1849,  ..., -0.0558,  0.0205,  0.0632]), 'bal_list': array([1.00000000e+07, 1.02181130e+07, 1.04361644e+07, ...,\n",
      "       4.73925733e+08, 4.74142178e+08, 4.74365004e+08]), 'revenue': 474365003.56752425}\n"
     ]
    },
    {
     "name": "stderr",
     "output_type": "stream",
     "text": [
      "100%|██████████| 96/96 [00:31<00:00,  3.07it/s]\n",
      "100%|██████████| 12/12 [00:01<00:00, 10.67it/s]\n",
      "  0%|          | 0/96 [00:00<?, ?it/s]"
     ]
    },
    {
     "name": "stdout",
     "output_type": "stream",
     "text": [
      "Epoch: 0, train_loss: 0.01929784007370472, valid_loss: 0.03909540921449661\n"
     ]
    },
    {
     "name": "stderr",
     "output_type": "stream",
     "text": [
      "100%|██████████| 96/96 [00:30<00:00,  3.17it/s]\n",
      "100%|██████████| 12/12 [00:01<00:00,  9.60it/s]\n",
      "  0%|          | 0/96 [00:00<?, ?it/s]"
     ]
    },
    {
     "name": "stdout",
     "output_type": "stream",
     "text": [
      "Epoch: 1, train_loss: 0.009684289805591106, valid_loss: 0.029332619160413742\n"
     ]
    },
    {
     "name": "stderr",
     "output_type": "stream",
     "text": [
      "100%|██████████| 96/96 [00:32<00:00,  2.99it/s]\n",
      "100%|██████████| 12/12 [00:01<00:00, 10.51it/s]\n",
      "  0%|          | 0/96 [00:00<?, ?it/s]"
     ]
    },
    {
     "name": "stdout",
     "output_type": "stream",
     "text": [
      "decrease in val loss < min_delta, patience count:  1\n",
      "Epoch: 2, train_loss: 0.00766158988699317, valid_loss: 0.0334431491792202\n"
     ]
    },
    {
     "name": "stderr",
     "output_type": "stream",
     "text": [
      "100%|██████████| 96/96 [00:30<00:00,  3.17it/s]\n",
      "100%|██████████| 12/12 [00:01<00:00, 10.92it/s]\n",
      "  0%|          | 0/96 [00:00<?, ?it/s]"
     ]
    },
    {
     "name": "stdout",
     "output_type": "stream",
     "text": [
      "Epoch: 3, train_loss: 0.006523389834910631, valid_loss: 0.024118350818753242\n"
     ]
    },
    {
     "name": "stderr",
     "output_type": "stream",
     "text": [
      "100%|██████████| 96/96 [00:30<00:00,  3.18it/s]\n",
      "100%|██████████| 12/12 [00:01<00:00, 10.44it/s]\n",
      "  0%|          | 0/96 [00:00<?, ?it/s]"
     ]
    },
    {
     "name": "stdout",
     "output_type": "stream",
     "text": [
      "Epoch: 4, train_loss: 0.005881289951503277, valid_loss: 0.02181025967001915\n"
     ]
    },
    {
     "name": "stderr",
     "output_type": "stream",
     "text": [
      "100%|██████████| 96/96 [00:30<00:00,  3.19it/s]\n",
      "100%|██████████| 12/12 [00:01<00:00, 10.11it/s]\n",
      "  0%|          | 0/96 [00:00<?, ?it/s]"
     ]
    },
    {
     "name": "stdout",
     "output_type": "stream",
     "text": [
      "decrease in val loss < min_delta, patience count:  1\n",
      "Epoch: 5, train_loss: 0.005308900028467178, valid_loss: 0.02224704995751381\n"
     ]
    },
    {
     "name": "stderr",
     "output_type": "stream",
     "text": [
      "100%|██████████| 96/96 [00:30<00:00,  3.16it/s]\n",
      "100%|██████████| 12/12 [00:01<00:00, 10.26it/s]\n",
      "  0%|          | 0/96 [00:00<?, ?it/s]"
     ]
    },
    {
     "name": "stdout",
     "output_type": "stream",
     "text": [
      "Epoch: 6, train_loss: 0.004953179974108934, valid_loss: 0.020969819277524948\n"
     ]
    },
    {
     "name": "stderr",
     "output_type": "stream",
     "text": [
      "100%|██████████| 96/96 [00:31<00:00,  3.09it/s]\n",
      "100%|██████████| 12/12 [00:01<00:00, 10.87it/s]\n",
      "  0%|          | 0/96 [00:00<?, ?it/s]"
     ]
    },
    {
     "name": "stdout",
     "output_type": "stream",
     "text": [
      "decrease in val loss < min_delta, patience count:  1\n",
      "Epoch: 7, train_loss: 0.004466880112886429, valid_loss: 0.021237879991531372\n"
     ]
    },
    {
     "name": "stderr",
     "output_type": "stream",
     "text": [
      "100%|██████████| 96/96 [00:30<00:00,  3.17it/s]\n",
      "100%|██████████| 12/12 [00:01<00:00, 10.37it/s]\n"
     ]
    },
    {
     "name": "stdout",
     "output_type": "stream",
     "text": [
      "Early stopped at Epoch:  8\n",
      "train_time: 286.6059424877167\n",
      "test_loss: tensor(0.0169)\n",
      "revenue: 50.74793889083482\n",
      "expt5_mean_diff1_9hours\n"
     ]
    },
    {
     "name": "stderr",
     "output_type": "stream",
     "text": [
      "\r",
      "  0%|          | 0/96 [00:00<?, ?it/s]"
     ]
    },
    {
     "name": "stdout",
     "output_type": "stream",
     "text": [
      "{'BATCH_SIZE': 256, 'EPOCHS': 20, 'OPTIMIZER': <class 'torch.optim.rmsprop.RMSprop'>, 'LEARNING_RATE': 0.0001, 'LOSS': MSELoss(), 'EARLY_STOPPING': True, 'PATIENCE': 1, 'MIN_DELTA': 1e-06, 'HIDDEN_DEPTH': 4, 'HIDDEN_SIZES': array([ 64, 128, 256, 512]), 'KERNEL_SIZES': array([9, 7, 5, 3]), 'MAXPOOL': 2, 'FC_DEPTH': 2, 'FC_SIZES': array([512]), 'DROPOUT': 0.2, 'epoch_stopped': 8, 'train_time': 286.6059424877167, 'test_loss': tensor(0.0169), 'mean_train_loss': [0.019297838, 0.009684293, 0.007661591, 0.0065233917, 0.0058812946, 0.0053089033, 0.00495318, 0.0044668834, 0.0041017276], 'mean_val_loss': [0.039095413, 0.029332625, 0.03344315, 0.024118347, 0.021810258, 0.022247054, 0.020969817, 0.021237886], 'min_val_loss': 0.020969817, 'predictions': tensor([ 0.1192,  0.1756,  0.2352,  ..., -0.0191,  0.0069,  0.0964]), 'bal_list': array([1.00000000e+07, 1.02486947e+07, 1.05114730e+07, ...,\n",
      "       5.07020005e+08, 5.07268399e+08, 5.07479389e+08]), 'revenue': 507479388.90834814}\n"
     ]
    },
    {
     "name": "stderr",
     "output_type": "stream",
     "text": [
      "100%|██████████| 96/96 [00:29<00:00,  3.24it/s]\n",
      "100%|██████████| 12/12 [00:01<00:00,  9.78it/s]\n",
      "  0%|          | 0/96 [00:00<?, ?it/s]"
     ]
    },
    {
     "name": "stdout",
     "output_type": "stream",
     "text": [
      "Epoch: 0, train_loss: 0.016470840200781822, valid_loss: 0.0388122983276844\n"
     ]
    },
    {
     "name": "stderr",
     "output_type": "stream",
     "text": [
      "100%|██████████| 96/96 [00:33<00:00,  2.90it/s]\n",
      "100%|██████████| 12/12 [00:01<00:00, 10.75it/s]\n",
      "  0%|          | 0/96 [00:00<?, ?it/s]"
     ]
    },
    {
     "name": "stdout",
     "output_type": "stream",
     "text": [
      "Epoch: 1, train_loss: 0.009313910268247128, valid_loss: 0.028734499588608742\n"
     ]
    },
    {
     "name": "stderr",
     "output_type": "stream",
     "text": [
      "100%|██████████| 96/96 [00:29<00:00,  3.30it/s]\n",
      "100%|██████████| 12/12 [00:01<00:00,  9.54it/s]\n",
      "  0%|          | 0/96 [00:00<?, ?it/s]"
     ]
    },
    {
     "name": "stdout",
     "output_type": "stream",
     "text": [
      "decrease in val loss < min_delta, patience count:  1\n",
      "Epoch: 2, train_loss: 0.00775330001488328, valid_loss: 0.038220930844545364\n"
     ]
    },
    {
     "name": "stderr",
     "output_type": "stream",
     "text": [
      "100%|██████████| 96/96 [00:31<00:00,  3.02it/s]\n",
      "100%|██████████| 12/12 [00:01<00:00,  7.12it/s]\n",
      "  0%|          | 0/96 [00:00<?, ?it/s]"
     ]
    },
    {
     "name": "stdout",
     "output_type": "stream",
     "text": [
      "Epoch: 3, train_loss: 0.006911629810929298, valid_loss: 0.024158600717782974\n"
     ]
    },
    {
     "name": "stderr",
     "output_type": "stream",
     "text": [
      "100%|██████████| 96/96 [00:31<00:00,  3.01it/s]\n",
      "100%|██████████| 12/12 [00:01<00:00,  8.96it/s]\n",
      "  0%|          | 0/96 [00:00<?, ?it/s]"
     ]
    },
    {
     "name": "stdout",
     "output_type": "stream",
     "text": [
      "decrease in val loss < min_delta, patience count:  1\n",
      "Epoch: 4, train_loss: 0.006230750121176243, valid_loss: 0.026152469217777252\n"
     ]
    },
    {
     "name": "stderr",
     "output_type": "stream",
     "text": [
      "100%|██████████| 96/96 [00:29<00:00,  3.28it/s]\n",
      "100%|██████████| 12/12 [00:01<00:00, 10.79it/s]\n",
      "  0%|          | 0/96 [00:00<?, ?it/s]"
     ]
    },
    {
     "name": "stdout",
     "output_type": "stream",
     "text": [
      "Epoch: 5, train_loss: 0.00563850998878479, valid_loss: 0.021743470802903175\n"
     ]
    },
    {
     "name": "stderr",
     "output_type": "stream",
     "text": [
      "100%|██████████| 96/96 [00:29<00:00,  3.29it/s]\n",
      "100%|██████████| 12/12 [00:01<00:00, 11.22it/s]\n",
      "  0%|          | 0/96 [00:00<?, ?it/s]"
     ]
    },
    {
     "name": "stdout",
     "output_type": "stream",
     "text": [
      "decrease in val loss < min_delta, patience count:  1\n",
      "Epoch: 6, train_loss: 0.005247460212558508, valid_loss: 0.025195540860295296\n"
     ]
    },
    {
     "name": "stderr",
     "output_type": "stream",
     "text": [
      "100%|██████████| 96/96 [00:29<00:00,  3.30it/s]\n",
      "100%|██████████| 12/12 [00:01<00:00, 10.87it/s]\n",
      "  0%|          | 0/96 [00:00<?, ?it/s]"
     ]
    },
    {
     "name": "stdout",
     "output_type": "stream",
     "text": [
      "Epoch: 7, train_loss: 0.004836080130189657, valid_loss: 0.020668840035796165\n"
     ]
    },
    {
     "name": "stderr",
     "output_type": "stream",
     "text": [
      "100%|██████████| 96/96 [00:29<00:00,  3.28it/s]\n",
      "100%|██████████| 12/12 [00:01<00:00, 10.48it/s]\n",
      "  0%|          | 0/96 [00:00<?, ?it/s]"
     ]
    },
    {
     "name": "stdout",
     "output_type": "stream",
     "text": [
      "decrease in val loss < min_delta, patience count:  1\n",
      "Epoch: 8, train_loss: 0.0045243799686431885, valid_loss: 0.023892389610409737\n"
     ]
    },
    {
     "name": "stderr",
     "output_type": "stream",
     "text": [
      "100%|██████████| 96/96 [00:29<00:00,  3.24it/s]\n",
      "100%|██████████| 12/12 [00:01<00:00, 10.40it/s]\n"
     ]
    },
    {
     "name": "stdout",
     "output_type": "stream",
     "text": [
      "Early stopped at Epoch:  9\n"
     ]
    },
    {
     "name": "stderr",
     "output_type": "stream",
     "text": [
      "\r",
      "  0%|          | 0/96 [00:00<?, ?it/s]"
     ]
    },
    {
     "name": "stdout",
     "output_type": "stream",
     "text": [
      "train_time: 314.56305742263794\n",
      "test_loss: tensor(0.0181)\n",
      "revenue: 49.31136703692048\n",
      "{'BATCH_SIZE': 256, 'EPOCHS': 20, 'OPTIMIZER': <class 'torch.optim.rmsprop.RMSprop'>, 'LEARNING_RATE': 0.0001, 'LOSS': MSELoss(), 'EARLY_STOPPING': True, 'PATIENCE': 1, 'MIN_DELTA': 1e-06, 'HIDDEN_DEPTH': 4, 'HIDDEN_SIZES': array([ 64, 128, 256, 512]), 'KERNEL_SIZES': array([9, 7, 5, 3]), 'MAXPOOL': 2, 'FC_DEPTH': 2, 'FC_SIZES': array([512]), 'DROPOUT': 0.2, 'epoch_stopped': 8, 'train_time': 286.6059424877167, 'test_loss': tensor(0.0169), 'mean_train_loss': [0.019297838, 0.009684293, 0.007661591, 0.0065233917, 0.0058812946, 0.0053089033, 0.00495318, 0.0044668834, 0.0041017276], 'mean_val_loss': [0.039095413, 0.029332625, 0.03344315, 0.024118347, 0.021810258, 0.022247054, 0.020969817, 0.021237886], 'min_val_loss': 0.020969817, 'predictions': tensor([ 0.1192,  0.1756,  0.2352,  ..., -0.0191,  0.0069,  0.0964]), 'bal_list': array([1.00000000e+07, 1.02486947e+07, 1.05114730e+07, ...,\n",
      "       5.07020005e+08, 5.07268399e+08, 5.07479389e+08]), 'revenue': 507479388.90834814}\n"
     ]
    },
    {
     "name": "stderr",
     "output_type": "stream",
     "text": [
      "100%|██████████| 96/96 [00:29<00:00,  3.28it/s]\n",
      "100%|██████████| 12/12 [00:01<00:00, 10.54it/s]\n",
      "  0%|          | 0/96 [00:00<?, ?it/s]"
     ]
    },
    {
     "name": "stdout",
     "output_type": "stream",
     "text": [
      "Epoch: 0, train_loss: 0.01759945973753929, valid_loss: 0.04187940061092377\n"
     ]
    },
    {
     "name": "stderr",
     "output_type": "stream",
     "text": [
      "100%|██████████| 96/96 [00:29<00:00,  3.28it/s]\n",
      "100%|██████████| 12/12 [00:01<00:00, 11.02it/s]\n",
      "  0%|          | 0/96 [00:00<?, ?it/s]"
     ]
    },
    {
     "name": "stdout",
     "output_type": "stream",
     "text": [
      "Epoch: 1, train_loss: 0.009541530162096024, valid_loss: 0.02842571958899498\n"
     ]
    },
    {
     "name": "stderr",
     "output_type": "stream",
     "text": [
      "100%|██████████| 96/96 [00:29<00:00,  3.28it/s]\n",
      "100%|██████████| 12/12 [00:01<00:00, 10.32it/s]\n",
      "  0%|          | 0/96 [00:00<?, ?it/s]"
     ]
    },
    {
     "name": "stdout",
     "output_type": "stream",
     "text": [
      "decrease in val loss < min_delta, patience count:  1\n",
      "Epoch: 2, train_loss: 0.00803690031170845, valid_loss: 0.030589239671826363\n"
     ]
    },
    {
     "name": "stderr",
     "output_type": "stream",
     "text": [
      "100%|██████████| 96/96 [00:29<00:00,  3.29it/s]\n",
      "100%|██████████| 12/12 [00:01<00:00, 10.56it/s]\n",
      "  0%|          | 0/96 [00:00<?, ?it/s]"
     ]
    },
    {
     "name": "stdout",
     "output_type": "stream",
     "text": [
      "Epoch: 3, train_loss: 0.006933149881660938, valid_loss: 0.028057729825377464\n"
     ]
    },
    {
     "name": "stderr",
     "output_type": "stream",
     "text": [
      "100%|██████████| 96/96 [00:29<00:00,  3.28it/s]\n",
      "100%|██████████| 12/12 [00:01<00:00, 10.47it/s]\n",
      "  0%|          | 0/96 [00:00<?, ?it/s]"
     ]
    },
    {
     "name": "stdout",
     "output_type": "stream",
     "text": [
      "Epoch: 4, train_loss: 0.006406850181519985, valid_loss: 0.025189079344272614\n"
     ]
    },
    {
     "name": "stderr",
     "output_type": "stream",
     "text": [
      "100%|██████████| 96/96 [00:30<00:00,  3.20it/s]\n",
      "100%|██████████| 12/12 [00:01<00:00, 11.14it/s]\n",
      "  0%|          | 0/96 [00:00<?, ?it/s]"
     ]
    },
    {
     "name": "stdout",
     "output_type": "stream",
     "text": [
      "Epoch: 5, train_loss: 0.00585437985137105, valid_loss: 0.02366703934967518\n"
     ]
    },
    {
     "name": "stderr",
     "output_type": "stream",
     "text": [
      "100%|██████████| 96/96 [00:29<00:00,  3.29it/s]\n",
      "100%|██████████| 12/12 [00:01<00:00, 10.73it/s]\n",
      "  0%|          | 0/96 [00:00<?, ?it/s]"
     ]
    },
    {
     "name": "stdout",
     "output_type": "stream",
     "text": [
      "Epoch: 6, train_loss: 0.005419690161943436, valid_loss: 0.0229327492415905\n"
     ]
    },
    {
     "name": "stderr",
     "output_type": "stream",
     "text": [
      "100%|██████████| 96/96 [00:29<00:00,  3.31it/s]\n",
      "100%|██████████| 12/12 [00:01<00:00, 10.70it/s]\n",
      "  0%|          | 0/96 [00:00<?, ?it/s]"
     ]
    },
    {
     "name": "stdout",
     "output_type": "stream",
     "text": [
      "decrease in val loss < min_delta, patience count:  1\n",
      "Epoch: 7, train_loss: 0.00506793987005949, valid_loss: 0.024836309254169464\n"
     ]
    },
    {
     "name": "stderr",
     "output_type": "stream",
     "text": [
      "100%|██████████| 96/96 [00:29<00:00,  3.29it/s]\n",
      "100%|██████████| 12/12 [00:01<00:00, 11.47it/s]\n"
     ]
    },
    {
     "name": "stdout",
     "output_type": "stream",
     "text": [
      "Early stopped at Epoch:  8\n"
     ]
    },
    {
     "name": "stderr",
     "output_type": "stream",
     "text": [
      "\r",
      "  0%|          | 0/96 [00:00<?, ?it/s]"
     ]
    },
    {
     "name": "stdout",
     "output_type": "stream",
     "text": [
      "train_time: 273.8309097290039\n",
      "test_loss: tensor(0.0200)\n",
      "revenue: 47.83122716935212\n",
      "{'BATCH_SIZE': 256, 'EPOCHS': 20, 'OPTIMIZER': <class 'torch.optim.rmsprop.RMSprop'>, 'LEARNING_RATE': 0.0001, 'LOSS': MSELoss(), 'EARLY_STOPPING': True, 'PATIENCE': 1, 'MIN_DELTA': 1e-06, 'HIDDEN_DEPTH': 4, 'HIDDEN_SIZES': array([ 64, 128, 256, 512]), 'KERNEL_SIZES': array([9, 7, 5, 3]), 'MAXPOOL': 2, 'FC_DEPTH': 2, 'FC_SIZES': array([512]), 'DROPOUT': 0.2, 'epoch_stopped': 8, 'train_time': 286.6059424877167, 'test_loss': tensor(0.0169), 'mean_train_loss': [0.019297838, 0.009684293, 0.007661591, 0.0065233917, 0.0058812946, 0.0053089033, 0.00495318, 0.0044668834, 0.0041017276], 'mean_val_loss': [0.039095413, 0.029332625, 0.03344315, 0.024118347, 0.021810258, 0.022247054, 0.020969817, 0.021237886], 'min_val_loss': 0.020969817, 'predictions': tensor([ 0.1192,  0.1756,  0.2352,  ..., -0.0191,  0.0069,  0.0964]), 'bal_list': array([1.00000000e+07, 1.02486947e+07, 1.05114730e+07, ...,\n",
      "       5.07020005e+08, 5.07268399e+08, 5.07479389e+08]), 'revenue': 507479388.90834814}\n"
     ]
    },
    {
     "name": "stderr",
     "output_type": "stream",
     "text": [
      "100%|██████████| 96/96 [00:30<00:00,  3.17it/s]\n",
      "100%|██████████| 12/12 [00:01<00:00, 10.89it/s]\n",
      "  0%|          | 0/96 [00:00<?, ?it/s]"
     ]
    },
    {
     "name": "stdout",
     "output_type": "stream",
     "text": [
      "Epoch: 0, train_loss: 0.01877249963581562, valid_loss: 0.039208948612213135\n"
     ]
    },
    {
     "name": "stderr",
     "output_type": "stream",
     "text": [
      "100%|██████████| 96/96 [00:29<00:00,  3.30it/s]\n",
      "100%|██████████| 12/12 [00:01<00:00, 11.49it/s]\n",
      "  0%|          | 0/96 [00:00<?, ?it/s]"
     ]
    },
    {
     "name": "stdout",
     "output_type": "stream",
     "text": [
      "Epoch: 1, train_loss: 0.009913479909300804, valid_loss: 0.03549262136220932\n"
     ]
    },
    {
     "name": "stderr",
     "output_type": "stream",
     "text": [
      "100%|██████████| 96/96 [00:29<00:00,  3.30it/s]\n",
      "100%|██████████| 12/12 [00:01<00:00, 11.27it/s]\n",
      "  0%|          | 0/96 [00:00<?, ?it/s]"
     ]
    },
    {
     "name": "stdout",
     "output_type": "stream",
     "text": [
      "Epoch: 2, train_loss: 0.008256389759480953, valid_loss: 0.02707595005631447\n"
     ]
    },
    {
     "name": "stderr",
     "output_type": "stream",
     "text": [
      "100%|██████████| 96/96 [00:29<00:00,  3.30it/s]\n",
      "100%|██████████| 12/12 [00:01<00:00, 10.39it/s]\n",
      "  0%|          | 0/96 [00:00<?, ?it/s]"
     ]
    },
    {
     "name": "stdout",
     "output_type": "stream",
     "text": [
      "Epoch: 3, train_loss: 0.007240369915962219, valid_loss: 0.02635031007230282\n"
     ]
    },
    {
     "name": "stderr",
     "output_type": "stream",
     "text": [
      "100%|██████████| 96/96 [00:28<00:00,  3.32it/s]\n",
      "100%|██████████| 12/12 [00:01<00:00, 11.82it/s]\n",
      "  0%|          | 0/96 [00:00<?, ?it/s]"
     ]
    },
    {
     "name": "stdout",
     "output_type": "stream",
     "text": [
      "decrease in val loss < min_delta, patience count:  1\n",
      "Epoch: 4, train_loss: 0.0066072698682546616, valid_loss: 0.030668159946799278\n"
     ]
    },
    {
     "name": "stderr",
     "output_type": "stream",
     "text": [
      "100%|██████████| 96/96 [00:29<00:00,  3.29it/s]\n",
      "100%|██████████| 12/12 [00:01<00:00, 10.49it/s]\n",
      "  0%|          | 0/96 [00:00<?, ?it/s]"
     ]
    },
    {
     "name": "stdout",
     "output_type": "stream",
     "text": [
      "Epoch: 5, train_loss: 0.006017180159687996, valid_loss: 0.024868130683898926\n"
     ]
    },
    {
     "name": "stderr",
     "output_type": "stream",
     "text": [
      "100%|██████████| 96/96 [00:31<00:00,  3.00it/s]\n",
      "100%|██████████| 12/12 [00:01<00:00, 11.07it/s]\n",
      "  0%|          | 0/96 [00:00<?, ?it/s]"
     ]
    },
    {
     "name": "stdout",
     "output_type": "stream",
     "text": [
      "Epoch: 6, train_loss: 0.005625609774142504, valid_loss: 0.023419030010700226\n"
     ]
    },
    {
     "name": "stderr",
     "output_type": "stream",
     "text": [
      "100%|██████████| 96/96 [00:29<00:00,  3.29it/s]\n",
      "100%|██████████| 12/12 [00:01<00:00, 11.53it/s]\n",
      "  0%|          | 0/96 [00:00<?, ?it/s]"
     ]
    },
    {
     "name": "stdout",
     "output_type": "stream",
     "text": [
      "Epoch: 7, train_loss: 0.0052109998650848866, valid_loss: 0.022474870085716248\n"
     ]
    },
    {
     "name": "stderr",
     "output_type": "stream",
     "text": [
      "100%|██████████| 96/96 [00:28<00:00,  3.35it/s]\n",
      "100%|██████████| 12/12 [00:01<00:00, 11.80it/s]\n",
      "  0%|          | 0/96 [00:00<?, ?it/s]"
     ]
    },
    {
     "name": "stdout",
     "output_type": "stream",
     "text": [
      "decrease in val loss < min_delta, patience count:  1\n",
      "Epoch: 8, train_loss: 0.004817760083824396, valid_loss: 0.024290040135383606\n"
     ]
    },
    {
     "name": "stderr",
     "output_type": "stream",
     "text": [
      "100%|██████████| 96/96 [00:28<00:00,  3.33it/s]\n",
      "100%|██████████| 12/12 [00:01<00:00, 10.99it/s]\n"
     ]
    },
    {
     "name": "stdout",
     "output_type": "stream",
     "text": [
      "Early stopped at Epoch:  9\n",
      "train_time: 305.21434211730957\n",
      "test_loss: tensor(0.0193)\n",
      "revenue: 49.4093643090087\n",
      "expt6_T0to-9mean\n"
     ]
    },
    {
     "name": "stderr",
     "output_type": "stream",
     "text": [
      "\r",
      "  0%|          | 0/96 [00:00<?, ?it/s]"
     ]
    },
    {
     "name": "stdout",
     "output_type": "stream",
     "text": [
      "{'BATCH_SIZE': 256, 'EPOCHS': 20, 'OPTIMIZER': <class 'torch.optim.rmsprop.RMSprop'>, 'LEARNING_RATE': 0.0001, 'LOSS': MSELoss(), 'EARLY_STOPPING': True, 'PATIENCE': 1, 'MIN_DELTA': 1e-06, 'HIDDEN_DEPTH': 4, 'HIDDEN_SIZES': array([ 64, 128, 256, 512]), 'KERNEL_SIZES': array([9, 7, 5, 3]), 'MAXPOOL': 2, 'FC_DEPTH': 2, 'FC_SIZES': array([512]), 'DROPOUT': 0.2, 'epoch_stopped': 9, 'train_time': 305.21434211730957, 'test_loss': tensor(0.0193), 'mean_train_loss': [0.018772496, 0.009913479, 0.0082563935, 0.0072403722, 0.0066072717, 0.006017184, 0.00562561, 0.005211003, 0.0048177615, 0.0044893976], 'mean_val_loss': [0.039208952, 0.03549262, 0.027075952, 0.026350306, 0.030668154, 0.02486813, 0.02341903, 0.02247487, 0.024290035], 'min_val_loss': 0.02247487, 'predictions': tensor([ 0.0719,  0.1231,  0.1796,  ..., -0.0275,  0.0347,  0.0840]), 'bal_list': array([1.00000000e+07, 1.02075100e+07, 1.04245640e+07, ...,\n",
      "       4.93617407e+08, 4.93858491e+08, 4.94093643e+08]), 'revenue': 494093643.090087}\n"
     ]
    },
    {
     "name": "stderr",
     "output_type": "stream",
     "text": [
      "100%|██████████| 96/96 [00:28<00:00,  3.34it/s]\n",
      "100%|██████████| 12/12 [00:01<00:00, 11.44it/s]\n",
      "  0%|          | 0/96 [00:00<?, ?it/s]"
     ]
    },
    {
     "name": "stdout",
     "output_type": "stream",
     "text": [
      "Epoch: 0, train_loss: 0.0171002596616745, valid_loss: 0.036968789994716644\n"
     ]
    },
    {
     "name": "stderr",
     "output_type": "stream",
     "text": [
      "100%|██████████| 96/96 [00:28<00:00,  3.32it/s]\n",
      "100%|██████████| 12/12 [00:01<00:00, 11.38it/s]\n",
      "  0%|          | 0/96 [00:00<?, ?it/s]"
     ]
    },
    {
     "name": "stdout",
     "output_type": "stream",
     "text": [
      "Epoch: 1, train_loss: 0.009692220017313957, valid_loss: 0.029629399999976158\n"
     ]
    },
    {
     "name": "stderr",
     "output_type": "stream",
     "text": [
      "100%|██████████| 96/96 [00:31<00:00,  3.09it/s]\n",
      "100%|██████████| 12/12 [00:01<00:00, 11.52it/s]\n",
      "  0%|          | 0/96 [00:00<?, ?it/s]"
     ]
    },
    {
     "name": "stdout",
     "output_type": "stream",
     "text": [
      "Epoch: 2, train_loss: 0.008187100291252136, valid_loss: 0.028117910027503967\n"
     ]
    },
    {
     "name": "stderr",
     "output_type": "stream",
     "text": [
      "100%|██████████| 96/96 [00:28<00:00,  3.33it/s]\n",
      "100%|██████████| 12/12 [00:01<00:00, 11.21it/s]\n",
      "  0%|          | 0/96 [00:00<?, ?it/s]"
     ]
    },
    {
     "name": "stdout",
     "output_type": "stream",
     "text": [
      "Epoch: 3, train_loss: 0.007154779974371195, valid_loss: 0.023494049906730652\n"
     ]
    },
    {
     "name": "stderr",
     "output_type": "stream",
     "text": [
      "100%|██████████| 96/96 [00:28<00:00,  3.34it/s]\n",
      "100%|██████████| 12/12 [00:00<00:00, 12.11it/s]\n",
      "  0%|          | 0/96 [00:00<?, ?it/s]"
     ]
    },
    {
     "name": "stdout",
     "output_type": "stream",
     "text": [
      "decrease in val loss < min_delta, patience count:  1\n",
      "Epoch: 4, train_loss: 0.006329189985990524, valid_loss: 0.027524270117282867\n"
     ]
    },
    {
     "name": "stderr",
     "output_type": "stream",
     "text": [
      "100%|██████████| 96/96 [00:28<00:00,  3.32it/s]\n",
      "100%|██████████| 12/12 [00:01<00:00, 11.81it/s]\n"
     ]
    },
    {
     "name": "stdout",
     "output_type": "stream",
     "text": [
      "Early stopped at Epoch:  5\n"
     ]
    },
    {
     "name": "stderr",
     "output_type": "stream",
     "text": [
      "\r",
      "  0%|          | 0/96 [00:00<?, ?it/s]"
     ]
    },
    {
     "name": "stdout",
     "output_type": "stream",
     "text": [
      "train_time: 181.43383240699768\n",
      "test_loss: tensor(0.0175)\n",
      "revenue: 50.77695861903346\n",
      "{'BATCH_SIZE': 256, 'EPOCHS': 20, 'OPTIMIZER': <class 'torch.optim.rmsprop.RMSprop'>, 'LEARNING_RATE': 0.0001, 'LOSS': MSELoss(), 'EARLY_STOPPING': True, 'PATIENCE': 1, 'MIN_DELTA': 1e-06, 'HIDDEN_DEPTH': 4, 'HIDDEN_SIZES': array([ 64, 128, 256, 512]), 'KERNEL_SIZES': array([9, 7, 5, 3]), 'MAXPOOL': 2, 'FC_DEPTH': 2, 'FC_SIZES': array([512]), 'DROPOUT': 0.2, 'epoch_stopped': 9, 'train_time': 305.21434211730957, 'test_loss': tensor(0.0193), 'mean_train_loss': [0.018772496, 0.009913479, 0.0082563935, 0.0072403722, 0.0066072717, 0.006017184, 0.00562561, 0.005211003, 0.0048177615, 0.0044893976], 'mean_val_loss': [0.039208952, 0.03549262, 0.027075952, 0.026350306, 0.030668154, 0.02486813, 0.02341903, 0.02247487, 0.024290035], 'min_val_loss': 0.02247487, 'predictions': tensor([ 0.0719,  0.1231,  0.1796,  ..., -0.0275,  0.0347,  0.0840]), 'bal_list': array([1.00000000e+07, 1.02075100e+07, 1.04245640e+07, ...,\n",
      "       4.93617407e+08, 4.93858491e+08, 4.94093643e+08]), 'revenue': 494093643.090087}\n"
     ]
    },
    {
     "name": "stderr",
     "output_type": "stream",
     "text": [
      "100%|██████████| 96/96 [00:28<00:00,  3.33it/s]\n",
      "100%|██████████| 12/12 [00:00<00:00, 12.12it/s]\n",
      "  0%|          | 0/96 [00:00<?, ?it/s]"
     ]
    },
    {
     "name": "stdout",
     "output_type": "stream",
     "text": [
      "Epoch: 0, train_loss: 0.01766671985387802, valid_loss: 0.040732838213443756\n"
     ]
    },
    {
     "name": "stderr",
     "output_type": "stream",
     "text": [
      "100%|██████████| 96/96 [00:28<00:00,  3.33it/s]\n",
      "100%|██████████| 12/12 [00:01<00:00, 11.45it/s]\n",
      "  0%|          | 0/96 [00:00<?, ?it/s]"
     ]
    },
    {
     "name": "stdout",
     "output_type": "stream",
     "text": [
      "Epoch: 1, train_loss: 0.009689480066299438, valid_loss: 0.029391009360551834\n"
     ]
    },
    {
     "name": "stderr",
     "output_type": "stream",
     "text": [
      "100%|██████████| 96/96 [00:28<00:00,  3.33it/s]\n",
      "100%|██████████| 12/12 [00:01<00:00, 11.08it/s]\n",
      "  0%|          | 0/96 [00:00<?, ?it/s]"
     ]
    },
    {
     "name": "stdout",
     "output_type": "stream",
     "text": [
      "Epoch: 2, train_loss: 0.008119829930365086, valid_loss: 0.02537119947373867\n"
     ]
    },
    {
     "name": "stderr",
     "output_type": "stream",
     "text": [
      "100%|██████████| 96/96 [00:28<00:00,  3.34it/s]\n",
      "100%|██████████| 12/12 [00:01<00:00, 11.36it/s]\n",
      "  0%|          | 0/96 [00:00<?, ?it/s]"
     ]
    },
    {
     "name": "stdout",
     "output_type": "stream",
     "text": [
      "decrease in val loss < min_delta, patience count:  1\n",
      "Epoch: 3, train_loss: 0.007055030204355717, valid_loss: 0.026879869401454926\n"
     ]
    },
    {
     "name": "stderr",
     "output_type": "stream",
     "text": [
      "100%|██████████| 96/96 [00:29<00:00,  3.31it/s]\n",
      "100%|██████████| 12/12 [00:01<00:00, 11.33it/s]\n",
      "  0%|          | 0/96 [00:00<?, ?it/s]"
     ]
    },
    {
     "name": "stdout",
     "output_type": "stream",
     "text": [
      "Epoch: 4, train_loss: 0.006481490097939968, valid_loss: 0.02368169091641903\n"
     ]
    },
    {
     "name": "stderr",
     "output_type": "stream",
     "text": [
      "100%|██████████| 96/96 [00:28<00:00,  3.32it/s]\n",
      "100%|██████████| 12/12 [00:01<00:00, 11.34it/s]\n",
      "  0%|          | 0/96 [00:00<?, ?it/s]"
     ]
    },
    {
     "name": "stdout",
     "output_type": "stream",
     "text": [
      "decrease in val loss < min_delta, patience count:  1\n",
      "Epoch: 5, train_loss: 0.005898130126297474, valid_loss: 0.027922149747610092\n"
     ]
    },
    {
     "name": "stderr",
     "output_type": "stream",
     "text": [
      "100%|██████████| 96/96 [00:28<00:00,  3.35it/s]\n",
      "100%|██████████| 12/12 [00:01<00:00, 11.18it/s]\n"
     ]
    },
    {
     "name": "stdout",
     "output_type": "stream",
     "text": [
      "Early stopped at Epoch:  6\n"
     ]
    },
    {
     "name": "stderr",
     "output_type": "stream",
     "text": [
      "\r",
      "  0%|          | 0/96 [00:00<?, ?it/s]"
     ]
    },
    {
     "name": "stdout",
     "output_type": "stream",
     "text": [
      "train_time: 209.29288387298584\n",
      "test_loss: tensor(0.0191)\n",
      "revenue: 49.97245935658346\n",
      "{'BATCH_SIZE': 256, 'EPOCHS': 20, 'OPTIMIZER': <class 'torch.optim.rmsprop.RMSprop'>, 'LEARNING_RATE': 0.0001, 'LOSS': MSELoss(), 'EARLY_STOPPING': True, 'PATIENCE': 1, 'MIN_DELTA': 1e-06, 'HIDDEN_DEPTH': 4, 'HIDDEN_SIZES': array([ 64, 128, 256, 512]), 'KERNEL_SIZES': array([9, 7, 5, 3]), 'MAXPOOL': 2, 'FC_DEPTH': 2, 'FC_SIZES': array([512]), 'DROPOUT': 0.2, 'epoch_stopped': 9, 'train_time': 305.21434211730957, 'test_loss': tensor(0.0193), 'mean_train_loss': [0.018772496, 0.009913479, 0.0082563935, 0.0072403722, 0.0066072717, 0.006017184, 0.00562561, 0.005211003, 0.0048177615, 0.0044893976], 'mean_val_loss': [0.039208952, 0.03549262, 0.027075952, 0.026350306, 0.030668154, 0.02486813, 0.02341903, 0.02247487, 0.024290035], 'min_val_loss': 0.02247487, 'predictions': tensor([ 0.0719,  0.1231,  0.1796,  ..., -0.0275,  0.0347,  0.0840]), 'bal_list': array([1.00000000e+07, 1.02075100e+07, 1.04245640e+07, ...,\n",
      "       4.93617407e+08, 4.93858491e+08, 4.94093643e+08]), 'revenue': 494093643.090087}\n"
     ]
    },
    {
     "name": "stderr",
     "output_type": "stream",
     "text": [
      "100%|██████████| 96/96 [00:28<00:00,  3.34it/s]\n",
      "100%|██████████| 12/12 [00:01<00:00, 10.97it/s]\n",
      "  0%|          | 0/96 [00:00<?, ?it/s]"
     ]
    },
    {
     "name": "stdout",
     "output_type": "stream",
     "text": [
      "Epoch: 0, train_loss: 0.0176493301987648, valid_loss: 0.036662839353084564\n"
     ]
    },
    {
     "name": "stderr",
     "output_type": "stream",
     "text": [
      "100%|██████████| 96/96 [00:28<00:00,  3.34it/s]\n",
      "100%|██████████| 12/12 [00:01<00:00, 11.65it/s]\n",
      "  0%|          | 0/96 [00:00<?, ?it/s]"
     ]
    },
    {
     "name": "stdout",
     "output_type": "stream",
     "text": [
      "Epoch: 1, train_loss: 0.00979635026305914, valid_loss: 0.031071489676833153\n"
     ]
    },
    {
     "name": "stderr",
     "output_type": "stream",
     "text": [
      "100%|██████████| 96/96 [00:28<00:00,  3.32it/s]\n",
      "100%|██████████| 12/12 [00:01<00:00, 11.54it/s]\n",
      "  0%|          | 0/96 [00:00<?, ?it/s]"
     ]
    },
    {
     "name": "stdout",
     "output_type": "stream",
     "text": [
      "Epoch: 2, train_loss: 0.008346240036189556, valid_loss: 0.028065629303455353\n"
     ]
    },
    {
     "name": "stderr",
     "output_type": "stream",
     "text": [
      "100%|██████████| 96/96 [00:28<00:00,  3.34it/s]\n",
      "100%|██████████| 12/12 [00:01<00:00, 11.74it/s]\n",
      "  0%|          | 0/96 [00:00<?, ?it/s]"
     ]
    },
    {
     "name": "stdout",
     "output_type": "stream",
     "text": [
      "decrease in val loss < min_delta, patience count:  1\n",
      "Epoch: 3, train_loss: 0.007407740224152803, valid_loss: 0.032785918563604355\n"
     ]
    },
    {
     "name": "stderr",
     "output_type": "stream",
     "text": [
      "100%|██████████| 96/96 [00:28<00:00,  3.34it/s]\n",
      "100%|██████████| 12/12 [00:01<00:00, 11.53it/s]\n",
      "  0%|          | 0/96 [00:00<?, ?it/s]"
     ]
    },
    {
     "name": "stdout",
     "output_type": "stream",
     "text": [
      "Epoch: 4, train_loss: 0.006650980096310377, valid_loss: 0.023916570469737053\n"
     ]
    },
    {
     "name": "stderr",
     "output_type": "stream",
     "text": [
      "100%|██████████| 96/96 [00:28<00:00,  3.32it/s]\n",
      "100%|██████████| 12/12 [00:01<00:00, 10.31it/s]\n",
      "  0%|          | 0/96 [00:00<?, ?it/s]"
     ]
    },
    {
     "name": "stdout",
     "output_type": "stream",
     "text": [
      "Epoch: 5, train_loss: 0.006078680045902729, valid_loss: 0.02179477922618389\n"
     ]
    },
    {
     "name": "stderr",
     "output_type": "stream",
     "text": [
      "100%|██████████| 96/96 [00:29<00:00,  3.30it/s]\n",
      "100%|██████████| 12/12 [00:01<00:00, 11.28it/s]\n",
      "  0%|          | 0/96 [00:00<?, ?it/s]"
     ]
    },
    {
     "name": "stdout",
     "output_type": "stream",
     "text": [
      "Epoch: 6, train_loss: 0.005592850036919117, valid_loss: 0.021601170301437378\n"
     ]
    },
    {
     "name": "stderr",
     "output_type": "stream",
     "text": [
      "100%|██████████| 96/96 [00:28<00:00,  3.33it/s]\n",
      "100%|██████████| 12/12 [00:00<00:00, 12.21it/s]\n",
      "  0%|          | 0/96 [00:00<?, ?it/s]"
     ]
    },
    {
     "name": "stdout",
     "output_type": "stream",
     "text": [
      "decrease in val loss < min_delta, patience count:  1\n",
      "Epoch: 7, train_loss: 0.005172370001673698, valid_loss: 0.026772430166602135\n"
     ]
    },
    {
     "name": "stderr",
     "output_type": "stream",
     "text": [
      "100%|██████████| 96/96 [00:28<00:00,  3.31it/s]\n",
      "100%|██████████| 12/12 [00:01<00:00, 11.26it/s]\n"
     ]
    },
    {
     "name": "stdout",
     "output_type": "stream",
     "text": [
      "Early stopped at Epoch:  8\n",
      "train_time: 269.35896277427673\n",
      "test_loss: tensor(0.0185)\n",
      "revenue: 48.906367217656694\n",
      "expt7_nooffarms\n"
     ]
    },
    {
     "name": "stderr",
     "output_type": "stream",
     "text": [
      "\r",
      "  0%|          | 0/96 [00:00<?, ?it/s]"
     ]
    },
    {
     "name": "stdout",
     "output_type": "stream",
     "text": [
      "{'BATCH_SIZE': 256, 'EPOCHS': 20, 'OPTIMIZER': <class 'torch.optim.rmsprop.RMSprop'>, 'LEARNING_RATE': 0.0001, 'LOSS': MSELoss(), 'EARLY_STOPPING': True, 'PATIENCE': 1, 'MIN_DELTA': 1e-06, 'HIDDEN_DEPTH': 4, 'HIDDEN_SIZES': array([ 64, 128, 256, 512]), 'KERNEL_SIZES': array([9, 7, 5, 3]), 'MAXPOOL': 2, 'FC_DEPTH': 2, 'FC_SIZES': array([512]), 'DROPOUT': 0.2, 'epoch_stopped': 8, 'train_time': 269.35896277427673, 'test_loss': tensor(0.0185), 'mean_train_loss': [0.017649328, 0.009796347, 0.008346237, 0.0074077435, 0.006650982, 0.0060786805, 0.0055928514, 0.0051723695, 0.004912464], 'mean_val_loss': [0.036662843, 0.031071492, 0.028065631, 0.032785915, 0.023916572, 0.02179478, 0.02160117, 0.026772432], 'min_val_loss': 0.02160117, 'predictions': tensor([ 0.1215,  0.1712,  0.2083,  ..., -0.0033,  0.0446,  0.0931]), 'bal_list': array([1.00000000e+07, 1.02493211e+07, 1.05082228e+07, ...,\n",
      "       4.88557778e+08, 4.88819869e+08, 4.89063672e+08]), 'revenue': 489063672.17656696}\n"
     ]
    },
    {
     "name": "stderr",
     "output_type": "stream",
     "text": [
      "100%|██████████| 96/96 [00:28<00:00,  3.34it/s]\n",
      "100%|██████████| 12/12 [00:01<00:00, 11.97it/s]\n",
      "  0%|          | 0/96 [00:00<?, ?it/s]"
     ]
    },
    {
     "name": "stdout",
     "output_type": "stream",
     "text": [
      "Epoch: 0, train_loss: 0.01777425967156887, valid_loss: 0.049529921263456345\n"
     ]
    },
    {
     "name": "stderr",
     "output_type": "stream",
     "text": [
      "100%|██████████| 96/96 [00:28<00:00,  3.32it/s]\n",
      "100%|██████████| 12/12 [00:01<00:00, 11.83it/s]\n",
      "  0%|          | 0/96 [00:00<?, ?it/s]"
     ]
    },
    {
     "name": "stdout",
     "output_type": "stream",
     "text": [
      "Epoch: 1, train_loss: 0.009830789640545845, valid_loss: 0.03003240004181862\n"
     ]
    },
    {
     "name": "stderr",
     "output_type": "stream",
     "text": [
      "100%|██████████| 96/96 [00:28<00:00,  3.34it/s]\n",
      "100%|██████████| 12/12 [00:01<00:00, 11.40it/s]\n",
      "  0%|          | 0/96 [00:00<?, ?it/s]"
     ]
    },
    {
     "name": "stdout",
     "output_type": "stream",
     "text": [
      "Epoch: 2, train_loss: 0.008375519886612892, valid_loss: 0.0272684209048748\n"
     ]
    },
    {
     "name": "stderr",
     "output_type": "stream",
     "text": [
      "100%|██████████| 96/96 [00:28<00:00,  3.34it/s]\n",
      "100%|██████████| 12/12 [00:01<00:00, 11.86it/s]\n",
      "  0%|          | 0/96 [00:00<?, ?it/s]"
     ]
    },
    {
     "name": "stdout",
     "output_type": "stream",
     "text": [
      "Epoch: 3, train_loss: 0.007411720231175423, valid_loss: 0.025065269321203232\n"
     ]
    },
    {
     "name": "stderr",
     "output_type": "stream",
     "text": [
      "100%|██████████| 96/96 [00:29<00:00,  3.31it/s]\n",
      "100%|██████████| 12/12 [00:01<00:00, 10.37it/s]\n",
      "  0%|          | 0/96 [00:00<?, ?it/s]"
     ]
    },
    {
     "name": "stdout",
     "output_type": "stream",
     "text": [
      "decrease in val loss < min_delta, patience count:  1\n",
      "Epoch: 4, train_loss: 0.006577520165592432, valid_loss: 0.02834022045135498\n"
     ]
    },
    {
     "name": "stderr",
     "output_type": "stream",
     "text": [
      "100%|██████████| 96/96 [00:28<00:00,  3.34it/s]\n",
      "100%|██████████| 12/12 [00:01<00:00, 11.81it/s]\n"
     ]
    },
    {
     "name": "stdout",
     "output_type": "stream",
     "text": [
      "Early stopped at Epoch:  5\n"
     ]
    },
    {
     "name": "stderr",
     "output_type": "stream",
     "text": [
      "\r",
      "  0%|          | 0/96 [00:00<?, ?it/s]"
     ]
    },
    {
     "name": "stdout",
     "output_type": "stream",
     "text": [
      "train_time: 179.15742254257202\n",
      "test_loss: tensor(0.0210)\n",
      "revenue: 49.28346467161922\n",
      "{'BATCH_SIZE': 256, 'EPOCHS': 20, 'OPTIMIZER': <class 'torch.optim.rmsprop.RMSprop'>, 'LEARNING_RATE': 0.0001, 'LOSS': MSELoss(), 'EARLY_STOPPING': True, 'PATIENCE': 1, 'MIN_DELTA': 1e-06, 'HIDDEN_DEPTH': 4, 'HIDDEN_SIZES': array([ 64, 128, 256, 512]), 'KERNEL_SIZES': array([9, 7, 5, 3]), 'MAXPOOL': 2, 'FC_DEPTH': 2, 'FC_SIZES': array([512]), 'DROPOUT': 0.2, 'epoch_stopped': 8, 'train_time': 269.35896277427673, 'test_loss': tensor(0.0185), 'mean_train_loss': [0.017649328, 0.009796347, 0.008346237, 0.0074077435, 0.006650982, 0.0060786805, 0.0055928514, 0.0051723695, 0.004912464], 'mean_val_loss': [0.036662843, 0.031071492, 0.028065631, 0.032785915, 0.023916572, 0.02179478, 0.02160117, 0.026772432], 'min_val_loss': 0.02160117, 'predictions': tensor([ 0.1215,  0.1712,  0.2083,  ..., -0.0033,  0.0446,  0.0931]), 'bal_list': array([1.00000000e+07, 1.02493211e+07, 1.05082228e+07, ...,\n",
      "       4.88557778e+08, 4.88819869e+08, 4.89063672e+08]), 'revenue': 489063672.17656696}\n"
     ]
    },
    {
     "name": "stderr",
     "output_type": "stream",
     "text": [
      "100%|██████████| 96/96 [00:29<00:00,  3.31it/s]\n",
      "100%|██████████| 12/12 [00:01<00:00, 10.33it/s]\n",
      "  0%|          | 0/96 [00:00<?, ?it/s]"
     ]
    },
    {
     "name": "stdout",
     "output_type": "stream",
     "text": [
      "Epoch: 0, train_loss: 0.019284669309854507, valid_loss: 0.039251379668712616\n"
     ]
    },
    {
     "name": "stderr",
     "output_type": "stream",
     "text": [
      "100%|██████████| 96/96 [00:29<00:00,  3.29it/s]\n",
      "100%|██████████| 12/12 [00:01<00:00, 11.72it/s]\n",
      "  0%|          | 0/96 [00:00<?, ?it/s]"
     ]
    },
    {
     "name": "stdout",
     "output_type": "stream",
     "text": [
      "Epoch: 1, train_loss: 0.00988778006285429, valid_loss: 0.027682019397616386\n"
     ]
    },
    {
     "name": "stderr",
     "output_type": "stream",
     "text": [
      "100%|██████████| 96/96 [00:28<00:00,  3.34it/s]\n",
      "100%|██████████| 12/12 [00:01<00:00, 11.46it/s]\n",
      "  0%|          | 0/96 [00:00<?, ?it/s]"
     ]
    },
    {
     "name": "stdout",
     "output_type": "stream",
     "text": [
      "Epoch: 2, train_loss: 0.008406559936702251, valid_loss: 0.025759270414710045\n"
     ]
    },
    {
     "name": "stderr",
     "output_type": "stream",
     "text": [
      "100%|██████████| 96/96 [00:28<00:00,  3.32it/s]\n",
      "100%|██████████| 12/12 [00:01<00:00, 11.42it/s]\n",
      "  0%|          | 0/96 [00:00<?, ?it/s]"
     ]
    },
    {
     "name": "stdout",
     "output_type": "stream",
     "text": [
      "Epoch: 3, train_loss: 0.007319380063563585, valid_loss: 0.022686200216412544\n"
     ]
    },
    {
     "name": "stderr",
     "output_type": "stream",
     "text": [
      "100%|██████████| 96/96 [00:28<00:00,  3.34it/s]\n",
      "100%|██████████| 12/12 [00:01<00:00, 11.75it/s]\n",
      "  0%|          | 0/96 [00:00<?, ?it/s]"
     ]
    },
    {
     "name": "stdout",
     "output_type": "stream",
     "text": [
      "Epoch: 4, train_loss: 0.006645109970122576, valid_loss: 0.022295020520687103\n"
     ]
    },
    {
     "name": "stderr",
     "output_type": "stream",
     "text": [
      "100%|██████████| 96/96 [00:28<00:00,  3.33it/s]\n",
      "100%|██████████| 12/12 [00:00<00:00, 12.15it/s]\n",
      "  0%|          | 0/96 [00:00<?, ?it/s]"
     ]
    },
    {
     "name": "stdout",
     "output_type": "stream",
     "text": [
      "Epoch: 5, train_loss: 0.006065929774194956, valid_loss: 0.021296849474310875\n"
     ]
    },
    {
     "name": "stderr",
     "output_type": "stream",
     "text": [
      "100%|██████████| 96/96 [00:28<00:00,  3.35it/s]\n",
      "100%|██████████| 12/12 [00:01<00:00, 11.51it/s]\n",
      "  0%|          | 0/96 [00:00<?, ?it/s]"
     ]
    },
    {
     "name": "stdout",
     "output_type": "stream",
     "text": [
      "decrease in val loss < min_delta, patience count:  1\n",
      "Epoch: 6, train_loss: 0.005535299889743328, valid_loss: 0.025370659306645393\n"
     ]
    },
    {
     "name": "stderr",
     "output_type": "stream",
     "text": [
      "100%|██████████| 96/96 [00:28<00:00,  3.31it/s]\n",
      "100%|██████████| 12/12 [00:00<00:00, 12.13it/s]\n"
     ]
    },
    {
     "name": "stdout",
     "output_type": "stream",
     "text": [
      "Early stopped at Epoch:  7\n"
     ]
    },
    {
     "name": "stderr",
     "output_type": "stream",
     "text": [
      "\r",
      "  0%|          | 0/96 [00:00<?, ?it/s]"
     ]
    },
    {
     "name": "stdout",
     "output_type": "stream",
     "text": [
      "train_time: 239.5315465927124\n",
      "test_loss: tensor(0.0170)\n",
      "revenue: 50.22841631302937\n",
      "{'BATCH_SIZE': 256, 'EPOCHS': 20, 'OPTIMIZER': <class 'torch.optim.rmsprop.RMSprop'>, 'LEARNING_RATE': 0.0001, 'LOSS': MSELoss(), 'EARLY_STOPPING': True, 'PATIENCE': 1, 'MIN_DELTA': 1e-06, 'HIDDEN_DEPTH': 4, 'HIDDEN_SIZES': array([ 64, 128, 256, 512]), 'KERNEL_SIZES': array([9, 7, 5, 3]), 'MAXPOOL': 2, 'FC_DEPTH': 2, 'FC_SIZES': array([512]), 'DROPOUT': 0.2, 'epoch_stopped': 8, 'train_time': 269.35896277427673, 'test_loss': tensor(0.0185), 'mean_train_loss': [0.017649328, 0.009796347, 0.008346237, 0.0074077435, 0.006650982, 0.0060786805, 0.0055928514, 0.0051723695, 0.004912464], 'mean_val_loss': [0.036662843, 0.031071492, 0.028065631, 0.032785915, 0.023916572, 0.02179478, 0.02160117, 0.026772432], 'min_val_loss': 0.02160117, 'predictions': tensor([ 0.1215,  0.1712,  0.2083,  ..., -0.0033,  0.0446,  0.0931]), 'bal_list': array([1.00000000e+07, 1.02493211e+07, 1.05082228e+07, ...,\n",
      "       4.88557778e+08, 4.88819869e+08, 4.89063672e+08]), 'revenue': 489063672.17656696}\n"
     ]
    },
    {
     "name": "stderr",
     "output_type": "stream",
     "text": [
      "100%|██████████| 96/96 [00:28<00:00,  3.35it/s]\n",
      "100%|██████████| 12/12 [00:01<00:00, 11.59it/s]\n",
      "  0%|          | 0/96 [00:00<?, ?it/s]"
     ]
    },
    {
     "name": "stdout",
     "output_type": "stream",
     "text": [
      "Epoch: 0, train_loss: 0.01964673027396202, valid_loss: 0.041750818490982056\n"
     ]
    },
    {
     "name": "stderr",
     "output_type": "stream",
     "text": [
      "100%|██████████| 96/96 [00:28<00:00,  3.34it/s]\n",
      "100%|██████████| 12/12 [00:01<00:00, 11.58it/s]\n",
      "  0%|          | 0/96 [00:00<?, ?it/s]"
     ]
    },
    {
     "name": "stdout",
     "output_type": "stream",
     "text": [
      "Epoch: 1, train_loss: 0.009830200113356113, valid_loss: 0.030920419842004776\n"
     ]
    },
    {
     "name": "stderr",
     "output_type": "stream",
     "text": [
      "100%|██████████| 96/96 [00:28<00:00,  3.34it/s]\n",
      "100%|██████████| 12/12 [00:01<00:00, 11.14it/s]\n",
      "  0%|          | 0/96 [00:00<?, ?it/s]"
     ]
    },
    {
     "name": "stdout",
     "output_type": "stream",
     "text": [
      "Epoch: 2, train_loss: 0.008208589628338814, valid_loss: 0.02431005984544754\n"
     ]
    },
    {
     "name": "stderr",
     "output_type": "stream",
     "text": [
      "100%|██████████| 96/96 [00:28<00:00,  3.33it/s]\n",
      "100%|██████████| 12/12 [00:01<00:00, 11.56it/s]\n",
      "  0%|          | 0/96 [00:00<?, ?it/s]"
     ]
    },
    {
     "name": "stdout",
     "output_type": "stream",
     "text": [
      "decrease in val loss < min_delta, patience count:  1\n",
      "Epoch: 3, train_loss: 0.007235260214656591, valid_loss: 0.03157084062695503\n"
     ]
    },
    {
     "name": "stderr",
     "output_type": "stream",
     "text": [
      "100%|██████████| 96/96 [00:28<00:00,  3.34it/s]\n",
      "100%|██████████| 12/12 [00:00<00:00, 12.04it/s]\n"
     ]
    },
    {
     "name": "stdout",
     "output_type": "stream",
     "text": [
      "Early stopped at Epoch:  4\n",
      "train_time: 149.02990627288818\n",
      "test_loss: tensor(0.0272)\n",
      "revenue: 46.000502919293496\n",
      "expt8_is_high_wind_season\n"
     ]
    },
    {
     "name": "stderr",
     "output_type": "stream",
     "text": [
      "\r",
      "  0%|          | 0/96 [00:00<?, ?it/s]"
     ]
    },
    {
     "name": "stdout",
     "output_type": "stream",
     "text": [
      "{'BATCH_SIZE': 256, 'EPOCHS': 20, 'OPTIMIZER': <class 'torch.optim.rmsprop.RMSprop'>, 'LEARNING_RATE': 0.0001, 'LOSS': MSELoss(), 'EARLY_STOPPING': True, 'PATIENCE': 1, 'MIN_DELTA': 1e-06, 'HIDDEN_DEPTH': 4, 'HIDDEN_SIZES': array([ 64, 128, 256, 512]), 'KERNEL_SIZES': array([9, 7, 5, 3]), 'MAXPOOL': 2, 'FC_DEPTH': 2, 'FC_SIZES': array([512]), 'DROPOUT': 0.2, 'epoch_stopped': 4, 'train_time': 149.02990627288818, 'test_loss': tensor(0.0272), 'mean_train_loss': [0.01964673, 0.009830197, 0.008208588, 0.007235264, 0.0064822845], 'mean_val_loss': [0.041750822, 0.030920422, 0.024310062, 0.03157084], 'min_val_loss': 0.024310062, 'predictions': tensor([ 0.1419,  0.1744,  0.2325,  ..., -0.1899, -0.1209, -0.0343]), 'bal_list': array([1.00000000e+07, 1.02315325e+07, 1.04932561e+07, ...,\n",
      "       4.59805413e+08, 4.59905239e+08, 4.60005029e+08]), 'revenue': 460005029.19293493}\n"
     ]
    },
    {
     "name": "stderr",
     "output_type": "stream",
     "text": [
      "100%|██████████| 96/96 [00:28<00:00,  3.35it/s]\n",
      "100%|██████████| 12/12 [00:01<00:00, 11.33it/s]\n",
      "  0%|          | 0/96 [00:00<?, ?it/s]"
     ]
    },
    {
     "name": "stdout",
     "output_type": "stream",
     "text": [
      "Epoch: 0, train_loss: 0.018304040655493736, valid_loss: 0.03704624995589256\n"
     ]
    },
    {
     "name": "stderr",
     "output_type": "stream",
     "text": [
      "100%|██████████| 96/96 [00:28<00:00,  3.33it/s]\n",
      "100%|██████████| 12/12 [00:01<00:00, 10.52it/s]\n",
      "  0%|          | 0/96 [00:00<?, ?it/s]"
     ]
    },
    {
     "name": "stdout",
     "output_type": "stream",
     "text": [
      "Epoch: 1, train_loss: 0.009708819910883904, valid_loss: 0.030420050024986267\n"
     ]
    },
    {
     "name": "stderr",
     "output_type": "stream",
     "text": [
      "100%|██████████| 96/96 [00:28<00:00,  3.34it/s]\n",
      "100%|██████████| 12/12 [00:01<00:00, 11.42it/s]\n",
      "  0%|          | 0/96 [00:00<?, ?it/s]"
     ]
    },
    {
     "name": "stdout",
     "output_type": "stream",
     "text": [
      "Epoch: 2, train_loss: 0.008074089884757996, valid_loss: 0.02628220058977604\n"
     ]
    },
    {
     "name": "stderr",
     "output_type": "stream",
     "text": [
      "100%|██████████| 96/96 [00:28<00:00,  3.35it/s]\n",
      "100%|██████████| 12/12 [00:01<00:00, 11.40it/s]\n",
      "  0%|          | 0/96 [00:00<?, ?it/s]"
     ]
    },
    {
     "name": "stdout",
     "output_type": "stream",
     "text": [
      "decrease in val loss < min_delta, patience count:  1\n",
      "Epoch: 3, train_loss: 0.007039379794150591, valid_loss: 0.03156331181526184\n"
     ]
    },
    {
     "name": "stderr",
     "output_type": "stream",
     "text": [
      "100%|██████████| 96/96 [00:28<00:00,  3.33it/s]\n",
      "100%|██████████| 12/12 [00:01<00:00, 11.20it/s]\n"
     ]
    },
    {
     "name": "stdout",
     "output_type": "stream",
     "text": [
      "Early stopped at Epoch:  4\n"
     ]
    },
    {
     "name": "stderr",
     "output_type": "stream",
     "text": [
      "\r",
      "  0%|          | 0/96 [00:00<?, ?it/s]"
     ]
    },
    {
     "name": "stdout",
     "output_type": "stream",
     "text": [
      "train_time: 149.11423516273499\n",
      "test_loss: tensor(0.0215)\n",
      "revenue: 48.360196628508156\n",
      "{'BATCH_SIZE': 256, 'EPOCHS': 20, 'OPTIMIZER': <class 'torch.optim.rmsprop.RMSprop'>, 'LEARNING_RATE': 0.0001, 'LOSS': MSELoss(), 'EARLY_STOPPING': True, 'PATIENCE': 1, 'MIN_DELTA': 1e-06, 'HIDDEN_DEPTH': 4, 'HIDDEN_SIZES': array([ 64, 128, 256, 512]), 'KERNEL_SIZES': array([9, 7, 5, 3]), 'MAXPOOL': 2, 'FC_DEPTH': 2, 'FC_SIZES': array([512]), 'DROPOUT': 0.2, 'epoch_stopped': 4, 'train_time': 149.02990627288818, 'test_loss': tensor(0.0272), 'mean_train_loss': [0.01964673, 0.009830197, 0.008208588, 0.007235264, 0.0064822845], 'mean_val_loss': [0.041750822, 0.030920422, 0.024310062, 0.03157084], 'min_val_loss': 0.024310062, 'predictions': tensor([ 0.1419,  0.1744,  0.2325,  ..., -0.1899, -0.1209, -0.0343]), 'bal_list': array([1.00000000e+07, 1.02315325e+07, 1.04932561e+07, ...,\n",
      "       4.59805413e+08, 4.59905239e+08, 4.60005029e+08]), 'revenue': 460005029.19293493}\n"
     ]
    },
    {
     "name": "stderr",
     "output_type": "stream",
     "text": [
      "100%|██████████| 96/96 [00:28<00:00,  3.33it/s]\n",
      "100%|██████████| 12/12 [00:00<00:00, 12.09it/s]\n",
      "  0%|          | 0/96 [00:00<?, ?it/s]"
     ]
    },
    {
     "name": "stdout",
     "output_type": "stream",
     "text": [
      "Epoch: 0, train_loss: 0.018023820593953133, valid_loss: 0.03915948048233986\n"
     ]
    },
    {
     "name": "stderr",
     "output_type": "stream",
     "text": [
      "100%|██████████| 96/96 [00:28<00:00,  3.34it/s]\n",
      "100%|██████████| 12/12 [00:01<00:00, 11.84it/s]\n",
      "  0%|          | 0/96 [00:00<?, ?it/s]"
     ]
    },
    {
     "name": "stdout",
     "output_type": "stream",
     "text": [
      "Epoch: 1, train_loss: 0.009576819837093353, valid_loss: 0.030889609828591347\n"
     ]
    },
    {
     "name": "stderr",
     "output_type": "stream",
     "text": [
      "100%|██████████| 96/96 [00:28<00:00,  3.33it/s]\n",
      "100%|██████████| 12/12 [00:01<00:00, 11.80it/s]\n",
      "  0%|          | 0/96 [00:00<?, ?it/s]"
     ]
    },
    {
     "name": "stdout",
     "output_type": "stream",
     "text": [
      "Epoch: 2, train_loss: 0.008317709900438786, valid_loss: 0.027133120223879814\n"
     ]
    },
    {
     "name": "stderr",
     "output_type": "stream",
     "text": [
      "100%|██████████| 96/96 [00:28<00:00,  3.35it/s]\n",
      "100%|██████████| 12/12 [00:01<00:00, 11.05it/s]\n",
      "  0%|          | 0/96 [00:00<?, ?it/s]"
     ]
    },
    {
     "name": "stdout",
     "output_type": "stream",
     "text": [
      "Epoch: 3, train_loss: 0.007281640078872442, valid_loss: 0.02384958043694496\n"
     ]
    },
    {
     "name": "stderr",
     "output_type": "stream",
     "text": [
      "100%|██████████| 96/96 [00:28<00:00,  3.33it/s]\n",
      "100%|██████████| 12/12 [00:01<00:00, 10.71it/s]\n",
      "  0%|          | 0/96 [00:00<?, ?it/s]"
     ]
    },
    {
     "name": "stdout",
     "output_type": "stream",
     "text": [
      "decrease in val loss < min_delta, patience count:  1\n",
      "Epoch: 4, train_loss: 0.006565039977431297, valid_loss: 0.025825150310993195\n"
     ]
    },
    {
     "name": "stderr",
     "output_type": "stream",
     "text": [
      "100%|██████████| 96/96 [00:28<00:00,  3.36it/s]\n",
      "100%|██████████| 12/12 [00:01<00:00, 11.49it/s]\n",
      "  0%|          | 0/96 [00:00<?, ?it/s]"
     ]
    },
    {
     "name": "stdout",
     "output_type": "stream",
     "text": [
      "Epoch: 5, train_loss: 0.00609915005043149, valid_loss: 0.023188909515738487\n"
     ]
    },
    {
     "name": "stderr",
     "output_type": "stream",
     "text": [
      "100%|██████████| 96/96 [00:29<00:00,  3.23it/s]\n",
      "100%|██████████| 12/12 [00:01<00:00, 11.22it/s]\n",
      "  0%|          | 0/96 [00:00<?, ?it/s]"
     ]
    },
    {
     "name": "stdout",
     "output_type": "stream",
     "text": [
      "decrease in val loss < min_delta, patience count:  1\n",
      "Epoch: 6, train_loss: 0.005619190167635679, valid_loss: 0.02538640983402729\n"
     ]
    },
    {
     "name": "stderr",
     "output_type": "stream",
     "text": [
      "100%|██████████| 96/96 [00:28<00:00,  3.35it/s]\n",
      "100%|██████████| 12/12 [00:01<00:00, 11.96it/s]\n",
      "  0%|          | 0/96 [00:00<?, ?it/s]"
     ]
    },
    {
     "name": "stdout",
     "output_type": "stream",
     "text": [
      "Epoch: 7, train_loss: 0.005146679934114218, valid_loss: 0.022288259118795395\n"
     ]
    },
    {
     "name": "stderr",
     "output_type": "stream",
     "text": [
      "100%|██████████| 96/96 [00:28<00:00,  3.34it/s]\n",
      "100%|██████████| 12/12 [00:01<00:00, 11.17it/s]\n",
      "  0%|          | 0/96 [00:00<?, ?it/s]"
     ]
    },
    {
     "name": "stdout",
     "output_type": "stream",
     "text": [
      "decrease in val loss < min_delta, patience count:  1\n",
      "Epoch: 8, train_loss: 0.0048253801651299, valid_loss: 0.026454860344529152\n"
     ]
    },
    {
     "name": "stderr",
     "output_type": "stream",
     "text": [
      "100%|██████████| 96/96 [00:28<00:00,  3.33it/s]\n",
      "100%|██████████| 12/12 [00:00<00:00, 12.29it/s]\n"
     ]
    },
    {
     "name": "stdout",
     "output_type": "stream",
     "text": [
      "Early stopped at Epoch:  9\n"
     ]
    },
    {
     "name": "stderr",
     "output_type": "stream",
     "text": [
      "\r",
      "  0%|          | 0/96 [00:00<?, ?it/s]"
     ]
    },
    {
     "name": "stdout",
     "output_type": "stream",
     "text": [
      "train_time: 299.0677282810211\n",
      "test_loss: tensor(0.0194)\n",
      "revenue: 50.16309910026753\n",
      "{'BATCH_SIZE': 256, 'EPOCHS': 20, 'OPTIMIZER': <class 'torch.optim.rmsprop.RMSprop'>, 'LEARNING_RATE': 0.0001, 'LOSS': MSELoss(), 'EARLY_STOPPING': True, 'PATIENCE': 1, 'MIN_DELTA': 1e-06, 'HIDDEN_DEPTH': 4, 'HIDDEN_SIZES': array([ 64, 128, 256, 512]), 'KERNEL_SIZES': array([9, 7, 5, 3]), 'MAXPOOL': 2, 'FC_DEPTH': 2, 'FC_SIZES': array([512]), 'DROPOUT': 0.2, 'epoch_stopped': 4, 'train_time': 149.02990627288818, 'test_loss': tensor(0.0272), 'mean_train_loss': [0.01964673, 0.009830197, 0.008208588, 0.007235264, 0.0064822845], 'mean_val_loss': [0.041750822, 0.030920422, 0.024310062, 0.03157084], 'min_val_loss': 0.024310062, 'predictions': tensor([ 0.1419,  0.1744,  0.2325,  ..., -0.1899, -0.1209, -0.0343]), 'bal_list': array([1.00000000e+07, 1.02315325e+07, 1.04932561e+07, ...,\n",
      "       4.59805413e+08, 4.59905239e+08, 4.60005029e+08]), 'revenue': 460005029.19293493}\n"
     ]
    },
    {
     "name": "stderr",
     "output_type": "stream",
     "text": [
      "100%|██████████| 96/96 [00:28<00:00,  3.34it/s]\n",
      "100%|██████████| 12/12 [00:01<00:00, 11.48it/s]\n",
      "  0%|          | 0/96 [00:00<?, ?it/s]"
     ]
    },
    {
     "name": "stdout",
     "output_type": "stream",
     "text": [
      "Epoch: 0, train_loss: 0.018795089796185493, valid_loss: 0.03569326177239418\n"
     ]
    },
    {
     "name": "stderr",
     "output_type": "stream",
     "text": [
      "100%|██████████| 96/96 [00:29<00:00,  3.20it/s]\n",
      "100%|██████████| 12/12 [00:01<00:00,  9.93it/s]\n",
      "  0%|          | 0/96 [00:00<?, ?it/s]"
     ]
    },
    {
     "name": "stdout",
     "output_type": "stream",
     "text": [
      "Epoch: 1, train_loss: 0.00991745013743639, valid_loss: 0.028094859793782234\n"
     ]
    },
    {
     "name": "stderr",
     "output_type": "stream",
     "text": [
      "100%|██████████| 96/96 [00:30<00:00,  3.20it/s]\n",
      "100%|██████████| 12/12 [00:01<00:00, 11.99it/s]\n",
      "  0%|          | 0/96 [00:00<?, ?it/s]"
     ]
    },
    {
     "name": "stdout",
     "output_type": "stream",
     "text": [
      "decrease in val loss < min_delta, patience count:  1\n",
      "Epoch: 2, train_loss: 0.008420860394835472, valid_loss: 0.032686591148376465\n"
     ]
    },
    {
     "name": "stderr",
     "output_type": "stream",
     "text": [
      "100%|██████████| 96/96 [00:28<00:00,  3.34it/s]\n",
      "100%|██████████| 12/12 [00:00<00:00, 12.08it/s]\n"
     ]
    },
    {
     "name": "stdout",
     "output_type": "stream",
     "text": [
      "Early stopped at Epoch:  3\n",
      "train_time: 121.85761380195618\n",
      "test_loss: tensor(0.0238)\n",
      "revenue: 47.06437756386375\n",
      "expt9\n"
     ]
    },
    {
     "name": "stderr",
     "output_type": "stream",
     "text": [
      "\r",
      "  0%|          | 0/96 [00:00<?, ?it/s]"
     ]
    },
    {
     "name": "stdout",
     "output_type": "stream",
     "text": [
      "{'BATCH_SIZE': 256, 'EPOCHS': 20, 'OPTIMIZER': <class 'torch.optim.rmsprop.RMSprop'>, 'LEARNING_RATE': 0.0001, 'LOSS': MSELoss(), 'EARLY_STOPPING': True, 'PATIENCE': 1, 'MIN_DELTA': 1e-06, 'HIDDEN_DEPTH': 4, 'HIDDEN_SIZES': array([ 64, 128, 256, 512]), 'KERNEL_SIZES': array([9, 7, 5, 3]), 'MAXPOOL': 2, 'FC_DEPTH': 2, 'FC_SIZES': array([512]), 'DROPOUT': 0.2, 'epoch_stopped': 3, 'train_time': 121.85761380195618, 'test_loss': tensor(0.0238), 'mean_train_loss': [0.01879509, 0.00991745, 0.008420863, 0.0074523813], 'mean_val_loss': [0.03569326, 0.02809486, 0.03268659], 'min_val_loss': 0.02809486, 'predictions': tensor([ 0.1618,  0.2222,  0.2891,  ..., -0.0512,  0.0063,  0.0449]), 'bal_list': array([1.00000000e+07, 1.02142292e+07, 1.05175223e+07, ...,\n",
      "       4.70212856e+08, 4.70433332e+08, 4.70643776e+08]), 'revenue': 470643775.6386375}\n"
     ]
    },
    {
     "name": "stderr",
     "output_type": "stream",
     "text": [
      "100%|██████████| 96/96 [00:28<00:00,  3.34it/s]\n",
      "100%|██████████| 12/12 [00:01<00:00, 11.41it/s]\n",
      "  0%|          | 0/96 [00:00<?, ?it/s]"
     ]
    },
    {
     "name": "stdout",
     "output_type": "stream",
     "text": [
      "Epoch: 0, train_loss: 0.018761979416012764, valid_loss: 0.03699588030576706\n"
     ]
    },
    {
     "name": "stderr",
     "output_type": "stream",
     "text": [
      "100%|██████████| 96/96 [00:28<00:00,  3.34it/s]\n",
      "100%|██████████| 12/12 [00:01<00:00, 11.92it/s]\n",
      "  0%|          | 0/96 [00:00<?, ?it/s]"
     ]
    },
    {
     "name": "stdout",
     "output_type": "stream",
     "text": [
      "Epoch: 1, train_loss: 0.009666659869253635, valid_loss: 0.03029990941286087\n"
     ]
    },
    {
     "name": "stderr",
     "output_type": "stream",
     "text": [
      "100%|██████████| 96/96 [00:28<00:00,  3.32it/s]\n",
      "100%|██████████| 12/12 [00:01<00:00, 12.00it/s]\n",
      "  0%|          | 0/96 [00:00<?, ?it/s]"
     ]
    },
    {
     "name": "stdout",
     "output_type": "stream",
     "text": [
      "Epoch: 2, train_loss: 0.00831575971096754, valid_loss: 0.027839399874210358\n"
     ]
    },
    {
     "name": "stderr",
     "output_type": "stream",
     "text": [
      "100%|██████████| 96/96 [00:28<00:00,  3.32it/s]\n",
      "100%|██████████| 12/12 [00:01<00:00, 11.63it/s]\n",
      "  0%|          | 0/96 [00:00<?, ?it/s]"
     ]
    },
    {
     "name": "stdout",
     "output_type": "stream",
     "text": [
      "Epoch: 3, train_loss: 0.007276429794728756, valid_loss: 0.026731889694929123\n"
     ]
    },
    {
     "name": "stderr",
     "output_type": "stream",
     "text": [
      "100%|██████████| 96/96 [00:28<00:00,  3.33it/s]\n",
      "100%|██████████| 12/12 [00:01<00:00, 11.83it/s]\n",
      "  0%|          | 0/96 [00:00<?, ?it/s]"
     ]
    },
    {
     "name": "stdout",
     "output_type": "stream",
     "text": [
      "Epoch: 4, train_loss: 0.0066560301929712296, valid_loss: 0.023355990648269653\n"
     ]
    },
    {
     "name": "stderr",
     "output_type": "stream",
     "text": [
      "100%|██████████| 96/96 [00:28<00:00,  3.31it/s]\n",
      "100%|██████████| 12/12 [00:01<00:00, 11.86it/s]\n",
      "  0%|          | 0/96 [00:00<?, ?it/s]"
     ]
    },
    {
     "name": "stdout",
     "output_type": "stream",
     "text": [
      "decrease in val loss < min_delta, patience count:  1\n",
      "Epoch: 5, train_loss: 0.006101740058511496, valid_loss: 0.023657990619540215\n"
     ]
    },
    {
     "name": "stderr",
     "output_type": "stream",
     "text": [
      "100%|██████████| 96/96 [00:28<00:00,  3.32it/s]\n",
      "100%|██████████| 12/12 [00:01<00:00, 11.61it/s]\n"
     ]
    },
    {
     "name": "stdout",
     "output_type": "stream",
     "text": [
      "Early stopped at Epoch:  6\n"
     ]
    },
    {
     "name": "stderr",
     "output_type": "stream",
     "text": [
      "\r",
      "  0%|          | 0/96 [00:00<?, ?it/s]"
     ]
    },
    {
     "name": "stdout",
     "output_type": "stream",
     "text": [
      "train_time: 209.30646204948425\n",
      "test_loss: tensor(0.0214)\n",
      "revenue: 48.550139932740024\n",
      "{'BATCH_SIZE': 256, 'EPOCHS': 20, 'OPTIMIZER': <class 'torch.optim.rmsprop.RMSprop'>, 'LEARNING_RATE': 0.0001, 'LOSS': MSELoss(), 'EARLY_STOPPING': True, 'PATIENCE': 1, 'MIN_DELTA': 1e-06, 'HIDDEN_DEPTH': 4, 'HIDDEN_SIZES': array([ 64, 128, 256, 512]), 'KERNEL_SIZES': array([9, 7, 5, 3]), 'MAXPOOL': 2, 'FC_DEPTH': 2, 'FC_SIZES': array([512]), 'DROPOUT': 0.2, 'epoch_stopped': 3, 'train_time': 121.85761380195618, 'test_loss': tensor(0.0238), 'mean_train_loss': [0.01879509, 0.00991745, 0.008420863, 0.0074523813], 'mean_val_loss': [0.03569326, 0.02809486, 0.03268659], 'min_val_loss': 0.02809486, 'predictions': tensor([ 0.1618,  0.2222,  0.2891,  ..., -0.0512,  0.0063,  0.0449]), 'bal_list': array([1.00000000e+07, 1.02142292e+07, 1.05175223e+07, ...,\n",
      "       4.70212856e+08, 4.70433332e+08, 4.70643776e+08]), 'revenue': 470643775.6386375}\n"
     ]
    },
    {
     "name": "stderr",
     "output_type": "stream",
     "text": [
      "100%|██████████| 96/96 [00:28<00:00,  3.33it/s]\n",
      "100%|██████████| 12/12 [00:00<00:00, 12.20it/s]\n",
      "  0%|          | 0/96 [00:00<?, ?it/s]"
     ]
    },
    {
     "name": "stdout",
     "output_type": "stream",
     "text": [
      "Epoch: 0, train_loss: 0.0190077293664217, valid_loss: 0.04088154062628746\n"
     ]
    },
    {
     "name": "stderr",
     "output_type": "stream",
     "text": [
      "100%|██████████| 96/96 [00:29<00:00,  3.30it/s]\n",
      "100%|██████████| 12/12 [00:01<00:00, 11.92it/s]\n",
      "  0%|          | 0/96 [00:00<?, ?it/s]"
     ]
    },
    {
     "name": "stdout",
     "output_type": "stream",
     "text": [
      "Epoch: 1, train_loss: 0.01006690040230751, valid_loss: 0.033318739384412766\n"
     ]
    },
    {
     "name": "stderr",
     "output_type": "stream",
     "text": [
      "100%|██████████| 96/96 [00:28<00:00,  3.33it/s]\n",
      "100%|██████████| 12/12 [00:01<00:00, 11.49it/s]\n",
      "  0%|          | 0/96 [00:00<?, ?it/s]"
     ]
    },
    {
     "name": "stdout",
     "output_type": "stream",
     "text": [
      "Epoch: 2, train_loss: 0.008231209591031075, valid_loss: 0.024981709197163582\n"
     ]
    },
    {
     "name": "stderr",
     "output_type": "stream",
     "text": [
      "100%|██████████| 96/96 [00:28<00:00,  3.31it/s]\n",
      "100%|██████████| 12/12 [00:01<00:00, 11.61it/s]\n",
      "  0%|          | 0/96 [00:00<?, ?it/s]"
     ]
    },
    {
     "name": "stdout",
     "output_type": "stream",
     "text": [
      "decrease in val loss < min_delta, patience count:  1\n",
      "Epoch: 3, train_loss: 0.007345370016992092, valid_loss: 0.0465371198952198\n"
     ]
    },
    {
     "name": "stderr",
     "output_type": "stream",
     "text": [
      "100%|██████████| 96/96 [00:28<00:00,  3.34it/s]\n",
      "100%|██████████| 12/12 [00:01<00:00, 11.36it/s]\n",
      "  0%|          | 0/96 [00:00<?, ?it/s]"
     ]
    },
    {
     "name": "stdout",
     "output_type": "stream",
     "text": [
      "Epoch: 4, train_loss: 0.006652189884334803, valid_loss: 0.023780839517712593\n"
     ]
    },
    {
     "name": "stderr",
     "output_type": "stream",
     "text": [
      "100%|██████████| 96/96 [00:28<00:00,  3.34it/s]\n",
      "100%|██████████| 12/12 [00:01<00:00, 11.42it/s]\n",
      "  0%|          | 0/96 [00:00<?, ?it/s]"
     ]
    },
    {
     "name": "stdout",
     "output_type": "stream",
     "text": [
      "Epoch: 5, train_loss: 0.0059952400624752045, valid_loss: 0.021218959242105484\n"
     ]
    },
    {
     "name": "stderr",
     "output_type": "stream",
     "text": [
      "100%|██████████| 96/96 [00:28<00:00,  3.35it/s]\n",
      "100%|██████████| 12/12 [00:01<00:00, 11.56it/s]\n",
      "  0%|          | 0/96 [00:00<?, ?it/s]"
     ]
    },
    {
     "name": "stdout",
     "output_type": "stream",
     "text": [
      "decrease in val loss < min_delta, patience count:  1\n",
      "Epoch: 6, train_loss: 0.005529659800231457, valid_loss: 0.022794049233198166\n"
     ]
    },
    {
     "name": "stderr",
     "output_type": "stream",
     "text": [
      "100%|██████████| 96/96 [00:28<00:00,  3.31it/s]\n",
      "100%|██████████| 12/12 [00:01<00:00, 11.36it/s]\n"
     ]
    },
    {
     "name": "stdout",
     "output_type": "stream",
     "text": [
      "Early stopped at Epoch:  7\n"
     ]
    },
    {
     "name": "stderr",
     "output_type": "stream",
     "text": [
      "\r",
      "  0%|          | 0/96 [00:00<?, ?it/s]"
     ]
    },
    {
     "name": "stdout",
     "output_type": "stream",
     "text": [
      "train_time: 239.30364751815796\n",
      "test_loss: tensor(0.0168)\n",
      "revenue: 51.55282887767583\n",
      "{'BATCH_SIZE': 256, 'EPOCHS': 20, 'OPTIMIZER': <class 'torch.optim.rmsprop.RMSprop'>, 'LEARNING_RATE': 0.0001, 'LOSS': MSELoss(), 'EARLY_STOPPING': True, 'PATIENCE': 1, 'MIN_DELTA': 1e-06, 'HIDDEN_DEPTH': 4, 'HIDDEN_SIZES': array([ 64, 128, 256, 512]), 'KERNEL_SIZES': array([9, 7, 5, 3]), 'MAXPOOL': 2, 'FC_DEPTH': 2, 'FC_SIZES': array([512]), 'DROPOUT': 0.2, 'epoch_stopped': 3, 'train_time': 121.85761380195618, 'test_loss': tensor(0.0238), 'mean_train_loss': [0.01879509, 0.00991745, 0.008420863, 0.0074523813], 'mean_val_loss': [0.03569326, 0.02809486, 0.03268659], 'min_val_loss': 0.02809486, 'predictions': tensor([ 0.1618,  0.2222,  0.2891,  ..., -0.0512,  0.0063,  0.0449]), 'bal_list': array([1.00000000e+07, 1.02142292e+07, 1.05175223e+07, ...,\n",
      "       4.70212856e+08, 4.70433332e+08, 4.70643776e+08]), 'revenue': 470643775.6386375}\n"
     ]
    },
    {
     "name": "stderr",
     "output_type": "stream",
     "text": [
      "100%|██████████| 96/96 [00:28<00:00,  3.34it/s]\n",
      "100%|██████████| 12/12 [00:01<00:00, 11.42it/s]\n",
      "  0%|          | 0/96 [00:00<?, ?it/s]"
     ]
    },
    {
     "name": "stdout",
     "output_type": "stream",
     "text": [
      "Epoch: 0, train_loss: 0.017814159393310547, valid_loss: 0.047099750488996506\n"
     ]
    },
    {
     "name": "stderr",
     "output_type": "stream",
     "text": [
      "100%|██████████| 96/96 [00:28<00:00,  3.33it/s]\n",
      "100%|██████████| 12/12 [00:01<00:00, 11.88it/s]\n",
      "  0%|          | 0/96 [00:00<?, ?it/s]"
     ]
    },
    {
     "name": "stdout",
     "output_type": "stream",
     "text": [
      "Epoch: 1, train_loss: 0.009768189862370491, valid_loss: 0.03429558873176575\n"
     ]
    },
    {
     "name": "stderr",
     "output_type": "stream",
     "text": [
      "100%|██████████| 96/96 [00:28<00:00,  3.35it/s]\n",
      "100%|██████████| 12/12 [00:01<00:00, 11.62it/s]\n",
      "  0%|          | 0/96 [00:00<?, ?it/s]"
     ]
    },
    {
     "name": "stdout",
     "output_type": "stream",
     "text": [
      "Epoch: 2, train_loss: 0.008334250189363956, valid_loss: 0.030506210401654243\n"
     ]
    },
    {
     "name": "stderr",
     "output_type": "stream",
     "text": [
      "100%|██████████| 96/96 [00:29<00:00,  3.31it/s]\n",
      "100%|██████████| 12/12 [00:01<00:00, 11.46it/s]\n",
      "  0%|          | 0/96 [00:00<?, ?it/s]"
     ]
    },
    {
     "name": "stdout",
     "output_type": "stream",
     "text": [
      "Epoch: 3, train_loss: 0.007341740187257528, valid_loss: 0.026395929977297783\n"
     ]
    },
    {
     "name": "stderr",
     "output_type": "stream",
     "text": [
      "100%|██████████| 96/96 [00:28<00:00,  3.34it/s]\n",
      "100%|██████████| 12/12 [00:00<00:00, 12.00it/s]\n",
      "  0%|          | 0/96 [00:00<?, ?it/s]"
     ]
    },
    {
     "name": "stdout",
     "output_type": "stream",
     "text": [
      "decrease in val loss < min_delta, patience count:  1\n",
      "Epoch: 4, train_loss: 0.006591340061277151, valid_loss: 0.033042341470718384\n"
     ]
    },
    {
     "name": "stderr",
     "output_type": "stream",
     "text": [
      "100%|██████████| 96/96 [00:28<00:00,  3.34it/s]\n",
      "100%|██████████| 12/12 [00:01<00:00, 11.64it/s]\n",
      "  0%|          | 0/96 [00:00<?, ?it/s]"
     ]
    },
    {
     "name": "stdout",
     "output_type": "stream",
     "text": [
      "Epoch: 5, train_loss: 0.006065810099244118, valid_loss: 0.02434089034795761\n"
     ]
    },
    {
     "name": "stderr",
     "output_type": "stream",
     "text": [
      "100%|██████████| 96/96 [00:28<00:00,  3.34it/s]\n",
      "100%|██████████| 12/12 [00:01<00:00, 11.72it/s]\n",
      "  0%|          | 0/96 [00:00<?, ?it/s]"
     ]
    },
    {
     "name": "stdout",
     "output_type": "stream",
     "text": [
      "decrease in val loss < min_delta, patience count:  1\n",
      "Epoch: 6, train_loss: 0.005628690123558044, valid_loss: 0.026495009660720825\n"
     ]
    },
    {
     "name": "stderr",
     "output_type": "stream",
     "text": [
      "100%|██████████| 96/96 [00:28<00:00,  3.31it/s]\n",
      "100%|██████████| 12/12 [00:01<00:00, 11.79it/s]\n"
     ]
    },
    {
     "name": "stdout",
     "output_type": "stream",
     "text": [
      "Early stopped at Epoch:  7\n",
      "train_time: 238.8753879070282\n",
      "test_loss: tensor(0.0194)\n",
      "revenue: 49.944505012548994\n"
     ]
    }
   ],
   "source": [
    "for pkl in CSV_NAMES: # PKL_NAMES \n",
    "    PKL_NAME = pkl[:-4]\n",
    "    print(PKL_NAME)\n",
    "    train, val, test = torch.load('data/tensors/'+ PKL_NAME + '.pkl')\n",
    "    persistence = torch.load('data/tensors/'+ PKL_NAME + '_persistence.pkl')\n",
    "    \n",
    "    torch.nn.MSELoss()(persistence, test[1])\n",
    "    \n",
    "    if FIX: \n",
    "        param_samples = [copy.deepcopy(fixed_params[0]) for _ in range(N)]        \n",
    "    else: \n",
    "        params = ParamSamples(OrderedDict(params_dict))\n",
    "        param_samples = params.SampleAll(N)\n",
    "\n",
    "    stats = []\n",
    "    for i in np.arange(N): \n",
    "        print(param_samples[i])\n",
    "        run = TrainTest(CNN_1D, (train, val, test), param_samples[i], class_size=1)\n",
    "        run.train()\n",
    "        run.test()\n",
    "        stats.append(run.stats)\n",
    "    \n",
    "        for i in np.arange(N):\n",
    "            for key,val in stats[i].items():\n",
    "                param_samples[i][key] = val\n",
    "\n",
    "        torch.save(param_samples, 'results/CNN1D_experiment_N'+str(N)+'_'+PKL_NAME+'.pkl')"
   ]
  },
  {
   "cell_type": "code",
   "execution_count": 49,
   "metadata": {},
   "outputs": [
    {
     "data": {
      "application/javascript": [
       "/* Put everything inside the global mpl namespace */\n",
       "window.mpl = {};\n",
       "\n",
       "\n",
       "mpl.get_websocket_type = function() {\n",
       "    if (typeof(WebSocket) !== 'undefined') {\n",
       "        return WebSocket;\n",
       "    } else if (typeof(MozWebSocket) !== 'undefined') {\n",
       "        return MozWebSocket;\n",
       "    } else {\n",
       "        alert('Your browser does not have WebSocket support. ' +\n",
       "              'Please try Chrome, Safari or Firefox ≥ 6. ' +\n",
       "              'Firefox 4 and 5 are also supported but you ' +\n",
       "              'have to enable WebSockets in about:config.');\n",
       "    };\n",
       "}\n",
       "\n",
       "mpl.figure = function(figure_id, websocket, ondownload, parent_element) {\n",
       "    this.id = figure_id;\n",
       "\n",
       "    this.ws = websocket;\n",
       "\n",
       "    this.supports_binary = (this.ws.binaryType != undefined);\n",
       "\n",
       "    if (!this.supports_binary) {\n",
       "        var warnings = document.getElementById(\"mpl-warnings\");\n",
       "        if (warnings) {\n",
       "            warnings.style.display = 'block';\n",
       "            warnings.textContent = (\n",
       "                \"This browser does not support binary websocket messages. \" +\n",
       "                    \"Performance may be slow.\");\n",
       "        }\n",
       "    }\n",
       "\n",
       "    this.imageObj = new Image();\n",
       "\n",
       "    this.context = undefined;\n",
       "    this.message = undefined;\n",
       "    this.canvas = undefined;\n",
       "    this.rubberband_canvas = undefined;\n",
       "    this.rubberband_context = undefined;\n",
       "    this.format_dropdown = undefined;\n",
       "\n",
       "    this.image_mode = 'full';\n",
       "\n",
       "    this.root = $('<div/>');\n",
       "    this._root_extra_style(this.root)\n",
       "    this.root.attr('style', 'display: inline-block');\n",
       "\n",
       "    $(parent_element).append(this.root);\n",
       "\n",
       "    this._init_header(this);\n",
       "    this._init_canvas(this);\n",
       "    this._init_toolbar(this);\n",
       "\n",
       "    var fig = this;\n",
       "\n",
       "    this.waiting = false;\n",
       "\n",
       "    this.ws.onopen =  function () {\n",
       "            fig.send_message(\"supports_binary\", {value: fig.supports_binary});\n",
       "            fig.send_message(\"send_image_mode\", {});\n",
       "            if (mpl.ratio != 1) {\n",
       "                fig.send_message(\"set_dpi_ratio\", {'dpi_ratio': mpl.ratio});\n",
       "            }\n",
       "            fig.send_message(\"refresh\", {});\n",
       "        }\n",
       "\n",
       "    this.imageObj.onload = function() {\n",
       "            if (fig.image_mode == 'full') {\n",
       "                // Full images could contain transparency (where diff images\n",
       "                // almost always do), so we need to clear the canvas so that\n",
       "                // there is no ghosting.\n",
       "                fig.context.clearRect(0, 0, fig.canvas.width, fig.canvas.height);\n",
       "            }\n",
       "            fig.context.drawImage(fig.imageObj, 0, 0);\n",
       "        };\n",
       "\n",
       "    this.imageObj.onunload = function() {\n",
       "        fig.ws.close();\n",
       "    }\n",
       "\n",
       "    this.ws.onmessage = this._make_on_message_function(this);\n",
       "\n",
       "    this.ondownload = ondownload;\n",
       "}\n",
       "\n",
       "mpl.figure.prototype._init_header = function() {\n",
       "    var titlebar = $(\n",
       "        '<div class=\"ui-dialog-titlebar ui-widget-header ui-corner-all ' +\n",
       "        'ui-helper-clearfix\"/>');\n",
       "    var titletext = $(\n",
       "        '<div class=\"ui-dialog-title\" style=\"width: 100%; ' +\n",
       "        'text-align: center; padding: 3px;\"/>');\n",
       "    titlebar.append(titletext)\n",
       "    this.root.append(titlebar);\n",
       "    this.header = titletext[0];\n",
       "}\n",
       "\n",
       "\n",
       "\n",
       "mpl.figure.prototype._canvas_extra_style = function(canvas_div) {\n",
       "\n",
       "}\n",
       "\n",
       "\n",
       "mpl.figure.prototype._root_extra_style = function(canvas_div) {\n",
       "\n",
       "}\n",
       "\n",
       "mpl.figure.prototype._init_canvas = function() {\n",
       "    var fig = this;\n",
       "\n",
       "    var canvas_div = $('<div/>');\n",
       "\n",
       "    canvas_div.attr('style', 'position: relative; clear: both; outline: 0');\n",
       "\n",
       "    function canvas_keyboard_event(event) {\n",
       "        return fig.key_event(event, event['data']);\n",
       "    }\n",
       "\n",
       "    canvas_div.keydown('key_press', canvas_keyboard_event);\n",
       "    canvas_div.keyup('key_release', canvas_keyboard_event);\n",
       "    this.canvas_div = canvas_div\n",
       "    this._canvas_extra_style(canvas_div)\n",
       "    this.root.append(canvas_div);\n",
       "\n",
       "    var canvas = $('<canvas/>');\n",
       "    canvas.addClass('mpl-canvas');\n",
       "    canvas.attr('style', \"left: 0; top: 0; z-index: 0; outline: 0\")\n",
       "\n",
       "    this.canvas = canvas[0];\n",
       "    this.context = canvas[0].getContext(\"2d\");\n",
       "\n",
       "    var backingStore = this.context.backingStorePixelRatio ||\n",
       "\tthis.context.webkitBackingStorePixelRatio ||\n",
       "\tthis.context.mozBackingStorePixelRatio ||\n",
       "\tthis.context.msBackingStorePixelRatio ||\n",
       "\tthis.context.oBackingStorePixelRatio ||\n",
       "\tthis.context.backingStorePixelRatio || 1;\n",
       "\n",
       "    mpl.ratio = (window.devicePixelRatio || 1) / backingStore;\n",
       "\n",
       "    var rubberband = $('<canvas/>');\n",
       "    rubberband.attr('style', \"position: absolute; left: 0; top: 0; z-index: 1;\")\n",
       "\n",
       "    var pass_mouse_events = true;\n",
       "\n",
       "    canvas_div.resizable({\n",
       "        start: function(event, ui) {\n",
       "            pass_mouse_events = false;\n",
       "        },\n",
       "        resize: function(event, ui) {\n",
       "            fig.request_resize(ui.size.width, ui.size.height);\n",
       "        },\n",
       "        stop: function(event, ui) {\n",
       "            pass_mouse_events = true;\n",
       "            fig.request_resize(ui.size.width, ui.size.height);\n",
       "        },\n",
       "    });\n",
       "\n",
       "    function mouse_event_fn(event) {\n",
       "        if (pass_mouse_events)\n",
       "            return fig.mouse_event(event, event['data']);\n",
       "    }\n",
       "\n",
       "    rubberband.mousedown('button_press', mouse_event_fn);\n",
       "    rubberband.mouseup('button_release', mouse_event_fn);\n",
       "    // Throttle sequential mouse events to 1 every 20ms.\n",
       "    rubberband.mousemove('motion_notify', mouse_event_fn);\n",
       "\n",
       "    rubberband.mouseenter('figure_enter', mouse_event_fn);\n",
       "    rubberband.mouseleave('figure_leave', mouse_event_fn);\n",
       "\n",
       "    canvas_div.on(\"wheel\", function (event) {\n",
       "        event = event.originalEvent;\n",
       "        event['data'] = 'scroll'\n",
       "        if (event.deltaY < 0) {\n",
       "            event.step = 1;\n",
       "        } else {\n",
       "            event.step = -1;\n",
       "        }\n",
       "        mouse_event_fn(event);\n",
       "    });\n",
       "\n",
       "    canvas_div.append(canvas);\n",
       "    canvas_div.append(rubberband);\n",
       "\n",
       "    this.rubberband = rubberband;\n",
       "    this.rubberband_canvas = rubberband[0];\n",
       "    this.rubberband_context = rubberband[0].getContext(\"2d\");\n",
       "    this.rubberband_context.strokeStyle = \"#000000\";\n",
       "\n",
       "    this._resize_canvas = function(width, height) {\n",
       "        // Keep the size of the canvas, canvas container, and rubber band\n",
       "        // canvas in synch.\n",
       "        canvas_div.css('width', width)\n",
       "        canvas_div.css('height', height)\n",
       "\n",
       "        canvas.attr('width', width * mpl.ratio);\n",
       "        canvas.attr('height', height * mpl.ratio);\n",
       "        canvas.attr('style', 'width: ' + width + 'px; height: ' + height + 'px;');\n",
       "\n",
       "        rubberband.attr('width', width);\n",
       "        rubberband.attr('height', height);\n",
       "    }\n",
       "\n",
       "    // Set the figure to an initial 600x600px, this will subsequently be updated\n",
       "    // upon first draw.\n",
       "    this._resize_canvas(600, 600);\n",
       "\n",
       "    // Disable right mouse context menu.\n",
       "    $(this.rubberband_canvas).bind(\"contextmenu\",function(e){\n",
       "        return false;\n",
       "    });\n",
       "\n",
       "    function set_focus () {\n",
       "        canvas.focus();\n",
       "        canvas_div.focus();\n",
       "    }\n",
       "\n",
       "    window.setTimeout(set_focus, 100);\n",
       "}\n",
       "\n",
       "mpl.figure.prototype._init_toolbar = function() {\n",
       "    var fig = this;\n",
       "\n",
       "    var nav_element = $('<div/>');\n",
       "    nav_element.attr('style', 'width: 100%');\n",
       "    this.root.append(nav_element);\n",
       "\n",
       "    // Define a callback function for later on.\n",
       "    function toolbar_event(event) {\n",
       "        return fig.toolbar_button_onclick(event['data']);\n",
       "    }\n",
       "    function toolbar_mouse_event(event) {\n",
       "        return fig.toolbar_button_onmouseover(event['data']);\n",
       "    }\n",
       "\n",
       "    for(var toolbar_ind in mpl.toolbar_items) {\n",
       "        var name = mpl.toolbar_items[toolbar_ind][0];\n",
       "        var tooltip = mpl.toolbar_items[toolbar_ind][1];\n",
       "        var image = mpl.toolbar_items[toolbar_ind][2];\n",
       "        var method_name = mpl.toolbar_items[toolbar_ind][3];\n",
       "\n",
       "        if (!name) {\n",
       "            // put a spacer in here.\n",
       "            continue;\n",
       "        }\n",
       "        var button = $('<button/>');\n",
       "        button.addClass('ui-button ui-widget ui-state-default ui-corner-all ' +\n",
       "                        'ui-button-icon-only');\n",
       "        button.attr('role', 'button');\n",
       "        button.attr('aria-disabled', 'false');\n",
       "        button.click(method_name, toolbar_event);\n",
       "        button.mouseover(tooltip, toolbar_mouse_event);\n",
       "\n",
       "        var icon_img = $('<span/>');\n",
       "        icon_img.addClass('ui-button-icon-primary ui-icon');\n",
       "        icon_img.addClass(image);\n",
       "        icon_img.addClass('ui-corner-all');\n",
       "\n",
       "        var tooltip_span = $('<span/>');\n",
       "        tooltip_span.addClass('ui-button-text');\n",
       "        tooltip_span.html(tooltip);\n",
       "\n",
       "        button.append(icon_img);\n",
       "        button.append(tooltip_span);\n",
       "\n",
       "        nav_element.append(button);\n",
       "    }\n",
       "\n",
       "    var fmt_picker_span = $('<span/>');\n",
       "\n",
       "    var fmt_picker = $('<select/>');\n",
       "    fmt_picker.addClass('mpl-toolbar-option ui-widget ui-widget-content');\n",
       "    fmt_picker_span.append(fmt_picker);\n",
       "    nav_element.append(fmt_picker_span);\n",
       "    this.format_dropdown = fmt_picker[0];\n",
       "\n",
       "    for (var ind in mpl.extensions) {\n",
       "        var fmt = mpl.extensions[ind];\n",
       "        var option = $(\n",
       "            '<option/>', {selected: fmt === mpl.default_extension}).html(fmt);\n",
       "        fmt_picker.append(option);\n",
       "    }\n",
       "\n",
       "    // Add hover states to the ui-buttons\n",
       "    $( \".ui-button\" ).hover(\n",
       "        function() { $(this).addClass(\"ui-state-hover\");},\n",
       "        function() { $(this).removeClass(\"ui-state-hover\");}\n",
       "    );\n",
       "\n",
       "    var status_bar = $('<span class=\"mpl-message\"/>');\n",
       "    nav_element.append(status_bar);\n",
       "    this.message = status_bar[0];\n",
       "}\n",
       "\n",
       "mpl.figure.prototype.request_resize = function(x_pixels, y_pixels) {\n",
       "    // Request matplotlib to resize the figure. Matplotlib will then trigger a resize in the client,\n",
       "    // which will in turn request a refresh of the image.\n",
       "    this.send_message('resize', {'width': x_pixels, 'height': y_pixels});\n",
       "}\n",
       "\n",
       "mpl.figure.prototype.send_message = function(type, properties) {\n",
       "    properties['type'] = type;\n",
       "    properties['figure_id'] = this.id;\n",
       "    this.ws.send(JSON.stringify(properties));\n",
       "}\n",
       "\n",
       "mpl.figure.prototype.send_draw_message = function() {\n",
       "    if (!this.waiting) {\n",
       "        this.waiting = true;\n",
       "        this.ws.send(JSON.stringify({type: \"draw\", figure_id: this.id}));\n",
       "    }\n",
       "}\n",
       "\n",
       "\n",
       "mpl.figure.prototype.handle_save = function(fig, msg) {\n",
       "    var format_dropdown = fig.format_dropdown;\n",
       "    var format = format_dropdown.options[format_dropdown.selectedIndex].value;\n",
       "    fig.ondownload(fig, format);\n",
       "}\n",
       "\n",
       "\n",
       "mpl.figure.prototype.handle_resize = function(fig, msg) {\n",
       "    var size = msg['size'];\n",
       "    if (size[0] != fig.canvas.width || size[1] != fig.canvas.height) {\n",
       "        fig._resize_canvas(size[0], size[1]);\n",
       "        fig.send_message(\"refresh\", {});\n",
       "    };\n",
       "}\n",
       "\n",
       "mpl.figure.prototype.handle_rubberband = function(fig, msg) {\n",
       "    var x0 = msg['x0'] / mpl.ratio;\n",
       "    var y0 = (fig.canvas.height - msg['y0']) / mpl.ratio;\n",
       "    var x1 = msg['x1'] / mpl.ratio;\n",
       "    var y1 = (fig.canvas.height - msg['y1']) / mpl.ratio;\n",
       "    x0 = Math.floor(x0) + 0.5;\n",
       "    y0 = Math.floor(y0) + 0.5;\n",
       "    x1 = Math.floor(x1) + 0.5;\n",
       "    y1 = Math.floor(y1) + 0.5;\n",
       "    var min_x = Math.min(x0, x1);\n",
       "    var min_y = Math.min(y0, y1);\n",
       "    var width = Math.abs(x1 - x0);\n",
       "    var height = Math.abs(y1 - y0);\n",
       "\n",
       "    fig.rubberband_context.clearRect(\n",
       "        0, 0, fig.canvas.width / mpl.ratio, fig.canvas.height / mpl.ratio);\n",
       "\n",
       "    fig.rubberband_context.strokeRect(min_x, min_y, width, height);\n",
       "}\n",
       "\n",
       "mpl.figure.prototype.handle_figure_label = function(fig, msg) {\n",
       "    // Updates the figure title.\n",
       "    fig.header.textContent = msg['label'];\n",
       "}\n",
       "\n",
       "mpl.figure.prototype.handle_cursor = function(fig, msg) {\n",
       "    var cursor = msg['cursor'];\n",
       "    switch(cursor)\n",
       "    {\n",
       "    case 0:\n",
       "        cursor = 'pointer';\n",
       "        break;\n",
       "    case 1:\n",
       "        cursor = 'default';\n",
       "        break;\n",
       "    case 2:\n",
       "        cursor = 'crosshair';\n",
       "        break;\n",
       "    case 3:\n",
       "        cursor = 'move';\n",
       "        break;\n",
       "    }\n",
       "    fig.rubberband_canvas.style.cursor = cursor;\n",
       "}\n",
       "\n",
       "mpl.figure.prototype.handle_message = function(fig, msg) {\n",
       "    fig.message.textContent = msg['message'];\n",
       "}\n",
       "\n",
       "mpl.figure.prototype.handle_draw = function(fig, msg) {\n",
       "    // Request the server to send over a new figure.\n",
       "    fig.send_draw_message();\n",
       "}\n",
       "\n",
       "mpl.figure.prototype.handle_image_mode = function(fig, msg) {\n",
       "    fig.image_mode = msg['mode'];\n",
       "}\n",
       "\n",
       "mpl.figure.prototype.updated_canvas_event = function() {\n",
       "    // Called whenever the canvas gets updated.\n",
       "    this.send_message(\"ack\", {});\n",
       "}\n",
       "\n",
       "// A function to construct a web socket function for onmessage handling.\n",
       "// Called in the figure constructor.\n",
       "mpl.figure.prototype._make_on_message_function = function(fig) {\n",
       "    return function socket_on_message(evt) {\n",
       "        if (evt.data instanceof Blob) {\n",
       "            /* FIXME: We get \"Resource interpreted as Image but\n",
       "             * transferred with MIME type text/plain:\" errors on\n",
       "             * Chrome.  But how to set the MIME type?  It doesn't seem\n",
       "             * to be part of the websocket stream */\n",
       "            evt.data.type = \"image/png\";\n",
       "\n",
       "            /* Free the memory for the previous frames */\n",
       "            if (fig.imageObj.src) {\n",
       "                (window.URL || window.webkitURL).revokeObjectURL(\n",
       "                    fig.imageObj.src);\n",
       "            }\n",
       "\n",
       "            fig.imageObj.src = (window.URL || window.webkitURL).createObjectURL(\n",
       "                evt.data);\n",
       "            fig.updated_canvas_event();\n",
       "            fig.waiting = false;\n",
       "            return;\n",
       "        }\n",
       "        else if (typeof evt.data === 'string' && evt.data.slice(0, 21) == \"data:image/png;base64\") {\n",
       "            fig.imageObj.src = evt.data;\n",
       "            fig.updated_canvas_event();\n",
       "            fig.waiting = false;\n",
       "            return;\n",
       "        }\n",
       "\n",
       "        var msg = JSON.parse(evt.data);\n",
       "        var msg_type = msg['type'];\n",
       "\n",
       "        // Call the  \"handle_{type}\" callback, which takes\n",
       "        // the figure and JSON message as its only arguments.\n",
       "        try {\n",
       "            var callback = fig[\"handle_\" + msg_type];\n",
       "        } catch (e) {\n",
       "            console.log(\"No handler for the '\" + msg_type + \"' message type: \", msg);\n",
       "            return;\n",
       "        }\n",
       "\n",
       "        if (callback) {\n",
       "            try {\n",
       "                // console.log(\"Handling '\" + msg_type + \"' message: \", msg);\n",
       "                callback(fig, msg);\n",
       "            } catch (e) {\n",
       "                console.log(\"Exception inside the 'handler_\" + msg_type + \"' callback:\", e, e.stack, msg);\n",
       "            }\n",
       "        }\n",
       "    };\n",
       "}\n",
       "\n",
       "// from http://stackoverflow.com/questions/1114465/getting-mouse-location-in-canvas\n",
       "mpl.findpos = function(e) {\n",
       "    //this section is from http://www.quirksmode.org/js/events_properties.html\n",
       "    var targ;\n",
       "    if (!e)\n",
       "        e = window.event;\n",
       "    if (e.target)\n",
       "        targ = e.target;\n",
       "    else if (e.srcElement)\n",
       "        targ = e.srcElement;\n",
       "    if (targ.nodeType == 3) // defeat Safari bug\n",
       "        targ = targ.parentNode;\n",
       "\n",
       "    // jQuery normalizes the pageX and pageY\n",
       "    // pageX,Y are the mouse positions relative to the document\n",
       "    // offset() returns the position of the element relative to the document\n",
       "    var x = e.pageX - $(targ).offset().left;\n",
       "    var y = e.pageY - $(targ).offset().top;\n",
       "\n",
       "    return {\"x\": x, \"y\": y};\n",
       "};\n",
       "\n",
       "/*\n",
       " * return a copy of an object with only non-object keys\n",
       " * we need this to avoid circular references\n",
       " * http://stackoverflow.com/a/24161582/3208463\n",
       " */\n",
       "function simpleKeys (original) {\n",
       "  return Object.keys(original).reduce(function (obj, key) {\n",
       "    if (typeof original[key] !== 'object')\n",
       "        obj[key] = original[key]\n",
       "    return obj;\n",
       "  }, {});\n",
       "}\n",
       "\n",
       "mpl.figure.prototype.mouse_event = function(event, name) {\n",
       "    var canvas_pos = mpl.findpos(event)\n",
       "\n",
       "    if (name === 'button_press')\n",
       "    {\n",
       "        this.canvas.focus();\n",
       "        this.canvas_div.focus();\n",
       "    }\n",
       "\n",
       "    var x = canvas_pos.x * mpl.ratio;\n",
       "    var y = canvas_pos.y * mpl.ratio;\n",
       "\n",
       "    this.send_message(name, {x: x, y: y, button: event.button,\n",
       "                             step: event.step,\n",
       "                             guiEvent: simpleKeys(event)});\n",
       "\n",
       "    /* This prevents the web browser from automatically changing to\n",
       "     * the text insertion cursor when the button is pressed.  We want\n",
       "     * to control all of the cursor setting manually through the\n",
       "     * 'cursor' event from matplotlib */\n",
       "    event.preventDefault();\n",
       "    return false;\n",
       "}\n",
       "\n",
       "mpl.figure.prototype._key_event_extra = function(event, name) {\n",
       "    // Handle any extra behaviour associated with a key event\n",
       "}\n",
       "\n",
       "mpl.figure.prototype.key_event = function(event, name) {\n",
       "\n",
       "    // Prevent repeat events\n",
       "    if (name == 'key_press')\n",
       "    {\n",
       "        if (event.which === this._key)\n",
       "            return;\n",
       "        else\n",
       "            this._key = event.which;\n",
       "    }\n",
       "    if (name == 'key_release')\n",
       "        this._key = null;\n",
       "\n",
       "    var value = '';\n",
       "    if (event.ctrlKey && event.which != 17)\n",
       "        value += \"ctrl+\";\n",
       "    if (event.altKey && event.which != 18)\n",
       "        value += \"alt+\";\n",
       "    if (event.shiftKey && event.which != 16)\n",
       "        value += \"shift+\";\n",
       "\n",
       "    value += 'k';\n",
       "    value += event.which.toString();\n",
       "\n",
       "    this._key_event_extra(event, name);\n",
       "\n",
       "    this.send_message(name, {key: value,\n",
       "                             guiEvent: simpleKeys(event)});\n",
       "    return false;\n",
       "}\n",
       "\n",
       "mpl.figure.prototype.toolbar_button_onclick = function(name) {\n",
       "    if (name == 'download') {\n",
       "        this.handle_save(this, null);\n",
       "    } else {\n",
       "        this.send_message(\"toolbar_button\", {name: name});\n",
       "    }\n",
       "};\n",
       "\n",
       "mpl.figure.prototype.toolbar_button_onmouseover = function(tooltip) {\n",
       "    this.message.textContent = tooltip;\n",
       "};\n",
       "mpl.toolbar_items = [[\"Home\", \"Reset original view\", \"fa fa-home icon-home\", \"home\"], [\"Back\", \"Back to previous view\", \"fa fa-arrow-left icon-arrow-left\", \"back\"], [\"Forward\", \"Forward to next view\", \"fa fa-arrow-right icon-arrow-right\", \"forward\"], [\"\", \"\", \"\", \"\"], [\"Pan\", \"Pan axes with left mouse, zoom with right\", \"fa fa-arrows icon-move\", \"pan\"], [\"Zoom\", \"Zoom to rectangle\", \"fa fa-square-o icon-check-empty\", \"zoom\"], [\"\", \"\", \"\", \"\"], [\"Download\", \"Download plot\", \"fa fa-floppy-o icon-save\", \"download\"]];\n",
       "\n",
       "mpl.extensions = [\"eps\", \"jpeg\", \"pdf\", \"png\", \"ps\", \"raw\", \"svg\", \"tif\"];\n",
       "\n",
       "mpl.default_extension = \"png\";var comm_websocket_adapter = function(comm) {\n",
       "    // Create a \"websocket\"-like object which calls the given IPython comm\n",
       "    // object with the appropriate methods. Currently this is a non binary\n",
       "    // socket, so there is still some room for performance tuning.\n",
       "    var ws = {};\n",
       "\n",
       "    ws.close = function() {\n",
       "        comm.close()\n",
       "    };\n",
       "    ws.send = function(m) {\n",
       "        //console.log('sending', m);\n",
       "        comm.send(m);\n",
       "    };\n",
       "    // Register the callback with on_msg.\n",
       "    comm.on_msg(function(msg) {\n",
       "        //console.log('receiving', msg['content']['data'], msg);\n",
       "        // Pass the mpl event to the overridden (by mpl) onmessage function.\n",
       "        ws.onmessage(msg['content']['data'])\n",
       "    });\n",
       "    return ws;\n",
       "}\n",
       "\n",
       "mpl.mpl_figure_comm = function(comm, msg) {\n",
       "    // This is the function which gets called when the mpl process\n",
       "    // starts-up an IPython Comm through the \"matplotlib\" channel.\n",
       "\n",
       "    var id = msg.content.data.id;\n",
       "    // Get hold of the div created by the display call when the Comm\n",
       "    // socket was opened in Python.\n",
       "    var element = $(\"#\" + id);\n",
       "    var ws_proxy = comm_websocket_adapter(comm)\n",
       "\n",
       "    function ondownload(figure, format) {\n",
       "        window.open(figure.imageObj.src);\n",
       "    }\n",
       "\n",
       "    var fig = new mpl.figure(id, ws_proxy,\n",
       "                           ondownload,\n",
       "                           element.get(0));\n",
       "\n",
       "    // Call onopen now - mpl needs it, as it is assuming we've passed it a real\n",
       "    // web socket which is closed, not our websocket->open comm proxy.\n",
       "    ws_proxy.onopen();\n",
       "\n",
       "    fig.parent_element = element.get(0);\n",
       "    fig.cell_info = mpl.find_output_cell(\"<div id='\" + id + \"'></div>\");\n",
       "    if (!fig.cell_info) {\n",
       "        console.error(\"Failed to find cell for figure\", id, fig);\n",
       "        return;\n",
       "    }\n",
       "\n",
       "    var output_index = fig.cell_info[2]\n",
       "    var cell = fig.cell_info[0];\n",
       "\n",
       "};\n",
       "\n",
       "mpl.figure.prototype.handle_close = function(fig, msg) {\n",
       "    var width = fig.canvas.width/mpl.ratio\n",
       "    fig.root.unbind('remove')\n",
       "\n",
       "    // Update the output cell to use the data from the current canvas.\n",
       "    fig.push_to_output();\n",
       "    var dataURL = fig.canvas.toDataURL();\n",
       "    // Re-enable the keyboard manager in IPython - without this line, in FF,\n",
       "    // the notebook keyboard shortcuts fail.\n",
       "    IPython.keyboard_manager.enable()\n",
       "    $(fig.parent_element).html('<img src=\"' + dataURL + '\" width=\"' + width + '\">');\n",
       "    fig.close_ws(fig, msg);\n",
       "}\n",
       "\n",
       "mpl.figure.prototype.close_ws = function(fig, msg){\n",
       "    fig.send_message('closing', msg);\n",
       "    // fig.ws.close()\n",
       "}\n",
       "\n",
       "mpl.figure.prototype.push_to_output = function(remove_interactive) {\n",
       "    // Turn the data on the canvas into data in the output cell.\n",
       "    var width = this.canvas.width/mpl.ratio\n",
       "    var dataURL = this.canvas.toDataURL();\n",
       "    this.cell_info[1]['text/html'] = '<img src=\"' + dataURL + '\" width=\"' + width + '\">';\n",
       "}\n",
       "\n",
       "mpl.figure.prototype.updated_canvas_event = function() {\n",
       "    // Tell IPython that the notebook contents must change.\n",
       "    IPython.notebook.set_dirty(true);\n",
       "    this.send_message(\"ack\", {});\n",
       "    var fig = this;\n",
       "    // Wait a second, then push the new image to the DOM so\n",
       "    // that it is saved nicely (might be nice to debounce this).\n",
       "    setTimeout(function () { fig.push_to_output() }, 1000);\n",
       "}\n",
       "\n",
       "mpl.figure.prototype._init_toolbar = function() {\n",
       "    var fig = this;\n",
       "\n",
       "    var nav_element = $('<div/>');\n",
       "    nav_element.attr('style', 'width: 100%');\n",
       "    this.root.append(nav_element);\n",
       "\n",
       "    // Define a callback function for later on.\n",
       "    function toolbar_event(event) {\n",
       "        return fig.toolbar_button_onclick(event['data']);\n",
       "    }\n",
       "    function toolbar_mouse_event(event) {\n",
       "        return fig.toolbar_button_onmouseover(event['data']);\n",
       "    }\n",
       "\n",
       "    for(var toolbar_ind in mpl.toolbar_items){\n",
       "        var name = mpl.toolbar_items[toolbar_ind][0];\n",
       "        var tooltip = mpl.toolbar_items[toolbar_ind][1];\n",
       "        var image = mpl.toolbar_items[toolbar_ind][2];\n",
       "        var method_name = mpl.toolbar_items[toolbar_ind][3];\n",
       "\n",
       "        if (!name) { continue; };\n",
       "\n",
       "        var button = $('<button class=\"btn btn-default\" href=\"#\" title=\"' + name + '\"><i class=\"fa ' + image + ' fa-lg\"></i></button>');\n",
       "        button.click(method_name, toolbar_event);\n",
       "        button.mouseover(tooltip, toolbar_mouse_event);\n",
       "        nav_element.append(button);\n",
       "    }\n",
       "\n",
       "    // Add the status bar.\n",
       "    var status_bar = $('<span class=\"mpl-message\" style=\"text-align:right; float: right;\"/>');\n",
       "    nav_element.append(status_bar);\n",
       "    this.message = status_bar[0];\n",
       "\n",
       "    // Add the close button to the window.\n",
       "    var buttongrp = $('<div class=\"btn-group inline pull-right\"></div>');\n",
       "    var button = $('<button class=\"btn btn-mini btn-primary\" href=\"#\" title=\"Stop Interaction\"><i class=\"fa fa-power-off icon-remove icon-large\"></i></button>');\n",
       "    button.click(function (evt) { fig.handle_close(fig, {}); } );\n",
       "    button.mouseover('Stop Interaction', toolbar_mouse_event);\n",
       "    buttongrp.append(button);\n",
       "    var titlebar = this.root.find($('.ui-dialog-titlebar'));\n",
       "    titlebar.prepend(buttongrp);\n",
       "}\n",
       "\n",
       "mpl.figure.prototype._root_extra_style = function(el){\n",
       "    var fig = this\n",
       "    el.on(\"remove\", function(){\n",
       "\tfig.close_ws(fig, {});\n",
       "    });\n",
       "}\n",
       "\n",
       "mpl.figure.prototype._canvas_extra_style = function(el){\n",
       "    // this is important to make the div 'focusable\n",
       "    el.attr('tabindex', 0)\n",
       "    // reach out to IPython and tell the keyboard manager to turn it's self\n",
       "    // off when our div gets focus\n",
       "\n",
       "    // location in version 3\n",
       "    if (IPython.notebook.keyboard_manager) {\n",
       "        IPython.notebook.keyboard_manager.register_events(el);\n",
       "    }\n",
       "    else {\n",
       "        // location in version 2\n",
       "        IPython.keyboard_manager.register_events(el);\n",
       "    }\n",
       "\n",
       "}\n",
       "\n",
       "mpl.figure.prototype._key_event_extra = function(event, name) {\n",
       "    var manager = IPython.notebook.keyboard_manager;\n",
       "    if (!manager)\n",
       "        manager = IPython.keyboard_manager;\n",
       "\n",
       "    // Check for shift+enter\n",
       "    if (event.shiftKey && event.which == 13) {\n",
       "        this.canvas_div.blur();\n",
       "        // select the cell after this one\n",
       "        var index = IPython.notebook.find_cell_index(this.cell_info[0]);\n",
       "        IPython.notebook.select(index + 1);\n",
       "    }\n",
       "}\n",
       "\n",
       "mpl.figure.prototype.handle_save = function(fig, msg) {\n",
       "    fig.ondownload(fig, null);\n",
       "}\n",
       "\n",
       "\n",
       "mpl.find_output_cell = function(html_output) {\n",
       "    // Return the cell and output element which can be found *uniquely* in the notebook.\n",
       "    // Note - this is a bit hacky, but it is done because the \"notebook_saving.Notebook\"\n",
       "    // IPython event is triggered only after the cells have been serialised, which for\n",
       "    // our purposes (turning an active figure into a static one), is too late.\n",
       "    var cells = IPython.notebook.get_cells();\n",
       "    var ncells = cells.length;\n",
       "    for (var i=0; i<ncells; i++) {\n",
       "        var cell = cells[i];\n",
       "        if (cell.cell_type === 'code'){\n",
       "            for (var j=0; j<cell.output_area.outputs.length; j++) {\n",
       "                var data = cell.output_area.outputs[j];\n",
       "                if (data.data) {\n",
       "                    // IPython >= 3 moved mimebundle to data attribute of output\n",
       "                    data = data.data;\n",
       "                }\n",
       "                if (data['text/html'] == html_output) {\n",
       "                    return [cell, data, j];\n",
       "                }\n",
       "            }\n",
       "        }\n",
       "    }\n",
       "}\n",
       "\n",
       "// Register the function which deals with the matplotlib target/channel.\n",
       "// The kernel may be null if the page has been refreshed.\n",
       "if (IPython.notebook.kernel != null) {\n",
       "    IPython.notebook.kernel.comm_manager.register_target('matplotlib', mpl.mpl_figure_comm);\n",
       "}\n"
      ],
      "text/plain": [
       "<IPython.core.display.Javascript object>"
      ]
     },
     "metadata": {},
     "output_type": "display_data"
    },
    {
     "data": {
      "text/html": [
       "<img src=\"data:image/png;base64,iVBORw0KGgoAAAANSUhEUgAAAj0AAAGtCAYAAAD9H8XfAAAgAElEQVR4nOzdeXRU9d0/cDht/fW0PqilT62PrQMqonVYBNxAQdwXtKLivlulotaqtRM2kwBhB2XfIeyEPXCzkT0kIZCVkJB9gSRk39fJzNz3748rEwOBm4RJ7sx8369z7jlPJZN8wvM5ft7ee7/fbx8QERERCaCP1gUQERER9QaGHiIiIhICQw8REREJgaGHiIiIhMDQQ0REREJg6CEiIiIhMPQQERGREBh6iIiISAgMPURERCQEhh4iIiISAkMPERERCYGhh4iIiITA0ENERERCYOghIiIiITD0EBERkRAYeoiIiEgIDD1EREQkBIYeIiIiEgJDDxEREQmBoYeIiIiEwNBDREREQmDoISIiIiEw9BAREZEQGHqIiIhICAw9REREJASGHiIiIhICQw8REREJgaGHiIiIhMDQQ0REREJg6CEiIiIhMPQQERGREBh6iIiISAgMPURERCQEhh4iIiISAkMPERERCYGhh4iIiITA0ENERERCYOjphBUrVmDkyJG47rrr8Oqrr3bpsxs2bMCgQYNw/fXXY/Dgwdi5c2cPVUlERERXw9DTCQcOHMChQ4fwxRdfdCn0JCQk4LrrrkN4eDhkWUZISAh++9vf4uzZsz1YLREREXWEoacLXF1dLws9mZmZeO6559C/f38MHDgQS5cutf7ZgQMHcM8997T7+rvvvhv79u3rlXqJiIioDUNPF1waehobG/HXv/4Vy5cvR2trK7KysjBw4EAcPHgQANDQ0ICRI0ciODgYFosFx44dwx//+EdcuHBBq1+BiIhIWAw9XXBp6PHy8sKIESPafc3ChQsxadIkAIAsy1iyZAl++9vf4le/+hWuu+467N69u1drJiIiIgVDTxdcGnoWLFiA3/zmN7jhhhus1/XXX49HH30UALBx40b85S9/QXJyMiwWC06ePImbb74ZUVFRWv0KREREwmLo6YJLQ8/u3bsxZsyYK379F198gcmTJ7f7Z6+88gpcXV17qkQiIiK6AoaeTjCZTGhubsb06dMxceJENDc3w2g0or6+HjqdDmvXrkVzczPMZjNSUlIQHR0NANi+fTtuu+0262qt+Ph49O/f3/rODxEREfUehp5OcHV1RZ8+fdpd48aNAwBkZWXh73//O/70pz/hxhtvxAMPPABJkqyfnT17NgYMGIDrr78eAwcOxLx58zT6LYiIiMTG0ENERERCYOghIiIiITD0EBERkRAYeoiIiEgIDD0q+vTpg759+/LixYsXL15OffXp4/yRwPl/w2vUt29frUsgIiLqcSLMO4YeFSI0ARERkQjzjqFHhQhNQEREJMK8Y+hRIUITEBERiTDvGHpUiNAEREREIsw7hh4VIjQBERGRCPOOoUeFCE1AREQkwrxj6FEhQhMQERGJMO8YelSI0AREREQizDuGHhUiNAEREZEI846hR4UITUBERCTCvGPoUSFCExAREYkw7xh6VIjQBERE5FhC0kthMlts+j1FmHcMPSpEaAIiIrJ/jUYTDiUU4rNtsdAZJHyzJ9Gm31+EecfQo0KEJiAiIvvW0GLCMz+GQ2eQoDNI0P/gj8iscpv+DBHmHUOPChGagIiI7E+j0YTNkbn4xPMURs4+Bp1BwsurIhF0tgRNRrPNf54I846hR4UITUBERPZBlmWEZZThq10JGOYeYL2zc8dUH7y7MQY1ja099rNFmHcMPSpEaAIiItJeq9mCb/YkWoPOoGm++Hp3AuLyK9Hcavs7O5cSYd4x9KgQoQmIiEg7rWYLAlKK8eSSMOgMEkbPC4Z0+gIajaZerUOEecfQo0KEJiAiIm3Ut5jw0orj1rs772yIQUltsya1iDDvGHpUiNAERETUu2RZxrmKRry1/gR0BgkvrTiOoLMlkGVZs5pEmHcMPSpEaAIiIup5ZouMpPPVWHIsA+MWhljv7jz7UwTqmnvuBeXOEmHeMfSoEKEJiIioZxTXNOPo6SJ4+JzFw3ODrEFHZ5DwwvIIzJFSUVHfonWZAMSYdww9KkRoAiIisi2T2YIFfmkY6CK1Czqvr43G2rBsnK9s1LrEy4gw7xh6VIjQBEREZDthGWXWl5P1rv6YefgM9scVIKesXuvSrkqEecfQo0KEJiAiIttYG5ZtvaszcVWkXd7RuRIR5h1DjwoRmoCIiK5dVFY5BrhI+NtMP/gmX4DFot1KrO4QYd4x9KgQoQmIiOjaVDYYcf+cQOgMEqTTF7Qup1tEmHcMPSpEaAIiIuq+ygYjXlgeAZ1Bwn/3nda6nG4TYd4x9KgQoQmIiKh7ZFm2bjD49oYTPXL6eW8RYd4x9KgQoQmIiKh7vJOKoDNIeObH8F45FLQniTDvGHpUiNAERETUdXXNrXjAQ3mP52RupdblXDMR5h1DjwoRmoCIiLrGZLbgw80noTNI+GZPotbl2IQI887pQ8/vf//7dtevf/1rDBkypNOfF6EJiIio85qMZrgcOA2dQcJTS8NQawfnZtmCCPPO6UPPpYYMGQIPD49Of70ITUBERFcnyzJO5VVi6sFkDHULgM4gYeTsYw61+aAaEeadUKHn5MmT+NWvfoWioqJOf0aEJiAioitLK661rtDSGSQMmuaLf+1OcKrAA4gx74QKPZ999hkmTJjQpc+I0ARERHS5FpMZrt4p1kNDn1oaht0nz6Gm0TkeZ11KhHknTOhpbGxEv379cPjw4at+nZubG/r27Wu9+vQR5q+IiIh+1mIyW+/uDHMPwLboPJjMFq3L6lEMPU5ky5Yt+POf/wyTydSlz4nQBERE1KbRaMKUHfHQGSQ8vywCpXXNWpfUK0SYd8KEnjFjxsBgMHT5cyI0ARERKdKL6/DEkjDoDBJGzwtGaa0YgQcQY94JEXrS09PRt29fZGRkdPmzIjQBEREBZwproP/BHzqDhA83n0Rlg1HrknqVCPNOiNDz/fffY+zYsd36rAhNQEQkuqzSOoycfQw6g4TFAemQZVnrknqdCPNOiNBzLURoAiIiUZnMFizwS8Ogab7QGSS4eqcIGXgAMeYdQ48KEZqAiEhEFouMf+9JhM4g4Z6Zflgdmg2LRczAA4gx7xh6VIjQBEREognPKMMLyyOsLyw720aD3SHCvGPoUSFCExARicQn+QIG/Lzh4EsrjiO/okHrkuyCCPOOoUeFCE1ARCSKHTH5GDTNFwNdJBxOLBT2/Z2OiDDvGHpUiNAEREQiWB2arZydNd0X++IKtC7H7ogw7xh6VIjQBEREzs4/pRg6g4S/zfRDTE6F1uXYJRHmHUOPChGagIjImbWaLXhsUSh0Bgkh6aVal2O3RJh3DD0qRGgCIiJntv1EPnQGCe9vOql1KXZNhHnH0KNChCYgInJGhdVN+GpXAnQGZaVW4vlqrUuyayLMO4YeFSI0ARGRM2luNWOuz1ncNV3ZZflBjyD4JF/Quiy7J8K8Y+hRIUITEBE5OqPJgvhzVdh4PBcvrjgOnUHC4Bm+WHosA41Gk9blOQQR5h1DjwoRmoCIyJGdq2jE+J9fVL54PbYolLssd5EI846hR4UITUBE5Igq6lvg6p2CwTOUx1h/XxmJFcGZOJFTgVazRevyHI4I846hR4UITUBE5GjOFNZA7+pvPSx0nm8azAIfFmoLIsw7hh4VIjQBEZEjaW4148klYdAZJBj2n0ZFfYvWJTkFEeYdQ48KEZqAiMgRNLSYsCMm3/r+zgebT/LsLBsSYd4x9KgQoQmIiOxRk9GMgwkFcPVOwcRVkdYl6DqDhNfWRKGcd3hsSoR5x9CjQoQmICKyN5UNRkxYfrzdiqxh7gH41isJpwu4yWBPEGHeMfSoEKEJiIi0ZrbIyCypw4H4Akw/lIyRs49BZ5AwaU00jiQVIa+8gY+yepgI846hR4UITUBEpAWT2YJ9cQV4d2MM7pnp1+6uzkAXCd/tTUJzq1nrMoUhwrxj6FEhQhMQEfWmVrMFe06dw6MLQqwh594f/PHmuhPw8DkL76QirsjSgAjzjqFHhQhNQETUG0pqmzHPNw0jZwdaw84Hm0/iRE4FTNxMUHMizDuGHhUiNAERUU8orG7C3tjz+PeeRDyyINgadG6f6oNPt8Yiiaee2xUR5h1DjwoRmoCIyFaqGoz4KTCz3aMrnUHCABcJTy8Nx1yfsyitbda6TOqACPOOoUeFCE1ARHStiqqbMOtoqvWF5AEuEp77KQLuR1IRnFaC2uZWrUskFSLMO4YeFSI0ARFRd1gsMqKyy/HNnkTcOc0HOoOEwTN84eqdwhPOHZAI846hR4UITUBE1FUFVY3tNg8c5h6AJccyuOrKgYkw7xh6VIjQBEREXZFb3oBRc5QVWC+uOI79cQVoNJq0LouukQjzjqFHhQhNQETUGRdqmto9ynI5kMyl5k5EhHnH0KNChCYgIroak9mCpccyMHiGcuDnULcALPBLg8XCYyGciQjzTpjQ4+3tjWHDhuF3v/sdbrnlFqxZs6ZTnxOhCYiIrmZZUCZ0Bgl3TffF4oB0NLTwUZYzEmHeCRF6/Pz8cOuttyI0NBRmsxlVVVVIS0vr1GdFaAIioku1mi0ISS/FuxtjoDNIuHuGH7JK67Uui3qQCPNOiNAzatQorFu3rlufFaEJiIgAoKaxFVFZ5fjGKxFDXP2tK7OGuPrjcGKh1uVRDxNh3jl96GloaEDfvn2xaNEiDB48GDfffDNef/11FBcXd+rzIjQBEYlJlmUkna/GXN+zeGppWLsdlO+a7otPPE/BJ/kCzHx3RwgizDunDz0FBQXo06cPhg4divz8fNTX1+Pdd9/Fk08+2eHXu7m5oW/fvtarTx+n/ysiIgGlFdfi+WUR7YLOY4tC8eWuBGyJzOUSdAEx9DiB6upq9OnTBxs3brT+s7y8PPTt2xcNDQ2qnxehCYhIHGV1LdganYehbgHWfXY2R+aisLpJ69JIYyLMO6cPPQBw2223YdOmTdb/fTH01Nerv5QnQhMQkXPLLW/AiuBMvL42GgNd2u7sLPJPhyzz0RUpRJh3QoSeOXPmYNiwYSgsLERTUxM++OCDKz7eupQITUBEzslskeHqndLuEdaDHkFwO5KCuPwqrcsjOyPCvBMi9JjNZnz77bfo378/+vfvj9dee40vMhORUzNbZHy5KwE6g4QRs45hWVAmUotquaEgXZEI806I0HMtRGgCInIuza1muBw4DZ1BwqMLQnjiOXWKCPOOoUeFCE1ARM4jNL0U9806Bp1Bwqg5gQw81GkizDuGHhUiNAEROYfy+hZr4JmyMx75FeorVIkuEmHeMfSoEKEJiMjxmcwWTN4WB51Bwg+Hz2hdDjkgEeYdQ48KEZqAiBxbZkkdnvkxHDqDhEcWBPNAUOoWEeYdQ48KEZqAiBxT/Lkq/GdvEu6a7gudQcLra6P5SIu6TYR5x9CjQoQmICLH0Wg0ITS9FDMOncGAnzca/NtMP6wJy+ZydLomIsw7hh4VIjQBEdmv7LJ6rAnLxle7EvDkkjDcPtWn3aGgW6PzUM/HWWQDIsw7hh4VIjQBEdmfmJwKvLX+RLvdlHUGCQ/NDcJXuxLgdeo8yupatC6TnIgI846hR4UITUBE9iW5oAaDZ/haX0xeHpSJqOxyVDUYtS6NnJgI846hR4UITUBE9qOkthkPeARCZ5CwOpTv6VDvEWHeMfSoEKEJiMg+tJoteHlVJHQGCYb9p3kCOvUqEeYdQ48KEZqAiLQnyzJmHDoDnUHCK6ujYDRZtC6JBCPCvGPoUSFCExCR9rZG50FnkDBy9jGel0WaEGHeMfSoEKEJiEhbUVnluHOaDwZN80VyQY3W5ZCgRJh3DD0qRGgCItLOsdQS3PuDP3QGCV6nzmtdDglMhHnH0KNChCYgIm2sC8+27r+zPChT63JIcCLMO4YeFSI0ARH1viNJRdYjJI6llmhdDpEQ846hR4UITUBEvet0QTUGz/DFQBcJ4RllWpdDBECMecfQo0KEJiCi3lNY3YQhrso7PBuP52pdDpGVCPOOoUeFCE1ARL1DlmW8t+kkdAYJMw6d4eaDZFdEmHcMPSpEaAIi6nlGkwWLA9KhM0h4ckkYWkxmrUsiakeEecfQo0KEJiCinnUytxKj5wVDZ5Bw9ww/JJ2v1rokosuIMO8YelSI0ARE1HPK6lowYtYx6AwSPtpyCtll9VqXRNQhEeYdQ48KEZqAiGyvudWMbdF5uH+OcmL6tIPJWpdEdFUizDuGHhUiNAER2VZtcysm/nxaus4g4atdCWhoMWldFtFViTDvGHpUiNAERGQ7JbXNmLD8OHQGCS+tOI4zhTxLixyDCPOOoUeFCE1ARLYRf67K+jjrjXXRvLtDDkWEecfQo0KEJiCia9NkNGN1aDYGTfOFziBh6sFkGE0Wrcsi6hIR5h1DjwoRmoCIusdikbE1Og8jZyurs+6Y6oPtJ/K1LouoW0SYdww9KkRoAiLqnCajGX5nLmDqwWS8tf4Exi4Mgc4gYaCLhH/tTkAOl6OTAxNh3jl96Pnggw/wm9/8Br///e+tV0ZGRqc/L0ITENHVybKMY6kleGRBsHVF1sXr7ysjcfZCrdYlEl0zEeadEKHnu+++6/bnRWgCIuqYLMtYGZKFUT+/nKwzSPhw80kcSSpCXnkDqhuNWpdIZDMizDuGHhUiNAERXa6gqhFvrIu2hp2XVkYiPKNM67KIeowI806I0HPTTTfhpptuwr333otVq1Z16fMiNAGRyGqaWhGeUYaDCQXYEJGD+X5p+G5vEoa6BUBnkPDU0jBklNRpXSZRjxNh3jl96ImPj0dZWRnMZjMiIiJw8803w9PT84pf7+bmhr59+1qvPn2c/q+ISFiJ56sx3D3gsvd0Ll6zjqbCZObScxIDQ48Tmjt3Ll544YVOf70ITUAkkqzSOkzZGY9xP6+80hkkTN4Wh8UB6dgSmQvvpCJEZpXjfGWj1qUS9SoR5p1woWf+/Pl4/vnnO/31IjQBkTOSZRmpRbUISCnGthP5+GZPIt7dGIO/zfSzhp0HPYKwJTJX61KJuq6lHpBlm35LEead04ceLy8v1NXVQZZlREdH489//jM2btzY6c+L0AREzqa0thmvrI7q8JHVABflsVWjkUdEkIMpSgACpgPeXwKL7gISd9r024sw75w+9Dz66KO44YYbcP311+Oee+7B8uXLu/R5EZqAyFmEpJVizPy2vXSeXhoOV+8UrAzJwrHUEuSU1aOe52GRPWuqBqJXAvs+Ava8Cxz4DNj1JrDxKcD9D4Brv7bLz8WmP1qEeef0oedaidAERM7AO6kId07zgc4gYfziULgdSUFzq1nrsojUyTJQmqaEGI//ax9sfnnNuQWIWAxkBQJl6TYvQ4R5x9CjQoQmIHJ0a8KyrY+u9sUVaF0OUecVxil3cS4Gm9l/Ao7+G8iLVB5n5UcBxclAbRFg6tnNMEWYdww9KkRoAiJHtj48BzqDhHtm+iE0vVTrcojaM7UADeVAVR5wZj8QtwXwnwasGQPMu60t7Cy7DwidDzRUaFaqCPOOoUeFCE1A5KhKapsxaJovBs/wRcK5Kq3LIWrTWAn4GgD3/ld+XOVxK7B2LBC/FbBovx+UCPOOoUeFCE1A5Kjcj6RCZ5Cw0D9N61KIFNXngd1vA7P+2PYezvrxwObngcNTgEBXIHYzUGN/j2FFmHcMPSpEaAIiR1RS24y7pvvi7hl+qKhv0bocIuW9myX3KGFn3m2A9K3yaMtBiDDvGHpUiNAERI5o5uEz0BkkLPDjXR6yAy31yns6rv2Ag5OVd3kcjAjzjqFHhQhNQORoCqoacec0H+h/8Ed1Y8+uaCFSlXIImPtXJfBsfQkwt2pdUbeIMO8YelSI0AREjsaw/zR0Bgk/BWZqXQqJLjukbdPAjU8pmws6KBHmHUOPChGagMiR5JU34PapPhjmHoC6Zsf8L2pyEgVxygos135Awg6bn4XV20SYdww9KkRoAiJH8tWuBOgMEtaEZWtdConKbFLOvZr9JyXwhC3UuiKbEGHeMfSoEKEJiBxFbF6l9XR0HhhKvcrYoLy7s/8fwILblbDjdiMQs1brymxGhHnH0KNChCYgcgQWi4wJy49DZ5BwOLFQ63JIBGYTcGoDsOstYPbNbZsKuvcHdkwC8o5rXaFNiTDvGHpUiNAERI5g24l86AwSXlkdBdnB350gB1BXDKwb1xZ05v4FOPApcPaosjzdCYkw7xh6VIjQBET2Lqu0DoOm++L2qT44XeC4q2PIAVjMQLofsHykEnY2PQNkHnPIfXe6SoR5x9CjQoQmILJnNY2teHGF8lhrfXiO1uWQMzM2ADtea7u7s/1Vh91zpztEmHcMPSpEaAIie3X2Qi1GzwuGziDhtTVRMFv4WIt6SPV55Yws137AivuB5H2ASayNL0WYdww9KkRoAiJ7dL6yEUPdAqAzSPh6dwL35KGe0VipHATqdpMSeDY/59AbDF4LEeYdQ48KEZqAyB5N2REPnUGC25EUvrhMtmdsBNJ8gBWjlLCzYCAQNAtobda6Ms2IMO8YelSI0ARE9iavvAEDXJT9eJpbzVqXQ86mMA5YfHfbuzu73gSaa7SuSnMizDuGHhUiNAGRvXE/kgqdQcKq0CytSyFnYrEAx5cCs/5XCTs7XwfOHFD+OQkx7xh6VIjQBET2pL7FBP0P/rhrui8qG8R6kZR6UEudcgK6az9lo8GYdQ5/VpatiTDvGHpUiNAERPbEMyoPOoOE/+47rXUp5Ey8v1QCz+rRQFmG1tXYJRHmHUOPChGagMheWCwyxi8Khc4gIbWoVutyyBmYW5UXll37AQvvVFZrUYdEmHcMPSpEaAIiexGaXgqdQcLra6O1LoUckcWiHBFRkQ2EzgdWPtj2srJrPyBxl9YV2jUR5h1DjwoRmoDIXry/6SR0Bgl+Zy5oXQo5iqZq5U7OusfaB5yL1496ZdPBQFe+sKxChHnH0KNChCYgsgfZZfXQGSSMnhcMk5nDiVQ01yibCl5cieXaD1g8GFj1ELDhSeVw0OJkrat0KCLMO4YeFSI0AVFvsFhk5JTV43RBNaKyy3H0dBG2ROZikX86vt6dgGHuyu7La8OytS6V7JUsAyWpQPw24KehStCZ91fAcwIQvYqrsa6RCPOOoUeFCE1A1FOySuvgFXseHj5n8eiCEOgM0lWv8YtCUdPE4yboZ+l+wJ53gI1PAysfABbc3v7Rldf73FTQhkSYdww9KkRoAiJbqqhvwY6YfLyxLvqyUDNxVSSm7IjHd3uT4OFzFuvCs3EgvgDR2RXIKatHi4m7LwursRIoSgRyI4Ck3cCedy9/P8e9v3I2lv80IO847+zYmAjzjqFHhQhNQHStYvMq8db6Exi/KBQDXdpCzqMLQjDfLw2HEgqRX9GgdZlkL2RZCTjhi4BdbwFL/tbxS8gL7wRO7wWqzymrsswmrSt3aiLMO4YeFSI0AdG1yCypw99m+lmDzuh5wXD1TsGpvEpYLPwvceHJMtBQDpyLUZaMH54CLLqrfbhxu1FZXr77beDQ58qdnHRfwMig3JtEmHdChZ7y8nL0798fI0eO7PRnRGgCou5qNJowfrGymaCHz1keDiq61mYgOwQ4NlM5xHPdOGDuXy+/g+N2E7D5eeD4j8D5U8qJ56Q5EeadUKHnnXfewfjx4xl6iK5BTVMrwjPKIJ2+gM+2xUJnkPDxllO8qyMiiwUoSVHOsdoxCZjz58sDzpxbgDVjlJeOA92UAz6bqrWunDogwrwTJvQEBARg3Lhx2LJlC0MPUSelFtVic2QuZh9Nxb92J+CllZG4Y6pPu5eTR80JRFldi9alUm/LCgKW3dc+4Mz9i/ICctwW4EISUFfMl40diAjzTojQ09jYiMGDB+Ps2bMMPUSdYLbImHYwucNl5SNnB+Lr3Qnw8DmL1aHZOF/JRxNCkGWgMB7w/S+w8am2oLPxKSBoFpAfrZxzRQ5LhHknROj57rvvMG3aNABQDT1ubm7o27ev9erTR4i/IqJ2VgRnWu/irAjOhG/yBZzKq8T5ykbI/C93sbTUKY+kluovOd5hCJAmaV0d2RBDjxNISEjAoEGD0NTUBEA99FxKhCYg+qVdJ89BZ5AweIYvskrrtS6HepIsK4dzZgUBqYeBiMVAwAxlGfmKUYDHre2DzpoxwMn1QHkWl487IRHmndOHnh9//BG//e1v0b9/f/Tv3x/XX389fv3rX6N///4oLS1V/bwITUB0UW55AwZN98Wg6b6IyCzTuhzqSflRwPKRHe+Pc/Ga91dlKfnm55S7PeTURJh3Th966uvrUVBQYL2WLl2KoUOHoqCgAJZOnLgrQhMQXTRlZzx0BgmrQrO0LoVsxWJR3rc5sQaIWgEc+wHY+nfA9QYl2Kx9FPD+UnlX5+R6JdzkR3GPHAGJMO+cPvRcio+3iDpWXNOMO6b6YMSsY9xvxxnIMhC76fKNAK27Hd8BJO3h6iqyEmHeCRd6ukqEJiACgCXHMqAzSFjon6Z1KXQtErYDez9UDum8uNux54vKRoAn1gDJ+4CiBMDCYEvtiTDvGHpUiNAEREaTBSNnB2Kgi4TC6iaty6HuKkpQdju+eDdn9WjlnxF1ggjzjqFHhQhNQOSdVASdQcJn22K1LoW6o6EciPNsW1YetgDICeUKK+oSEeYdQ48KEZqAxFZa14wHPYKgM0iIyirXuhy6lMmovIx8UWuzcup4djBw9BvlDKvZf2q7u7P/E76nQ90iwrxj6FEhQhOQ2C7uvPzFznhuPGhPipOVU8dn/VHZL+enYcoS8o5eSva4FZC+U+7u8P+H1E0izDuGHhUiNAGJK7+iAXdM9cEQV3/UNPEIAbuR5tN2eOecW9o2CZz7V2D5CGXfnH0fA/HbgMpc5W4Q0TUSYd4x9KgQoQlIXF/vTuC+PPYmYbuy4sr1BuD40rZAw3OtqIeJMO8YelSI0AQkpvTiOgxwUc7XajTyhVfNWcyAr0G5o/pCAiAAACAASURBVOPenzsgU68TYd4x9KgQoQlIPBaLjHc3xkBnkLA1Ok/rcsjUAux5Vwk8C25XXlIm6mUizDuGHhUiNAGJxWyRrY+1xi8KhdGkfhwL9aDccGDDE0rgWXYfUJWvdUUkKBHmHUOPChGagMQyzzcNOoOEMfODkVfO85U0Y25VVlxdXIG1/nGgnoe8knZEmHcMPSpEaAISR3ZZPW7/ebXWuYpGrcsRV0U2sOWFtsdZkcuUR1xEGhJh3jH0qBChCUgcn22Lhc4gYV14ttaliCszsG0zwbWPAjUFWldEBECMecfQo0KEJiAx+J25AJ1Bwuh5wTxFXQvGRuDURmWzQdd+QPAcoJXnnJH9EGHeMfSoEKEJyLnVNLVic2Qu7pjqA51BQngG3xvpdRn+wNy/tJ16Hr9N64qILiPCvGPoUSFCE5DzaDVbsDIkC+9tOom/r4zEowtCoDNI1mueb5rWJYpDloHKHCDEA5j1v8pmg/s/AQrjta6MqEMizDuGHhUiNAE5vvCMMsw+moonl4S1Czk6g4THFoViys54BKaW8Gyt3tJcC2x/pW1llttNQOxmrasiuioR5h1DjwoRmoAck8UiI6u0DnOk1HYhZ9KaaCSdr0ZZXQvf3eltTVVAxGJgyd+UsPPTUCDIHag+r3VlRKpEmHcMPSpEaAKyb6V1zQhJK8XmyFzM9T0LtyMpeG/TSdz7g7816Axx9YfXqfPIKKnj3ZzeJstASQoQNKv9Kej7PlLu+BA5CBHmHUOPChGagOyX16nzGDTN97JHVjqDhL/N9MMb66Ix1+cscsrqtS7VeVnMyqaBVflA8j4lzKx6SNlMcOfrwFJ9W9Bx/wMgfQuUpWtdNVGXiTDvGHpUiNAEZH9Ka5vx/b4k6AwS7pzmg+/3JWFdeDaOni5CQEoxkgtqYDLz+IgeVVsEBMwAFt3VFmo6vG5QAtDxH4Hqc1pXTdRtIsw7hh4VIjQB2ZcD8QUYPEO5uzNydiBi8yq1Lsl5NZQD+/8BLBuuXEv1wOLBwIKBSpi5uMR85YPA2rHA3g+AdD+gsRKoKwGKzwANFVr/FkQ2IcK8Y+hRIUITkP0oqm7CPTP9MMBFwny/NFQ1GLUuyfGYTcp7NqmHlaMeNj0D7H5bWS4ufQscmqLcvZlzixJoLr1zM+uPyp8tGqS8hFxXovVvRNQrRJh3DD0qRGgCsh//3B4HnUHCIn++E9JlFjPgP01ZHu7e/+qPpNz7K3dzPP4P8P4KaKlrC0tEghJh3jH0qBChCcg+BKeVWE8/bzJyqXmXVJ9rO8DT7SZg4Z3AhieBzGPK2VZFiUB+lPJoKt1PWVpORO2IMO8YelSI0ASkvbj8Kvxtph90BgmBqXyc0iX5UcD8AUrgWfUwUJmrdUVEDkmEecfQo0KEJiBtnSmsgf7nPXdWhmRpXY5jaalXXjx27ac82jK3al0RkcMSYd4x9KgQoQlIO5UNRoyZHwydQcJPgZlal+N4AmYogWf/J1pXQuTwRJh3DD0qRGgC0kb8uSo8vjgUOoOEr3cncCflriqIVZaVz/0rUFOodTVEDk+EecfQo0KEJqDeYzRZEJNTgSUB6bhrurIXzwebT/KMrK6ymIG1jyp3eRJ2aF0NkVMQYd4x9KgQoQmo5zW0mODqnYK7Z/hZj5EY4CJh0/Fc3uHpjlMblMCz6RkuMyeyERHmndOHnqlTp+K2227D//zP/+CWW27B119/DaOx8xu+idAEZFtGkwXrwrPxrVcSPvE8haeXhuP2qT7QGSQMdJHwiWcsNh7P5XlZ3dVQrhzs6XaTsiMyEdmECPPO6UNPeno66urqAADl5eV47LHH4OHh0enPi9AEZDutZgs+3Rp72eGgD3gE4stdCcgoqdO6RMd36HPlLo+vQetKiJyKCPPO6UPPL5WXl+Pxxx/Hxx9/3OnPiNAEZBuldc14b9NJ6AwSxi8KRXhGGVKLalHTyGXUNhO7WQk8C+8Emmu0robIqYgw74QIPatXr8b111+PPn36oH///oiPj+/0Z0VoArp2J3IqcP+cQGvgKalt1rok55MdojzSmvVHID9a62qInI4I806I0HNReno6Zs6ciaKioit+jZubG/r27Wu9+vQR6q+IuiG3vMG6m7LLgWQeIdETStOUpemu/YCkPVpXQ+SUGHqc0N69e/HMM890+utFaALqPrNFxutro6EzSFhyLEPrcpyPLAPJ+4Al9yiBJ2Su1hUROS0R5p1woWfXrl24/fbbO/31IjQBdd8i/3ToDBKeXxaBVrNF63KcS2szsGNS28noh6dweTpRDxJh3jl96Fm1ahUqKyshyzJSUlJw77334p///GenPy9CE1D3xOZVQmeQoHf1R35Fg9blOBdZBg5/oYSdFaOUQ0WJqEeJMO+cPvQ899xz6N+/P373u99hwIAB+O6779DY2Njpz4vQBNR1FouMCcuPQ2eQcDChQOtynI/P90rgWTwYqC/VuhoiIYgw75w+9FwrEZqAus7vzAXoDBImrorkjsq2FrelbVl6SYrW1RAJQ4R5x9CjQoQmoK57c90J6AwSQtN5F8Kmqs8DHv8HuP9BOVCUiHqNCPOOoUeFCE1AXZNZUgedQcK4hSGwWHiXx2ZkGdj+inKXJ3i21tUQCUeEecfQo0KEJqCumXYwGTqDhA0ROVqXYj9kGagrAUyXnGtnMQMV2UBeJBCxGNj/D8D7K8DPBTg2E/CfBhz9N3Dwn8C2iW0vLptatPk9iAQmwrxj6FEhQhNQ512oacKgab649wd/MY6XqMxRHjld9Wtygc3PK4Fl1v8C215WAszq0cr/vrjkvDPXrD8C50/2zu9GRO2IMO8YelSI0AR0dRaLjMySOrgcSLYeNbEkIF3rsnpWbRGw/vG2MLLsPiXIHPocOPApcGiK8ggqdB4w9y/K1yy5p23X5IvXwjuALS8od3giFgN5x5XjJM4eBVIOAaneQFagcicoN0I9YBFRjxFh3jH0qBChCag976QiTFobjSeWhGHM/GAMcfVvd2L6W+tPoLnViY+aKEkFlt6rhJafhgI/DVO/QxM0CzC3KhsKFp8ByrOAxkqtfxMi6gIR5h1DjwoRmoCAsxdqsTkyF9/tTWoXcHQGCffM9MNra6Kw0D8NpXVOfpBo9TnA41YlyKwf3/aOTks9UJYO5IQph31mhwCJO4Go5XwcRaSBxtbO7zfXWSLMO4YeFSI0gShazRakF9chLKMMR08XYc+pc9gQkYOvdye0Czn3/uCPkLRSNLeaxduDZ9dbSuDZ+Trv1BD1smZTMzKqMrDw1ELMOTEH3tne2JqyFTMjZ2JK0BT8I+AfGO81HsO3DofeUw+/XD+b/nwR5h1DjwoRmsDZFVQ1YpF/uvV9nI6uEbOOYXlQJo4kFaGk1snv5lxJZuDPj7SGKY+piKjLLLIFscWxKG8qh9FshH+eP4LPBaPF3LYisbG1ERlVGQg+F4x1p9fhI/+P8JjXY9B76lWv4duGW//vuTG2PYBXhHnH0KNChCZwRpkldXh3Ywwe8GgLOgNcJLy+NhqG/acx1/cslgdlYnNkLvbHFaCywaj+TZ3d5ueU0JMmaV0JkUMyWUz4b/h/lXCydTge2vmQNaCM2T0Gbxx9A2P3jL1imHl639N48+ib8EzxhJQjwSPGA5vPbMbxwuPIrMpETnUOWs2tKKgrQFxJnM3vRIsw7xh6VIjQBM6mrK4FD88Ngs4g4Y6pPhi/KBRLAtJRVN2kdWn2qzC+bY8cC0+LJ+oqk8WE78O/h95Tj1HbR2HEthEYtnUYvgr+Ct+Gfmt9JDVi2wi8eOhFfB74OTxiPLAtdRvSK9Nhtmi/OEKEecfQo0KEJnAmsizjw80noTNI+GZPIkxmDnBVDRXAmkeU0BO3RetqiBzOjrM7rHd1nt3/LC7UX0BjayPqjfXWr6lpqUFxQzEssv3+O0mEecfQo0KEJnAWOWX1MOw/DZ1BwvjFoc69rNxWWpuADU8qgWfDE9wJmagLCuoK8J+w/1gfZ30S8AmKG4q1LqvbRJh3DD0qRGgCR2e2yJhx6Iz13Z3h7gFIL67TuizHcPQbJfBsfEoJQETUoVZzKwLzAzH/5HwsiV2CSUcmYYjnEOg99Xhi7xNIKkvSusRrJsK8Y+hRIUITOKpWswU5ZfX4aMsp6AwSRs4+hsUB6Sir492KTimMA1xvABYMBBrKta6GyO6kVabhn4H/xBN7n8Co7aMue/n4uQPPYW3SWjSZnOM/GESYdww9KkRoAkfQ0GKCd1IRXA6cxhvrovHQ3CAMdGlbcj5+cSjOV9p+sy6ndS4GWD5SucuTsF3raojshizLOF12Gsvil2HEthFtq6u2Dse/gv+FI9lHsDdjL3JrcrUu1eZEmHcMPSpEaAJ7ZjRZ4HIgGXdN9223r87tU30wel6wdadkvr/TBTlhgNtNSuDZ9jJXaxH9LL0yHe/6vNtuGfn21O2oN9aj1lirdXk9ToR5x9CjQoQmsFc1ja2YvC3OukvyN16JCEgpRl55A1q5Kqt7aouABbcrgSdiMTchJAJQ3lSOLWe24MGdD0LvqcdrR17DvJPzkFKeonVpvUqEecfQo0KEJrBHO2POYZh7AHQGCWMXhqBU1F2SbclkBDY+rQQen/9oXQ2RpiyyBefrzmNP2h48sOMB692dtUlr7XpZeU8SYd4x9KgQoQnszeHEQugMEga6SJh+KBkV9XwxudMsFiDlEBC+EIhcBpzaCIQtBEI8gFUP/3yQ6ONtB4kSCSS9Mh0LTi2Ab64v3jz6pjXoDNs6DPNPzkdWVZbWJWpKhHnH0KNChCawJzll9fjbTD8MdJEQmcUVRQAAYwNQla9sIvhLJiNQkgIk7wN8vleWnS8apASbK13LRwJ1Jdr8HkQ9oM5Yd9XVU2aLGYX1hZgaMfWy1VcvH34ZLhEuwj3GuhIR5h1DjwoRmsCevLsxBjqDhOVBmVqXoj2zCQieA7j/oS20LL4bWKpXlplffBn5l5fbTcCmZ4FTG4ATa4DQ+UCcJ5C4E4hZx5PTyWGYLWbk1OTAL9cPBzMPos6o7L0lyzIK6wux4+wOvO3zNoZuHWrdCfnpfU/jQ78PsTZpLWZEzsCEgxPahZzHvB7D5MDJGLtnLOadnGcXRz/YExHmHUOPChGawF6Eppcqy88XhYp9fERtESB9CywerASZ2X8CNj8PrHoIcLtR2Vtnzi3AknuU1Vf+04CkPcrdILNJ6+qJOi2rKgtbzmzB1yFf49vQbzE3Zi5+iPoBbxx9AyO3j2wXWMZ7jcf7vu9jzO4xnTqN/OI1xHMIntn/DFYlrkJjK7e1uBoR5h1DjwoRmsAeGE0WjF8cCp1BQmCqwI9fmmuBlQ+03bXZ/gpQ+Yv9QCxmwMYnKxP1hhZzCwrqChCYH4hFpxbhVe9XrxpWxuweg4/9P8b8k/Pxfdj31n8+cvtIvHH0DSyOXYyUihSYLCbsSduDqKIomC1mhJ0Pw/rT6xFeEI7KZt7Z7AoR5h1DjwoRmsAebIjIgc4g4f1NJyGLOtRNRiXkuPYDdrzGR1HkkMqbyuGZ4gmXCBdMOz4NnwZ8irF7xnYYbF71fhXrTq9DfEk8TpedRsi5EEQURKC4ofiyfw+crzuPgroCPpLqQSLMO4YeFSI0gdZqGlsxxNUfd0z1QVZpvfoHnFHpWWD1aCXwrHpIueNDZMdKGkqw6cwmzI2ZiyPZR7D+9Hp8duwzDNs67LJwc9+2+zDh4AR84PcBZkXPgne2N/Jr87X+FegSIsw7hh4VIjSB1ub7pUFnkDDj0BmtS9FGSQow9y9K4NnyAldXkd2pN9Zjb8Ze/BD1A74K/grTjk/D/Tvu7/DuzXiv8Vgcuxinik8hriQOWVVZaLW0av0rUCeIMO8YelSI0ARaajGZMcw9AHdO8xFvA0JZBrKClBVZrv2AQDceCUG9rs5Yh3pj2x3WxtZGZFVlISAvAItjF+Nt6W0M3zq8w7s3S2KXYHfabrhHu2N76nYkliby8ZMDE2HeMfSoEKEJtHQkqQg6g4TPd8RpXYrtZAcDax9VXkgOcgdyI4CsQGWTwG0Tlc0Bd70JrHmkbam595d8QZlsrs5Yhx1nd+D7sO+xL2MfWswtqDPWIbY4FkvjluLFQy9aA8yr3q/i4Z0Pd3j35jGvx+Aa5YqIgghEFkYi+FwwLtRf0PrXIxsTYd4x9KgQoQm09M4GZV+esIwyrUu5dlX5wP5/XH1zwEuvVQ8BZ48y8JDNJJYmwiPGA9+FfWc9S+qXd2cuDTTPH3je+qjqoZ0P4cVDL2LyscmYc2IODmcdRn5tvriLCwQjwrxz+tDT0tKCf/zjHxgwYACuv/56DB48GJs2ber050VoAq2cr2yEziBh9LxgmC0O/i/V4z8Cs/5XCTKLBilBpiofOLEa2PshcORfQPgioChReWcn77hyR4iPAsgGZFlGdnU2lsYtxRDPIdZAM3TrULhGueJg5kH8K/hfeHT3o3jx0Iv4JvQb7Di7w3q3ptnUjPKmcoYbwYkw75w+9DQ0NGDmzJnIzs6GLMs4ceIEbrzxRgQGBnbq8yI0gVaWBKRDZ5DwY2CG1qVcmzP72zYRDFsAtNRpXRE5OFmWcSjrEFYnrkZUURRazZe/CNxkakJscSzWJq3Fy4dftgadB3Y8gD1pexBzIQa5NbkdfHeijokw75w+9HRk4sSJcHNz69TXitAEWjBbZDzoEYQBLhIKq698bo7dS/NRwo7bjUB2iNbVkBMwW8zwiPG47Iwo1yhXTDs+Dd+GfovXjrx22cvFbxx9A8sTlqOovkjrX4EclAjzTrjQ09zcjFtvvRX79+/v1NeL0ARaCEkrtW5G6LBiN7cdC3Fqg9bVkBNoNbfi88DPoffUY/Su0ViesBwf+n14xaXh34R+A88UT2RUOfjdUrILIsw7oUKPLMt455138Nhjj8FyhaXBbm5u6Nu3r/Xq00eov6Je89m2WOgMEnyTHXQFSE6o8khr1h+BlINaV0NOoKCuAO/7vm+9s5NXkwdA+fdWYmkiTlw4gdjiWJwuO42KpgptiyWnxNDjRGRZxuTJkzFq1CjU1NR0+nMiNEFvK61rxh1TfTBi1jEYTQ64L01LnXLSuWs/IOWQ1tWQgytrLEPIuRA8svsR6D31eMX7FZQ3lWtdFglIhHknROiRZRmff/457rvvPlRVVXXpsyI0QW9bE5YNnUGCh89ZrUvpnqPfKIFn30daV0IO7GzFWbhGuWLo1qHWR1aLYxfDZDFpXRoJSoR5J0TomTJlCoYOHYqKiq7fEhahCXqTLMt4bJFymnqPn7PV2ty2JNzUAhgbgJoC5SBPY2P7vXEaKpRl5GePAl7vAYsHAz8OAQ58CpxYo1yRy9r24Vlwu/IZoi5qbG3ErrRdGLl9pDXsjNo+Ckeyj2hdGglOhHnn9KEnPz8fffr0wf/7f/8Pv//9763X5MmTO/V5EZqgN8XkVEBnkPDamqie+yGtTcCRr5WXjGf/SQkwHW0MOPtmYOWDwE/DLv8z9z8oLyh3uKngDUo4IuqCiqYK7Di7Aw/tfMgadpbFL0NVc9fuPhP1FBHmndOHnmslQhP0pm/2JEJnkLAvrqBnfkB9GbBunBJOPG4F5g9QQspPQ4HlI4D144G1Y4EV9//8Zz8HmWXDlbs4Pt8DCduVO0Mt9UC6r3KHJ3oVcHK9cmV1bo8n6h1NpiYE5gfCL88PkYWRmHdyHuJL4pFbk4ugc0EIyg9CY2tjr9cVURCBRacWYcGpBfgy+Mt2S8y/Cv4KKeUpvV4T0dWIMO8YelSI0AS9paapFXdN94X+B380Gm343oLZBCTsANaMabs7s/k5JQCpaa5VAg45JItswds+b3e4pPuX10uHXsLSuKVwjXLFF0Ff4OXDL+MV71cw+dhkfBn0JT4J+ATu0e6obq6+5poaWxvhHu1+WQ0P73oYc07MgW+uL3c+Jrskwrxj6FEhQhP0lq3RedAZJEw7mNz5D8kyELMO2PMusOM15SDP9eOB3W8DO99QDvBcck/bHZsfhwDSd8pdGnJ6R7KPQO+px4SDEzDpyCQ8uPNBzIqehQkHJ2DcnnFwi3bDG0ffUA1FF6/h24bjmf3P4FXvV/G+7/v4NOBTvHH0Dbxx9A24RrnCNcoV34V9h7d93samM5uQVZWFC/UXkFOdg8jCSEw/Pt36+Ooxr8ewPXU7fHN9EZgfiGZTs9Z/XURXJcK8Y+hRIUIT9AZZlvHsTxHQGSQkF3RiywBjo/Ji8a63OnFw5w1KICqI7flfhOxGi7kFT+17CnpPPRJLEyHLcocrn8wWMyIKIiDlSIgqjEJqRSrqjHWoNdYiqjAKZ8rPILcmF+7R7hi9a3SnA9KVrvt33I+pEVO57JwcjgjzjqFHhQhN0JPK6lqwJCDdGnieXxbRiQ+lAwvvbAs1i+8GsoKAklRl5VVtEVCUoPzv8iyuohLU5jOboffU498h/7bp9zVbzKgz1qG4oRj5tfkoayxDzIUYLE9Yji1ntiCxNBFxJXGYETkDU4Km4AO/DzD52GRMPz4dXulemrw/RGQLIsw7hh4VIjRBT4jLr8SUHfG4e4YfdAYJOoOEUXMCcSJHJaBU5iohx7Wf8ugqchlQ66C7NlOPOVd7DiO2jcDwrcOtOxcT0bURYd4x9KgQoQlsLTS9FHdN94XOIGHwDF/MkVKRV96g/vKmLAMbnlACj/dX7ffRIfqFr4K/gt5Tj3Wn12ldCpHTEGHeMfSoEKEJbCkquxyDpimBZ01YNupburBKK3GnEnjWjm3bVJDoEgczD0Lvqcez+5+F0WzUuhwipyHCvGPoUSFCE9hKUXUThrkHQGeQsDPmXNc+3FAOzNcpLyXzhWS6gqSyJNy37T4M3zoccSVxWpdD5FREmHcMPSpEaAJbmbIzHjqDhFlHU7v+4QOfKXd5fP5j+8Ko0+qN9XCJcMFH/h/htSOvYdyecfg65GtNXs6VZRlplWnWE8UPZh7E/Tvuh95TD690r16vh8jZiTDvGHpUiNAEtnDxeImH5wahydjFR1PZwW2rtJpre6ZAUiXLMr4M+rLDZdj/DPwnMqsyUd5Ujgv1F5BXk4eyxjKYf/EYstXcatNaFp1aBL2nHqN3jbaeQD5s6zBsSN5gs59DRG1EmHcMPSpEaIJrZTJb8MyP4dAZJBxJKurahy1m5UgI1348z0pjIedCoPfU46GdD+HfIf/GgcwDqG6uxoSDE664J82IbSPwyO5HrIdnbkvdZpNafHJ8LvtZD+x4gI+0iHqQCPOOoUeFCE1wrRb5p0NnkPDmuhNd314/cZcSeDwn9Exx1CnNpmY8s/8Z6D31iCpsfxhsvbEeG5I34D3f9/C29DY+8PsAnwZ8irektzB2z1g8uPNBPLr7Ueg99Ri6dSj88/whyzIu1F+AX54fVietRnhBOGKLY3Ew8yAiCyOv+gKyRbbgpUMvQe+px6niUzhXew7zT85HfEl8T/81EAlNhHnH0KNChCboLlmWsThACTz6H/yRVVrXtW9gMgI/6pXQc/5UzxRJqnKqczBm95hr3ugvIC8AQ7cO7dSuxQ/seAAvH34ZE70n4sVDL+K5A89h0pFJmOg9EQ/seAB6Tz3e933fhr8lEakRYd4x9KgQoQm6a75fGnQGCUNc/XG6oBsHNZ5crwSeXW/avjjqlMyqTIzdM9YaRorqu/h48hL+ef4Y7zUeT+17Cm9Lb2POiTnYmrIVXwZ9ie/Dv8fKxJX4JvQb6wvJHV33bbsPEw5OQFplmo1+SyLqDBHmHUOPChGaoDsOJxZCZ5Aw3D0AZwo7cZbWpYyNwKJByhL14jO2L9CBna89j9VJq3G+7jwA5dTunjiVu7C+EOO9xkPvqcf049NR1Vxl859xJWaLGU2mJjS2NsJoNsIiW1DeVI6alm70EhHZhAjzjqFHhQhN0FXpxXUY4uqPAS6S+rESV3L8R+Uuz/5PbFucg8utycW4PeOsB1e+5/uedSO+LWe2wCJbOvxcTUsNiuqLUNVchdjiWJwqPnXFU70bWxvx75B/W++suEe790ioIiLHIsK8Y+hRIUITdEV6cR0Gz1B2XJ7n283HD03VwLzbAPc/ABXZti3QgaVXpuNxr8eh99Rj3J5xGLZ1GPSeeozaPsoaUIZvHY6xe8bi2f3PYqL3RLx8+GVrSLr0enzv49idthvB54Lhl+sH72xvrE5a3e7rP/b/uMOTyYlIPCLMO4YeFSI0QWeZzBa8tDISOoOE+X5psFi6eXfg2A/KXZ4jX9u2QDvR2NqINUlrcCDzQKcCRZOpCa5RrtYg4hrlClmWUdJQgqjCKLSYW5BRlYGP/T/G2D1jL3sfZvjW4ZjoPREf+H2Alw69hM8DP8eUoClXfZH4s2OfIb0yncc4EJGVCPOOoUeFCE3QWRsicqAzSHhldRTM3Q08pWnKHR6P/3Oq09MrmyuxK20XZkTOwFP7nrKGi2nHp6HV3IrSxlKkVaYhsjAS3tneSK9MR1ZVFvZn7MekI5Og99Tjkd2P4Kf4nzoVlMwWM+qN9WhovfJBrjEXYjA3Zi7mn5yPpXFLsTJxJdafXo/E0kRb//pE5AREmHcMPSpEaILOiM6uwF3TfXHnNB9kldZ375vIMrDlBeUuT/Sqq35pWmUaypvKASg7/aZWpKK0sbRTP6awvhDbUrfhXZ93cST7SPdq7YLzdefx5L4n291JefPom9ZdhDtzvef7Hqqbu7ECjojIRkSYdww9KkRoAjWF1U3Q/+APnUHCtui87n+jpD1K4Fk9GjBf+W6Gd7Y39J56PLzzYcw5Mce68Z3eU49Hdz+KB3c+iM+OfYbViauxMXkjlsUvw9yYufgy6Et8EvBJu71ihngOQVxJHGRZRlVzFQrqCmy2Qqi4oRhfBX+F0btGQ++pxxdBX2D+yfk4mHkQsiwjryYPH/p9iGf3P4t3fN7BV8FfR/XvJQAAFiFJREFUwTXKFbNPzMaz+5/FJ/6f4Me4HxFeEI5Wi+2OcCAi6g4R5h1DjwoRmkDNN3sSoTNImOt7tvMfqsoDkvcBOWFA8Bxg5+vK8nTXfsC5mCt+LKIgwvoC78Vr2NZh+DTgU7zq/SpGbh9pPfLgSteo7aOw6NQiLI5d3G7vl19+zaQjk7Do1CKsSVqDTWc2YXvqdnile8Evzw/RRdHYlbYLxwuPX3G1lNlixkf+H1m/35SgKe3OoSIicjQizDuGHhUiNMHV5JU3YKCLhBGzjqHR2MlVPtnByjs7rv0uuW4Aji+94sdazC3WoxCOZB9BakUq1iatRXJZcruvM1lMSC5Lhle6F7zSvXA05yhCzoUgsTQRp8tOo7K5EoCyY/TqxNW4f8f9GLdnHCYdmYQP/D7A8wee7/Rjp38F/wuB+YGIKIhA0Lkg+OX5YVXiKjy882HoPfV4at9TSClPYeAhIocnwrxj6FEhQhNczX/2JkFnkLAmrJNLy0/vBdz7KyHn4GRg38dA+EKgKBGoK77ix+qN9ZgROcMaNGzp0hd9ZVnG6bLT8M/zx8HMg9iTtgfbUrdhY/JG/Df8v/g+/HusTlyNZ/c/e8UwNHzrcHzs/zHO1Z6zaa1ERFoRYd4x9KgQoQmuJLusHrdP9cFw9wA0tHTiLk/KISXsuN0EJOzo9M/55Unej+x+BIX1hddQte3UtNRgx9kdmH9yPmafmG1dBbU2aa11t2QiImchwrxj6FEhQhNcyVvrT0BnkLAhIkf9i0tSgTm3AG43AmlSl37Ol0FfQu+px+TAyZ1eoUVERLYlwrxj6FEhQhN0JDq7AjqDhCeXhMFk7vhlXquGCuCnYcpdnqu8s9ORnOoc6D31eGb/M2gyNV1DxUREdC1EmHcMPSpEaIKOvLEuGjqDhCNJKqdu1xQqS9Bd+wFe7yt78XSBR4wH9J56eKZ4XkO1RER0rUSYdww9KkRogkvF5Ch3eZ5YEnb1nZezQ4AFA5XAs20i0NrxAZdX0tjaiAd3PoiR20fydG0iIo2JMO8YelSI0ASXuvguz+HEq7xQnBsBzPpfJfD4GgBz1zfXO5B5wHpUAxERaUuEeef0oWfFihUYOXIkrrvuOrz66qtd/rwITfBLp/IqoTNIeHxxaMd3eSwWIHQ+MPtPSuA5tbHbP+st6S3oPfU8C4qIyA6IMO+cPvQcOHAAhw4dwhdffMHQo0KWZetdnkMJHdzlkWXAz6Vts8HjP3b7Z6VXpkPvqcffD/39igdmEhFR7xFh3jl96LnI1dWVoUfF/riCq7/LE7FECTsLbgeKky//8y64+ALz9tTt1/R9iIjINkSYdww9KkRoAgBIKarBHVN9MNBFQlRWefs//OUdnjm3AIXx1/Szmk3NeHjXwxixbQRfYCYishMizDuGnku4ubmhb9++1qtPH+f/KzKZLXhheQR0BgmeUXmXf0HS7rY7PFc5LLSz9mXsg95Tj/+G//eavxcREdkGQ48T4Z2ejsmyjJ8CM6EzSJi0JhqWSx9r1ZUA825TDgvtROApaSjBqsRVmHBwAp7Y+wRCz4cisTQR4QXh8Er3wrs+71rPr0opT+mh34qIiLrK2ecdwNCjypmb4FReJV5ccRw6g4RB032RXVbf/gtkGdj9tnKXx89F9fsV1BXg6X1Pq55cPmb3GGxM7v6qLyIisj1nnncXOX3oMZlMaG5uxvTp0zFx4kQ0NzfDaDR2+vOO1AQXapqwL64APwVmYo6UipmHz2DqwWQY9p/Gt15J+GJnPD7xjMVb60/gsUWh0Bkk6AwSXlpxHNHZFZd/w/CFSuD5aRhgbLjqz86rycPjex+H3lOPz459hpTyFATkBeCb0G/wZdCXmH1iNlyjXJFYmsjVWkREdsiR5l13OX3ocXV1RZ8+fdpd48aN6/Tn7b0JGo0mrAvPxlNLw6whprPXAx6B8Io933EIuRh4PG4FCuOuWkNOdQ7G7RkHvaceP0T9ALPF3EO/LRER9RR7n3e24PSh51rZcxMU1zRj/OK2OzZPLAmD+5FUeMWeh2/yBYSklSI8owxRWeWIyalA4vlqpBXXIr+iAU3GqwSTnFAl8Mz9C1AQe8Uvy67OhkuEC0ZtHwW9px6zT8yGRVY5nJSIiOySPc87W2HoUWGvTZBWXItHFgRDZ5DwweaTyCqtV/9QZzRVAYvvVkJPyqErfllEQQSGbR0GvaceQzyHYG7MXD62IiJyYPY672yJoUeFvTWB2SIj8Xw1Rsw6Bp1Bwr92J6DVbKO7KxYLsOcdJfAcnNzhl5Q3lWPyscnWl5LXJq1FvdFGgYuIiDRjb/OuJzD0qLCHJrBYZGyOzMWzP0Xg9qk+1sdZ7kdSbXd3xWRUgo5rP2DZcKD58k0Dq5ur8ar3q9bAs/nMZtv8bCIi0pw9zLuextCjwh6aYElAujXoPOgRhJdXRWJzZO7le+pcC/9pSuBZeCdQntnujyyyBSsTV+L+HfdD76nHJwGfoNnUbLufTUREmrOHedfTGHpUaN0EASnF0Bkk6F39kXS++vIvMLcCWYFA0CzA6z1gw5NKgMk8prrMHLIMVJ8DTqxWAs98nfK/L7EheYP17s6Lh15EY2ujbX45IiKyG1rPu97A0KNCyyYorG7CEFd/6AwSQtJKL/+CC6eBVQ+3nXp+6eV2I7BgILB8JLD+ceVaOxZYM0b53KK72n99ms9lP6K8qRz377gf9227D4H5gagz1vXCb05ERL2NoYc0awJZlvHOhhjoDBLm+p4FagqAjAAgJwwoSgACZgDuf1DCyqZngbgtwLkTyqOp+K3Avo+AH/XKAaFXCkWuNwDrHgMOfwGk+3ZYx+wTs6H31GNx7OLe/QsgIqJexdBDmjWB35kL0BkkPL00HK3JBwG3my4PLR63Aqc2KI+prqa1WTlDq/7/t3f3wVHUeR7HBylRQ0gmRgXPJLCiZXnMEpJo1S4WhIN1MYIn4MnpWRAEKkAS1z9Sd0I0D8CKqQOzu7K4dSo4sHtwhoRHjaxQPORWIm6BeosKCiSSkNEE8gAJCZNkPvfHLK2DhKCZmYT5vV9V80f6R093f+tLfp/0THfXSi1nvF9SvtDs/fLyFXzo+lDxa+P18/U/52noABDiCD3olSbweDx6+Hfep57/356N0uJo71mZolnSxtnSuinS21nSWVfA9qH6XLV108Gio0UB2w4AoG8g9KBXmmD3kW809Lm3tbDwD/IsHew9q3PoT0HbvrvTrad3PC2H06GCAwVB2y4AoPcQetArTfBvr5dr9HNvyr30H7yBp/wPQd3+r8t/LYfToenbp6utoy2o2wYA9A5CD4LeBJ/VNGnoc2+rdOkUb+D58wtB3f6+qn1yOB1K/p9kuZoD9/EZAKBvIfQg6E2QVfSxxi/8L3Xm/f1y87azOnz6sKZvn64Vf10hd6c7YNuuO1+n8UXj5XA6tK9qX8C2AwDoewg9CGoTnGo4r7uzS7Uj75dSXoTcf/mtln+4XAnrEqybA87ZMcf6yKmto03FR4u1sGyhFpUt0tZjW7X9+HYdbzz+g8JRe2e73vzbm/rZf/9MDqdD2f+bHahDBAD0UYQeBLUJfrXhkP5l4QopL0Inf3Ovntg23XqK+aKyRXp82+NyOB2aUDRBD258UD91/tQKQ5e+kv6YpGlbp2lG6QylvZemBTsXaN7OeUp7L01z/zxXs3fM1qx3Z2lm6UxNLJ4oh9OhUetGqeBAAXdcBgADEXoQtCY4VntOdy7cps/z4uXJi9CckkfkcDr0+LbHre/WnGk9YwWfkWtHamLxRGXtzdL71e+r5IsSrfjrCr104CU9veNpPbDhgS4D0eVes96dpRONJ4JyrACAvofQg6A1wcKST/Qf2VlSXoT+snqsHE6HJm+a/L2PqTwej2rO1eh8+/krvp/H41HThSZ93fy1KhordLzxuCoaK/RV01c6efakqs9Vq+ZcjVzNLp0+f9p/T2sHAFyTCD0IShPUnWvTqOwSnc6LVXtepKYVp8jhdGj3V7sDvm0AACRCDxScJli150stz54j5UVo+1vT5HA6lPpuKmdfAABBQ+hBwJugo9OjX760TU25Q3RhcbT++e9neQ5+fTCg2wUA4LsIPQh4E+z+/BstzV4gT16Estf/wrosHQCAYCL0IOBNMHdNuapzf6I9BYPlcDr04MYH9U3LNwHdJgAAlyL0IKBNUFXfoozs5+XJi9C/Ou/jTsgAgF5D6EFAm2Dp9k91KCdRW5ffbj3gky8vAwB6A6EHAWuCv1U3amr273R6sV0PrPHedfmT2k8Csi0AALpD6EFAmsDd0anJv9mtfS88oH///U/kcDpUcKDA79sBAOBqEXoQkCb4/a7PtemFFO0tuM375eWiX/C8KwBAryL0wO9NcNTVpPUvTFPl0puVvGaEHE6HyqrK/LoNAAB+KEIP/NoE5y906LWCX6n0P4fon1b/oxxOh5Z9sMxv7w8AwI9F6IFfm2Dp63P00Ov3WE82z30/V52eTr+9PwAAPxahB35rgvfKnYp/0/tx1oziR7X/1H4uTwcA9BmEnhDhdruVkZGhqKgoRUVFKTMzU+3t7Ve1rr+aoLa+XvNfH6vl6zP98n4AAPgToSdE5ObmKjExUS6XSzU1NYqPj9fixYuval0TmgAAABPmOyNCT0xMjDZv3mz9XFxcrLi4uKta14QmAADAhPku5ENPfX29bDabKioqrGUnTpyQzWZTY2Njt+ub0AQAAJgw34V86Dl58qRsNpsaGhqsZReDUFVV1ff+fX5+vvr162e9bLaQLxEAAISeUHAx4FRWVlrLONMDAIAvE+a7kA89kvc7PVu2bLF+LikpUWxs7FWta0ITAABgwnxnROjJyclRUlKSXC6XXC6XEhISuHoLAIDvMGG+MyL0uN1upaeny263y263KyMjI+j36QEAoC8zYb4zIvT0hAlNAACACfMdoacbJjQBAAAmzHeEnm6Y0AQAAJgw3xF6umFCEwAAYMJ8R+jphglNAACACfMdoacbJjQBAAAmzHeEnm7YbDafx1L09OXv97tWX9SBOlAH6kAd+lYdTHjsUugfYR/Tr1/oJ+mrQR28qIMXdfCiDl7UwYs6+B+hJ8hoYi/q4EUdvKiDF3Xwog5e1MH/CD1BRhN7UQcv6uBFHbyogxd18KIO/kfoCbL8/Pze3oU+gTp4UQcv6uBFHbyogxd18D9CDwAAMAKhBwAAGIHQAwAAjEDoAQAARiD0BInb7VZGRoaioqIUFRWlzMxMtbe39/Zu+VVqaqquv/56DRw40HodPXrUGm9qatKTTz6pQYMG6bbbbtOSJUt81j916pRSUlIUFham2NhYvfbaa8E+hB9l5cqVSkpK0oABA/TYY4/5jPX0mD/77DONHj1aN910k+6++25t3bo14MfTE1eqRXJysgYMGODTH21tbdZ4qNSira1Nc+fO1bBhwxQeHq577rlHq1evtsZN6Ynu6mBKPyxatEhxcXEaNGiQbr/9dj377LO6cOGCNW5KP/QVhJ4gyc3NVWJiolwul2pqahQfH6/Fixf39m75VWpqqrKysrocnzlzplJSUtTQ0KCjR48qNjZWa9eutcbHjh2ruXPnqrm5WR988IEiIyO1d+/eYOx6j5SUlGjz5s3KyMj43kTfk2N2u90aPny48vPz1draqu3bt2vgwIH68ssvg3p8P8SVapGcnKyVK1d2uW6o1KK5uVk5OTk6duyYPB6PysvLZbfbtXPnTknm9ER3dTClH44cOaKzZ89Kkurq6jRu3Di9+OKL1rgp/dBXEHqCJCYmRps3b7Z+Li4uVlxcXC/ukf9dKfS0tLRowIAB+uijj6xlK1as0NixYyVJx44dU//+/VVXV2eNZ2ZmaubMmYHdaT/Ky8vzmeh7esy7du1SdHS0zxnByZMnKzc3N9CH0mOX1kK68iQXyrWQpKlTpyo/P9/onpC+rYNkZj/U1dVp/Pjxmj17tiSzf0f0FkJPENTX18tms6miosJaduLECdlsNjU2NvbejvlZamqq9fHdiBEjtGrVKmvs0KFDuu6669TZ2Wkt2717t+x2uyRp06ZNGjp0qM/7rVmzRqNGjQrKvvvDpRN9T4+5sLBQycnJPuO5ubmaMmVKYA7Aj7oKPdHR0br55puVmJiojRs3WmOhXIvW1lbdcccdKi4uNronvlsHyax+ePXVVxUeHi6bzabo6GgdPHhQktm/I3oLoScITp48KZvNpoaGBmvZxSBUVVXVi3vmXwcPHlRtba06OjpUVlamwYMHy+l0SpLKysoUGRnp8+8PHTqk/v37S5LWrVun+Ph4n/FNmzZp+PDhwdl5P7h0ou/pMS9ZskSPPvqoz3hhYaEmTJgQiN33q8uFnvLycjU1Ncntdmvbtm0KCwvTnj17JIVuLTwej5566imNGzdOnZ2dxvbEpXWQzOyHI0eOKCcnR6dOnZJk9u+I3kLoCYKLAaeystJaFopnei61bNkyTZo0SdLV/UUzbNgwn/VNONNzpWMuLCzUuHHjfMavlb/iLhd6LpWWlqaMjAxJoVkLj8ejefPm6b777rP+n5vYE5erw+WEej9cVFRUpIkTJ0oysx96G6EnSGJiYrRlyxbr55KSEsXGxvbiHgVeQUGBHn74YUnffnb98ccfW+Mvv/yyxowZI+nbz65Pnz5tjT/zzDOaMWNGcHe6B7r6Ts+PPeZdu3bplltuUUdHhzX+yCOPKCcnJ9CH0mNXE3rmz5+v9PR0SaFXC4/HowULFighIUH19fXWctN6oqs6XE4o98N3rV+/Xnfeeack8/qhLyD0BElOTo6SkpLkcrnkcrmUkJAQcldvvfXWWzp79qw8Ho/279+vIUOG6I033rDGZ8yYoUmTJqmxsVFffPGF4uLifK5SGDNmjNLS0tTS0qIDBw7IbrdfE1dvtbe3q7W1Vc8//7ymTp2q1tZW65LUnhzzxSszlixZora2Nr3zzjt9/sqMrmrR0NCg0tJSnT9/Xh0dHSotLdXAgQOtK3mk0KpFenq6Ro4c6TNZXWRST3RVB5P6YdWqVTpz5ow8Ho8OHz6sESNGaP78+da4Sf3QFxB6gsTtdis9PV12u112u10ZGRkhd5+eMWPGKDIyUuHh4br33nv1yiuv+Iw3NTXpiSeeUHh4uG699dbvhb7q6mo99NBDCgsLU0xMzDVzn568vDzZbDaf18UvF/b0mD/99FONHj1aN954o+666y6fs4V9UVe1qK2t1f33369BgwYpIiJCo0aN0oYNG3zWDZVaVFZWymaz6YYbbvC5B828efMkmdMTV6qDSf2QkpKi6OhohYWFadiwYcrKylJLS4s1bko/9BWEHgAAYARCDwAAMAKhBwAAGIHQAwAAjEDoAQAARiD0AAAAIxB6AACAEQg9AADACIQeAABgBEIPAAAwAqEHAAAYgdADAACMQOgBAABGIPQAAAAjEHoAAIARCD0AAMAIhB4AAGAEQg8AADACoQcAABiB0AMAAIxA6AEAAEYg9AAAACMQegAAgBEIPQAAwAiEHgAAYARCDwAAMAKhBwAAGIHQAwAAjEDoAQAARvh/SvyRz1lFv3oAAAAASUVORK5CYII=\" width=\"639.85\">"
      ],
      "text/plain": [
       "<IPython.core.display.HTML object>"
      ]
     },
     "metadata": {},
     "output_type": "display_data"
    },
    {
     "data": {
      "text/plain": [
       "[<matplotlib.lines.Line2D at 0x7f27dec62fa0>]"
      ]
     },
     "execution_count": 49,
     "metadata": {},
     "output_type": "execute_result"
    }
   ],
   "source": [
    "# plotting against persistence and perfect prediction\n",
    "from utils.custom_loss import Balance\n",
    "import matplotlib.pyplot as plt\n",
    "perfect_bal = Balance(1e7, 10, 100, (0,87000), 'minmax')\n",
    "perfect_bal.update(test[1][18:], test[1][18:], test[0][18:,-1,1])\n",
    "\n",
    "pred_bal = Balance(1e7, 10, 100, (0,87000), 'minmax')\n",
    "pred_bal.update(run.predictions[18:], test[1][18:], test[0][18:,-1,1])\n",
    "\n",
    "persist_bal = Balance(1e7, 10, 100, (0,87000), 'minmax')\n",
    "temp_persist = persistence[18:] + test[0][:-18,-1,1] - test[0][18:,-1,1] # change to difference with y0 instead of y-18\n",
    "persist_bal.update(temp_persist, test[1][18:], test[0][18:,-1,1])\n",
    "\n",
    "plt.plot(perfect_bal.balance_list)\n",
    "plt.plot(pred_bal.balance_list)\n",
    "plt.plot(persist_bal.balance_list)"
   ]
  },
  {
   "cell_type": "code",
   "execution_count": 24,
   "metadata": {},
   "outputs": [
    {
     "data": {
      "text/plain": [
       "0"
      ]
     },
     "execution_count": 24,
     "metadata": {},
     "output_type": "execute_result"
    },
    {
     "data": {
      "image/png": "[encoded data removed]",
      "text/plain": [
       "<Figure size 432x288 with 1 Axes>"
      ]
     },
     "metadata": {
      "needs_background": "light"
     },
     "output_type": "display_data"
    }
   ],
   "source": [
    "# # Visualise Lagged Correlation\n",
    "\n",
    "from utils.visuals import lagged_correlation# calculate lag\n",
    "corr = lagged_correlation(stats[0]['predictions'], test[1], plot=True)\n",
    "np.amax(corr) \n",
    "np.argmax(corr)   "
   ]
  },
  {
   "cell_type": "code",
   "execution_count": 21,
   "metadata": {
    "scrolled": true
   },
   "outputs": [
    {
     "data": {
      "application/javascript": [
       "/* Put everything inside the global mpl namespace */\n",
       "window.mpl = {};\n",
       "\n",
       "\n",
       "mpl.get_websocket_type = function() {\n",
       "    if (typeof(WebSocket) !== 'undefined') {\n",
       "        return WebSocket;\n",
       "    } else if (typeof(MozWebSocket) !== 'undefined') {\n",
       "        return MozWebSocket;\n",
       "    } else {\n",
       "        alert('Your browser does not have WebSocket support. ' +\n",
       "              'Please try Chrome, Safari or Firefox ≥ 6. ' +\n",
       "              'Firefox 4 and 5 are also supported but you ' +\n",
       "              'have to enable WebSockets in about:config.');\n",
       "    };\n",
       "}\n",
       "\n",
       "mpl.figure = function(figure_id, websocket, ondownload, parent_element) {\n",
       "    this.id = figure_id;\n",
       "\n",
       "    this.ws = websocket;\n",
       "\n",
       "    this.supports_binary = (this.ws.binaryType != undefined);\n",
       "\n",
       "    if (!this.supports_binary) {\n",
       "        var warnings = document.getElementById(\"mpl-warnings\");\n",
       "        if (warnings) {\n",
       "            warnings.style.display = 'block';\n",
       "            warnings.textContent = (\n",
       "                \"This browser does not support binary websocket messages. \" +\n",
       "                    \"Performance may be slow.\");\n",
       "        }\n",
       "    }\n",
       "\n",
       "    this.imageObj = new Image();\n",
       "\n",
       "    this.context = undefined;\n",
       "    this.message = undefined;\n",
       "    this.canvas = undefined;\n",
       "    this.rubberband_canvas = undefined;\n",
       "    this.rubberband_context = undefined;\n",
       "    this.format_dropdown = undefined;\n",
       "\n",
       "    this.image_mode = 'full';\n",
       "\n",
       "    this.root = $('<div/>');\n",
       "    this._root_extra_style(this.root)\n",
       "    this.root.attr('style', 'display: inline-block');\n",
       "\n",
       "    $(parent_element).append(this.root);\n",
       "\n",
       "    this._init_header(this);\n",
       "    this._init_canvas(this);\n",
       "    this._init_toolbar(this);\n",
       "\n",
       "    var fig = this;\n",
       "\n",
       "    this.waiting = false;\n",
       "\n",
       "    this.ws.onopen =  function () {\n",
       "            fig.send_message(\"supports_binary\", {value: fig.supports_binary});\n",
       "            fig.send_message(\"send_image_mode\", {});\n",
       "            if (mpl.ratio != 1) {\n",
       "                fig.send_message(\"set_dpi_ratio\", {'dpi_ratio': mpl.ratio});\n",
       "            }\n",
       "            fig.send_message(\"refresh\", {});\n",
       "        }\n",
       "\n",
       "    this.imageObj.onload = function() {\n",
       "            if (fig.image_mode == 'full') {\n",
       "                // Full images could contain transparency (where diff images\n",
       "                // almost always do), so we need to clear the canvas so that\n",
       "                // there is no ghosting.\n",
       "                fig.context.clearRect(0, 0, fig.canvas.width, fig.canvas.height);\n",
       "            }\n",
       "            fig.context.drawImage(fig.imageObj, 0, 0);\n",
       "        };\n",
       "\n",
       "    this.imageObj.onunload = function() {\n",
       "        fig.ws.close();\n",
       "    }\n",
       "\n",
       "    this.ws.onmessage = this._make_on_message_function(this);\n",
       "\n",
       "    this.ondownload = ondownload;\n",
       "}\n",
       "\n",
       "mpl.figure.prototype._init_header = function() {\n",
       "    var titlebar = $(\n",
       "        '<div class=\"ui-dialog-titlebar ui-widget-header ui-corner-all ' +\n",
       "        'ui-helper-clearfix\"/>');\n",
       "    var titletext = $(\n",
       "        '<div class=\"ui-dialog-title\" style=\"width: 100%; ' +\n",
       "        'text-align: center; padding: 3px;\"/>');\n",
       "    titlebar.append(titletext)\n",
       "    this.root.append(titlebar);\n",
       "    this.header = titletext[0];\n",
       "}\n",
       "\n",
       "\n",
       "\n",
       "mpl.figure.prototype._canvas_extra_style = function(canvas_div) {\n",
       "\n",
       "}\n",
       "\n",
       "\n",
       "mpl.figure.prototype._root_extra_style = function(canvas_div) {\n",
       "\n",
       "}\n",
       "\n",
       "mpl.figure.prototype._init_canvas = function() {\n",
       "    var fig = this;\n",
       "\n",
       "    var canvas_div = $('<div/>');\n",
       "\n",
       "    canvas_div.attr('style', 'position: relative; clear: both; outline: 0');\n",
       "\n",
       "    function canvas_keyboard_event(event) {\n",
       "        return fig.key_event(event, event['data']);\n",
       "    }\n",
       "\n",
       "    canvas_div.keydown('key_press', canvas_keyboard_event);\n",
       "    canvas_div.keyup('key_release', canvas_keyboard_event);\n",
       "    this.canvas_div = canvas_div\n",
       "    this._canvas_extra_style(canvas_div)\n",
       "    this.root.append(canvas_div);\n",
       "\n",
       "    var canvas = $('<canvas/>');\n",
       "    canvas.addClass('mpl-canvas');\n",
       "    canvas.attr('style', \"left: 0; top: 0; z-index: 0; outline: 0\")\n",
       "\n",
       "    this.canvas = canvas[0];\n",
       "    this.context = canvas[0].getContext(\"2d\");\n",
       "\n",
       "    var backingStore = this.context.backingStorePixelRatio ||\n",
       "\tthis.context.webkitBackingStorePixelRatio ||\n",
       "\tthis.context.mozBackingStorePixelRatio ||\n",
       "\tthis.context.msBackingStorePixelRatio ||\n",
       "\tthis.context.oBackingStorePixelRatio ||\n",
       "\tthis.context.backingStorePixelRatio || 1;\n",
       "\n",
       "    mpl.ratio = (window.devicePixelRatio || 1) / backingStore;\n",
       "\n",
       "    var rubberband = $('<canvas/>');\n",
       "    rubberband.attr('style', \"position: absolute; left: 0; top: 0; z-index: 1;\")\n",
       "\n",
       "    var pass_mouse_events = true;\n",
       "\n",
       "    canvas_div.resizable({\n",
       "        start: function(event, ui) {\n",
       "            pass_mouse_events = false;\n",
       "        },\n",
       "        resize: function(event, ui) {\n",
       "            fig.request_resize(ui.size.width, ui.size.height);\n",
       "        },\n",
       "        stop: function(event, ui) {\n",
       "            pass_mouse_events = true;\n",
       "            fig.request_resize(ui.size.width, ui.size.height);\n",
       "        },\n",
       "    });\n",
       "\n",
       "    function mouse_event_fn(event) {\n",
       "        if (pass_mouse_events)\n",
       "            return fig.mouse_event(event, event['data']);\n",
       "    }\n",
       "\n",
       "    rubberband.mousedown('button_press', mouse_event_fn);\n",
       "    rubberband.mouseup('button_release', mouse_event_fn);\n",
       "    // Throttle sequential mouse events to 1 every 20ms.\n",
       "    rubberband.mousemove('motion_notify', mouse_event_fn);\n",
       "\n",
       "    rubberband.mouseenter('figure_enter', mouse_event_fn);\n",
       "    rubberband.mouseleave('figure_leave', mouse_event_fn);\n",
       "\n",
       "    canvas_div.on(\"wheel\", function (event) {\n",
       "        event = event.originalEvent;\n",
       "        event['data'] = 'scroll'\n",
       "        if (event.deltaY < 0) {\n",
       "            event.step = 1;\n",
       "        } else {\n",
       "            event.step = -1;\n",
       "        }\n",
       "        mouse_event_fn(event);\n",
       "    });\n",
       "\n",
       "    canvas_div.append(canvas);\n",
       "    canvas_div.append(rubberband);\n",
       "\n",
       "    this.rubberband = rubberband;\n",
       "    this.rubberband_canvas = rubberband[0];\n",
       "    this.rubberband_context = rubberband[0].getContext(\"2d\");\n",
       "    this.rubberband_context.strokeStyle = \"#000000\";\n",
       "\n",
       "    this._resize_canvas = function(width, height) {\n",
       "        // Keep the size of the canvas, canvas container, and rubber band\n",
       "        // canvas in synch.\n",
       "        canvas_div.css('width', width)\n",
       "        canvas_div.css('height', height)\n",
       "\n",
       "        canvas.attr('width', width * mpl.ratio);\n",
       "        canvas.attr('height', height * mpl.ratio);\n",
       "        canvas.attr('style', 'width: ' + width + 'px; height: ' + height + 'px;');\n",
       "\n",
       "        rubberband.attr('width', width);\n",
       "        rubberband.attr('height', height);\n",
       "    }\n",
       "\n",
       "    // Set the figure to an initial 600x600px, this will subsequently be updated\n",
       "    // upon first draw.\n",
       "    this._resize_canvas(600, 600);\n",
       "\n",
       "    // Disable right mouse context menu.\n",
       "    $(this.rubberband_canvas).bind(\"contextmenu\",function(e){\n",
       "        return false;\n",
       "    });\n",
       "\n",
       "    function set_focus () {\n",
       "        canvas.focus();\n",
       "        canvas_div.focus();\n",
       "    }\n",
       "\n",
       "    window.setTimeout(set_focus, 100);\n",
       "}\n",
       "\n",
       "mpl.figure.prototype._init_toolbar = function() {\n",
       "    var fig = this;\n",
       "\n",
       "    var nav_element = $('<div/>');\n",
       "    nav_element.attr('style', 'width: 100%');\n",
       "    this.root.append(nav_element);\n",
       "\n",
       "    // Define a callback function for later on.\n",
       "    function toolbar_event(event) {\n",
       "        return fig.toolbar_button_onclick(event['data']);\n",
       "    }\n",
       "    function toolbar_mouse_event(event) {\n",
       "        return fig.toolbar_button_onmouseover(event['data']);\n",
       "    }\n",
       "\n",
       "    for(var toolbar_ind in mpl.toolbar_items) {\n",
       "        var name = mpl.toolbar_items[toolbar_ind][0];\n",
       "        var tooltip = mpl.toolbar_items[toolbar_ind][1];\n",
       "        var image = mpl.toolbar_items[toolbar_ind][2];\n",
       "        var method_name = mpl.toolbar_items[toolbar_ind][3];\n",
       "\n",
       "        if (!name) {\n",
       "            // put a spacer in here.\n",
       "            continue;\n",
       "        }\n",
       "        var button = $('<button/>');\n",
       "        button.addClass('ui-button ui-widget ui-state-default ui-corner-all ' +\n",
       "                        'ui-button-icon-only');\n",
       "        button.attr('role', 'button');\n",
       "        button.attr('aria-disabled', 'false');\n",
       "        button.click(method_name, toolbar_event);\n",
       "        button.mouseover(tooltip, toolbar_mouse_event);\n",
       "\n",
       "        var icon_img = $('<span/>');\n",
       "        icon_img.addClass('ui-button-icon-primary ui-icon');\n",
       "        icon_img.addClass(image);\n",
       "        icon_img.addClass('ui-corner-all');\n",
       "\n",
       "        var tooltip_span = $('<span/>');\n",
       "        tooltip_span.addClass('ui-button-text');\n",
       "        tooltip_span.html(tooltip);\n",
       "\n",
       "        button.append(icon_img);\n",
       "        button.append(tooltip_span);\n",
       "\n",
       "        nav_element.append(button);\n",
       "    }\n",
       "\n",
       "    var fmt_picker_span = $('<span/>');\n",
       "\n",
       "    var fmt_picker = $('<select/>');\n",
       "    fmt_picker.addClass('mpl-toolbar-option ui-widget ui-widget-content');\n",
       "    fmt_picker_span.append(fmt_picker);\n",
       "    nav_element.append(fmt_picker_span);\n",
       "    this.format_dropdown = fmt_picker[0];\n",
       "\n",
       "    for (var ind in mpl.extensions) {\n",
       "        var fmt = mpl.extensions[ind];\n",
       "        var option = $(\n",
       "            '<option/>', {selected: fmt === mpl.default_extension}).html(fmt);\n",
       "        fmt_picker.append(option);\n",
       "    }\n",
       "\n",
       "    // Add hover states to the ui-buttons\n",
       "    $( \".ui-button\" ).hover(\n",
       "        function() { $(this).addClass(\"ui-state-hover\");},\n",
       "        function() { $(this).removeClass(\"ui-state-hover\");}\n",
       "    );\n",
       "\n",
       "    var status_bar = $('<span class=\"mpl-message\"/>');\n",
       "    nav_element.append(status_bar);\n",
       "    this.message = status_bar[0];\n",
       "}\n",
       "\n",
       "mpl.figure.prototype.request_resize = function(x_pixels, y_pixels) {\n",
       "    // Request matplotlib to resize the figure. Matplotlib will then trigger a resize in the client,\n",
       "    // which will in turn request a refresh of the image.\n",
       "    this.send_message('resize', {'width': x_pixels, 'height': y_pixels});\n",
       "}\n",
       "\n",
       "mpl.figure.prototype.send_message = function(type, properties) {\n",
       "    properties['type'] = type;\n",
       "    properties['figure_id'] = this.id;\n",
       "    this.ws.send(JSON.stringify(properties));\n",
       "}\n",
       "\n",
       "mpl.figure.prototype.send_draw_message = function() {\n",
       "    if (!this.waiting) {\n",
       "        this.waiting = true;\n",
       "        this.ws.send(JSON.stringify({type: \"draw\", figure_id: this.id}));\n",
       "    }\n",
       "}\n",
       "\n",
       "\n",
       "mpl.figure.prototype.handle_save = function(fig, msg) {\n",
       "    var format_dropdown = fig.format_dropdown;\n",
       "    var format = format_dropdown.options[format_dropdown.selectedIndex].value;\n",
       "    fig.ondownload(fig, format);\n",
       "}\n",
       "\n",
       "\n",
       "mpl.figure.prototype.handle_resize = function(fig, msg) {\n",
       "    var size = msg['size'];\n",
       "    if (size[0] != fig.canvas.width || size[1] != fig.canvas.height) {\n",
       "        fig._resize_canvas(size[0], size[1]);\n",
       "        fig.send_message(\"refresh\", {});\n",
       "    };\n",
       "}\n",
       "\n",
       "mpl.figure.prototype.handle_rubberband = function(fig, msg) {\n",
       "    var x0 = msg['x0'] / mpl.ratio;\n",
       "    var y0 = (fig.canvas.height - msg['y0']) / mpl.ratio;\n",
       "    var x1 = msg['x1'] / mpl.ratio;\n",
       "    var y1 = (fig.canvas.height - msg['y1']) / mpl.ratio;\n",
       "    x0 = Math.floor(x0) + 0.5;\n",
       "    y0 = Math.floor(y0) + 0.5;\n",
       "    x1 = Math.floor(x1) + 0.5;\n",
       "    y1 = Math.floor(y1) + 0.5;\n",
       "    var min_x = Math.min(x0, x1);\n",
       "    var min_y = Math.min(y0, y1);\n",
       "    var width = Math.abs(x1 - x0);\n",
       "    var height = Math.abs(y1 - y0);\n",
       "\n",
       "    fig.rubberband_context.clearRect(\n",
       "        0, 0, fig.canvas.width / mpl.ratio, fig.canvas.height / mpl.ratio);\n",
       "\n",
       "    fig.rubberband_context.strokeRect(min_x, min_y, width, height);\n",
       "}\n",
       "\n",
       "mpl.figure.prototype.handle_figure_label = function(fig, msg) {\n",
       "    // Updates the figure title.\n",
       "    fig.header.textContent = msg['label'];\n",
       "}\n",
       "\n",
       "mpl.figure.prototype.handle_cursor = function(fig, msg) {\n",
       "    var cursor = msg['cursor'];\n",
       "    switch(cursor)\n",
       "    {\n",
       "    case 0:\n",
       "        cursor = 'pointer';\n",
       "        break;\n",
       "    case 1:\n",
       "        cursor = 'default';\n",
       "        break;\n",
       "    case 2:\n",
       "        cursor = 'crosshair';\n",
       "        break;\n",
       "    case 3:\n",
       "        cursor = 'move';\n",
       "        break;\n",
       "    }\n",
       "    fig.rubberband_canvas.style.cursor = cursor;\n",
       "}\n",
       "\n",
       "mpl.figure.prototype.handle_message = function(fig, msg) {\n",
       "    fig.message.textContent = msg['message'];\n",
       "}\n",
       "\n",
       "mpl.figure.prototype.handle_draw = function(fig, msg) {\n",
       "    // Request the server to send over a new figure.\n",
       "    fig.send_draw_message();\n",
       "}\n",
       "\n",
       "mpl.figure.prototype.handle_image_mode = function(fig, msg) {\n",
       "    fig.image_mode = msg['mode'];\n",
       "}\n",
       "\n",
       "mpl.figure.prototype.updated_canvas_event = function() {\n",
       "    // Called whenever the canvas gets updated.\n",
       "    this.send_message(\"ack\", {});\n",
       "}\n",
       "\n",
       "// A function to construct a web socket function for onmessage handling.\n",
       "// Called in the figure constructor.\n",
       "mpl.figure.prototype._make_on_message_function = function(fig) {\n",
       "    return function socket_on_message(evt) {\n",
       "        if (evt.data instanceof Blob) {\n",
       "            /* FIXME: We get \"Resource interpreted as Image but\n",
       "             * transferred with MIME type text/plain:\" errors on\n",
       "             * Chrome.  But how to set the MIME type?  It doesn't seem\n",
       "             * to be part of the websocket stream */\n",
       "            evt.data.type = \"image/png\";\n",
       "\n",
       "            /* Free the memory for the previous frames */\n",
       "            if (fig.imageObj.src) {\n",
       "                (window.URL || window.webkitURL).revokeObjectURL(\n",
       "                    fig.imageObj.src);\n",
       "            }\n",
       "\n",
       "            fig.imageObj.src = (window.URL || window.webkitURL).createObjectURL(\n",
       "                evt.data);\n",
       "            fig.updated_canvas_event();\n",
       "            fig.waiting = false;\n",
       "            return;\n",
       "        }\n",
       "        else if (typeof evt.data === 'string' && evt.data.slice(0, 21) == \"data:image/png;base64\") {\n",
       "            fig.imageObj.src = evt.data;\n",
       "            fig.updated_canvas_event();\n",
       "            fig.waiting = false;\n",
       "            return;\n",
       "        }\n",
       "\n",
       "        var msg = JSON.parse(evt.data);\n",
       "        var msg_type = msg['type'];\n",
       "\n",
       "        // Call the  \"handle_{type}\" callback, which takes\n",
       "        // the figure and JSON message as its only arguments.\n",
       "        try {\n",
       "            var callback = fig[\"handle_\" + msg_type];\n",
       "        } catch (e) {\n",
       "            console.log(\"No handler for the '\" + msg_type + \"' message type: \", msg);\n",
       "            return;\n",
       "        }\n",
       "\n",
       "        if (callback) {\n",
       "            try {\n",
       "                // console.log(\"Handling '\" + msg_type + \"' message: \", msg);\n",
       "                callback(fig, msg);\n",
       "            } catch (e) {\n",
       "                console.log(\"Exception inside the 'handler_\" + msg_type + \"' callback:\", e, e.stack, msg);\n",
       "            }\n",
       "        }\n",
       "    };\n",
       "}\n",
       "\n",
       "// from http://stackoverflow.com/questions/1114465/getting-mouse-location-in-canvas\n",
       "mpl.findpos = function(e) {\n",
       "    //this section is from http://www.quirksmode.org/js/events_properties.html\n",
       "    var targ;\n",
       "    if (!e)\n",
       "        e = window.event;\n",
       "    if (e.target)\n",
       "        targ = e.target;\n",
       "    else if (e.srcElement)\n",
       "        targ = e.srcElement;\n",
       "    if (targ.nodeType == 3) // defeat Safari bug\n",
       "        targ = targ.parentNode;\n",
       "\n",
       "    // jQuery normalizes the pageX and pageY\n",
       "    // pageX,Y are the mouse positions relative to the document\n",
       "    // offset() returns the position of the element relative to the document\n",
       "    var x = e.pageX - $(targ).offset().left;\n",
       "    var y = e.pageY - $(targ).offset().top;\n",
       "\n",
       "    return {\"x\": x, \"y\": y};\n",
       "};\n",
       "\n",
       "/*\n",
       " * return a copy of an object with only non-object keys\n",
       " * we need this to avoid circular references\n",
       " * http://stackoverflow.com/a/24161582/3208463\n",
       " */\n",
       "function simpleKeys (original) {\n",
       "  return Object.keys(original).reduce(function (obj, key) {\n",
       "    if (typeof original[key] !== 'object')\n",
       "        obj[key] = original[key]\n",
       "    return obj;\n",
       "  }, {});\n",
       "}\n",
       "\n",
       "mpl.figure.prototype.mouse_event = function(event, name) {\n",
       "    var canvas_pos = mpl.findpos(event)\n",
       "\n",
       "    if (name === 'button_press')\n",
       "    {\n",
       "        this.canvas.focus();\n",
       "        this.canvas_div.focus();\n",
       "    }\n",
       "\n",
       "    var x = canvas_pos.x * mpl.ratio;\n",
       "    var y = canvas_pos.y * mpl.ratio;\n",
       "\n",
       "    this.send_message(name, {x: x, y: y, button: event.button,\n",
       "                             step: event.step,\n",
       "                             guiEvent: simpleKeys(event)});\n",
       "\n",
       "    /* This prevents the web browser from automatically changing to\n",
       "     * the text insertion cursor when the button is pressed.  We want\n",
       "     * to control all of the cursor setting manually through the\n",
       "     * 'cursor' event from matplotlib */\n",
       "    event.preventDefault();\n",
       "    return false;\n",
       "}\n",
       "\n",
       "mpl.figure.prototype._key_event_extra = function(event, name) {\n",
       "    // Handle any extra behaviour associated with a key event\n",
       "}\n",
       "\n",
       "mpl.figure.prototype.key_event = function(event, name) {\n",
       "\n",
       "    // Prevent repeat events\n",
       "    if (name == 'key_press')\n",
       "    {\n",
       "        if (event.which === this._key)\n",
       "            return;\n",
       "        else\n",
       "            this._key = event.which;\n",
       "    }\n",
       "    if (name == 'key_release')\n",
       "        this._key = null;\n",
       "\n",
       "    var value = '';\n",
       "    if (event.ctrlKey && event.which != 17)\n",
       "        value += \"ctrl+\";\n",
       "    if (event.altKey && event.which != 18)\n",
       "        value += \"alt+\";\n",
       "    if (event.shiftKey && event.which != 16)\n",
       "        value += \"shift+\";\n",
       "\n",
       "    value += 'k';\n",
       "    value += event.which.toString();\n",
       "\n",
       "    this._key_event_extra(event, name);\n",
       "\n",
       "    this.send_message(name, {key: value,\n",
       "                             guiEvent: simpleKeys(event)});\n",
       "    return false;\n",
       "}\n",
       "\n",
       "mpl.figure.prototype.toolbar_button_onclick = function(name) {\n",
       "    if (name == 'download') {\n",
       "        this.handle_save(this, null);\n",
       "    } else {\n",
       "        this.send_message(\"toolbar_button\", {name: name});\n",
       "    }\n",
       "};\n",
       "\n",
       "mpl.figure.prototype.toolbar_button_onmouseover = function(tooltip) {\n",
       "    this.message.textContent = tooltip;\n",
       "};\n",
       "mpl.toolbar_items = [[\"Home\", \"Reset original view\", \"fa fa-home icon-home\", \"home\"], [\"Back\", \"Back to previous view\", \"fa fa-arrow-left icon-arrow-left\", \"back\"], [\"Forward\", \"Forward to next view\", \"fa fa-arrow-right icon-arrow-right\", \"forward\"], [\"\", \"\", \"\", \"\"], [\"Pan\", \"Pan axes with left mouse, zoom with right\", \"fa fa-arrows icon-move\", \"pan\"], [\"Zoom\", \"Zoom to rectangle\", \"fa fa-square-o icon-check-empty\", \"zoom\"], [\"\", \"\", \"\", \"\"], [\"Download\", \"Download plot\", \"fa fa-floppy-o icon-save\", \"download\"]];\n",
       "\n",
       "mpl.extensions = [\"eps\", \"jpeg\", \"pdf\", \"png\", \"ps\", \"raw\", \"svg\", \"tif\"];\n",
       "\n",
       "mpl.default_extension = \"png\";var comm_websocket_adapter = function(comm) {\n",
       "    // Create a \"websocket\"-like object which calls the given IPython comm\n",
       "    // object with the appropriate methods. Currently this is a non binary\n",
       "    // socket, so there is still some room for performance tuning.\n",
       "    var ws = {};\n",
       "\n",
       "    ws.close = function() {\n",
       "        comm.close()\n",
       "    };\n",
       "    ws.send = function(m) {\n",
       "        //console.log('sending', m);\n",
       "        comm.send(m);\n",
       "    };\n",
       "    // Register the callback with on_msg.\n",
       "    comm.on_msg(function(msg) {\n",
       "        //console.log('receiving', msg['content']['data'], msg);\n",
       "        // Pass the mpl event to the overridden (by mpl) onmessage function.\n",
       "        ws.onmessage(msg['content']['data'])\n",
       "    });\n",
       "    return ws;\n",
       "}\n",
       "\n",
       "mpl.mpl_figure_comm = function(comm, msg) {\n",
       "    // This is the function which gets called when the mpl process\n",
       "    // starts-up an IPython Comm through the \"matplotlib\" channel.\n",
       "\n",
       "    var id = msg.content.data.id;\n",
       "    // Get hold of the div created by the display call when the Comm\n",
       "    // socket was opened in Python.\n",
       "    var element = $(\"#\" + id);\n",
       "    var ws_proxy = comm_websocket_adapter(comm)\n",
       "\n",
       "    function ondownload(figure, format) {\n",
       "        window.open(figure.imageObj.src);\n",
       "    }\n",
       "\n",
       "    var fig = new mpl.figure(id, ws_proxy,\n",
       "                           ondownload,\n",
       "                           element.get(0));\n",
       "\n",
       "    // Call onopen now - mpl needs it, as it is assuming we've passed it a real\n",
       "    // web socket which is closed, not our websocket->open comm proxy.\n",
       "    ws_proxy.onopen();\n",
       "\n",
       "    fig.parent_element = element.get(0);\n",
       "    fig.cell_info = mpl.find_output_cell(\"<div id='\" + id + \"'></div>\");\n",
       "    if (!fig.cell_info) {\n",
       "        console.error(\"Failed to find cell for figure\", id, fig);\n",
       "        return;\n",
       "    }\n",
       "\n",
       "    var output_index = fig.cell_info[2]\n",
       "    var cell = fig.cell_info[0];\n",
       "\n",
       "};\n",
       "\n",
       "mpl.figure.prototype.handle_close = function(fig, msg) {\n",
       "    var width = fig.canvas.width/mpl.ratio\n",
       "    fig.root.unbind('remove')\n",
       "\n",
       "    // Update the output cell to use the data from the current canvas.\n",
       "    fig.push_to_output();\n",
       "    var dataURL = fig.canvas.toDataURL();\n",
       "    // Re-enable the keyboard manager in IPython - without this line, in FF,\n",
       "    // the notebook keyboard shortcuts fail.\n",
       "    IPython.keyboard_manager.enable()\n",
       "    $(fig.parent_element).html('<img src=\"' + dataURL + '\" width=\"' + width + '\">');\n",
       "    fig.close_ws(fig, msg);\n",
       "}\n",
       "\n",
       "mpl.figure.prototype.close_ws = function(fig, msg){\n",
       "    fig.send_message('closing', msg);\n",
       "    // fig.ws.close()\n",
       "}\n",
       "\n",
       "mpl.figure.prototype.push_to_output = function(remove_interactive) {\n",
       "    // Turn the data on the canvas into data in the output cell.\n",
       "    var width = this.canvas.width/mpl.ratio\n",
       "    var dataURL = this.canvas.toDataURL();\n",
       "    this.cell_info[1]['text/html'] = '<img src=\"' + dataURL + '\" width=\"' + width + '\">';\n",
       "}\n",
       "\n",
       "mpl.figure.prototype.updated_canvas_event = function() {\n",
       "    // Tell IPython that the notebook contents must change.\n",
       "    IPython.notebook.set_dirty(true);\n",
       "    this.send_message(\"ack\", {});\n",
       "    var fig = this;\n",
       "    // Wait a second, then push the new image to the DOM so\n",
       "    // that it is saved nicely (might be nice to debounce this).\n",
       "    setTimeout(function () { fig.push_to_output() }, 1000);\n",
       "}\n",
       "\n",
       "mpl.figure.prototype._init_toolbar = function() {\n",
       "    var fig = this;\n",
       "\n",
       "    var nav_element = $('<div/>');\n",
       "    nav_element.attr('style', 'width: 100%');\n",
       "    this.root.append(nav_element);\n",
       "\n",
       "    // Define a callback function for later on.\n",
       "    function toolbar_event(event) {\n",
       "        return fig.toolbar_button_onclick(event['data']);\n",
       "    }\n",
       "    function toolbar_mouse_event(event) {\n",
       "        return fig.toolbar_button_onmouseover(event['data']);\n",
       "    }\n",
       "\n",
       "    for(var toolbar_ind in mpl.toolbar_items){\n",
       "        var name = mpl.toolbar_items[toolbar_ind][0];\n",
       "        var tooltip = mpl.toolbar_items[toolbar_ind][1];\n",
       "        var image = mpl.toolbar_items[toolbar_ind][2];\n",
       "        var method_name = mpl.toolbar_items[toolbar_ind][3];\n",
       "\n",
       "        if (!name) { continue; };\n",
       "\n",
       "        var button = $('<button class=\"btn btn-default\" href=\"#\" title=\"' + name + '\"><i class=\"fa ' + image + ' fa-lg\"></i></button>');\n",
       "        button.click(method_name, toolbar_event);\n",
       "        button.mouseover(tooltip, toolbar_mouse_event);\n",
       "        nav_element.append(button);\n",
       "    }\n",
       "\n",
       "    // Add the status bar.\n",
       "    var status_bar = $('<span class=\"mpl-message\" style=\"text-align:right; float: right;\"/>');\n",
       "    nav_element.append(status_bar);\n",
       "    this.message = status_bar[0];\n",
       "\n",
       "    // Add the close button to the window.\n",
       "    var buttongrp = $('<div class=\"btn-group inline pull-right\"></div>');\n",
       "    var button = $('<button class=\"btn btn-mini btn-primary\" href=\"#\" title=\"Stop Interaction\"><i class=\"fa fa-power-off icon-remove icon-large\"></i></button>');\n",
       "    button.click(function (evt) { fig.handle_close(fig, {}); } );\n",
       "    button.mouseover('Stop Interaction', toolbar_mouse_event);\n",
       "    buttongrp.append(button);\n",
       "    var titlebar = this.root.find($('.ui-dialog-titlebar'));\n",
       "    titlebar.prepend(buttongrp);\n",
       "}\n",
       "\n",
       "mpl.figure.prototype._root_extra_style = function(el){\n",
       "    var fig = this\n",
       "    el.on(\"remove\", function(){\n",
       "\tfig.close_ws(fig, {});\n",
       "    });\n",
       "}\n",
       "\n",
       "mpl.figure.prototype._canvas_extra_style = function(el){\n",
       "    // this is important to make the div 'focusable\n",
       "    el.attr('tabindex', 0)\n",
       "    // reach out to IPython and tell the keyboard manager to turn it's self\n",
       "    // off when our div gets focus\n",
       "\n",
       "    // location in version 3\n",
       "    if (IPython.notebook.keyboard_manager) {\n",
       "        IPython.notebook.keyboard_manager.register_events(el);\n",
       "    }\n",
       "    else {\n",
       "        // location in version 2\n",
       "        IPython.keyboard_manager.register_events(el);\n",
       "    }\n",
       "\n",
       "}\n",
       "\n",
       "mpl.figure.prototype._key_event_extra = function(event, name) {\n",
       "    var manager = IPython.notebook.keyboard_manager;\n",
       "    if (!manager)\n",
       "        manager = IPython.keyboard_manager;\n",
       "\n",
       "    // Check for shift+enter\n",
       "    if (event.shiftKey && event.which == 13) {\n",
       "        this.canvas_div.blur();\n",
       "        // select the cell after this one\n",
       "        var index = IPython.notebook.find_cell_index(this.cell_info[0]);\n",
       "        IPython.notebook.select(index + 1);\n",
       "    }\n",
       "}\n",
       "\n",
       "mpl.figure.prototype.handle_save = function(fig, msg) {\n",
       "    fig.ondownload(fig, null);\n",
       "}\n",
       "\n",
       "\n",
       "mpl.find_output_cell = function(html_output) {\n",
       "    // Return the cell and output element which can be found *uniquely* in the notebook.\n",
       "    // Note - this is a bit hacky, but it is done because the \"notebook_saving.Notebook\"\n",
       "    // IPython event is triggered only after the cells have been serialised, which for\n",
       "    // our purposes (turning an active figure into a static one), is too late.\n",
       "    var cells = IPython.notebook.get_cells();\n",
       "    var ncells = cells.length;\n",
       "    for (var i=0; i<ncells; i++) {\n",
       "        var cell = cells[i];\n",
       "        if (cell.cell_type === 'code'){\n",
       "            for (var j=0; j<cell.output_area.outputs.length; j++) {\n",
       "                var data = cell.output_area.outputs[j];\n",
       "                if (data.data) {\n",
       "                    // IPython >= 3 moved mimebundle to data attribute of output\n",
       "                    data = data.data;\n",
       "                }\n",
       "                if (data['text/html'] == html_output) {\n",
       "                    return [cell, data, j];\n",
       "                }\n",
       "            }\n",
       "        }\n",
       "    }\n",
       "}\n",
       "\n",
       "// Register the function which deals with the matplotlib target/channel.\n",
       "// The kernel may be null if the page has been refreshed.\n",
       "if (IPython.notebook.kernel != null) {\n",
       "    IPython.notebook.kernel.comm_manager.register_target('matplotlib', mpl.mpl_figure_comm);\n",
       "}\n"
      ],
      "text/plain": [
       "<IPython.core.display.Javascript object>"
      ]
     },
     "metadata": {},
     "output_type": "display_data"
    },
    {
     "data": {
      "text/html": [
       "<img src=\"data:image/png;base64,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\" width=\"639.85\">"
      ],
      "text/plain": [
       "<IPython.core.display.HTML object>"
      ]
     },
     "metadata": {},
     "output_type": "display_data"
    },
    {
     "data": {
      "text/plain": [
       "<matplotlib.collections.PathCollection at 0x7ff32fcd5280>"
      ]
     },
     "execution_count": 21,
     "metadata": {},
     "output_type": "execute_result"
    }
   ],
   "source": [
    "# plt.scatter(stats[0]['predictions'], test[1])"
   ]
  },
  {
   "cell_type": "code",
   "execution_count": 8,
   "metadata": {
    "scrolled": false
   },
   "outputs": [
    {
     "data": {
      "application/javascript": [
       "/* Put everything inside the global mpl namespace */\n",
       "window.mpl = {};\n",
       "\n",
       "\n",
       "mpl.get_websocket_type = function() {\n",
       "    if (typeof(WebSocket) !== 'undefined') {\n",
       "        return WebSocket;\n",
       "    } else if (typeof(MozWebSocket) !== 'undefined') {\n",
       "        return MozWebSocket;\n",
       "    } else {\n",
       "        alert('Your browser does not have WebSocket support. ' +\n",
       "              'Please try Chrome, Safari or Firefox ≥ 6. ' +\n",
       "              'Firefox 4 and 5 are also supported but you ' +\n",
       "              'have to enable WebSockets in about:config.');\n",
       "    };\n",
       "}\n",
       "\n",
       "mpl.figure = function(figure_id, websocket, ondownload, parent_element) {\n",
       "    this.id = figure_id;\n",
       "\n",
       "    this.ws = websocket;\n",
       "\n",
       "    this.supports_binary = (this.ws.binaryType != undefined);\n",
       "\n",
       "    if (!this.supports_binary) {\n",
       "        var warnings = document.getElementById(\"mpl-warnings\");\n",
       "        if (warnings) {\n",
       "            warnings.style.display = 'block';\n",
       "            warnings.textContent = (\n",
       "                \"This browser does not support binary websocket messages. \" +\n",
       "                    \"Performance may be slow.\");\n",
       "        }\n",
       "    }\n",
       "\n",
       "    this.imageObj = new Image();\n",
       "\n",
       "    this.context = undefined;\n",
       "    this.message = undefined;\n",
       "    this.canvas = undefined;\n",
       "    this.rubberband_canvas = undefined;\n",
       "    this.rubberband_context = undefined;\n",
       "    this.format_dropdown = undefined;\n",
       "\n",
       "    this.image_mode = 'full';\n",
       "\n",
       "    this.root = $('<div/>');\n",
       "    this._root_extra_style(this.root)\n",
       "    this.root.attr('style', 'display: inline-block');\n",
       "\n",
       "    $(parent_element).append(this.root);\n",
       "\n",
       "    this._init_header(this);\n",
       "    this._init_canvas(this);\n",
       "    this._init_toolbar(this);\n",
       "\n",
       "    var fig = this;\n",
       "\n",
       "    this.waiting = false;\n",
       "\n",
       "    this.ws.onopen =  function () {\n",
       "            fig.send_message(\"supports_binary\", {value: fig.supports_binary});\n",
       "            fig.send_message(\"send_image_mode\", {});\n",
       "            if (mpl.ratio != 1) {\n",
       "                fig.send_message(\"set_dpi_ratio\", {'dpi_ratio': mpl.ratio});\n",
       "            }\n",
       "            fig.send_message(\"refresh\", {});\n",
       "        }\n",
       "\n",
       "    this.imageObj.onload = function() {\n",
       "            if (fig.image_mode == 'full') {\n",
       "                // Full images could contain transparency (where diff images\n",
       "                // almost always do), so we need to clear the canvas so that\n",
       "                // there is no ghosting.\n",
       "                fig.context.clearRect(0, 0, fig.canvas.width, fig.canvas.height);\n",
       "            }\n",
       "            fig.context.drawImage(fig.imageObj, 0, 0);\n",
       "        };\n",
       "\n",
       "    this.imageObj.onunload = function() {\n",
       "        fig.ws.close();\n",
       "    }\n",
       "\n",
       "    this.ws.onmessage = this._make_on_message_function(this);\n",
       "\n",
       "    this.ondownload = ondownload;\n",
       "}\n",
       "\n",
       "mpl.figure.prototype._init_header = function() {\n",
       "    var titlebar = $(\n",
       "        '<div class=\"ui-dialog-titlebar ui-widget-header ui-corner-all ' +\n",
       "        'ui-helper-clearfix\"/>');\n",
       "    var titletext = $(\n",
       "        '<div class=\"ui-dialog-title\" style=\"width: 100%; ' +\n",
       "        'text-align: center; padding: 3px;\"/>');\n",
       "    titlebar.append(titletext)\n",
       "    this.root.append(titlebar);\n",
       "    this.header = titletext[0];\n",
       "}\n",
       "\n",
       "\n",
       "\n",
       "mpl.figure.prototype._canvas_extra_style = function(canvas_div) {\n",
       "\n",
       "}\n",
       "\n",
       "\n",
       "mpl.figure.prototype._root_extra_style = function(canvas_div) {\n",
       "\n",
       "}\n",
       "\n",
       "mpl.figure.prototype._init_canvas = function() {\n",
       "    var fig = this;\n",
       "\n",
       "    var canvas_div = $('<div/>');\n",
       "\n",
       "    canvas_div.attr('style', 'position: relative; clear: both; outline: 0');\n",
       "\n",
       "    function canvas_keyboard_event(event) {\n",
       "        return fig.key_event(event, event['data']);\n",
       "    }\n",
       "\n",
       "    canvas_div.keydown('key_press', canvas_keyboard_event);\n",
       "    canvas_div.keyup('key_release', canvas_keyboard_event);\n",
       "    this.canvas_div = canvas_div\n",
       "    this._canvas_extra_style(canvas_div)\n",
       "    this.root.append(canvas_div);\n",
       "\n",
       "    var canvas = $('<canvas/>');\n",
       "    canvas.addClass('mpl-canvas');\n",
       "    canvas.attr('style', \"left: 0; top: 0; z-index: 0; outline: 0\")\n",
       "\n",
       "    this.canvas = canvas[0];\n",
       "    this.context = canvas[0].getContext(\"2d\");\n",
       "\n",
       "    var backingStore = this.context.backingStorePixelRatio ||\n",
       "\tthis.context.webkitBackingStorePixelRatio ||\n",
       "\tthis.context.mozBackingStorePixelRatio ||\n",
       "\tthis.context.msBackingStorePixelRatio ||\n",
       "\tthis.context.oBackingStorePixelRatio ||\n",
       "\tthis.context.backingStorePixelRatio || 1;\n",
       "\n",
       "    mpl.ratio = (window.devicePixelRatio || 1) / backingStore;\n",
       "\n",
       "    var rubberband = $('<canvas/>');\n",
       "    rubberband.attr('style', \"position: absolute; left: 0; top: 0; z-index: 1;\")\n",
       "\n",
       "    var pass_mouse_events = true;\n",
       "\n",
       "    canvas_div.resizable({\n",
       "        start: function(event, ui) {\n",
       "            pass_mouse_events = false;\n",
       "        },\n",
       "        resize: function(event, ui) {\n",
       "            fig.request_resize(ui.size.width, ui.size.height);\n",
       "        },\n",
       "        stop: function(event, ui) {\n",
       "            pass_mouse_events = true;\n",
       "            fig.request_resize(ui.size.width, ui.size.height);\n",
       "        },\n",
       "    });\n",
       "\n",
       "    function mouse_event_fn(event) {\n",
       "        if (pass_mouse_events)\n",
       "            return fig.mouse_event(event, event['data']);\n",
       "    }\n",
       "\n",
       "    rubberband.mousedown('button_press', mouse_event_fn);\n",
       "    rubberband.mouseup('button_release', mouse_event_fn);\n",
       "    // Throttle sequential mouse events to 1 every 20ms.\n",
       "    rubberband.mousemove('motion_notify', mouse_event_fn);\n",
       "\n",
       "    rubberband.mouseenter('figure_enter', mouse_event_fn);\n",
       "    rubberband.mouseleave('figure_leave', mouse_event_fn);\n",
       "\n",
       "    canvas_div.on(\"wheel\", function (event) {\n",
       "        event = event.originalEvent;\n",
       "        event['data'] = 'scroll'\n",
       "        if (event.deltaY < 0) {\n",
       "            event.step = 1;\n",
       "        } else {\n",
       "            event.step = -1;\n",
       "        }\n",
       "        mouse_event_fn(event);\n",
       "    });\n",
       "\n",
       "    canvas_div.append(canvas);\n",
       "    canvas_div.append(rubberband);\n",
       "\n",
       "    this.rubberband = rubberband;\n",
       "    this.rubberband_canvas = rubberband[0];\n",
       "    this.rubberband_context = rubberband[0].getContext(\"2d\");\n",
       "    this.rubberband_context.strokeStyle = \"#000000\";\n",
       "\n",
       "    this._resize_canvas = function(width, height) {\n",
       "        // Keep the size of the canvas, canvas container, and rubber band\n",
       "        // canvas in synch.\n",
       "        canvas_div.css('width', width)\n",
       "        canvas_div.css('height', height)\n",
       "\n",
       "        canvas.attr('width', width * mpl.ratio);\n",
       "        canvas.attr('height', height * mpl.ratio);\n",
       "        canvas.attr('style', 'width: ' + width + 'px; height: ' + height + 'px;');\n",
       "\n",
       "        rubberband.attr('width', width);\n",
       "        rubberband.attr('height', height);\n",
       "    }\n",
       "\n",
       "    // Set the figure to an initial 600x600px, this will subsequently be updated\n",
       "    // upon first draw.\n",
       "    this._resize_canvas(600, 600);\n",
       "\n",
       "    // Disable right mouse context menu.\n",
       "    $(this.rubberband_canvas).bind(\"contextmenu\",function(e){\n",
       "        return false;\n",
       "    });\n",
       "\n",
       "    function set_focus () {\n",
       "        canvas.focus();\n",
       "        canvas_div.focus();\n",
       "    }\n",
       "\n",
       "    window.setTimeout(set_focus, 100);\n",
       "}\n",
       "\n",
       "mpl.figure.prototype._init_toolbar = function() {\n",
       "    var fig = this;\n",
       "\n",
       "    var nav_element = $('<div/>');\n",
       "    nav_element.attr('style', 'width: 100%');\n",
       "    this.root.append(nav_element);\n",
       "\n",
       "    // Define a callback function for later on.\n",
       "    function toolbar_event(event) {\n",
       "        return fig.toolbar_button_onclick(event['data']);\n",
       "    }\n",
       "    function toolbar_mouse_event(event) {\n",
       "        return fig.toolbar_button_onmouseover(event['data']);\n",
       "    }\n",
       "\n",
       "    for(var toolbar_ind in mpl.toolbar_items) {\n",
       "        var name = mpl.toolbar_items[toolbar_ind][0];\n",
       "        var tooltip = mpl.toolbar_items[toolbar_ind][1];\n",
       "        var image = mpl.toolbar_items[toolbar_ind][2];\n",
       "        var method_name = mpl.toolbar_items[toolbar_ind][3];\n",
       "\n",
       "        if (!name) {\n",
       "            // put a spacer in here.\n",
       "            continue;\n",
       "        }\n",
       "        var button = $('<button/>');\n",
       "        button.addClass('ui-button ui-widget ui-state-default ui-corner-all ' +\n",
       "                        'ui-button-icon-only');\n",
       "        button.attr('role', 'button');\n",
       "        button.attr('aria-disabled', 'false');\n",
       "        button.click(method_name, toolbar_event);\n",
       "        button.mouseover(tooltip, toolbar_mouse_event);\n",
       "\n",
       "        var icon_img = $('<span/>');\n",
       "        icon_img.addClass('ui-button-icon-primary ui-icon');\n",
       "        icon_img.addClass(image);\n",
       "        icon_img.addClass('ui-corner-all');\n",
       "\n",
       "        var tooltip_span = $('<span/>');\n",
       "        tooltip_span.addClass('ui-button-text');\n",
       "        tooltip_span.html(tooltip);\n",
       "\n",
       "        button.append(icon_img);\n",
       "        button.append(tooltip_span);\n",
       "\n",
       "        nav_element.append(button);\n",
       "    }\n",
       "\n",
       "    var fmt_picker_span = $('<span/>');\n",
       "\n",
       "    var fmt_picker = $('<select/>');\n",
       "    fmt_picker.addClass('mpl-toolbar-option ui-widget ui-widget-content');\n",
       "    fmt_picker_span.append(fmt_picker);\n",
       "    nav_element.append(fmt_picker_span);\n",
       "    this.format_dropdown = fmt_picker[0];\n",
       "\n",
       "    for (var ind in mpl.extensions) {\n",
       "        var fmt = mpl.extensions[ind];\n",
       "        var option = $(\n",
       "            '<option/>', {selected: fmt === mpl.default_extension}).html(fmt);\n",
       "        fmt_picker.append(option);\n",
       "    }\n",
       "\n",
       "    // Add hover states to the ui-buttons\n",
       "    $( \".ui-button\" ).hover(\n",
       "        function() { $(this).addClass(\"ui-state-hover\");},\n",
       "        function() { $(this).removeClass(\"ui-state-hover\");}\n",
       "    );\n",
       "\n",
       "    var status_bar = $('<span class=\"mpl-message\"/>');\n",
       "    nav_element.append(status_bar);\n",
       "    this.message = status_bar[0];\n",
       "}\n",
       "\n",
       "mpl.figure.prototype.request_resize = function(x_pixels, y_pixels) {\n",
       "    // Request matplotlib to resize the figure. Matplotlib will then trigger a resize in the client,\n",
       "    // which will in turn request a refresh of the image.\n",
       "    this.send_message('resize', {'width': x_pixels, 'height': y_pixels});\n",
       "}\n",
       "\n",
       "mpl.figure.prototype.send_message = function(type, properties) {\n",
       "    properties['type'] = type;\n",
       "    properties['figure_id'] = this.id;\n",
       "    this.ws.send(JSON.stringify(properties));\n",
       "}\n",
       "\n",
       "mpl.figure.prototype.send_draw_message = function() {\n",
       "    if (!this.waiting) {\n",
       "        this.waiting = true;\n",
       "        this.ws.send(JSON.stringify({type: \"draw\", figure_id: this.id}));\n",
       "    }\n",
       "}\n",
       "\n",
       "\n",
       "mpl.figure.prototype.handle_save = function(fig, msg) {\n",
       "    var format_dropdown = fig.format_dropdown;\n",
       "    var format = format_dropdown.options[format_dropdown.selectedIndex].value;\n",
       "    fig.ondownload(fig, format);\n",
       "}\n",
       "\n",
       "\n",
       "mpl.figure.prototype.handle_resize = function(fig, msg) {\n",
       "    var size = msg['size'];\n",
       "    if (size[0] != fig.canvas.width || size[1] != fig.canvas.height) {\n",
       "        fig._resize_canvas(size[0], size[1]);\n",
       "        fig.send_message(\"refresh\", {});\n",
       "    };\n",
       "}\n",
       "\n",
       "mpl.figure.prototype.handle_rubberband = function(fig, msg) {\n",
       "    var x0 = msg['x0'] / mpl.ratio;\n",
       "    var y0 = (fig.canvas.height - msg['y0']) / mpl.ratio;\n",
       "    var x1 = msg['x1'] / mpl.ratio;\n",
       "    var y1 = (fig.canvas.height - msg['y1']) / mpl.ratio;\n",
       "    x0 = Math.floor(x0) + 0.5;\n",
       "    y0 = Math.floor(y0) + 0.5;\n",
       "    x1 = Math.floor(x1) + 0.5;\n",
       "    y1 = Math.floor(y1) + 0.5;\n",
       "    var min_x = Math.min(x0, x1);\n",
       "    var min_y = Math.min(y0, y1);\n",
       "    var width = Math.abs(x1 - x0);\n",
       "    var height = Math.abs(y1 - y0);\n",
       "\n",
       "    fig.rubberband_context.clearRect(\n",
       "        0, 0, fig.canvas.width / mpl.ratio, fig.canvas.height / mpl.ratio);\n",
       "\n",
       "    fig.rubberband_context.strokeRect(min_x, min_y, width, height);\n",
       "}\n",
       "\n",
       "mpl.figure.prototype.handle_figure_label = function(fig, msg) {\n",
       "    // Updates the figure title.\n",
       "    fig.header.textContent = msg['label'];\n",
       "}\n",
       "\n",
       "mpl.figure.prototype.handle_cursor = function(fig, msg) {\n",
       "    var cursor = msg['cursor'];\n",
       "    switch(cursor)\n",
       "    {\n",
       "    case 0:\n",
       "        cursor = 'pointer';\n",
       "        break;\n",
       "    case 1:\n",
       "        cursor = 'default';\n",
       "        break;\n",
       "    case 2:\n",
       "        cursor = 'crosshair';\n",
       "        break;\n",
       "    case 3:\n",
       "        cursor = 'move';\n",
       "        break;\n",
       "    }\n",
       "    fig.rubberband_canvas.style.cursor = cursor;\n",
       "}\n",
       "\n",
       "mpl.figure.prototype.handle_message = function(fig, msg) {\n",
       "    fig.message.textContent = msg['message'];\n",
       "}\n",
       "\n",
       "mpl.figure.prototype.handle_draw = function(fig, msg) {\n",
       "    // Request the server to send over a new figure.\n",
       "    fig.send_draw_message();\n",
       "}\n",
       "\n",
       "mpl.figure.prototype.handle_image_mode = function(fig, msg) {\n",
       "    fig.image_mode = msg['mode'];\n",
       "}\n",
       "\n",
       "mpl.figure.prototype.updated_canvas_event = function() {\n",
       "    // Called whenever the canvas gets updated.\n",
       "    this.send_message(\"ack\", {});\n",
       "}\n",
       "\n",
       "// A function to construct a web socket function for onmessage handling.\n",
       "// Called in the figure constructor.\n",
       "mpl.figure.prototype._make_on_message_function = function(fig) {\n",
       "    return function socket_on_message(evt) {\n",
       "        if (evt.data instanceof Blob) {\n",
       "            /* FIXME: We get \"Resource interpreted as Image but\n",
       "             * transferred with MIME type text/plain:\" errors on\n",
       "             * Chrome.  But how to set the MIME type?  It doesn't seem\n",
       "             * to be part of the websocket stream */\n",
       "            evt.data.type = \"image/png\";\n",
       "\n",
       "            /* Free the memory for the previous frames */\n",
       "            if (fig.imageObj.src) {\n",
       "                (window.URL || window.webkitURL).revokeObjectURL(\n",
       "                    fig.imageObj.src);\n",
       "            }\n",
       "\n",
       "            fig.imageObj.src = (window.URL || window.webkitURL).createObjectURL(\n",
       "                evt.data);\n",
       "            fig.updated_canvas_event();\n",
       "            fig.waiting = false;\n",
       "            return;\n",
       "        }\n",
       "        else if (typeof evt.data === 'string' && evt.data.slice(0, 21) == \"data:image/png;base64\") {\n",
       "            fig.imageObj.src = evt.data;\n",
       "            fig.updated_canvas_event();\n",
       "            fig.waiting = false;\n",
       "            return;\n",
       "        }\n",
       "\n",
       "        var msg = JSON.parse(evt.data);\n",
       "        var msg_type = msg['type'];\n",
       "\n",
       "        // Call the  \"handle_{type}\" callback, which takes\n",
       "        // the figure and JSON message as its only arguments.\n",
       "        try {\n",
       "            var callback = fig[\"handle_\" + msg_type];\n",
       "        } catch (e) {\n",
       "            console.log(\"No handler for the '\" + msg_type + \"' message type: \", msg);\n",
       "            return;\n",
       "        }\n",
       "\n",
       "        if (callback) {\n",
       "            try {\n",
       "                // console.log(\"Handling '\" + msg_type + \"' message: \", msg);\n",
       "                callback(fig, msg);\n",
       "            } catch (e) {\n",
       "                console.log(\"Exception inside the 'handler_\" + msg_type + \"' callback:\", e, e.stack, msg);\n",
       "            }\n",
       "        }\n",
       "    };\n",
       "}\n",
       "\n",
       "// from http://stackoverflow.com/questions/1114465/getting-mouse-location-in-canvas\n",
       "mpl.findpos = function(e) {\n",
       "    //this section is from http://www.quirksmode.org/js/events_properties.html\n",
       "    var targ;\n",
       "    if (!e)\n",
       "        e = window.event;\n",
       "    if (e.target)\n",
       "        targ = e.target;\n",
       "    else if (e.srcElement)\n",
       "        targ = e.srcElement;\n",
       "    if (targ.nodeType == 3) // defeat Safari bug\n",
       "        targ = targ.parentNode;\n",
       "\n",
       "    // jQuery normalizes the pageX and pageY\n",
       "    // pageX,Y are the mouse positions relative to the document\n",
       "    // offset() returns the position of the element relative to the document\n",
       "    var x = e.pageX - $(targ).offset().left;\n",
       "    var y = e.pageY - $(targ).offset().top;\n",
       "\n",
       "    return {\"x\": x, \"y\": y};\n",
       "};\n",
       "\n",
       "/*\n",
       " * return a copy of an object with only non-object keys\n",
       " * we need this to avoid circular references\n",
       " * http://stackoverflow.com/a/24161582/3208463\n",
       " */\n",
       "function simpleKeys (original) {\n",
       "  return Object.keys(original).reduce(function (obj, key) {\n",
       "    if (typeof original[key] !== 'object')\n",
       "        obj[key] = original[key]\n",
       "    return obj;\n",
       "  }, {});\n",
       "}\n",
       "\n",
       "mpl.figure.prototype.mouse_event = function(event, name) {\n",
       "    var canvas_pos = mpl.findpos(event)\n",
       "\n",
       "    if (name === 'button_press')\n",
       "    {\n",
       "        this.canvas.focus();\n",
       "        this.canvas_div.focus();\n",
       "    }\n",
       "\n",
       "    var x = canvas_pos.x * mpl.ratio;\n",
       "    var y = canvas_pos.y * mpl.ratio;\n",
       "\n",
       "    this.send_message(name, {x: x, y: y, button: event.button,\n",
       "                             step: event.step,\n",
       "                             guiEvent: simpleKeys(event)});\n",
       "\n",
       "    /* This prevents the web browser from automatically changing to\n",
       "     * the text insertion cursor when the button is pressed.  We want\n",
       "     * to control all of the cursor setting manually through the\n",
       "     * 'cursor' event from matplotlib */\n",
       "    event.preventDefault();\n",
       "    return false;\n",
       "}\n",
       "\n",
       "mpl.figure.prototype._key_event_extra = function(event, name) {\n",
       "    // Handle any extra behaviour associated with a key event\n",
       "}\n",
       "\n",
       "mpl.figure.prototype.key_event = function(event, name) {\n",
       "\n",
       "    // Prevent repeat events\n",
       "    if (name == 'key_press')\n",
       "    {\n",
       "        if (event.which === this._key)\n",
       "            return;\n",
       "        else\n",
       "            this._key = event.which;\n",
       "    }\n",
       "    if (name == 'key_release')\n",
       "        this._key = null;\n",
       "\n",
       "    var value = '';\n",
       "    if (event.ctrlKey && event.which != 17)\n",
       "        value += \"ctrl+\";\n",
       "    if (event.altKey && event.which != 18)\n",
       "        value += \"alt+\";\n",
       "    if (event.shiftKey && event.which != 16)\n",
       "        value += \"shift+\";\n",
       "\n",
       "    value += 'k';\n",
       "    value += event.which.toString();\n",
       "\n",
       "    this._key_event_extra(event, name);\n",
       "\n",
       "    this.send_message(name, {key: value,\n",
       "                             guiEvent: simpleKeys(event)});\n",
       "    return false;\n",
       "}\n",
       "\n",
       "mpl.figure.prototype.toolbar_button_onclick = function(name) {\n",
       "    if (name == 'download') {\n",
       "        this.handle_save(this, null);\n",
       "    } else {\n",
       "        this.send_message(\"toolbar_button\", {name: name});\n",
       "    }\n",
       "};\n",
       "\n",
       "mpl.figure.prototype.toolbar_button_onmouseover = function(tooltip) {\n",
       "    this.message.textContent = tooltip;\n",
       "};\n",
       "mpl.toolbar_items = [[\"Home\", \"Reset original view\", \"fa fa-home icon-home\", \"home\"], [\"Back\", \"Back to previous view\", \"fa fa-arrow-left icon-arrow-left\", \"back\"], [\"Forward\", \"Forward to next view\", \"fa fa-arrow-right icon-arrow-right\", \"forward\"], [\"\", \"\", \"\", \"\"], [\"Pan\", \"Pan axes with left mouse, zoom with right\", \"fa fa-arrows icon-move\", \"pan\"], [\"Zoom\", \"Zoom to rectangle\", \"fa fa-square-o icon-check-empty\", \"zoom\"], [\"\", \"\", \"\", \"\"], [\"Download\", \"Download plot\", \"fa fa-floppy-o icon-save\", \"download\"]];\n",
       "\n",
       "mpl.extensions = [\"eps\", \"jpeg\", \"pdf\", \"png\", \"ps\", \"raw\", \"svg\", \"tif\"];\n",
       "\n",
       "mpl.default_extension = \"png\";var comm_websocket_adapter = function(comm) {\n",
       "    // Create a \"websocket\"-like object which calls the given IPython comm\n",
       "    // object with the appropriate methods. Currently this is a non binary\n",
       "    // socket, so there is still some room for performance tuning.\n",
       "    var ws = {};\n",
       "\n",
       "    ws.close = function() {\n",
       "        comm.close()\n",
       "    };\n",
       "    ws.send = function(m) {\n",
       "        //console.log('sending', m);\n",
       "        comm.send(m);\n",
       "    };\n",
       "    // Register the callback with on_msg.\n",
       "    comm.on_msg(function(msg) {\n",
       "        //console.log('receiving', msg['content']['data'], msg);\n",
       "        // Pass the mpl event to the overridden (by mpl) onmessage function.\n",
       "        ws.onmessage(msg['content']['data'])\n",
       "    });\n",
       "    return ws;\n",
       "}\n",
       "\n",
       "mpl.mpl_figure_comm = function(comm, msg) {\n",
       "    // This is the function which gets called when the mpl process\n",
       "    // starts-up an IPython Comm through the \"matplotlib\" channel.\n",
       "\n",
       "    var id = msg.content.data.id;\n",
       "    // Get hold of the div created by the display call when the Comm\n",
       "    // socket was opened in Python.\n",
       "    var element = $(\"#\" + id);\n",
       "    var ws_proxy = comm_websocket_adapter(comm)\n",
       "\n",
       "    function ondownload(figure, format) {\n",
       "        window.open(figure.imageObj.src);\n",
       "    }\n",
       "\n",
       "    var fig = new mpl.figure(id, ws_proxy,\n",
       "                           ondownload,\n",
       "                           element.get(0));\n",
       "\n",
       "    // Call onopen now - mpl needs it, as it is assuming we've passed it a real\n",
       "    // web socket which is closed, not our websocket->open comm proxy.\n",
       "    ws_proxy.onopen();\n",
       "\n",
       "    fig.parent_element = element.get(0);\n",
       "    fig.cell_info = mpl.find_output_cell(\"<div id='\" + id + \"'></div>\");\n",
       "    if (!fig.cell_info) {\n",
       "        console.error(\"Failed to find cell for figure\", id, fig);\n",
       "        return;\n",
       "    }\n",
       "\n",
       "    var output_index = fig.cell_info[2]\n",
       "    var cell = fig.cell_info[0];\n",
       "\n",
       "};\n",
       "\n",
       "mpl.figure.prototype.handle_close = function(fig, msg) {\n",
       "    var width = fig.canvas.width/mpl.ratio\n",
       "    fig.root.unbind('remove')\n",
       "\n",
       "    // Update the output cell to use the data from the current canvas.\n",
       "    fig.push_to_output();\n",
       "    var dataURL = fig.canvas.toDataURL();\n",
       "    // Re-enable the keyboard manager in IPython - without this line, in FF,\n",
       "    // the notebook keyboard shortcuts fail.\n",
       "    IPython.keyboard_manager.enable()\n",
       "    $(fig.parent_element).html('<img src=\"' + dataURL + '\" width=\"' + width + '\">');\n",
       "    fig.close_ws(fig, msg);\n",
       "}\n",
       "\n",
       "mpl.figure.prototype.close_ws = function(fig, msg){\n",
       "    fig.send_message('closing', msg);\n",
       "    // fig.ws.close()\n",
       "}\n",
       "\n",
       "mpl.figure.prototype.push_to_output = function(remove_interactive) {\n",
       "    // Turn the data on the canvas into data in the output cell.\n",
       "    var width = this.canvas.width/mpl.ratio\n",
       "    var dataURL = this.canvas.toDataURL();\n",
       "    this.cell_info[1]['text/html'] = '<img src=\"' + dataURL + '\" width=\"' + width + '\">';\n",
       "}\n",
       "\n",
       "mpl.figure.prototype.updated_canvas_event = function() {\n",
       "    // Tell IPython that the notebook contents must change.\n",
       "    IPython.notebook.set_dirty(true);\n",
       "    this.send_message(\"ack\", {});\n",
       "    var fig = this;\n",
       "    // Wait a second, then push the new image to the DOM so\n",
       "    // that it is saved nicely (might be nice to debounce this).\n",
       "    setTimeout(function () { fig.push_to_output() }, 1000);\n",
       "}\n",
       "\n",
       "mpl.figure.prototype._init_toolbar = function() {\n",
       "    var fig = this;\n",
       "\n",
       "    var nav_element = $('<div/>');\n",
       "    nav_element.attr('style', 'width: 100%');\n",
       "    this.root.append(nav_element);\n",
       "\n",
       "    // Define a callback function for later on.\n",
       "    function toolbar_event(event) {\n",
       "        return fig.toolbar_button_onclick(event['data']);\n",
       "    }\n",
       "    function toolbar_mouse_event(event) {\n",
       "        return fig.toolbar_button_onmouseover(event['data']);\n",
       "    }\n",
       "\n",
       "    for(var toolbar_ind in mpl.toolbar_items){\n",
       "        var name = mpl.toolbar_items[toolbar_ind][0];\n",
       "        var tooltip = mpl.toolbar_items[toolbar_ind][1];\n",
       "        var image = mpl.toolbar_items[toolbar_ind][2];\n",
       "        var method_name = mpl.toolbar_items[toolbar_ind][3];\n",
       "\n",
       "        if (!name) { continue; };\n",
       "\n",
       "        var button = $('<button class=\"btn btn-default\" href=\"#\" title=\"' + name + '\"><i class=\"fa ' + image + ' fa-lg\"></i></button>');\n",
       "        button.click(method_name, toolbar_event);\n",
       "        button.mouseover(tooltip, toolbar_mouse_event);\n",
       "        nav_element.append(button);\n",
       "    }\n",
       "\n",
       "    // Add the status bar.\n",
       "    var status_bar = $('<span class=\"mpl-message\" style=\"text-align:right; float: right;\"/>');\n",
       "    nav_element.append(status_bar);\n",
       "    this.message = status_bar[0];\n",
       "\n",
       "    // Add the close button to the window.\n",
       "    var buttongrp = $('<div class=\"btn-group inline pull-right\"></div>');\n",
       "    var button = $('<button class=\"btn btn-mini btn-primary\" href=\"#\" title=\"Stop Interaction\"><i class=\"fa fa-power-off icon-remove icon-large\"></i></button>');\n",
       "    button.click(function (evt) { fig.handle_close(fig, {}); } );\n",
       "    button.mouseover('Stop Interaction', toolbar_mouse_event);\n",
       "    buttongrp.append(button);\n",
       "    var titlebar = this.root.find($('.ui-dialog-titlebar'));\n",
       "    titlebar.prepend(buttongrp);\n",
       "}\n",
       "\n",
       "mpl.figure.prototype._root_extra_style = function(el){\n",
       "    var fig = this\n",
       "    el.on(\"remove\", function(){\n",
       "\tfig.close_ws(fig, {});\n",
       "    });\n",
       "}\n",
       "\n",
       "mpl.figure.prototype._canvas_extra_style = function(el){\n",
       "    // this is important to make the div 'focusable\n",
       "    el.attr('tabindex', 0)\n",
       "    // reach out to IPython and tell the keyboard manager to turn it's self\n",
       "    // off when our div gets focus\n",
       "\n",
       "    // location in version 3\n",
       "    if (IPython.notebook.keyboard_manager) {\n",
       "        IPython.notebook.keyboard_manager.register_events(el);\n",
       "    }\n",
       "    else {\n",
       "        // location in version 2\n",
       "        IPython.keyboard_manager.register_events(el);\n",
       "    }\n",
       "\n",
       "}\n",
       "\n",
       "mpl.figure.prototype._key_event_extra = function(event, name) {\n",
       "    var manager = IPython.notebook.keyboard_manager;\n",
       "    if (!manager)\n",
       "        manager = IPython.keyboard_manager;\n",
       "\n",
       "    // Check for shift+enter\n",
       "    if (event.shiftKey && event.which == 13) {\n",
       "        this.canvas_div.blur();\n",
       "        // select the cell after this one\n",
       "        var index = IPython.notebook.find_cell_index(this.cell_info[0]);\n",
       "        IPython.notebook.select(index + 1);\n",
       "    }\n",
       "}\n",
       "\n",
       "mpl.figure.prototype.handle_save = function(fig, msg) {\n",
       "    fig.ondownload(fig, null);\n",
       "}\n",
       "\n",
       "\n",
       "mpl.find_output_cell = function(html_output) {\n",
       "    // Return the cell and output element which can be found *uniquely* in the notebook.\n",
       "    // Note - this is a bit hacky, but it is done because the \"notebook_saving.Notebook\"\n",
       "    // IPython event is triggered only after the cells have been serialised, which for\n",
       "    // our purposes (turning an active figure into a static one), is too late.\n",
       "    var cells = IPython.notebook.get_cells();\n",
       "    var ncells = cells.length;\n",
       "    for (var i=0; i<ncells; i++) {\n",
       "        var cell = cells[i];\n",
       "        if (cell.cell_type === 'code'){\n",
       "            for (var j=0; j<cell.output_area.outputs.length; j++) {\n",
       "                var data = cell.output_area.outputs[j];\n",
       "                if (data.data) {\n",
       "                    // IPython >= 3 moved mimebundle to data attribute of output\n",
       "                    data = data.data;\n",
       "                }\n",
       "                if (data['text/html'] == html_output) {\n",
       "                    return [cell, data, j];\n",
       "                }\n",
       "            }\n",
       "        }\n",
       "    }\n",
       "}\n",
       "\n",
       "// Register the function which deals with the matplotlib target/channel.\n",
       "// The kernel may be null if the page has been refreshed.\n",
       "if (IPython.notebook.kernel != null) {\n",
       "    IPython.notebook.kernel.comm_manager.register_target('matplotlib', mpl.mpl_figure_comm);\n",
       "}\n"
      ],
      "text/plain": [
       "<IPython.core.display.Javascript object>"
      ]
     },
     "metadata": {},
     "output_type": "display_data"
    },
    {
     "data": {
      "text/html": [
       "<img src=\"data:image/png;base64,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\" width=\"639.85\">"
      ],
      "text/plain": [
       "<IPython.core.display.HTML object>"
      ]
     },
     "metadata": {},
     "output_type": "display_data"
    }
   ],
   "source": [
    "# # # Can't find a way to make this a function (plot not showing), so putting this in every notebook \n",
    "from matplotlib.animation import FuncAnimation, PillowWriter \n",
    "%matplotlib notebook\n",
    "\n",
    "interval = 50\n",
    "windowsize = 100\n",
    "test_ = test[1]\n",
    "pred = stats[0]['predictions']\n",
    "\n",
    "fig  = plt.figure()\n",
    "ax   = plt.axes(xlim=(0, windowsize), ylim=(-2, 2))\n",
    "ln1, = plt.plot([],[])\n",
    "ln2, = plt.plot([],[])\n",
    "\n",
    "def update_animation(f):\n",
    "    r = np.arange(f, f + windowsize)\n",
    "    lim = ax.set_xlim(f, f+ windowsize)\n",
    "    ln1.set_data(r, test_[r])\n",
    "    ln2.set_data(r, pred[r])\n",
    "\n",
    "frames = np.arange(0, len(pred)-windowsize, interval)\n",
    "ani = FuncAnimation(fig, update_animation, frames=frames) \n",
    "plt.show()\n",
    "#ani.save('results/gif/'+PKL_NAME+'.gif', writer='imagemagick', fps=50)"
   ]
  }
 ],
 "metadata": {
  "kernelspec": {
   "display_name": "deeplearning",
   "language": "python",
   "name": "deeplearning"
  },
  "language_info": {
   "codemirror_mode": {
    "name": "ipython",
    "version": 3
   },
   "file_extension": ".py",
   "mimetype": "text/x-python",
   "name": "python",
   "nbconvert_exporter": "python",
   "pygments_lexer": "ipython3",
   "version": "3.8.3"
  }
 },
 "nbformat": 4,
 "nbformat_minor": 2
}
