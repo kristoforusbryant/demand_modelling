{
 "cells": [
  {
   "cell_type": "code",
   "execution_count": 2,
   "metadata": {},
   "outputs": [],
   "source": [
    "import pandas as pd \n",
    "import numpy as np \n",
    "import matplotlib.pyplot as plt\n",
    "import torch\n",
    "\n",
    "from utils.create_predwin import create_predwin\n",
    "import os"
   ]
  },
  {
   "cell_type": "code",
   "execution_count": 10,
   "metadata": {},
   "outputs": [],
   "source": [
    "datapath = os.path.join(os.getcwd(), 'data')\n",
    "filenames = os.listdir(datapath)"
   ]
  },
  {
   "cell_type": "markdown",
   "metadata": {},
   "source": [
    "### Clean wind speed & direction dataset"
   ]
  },
  {
   "cell_type": "code",
   "execution_count": 13,
   "metadata": {},
   "outputs": [],
   "source": [
    "df_list = []\n",
    "for name in filenames:\n",
    "    if 'csv' in name and 'annual_energy' not in name:\n",
    "        temp = pd.read_csv(os.path.join(datapath, name), skiprows=[0,1,2])\n",
    "        temp = temp.set_index('Time')\n",
    "        temp.columns = [name[:-4] + '_s', name[:-4] + '_d']\n",
    "        df_list.append(temp)"
   ]
  },
  {
   "cell_type": "code",
   "execution_count": 14,
   "metadata": {},
   "outputs": [],
   "source": [
    "wind_df = pd.concat(df_list, axis=1)"
   ]
  },
  {
   "cell_type": "code",
   "execution_count": 17,
   "metadata": {},
   "outputs": [],
   "source": [
    "wind_df.to_pickle('data/raw_wind_timeseries.pkl')"
   ]
  },
  {
   "cell_type": "markdown",
   "metadata": {},
   "source": [
    "### Clean energy dataset"
   ]
  },
  {
   "cell_type": "code",
   "execution_count": 153,
   "metadata": {},
   "outputs": [],
   "source": [
    "column_translate = ['Perimeter', 'Nature', 'Date', 'Hour', 'Consumption', \n",
    "                   'Thermal', 'Nuclear', 'Wind', 'Solar', 'Hydraulic',\n",
    "                   'Pumping', 'Bioenergy', 'ech_physiques']"
   ]
  },
  {
   "cell_type": "code",
   "execution_count": 155,
   "metadata": {
    "scrolled": false
   },
   "outputs": [
    {
     "name": "stdout",
     "output_type": "stream",
     "text": [
      "error in annual_energy_2020.csv\n"
     ]
    }
   ],
   "source": [
    "df_list = []\n",
    "\n",
    "for name in filenames: \n",
    "    if 'annual_energy' in name:\n",
    "        try: \n",
    "            temp = pd.read_csv(os.path.join(datapath, name), encoding= 'unicode_escape')\n",
    "            temp.columns = column_translate\n",
    "        except ValueError:\n",
    "            print('error in ' + name)\n",
    "            continue\n",
    "        temp = temp.drop(['Perimeter', 'Nature'], axis=1)\n",
    "        temp = temp.replace(['-','ND'], np.NaN)\n",
    "        temp = temp.set_index(['Date', 'Hour'])\n",
    "        df_list.append(temp)"
   ]
  },
  {
   "cell_type": "code",
   "execution_count": 159,
   "metadata": {},
   "outputs": [],
   "source": [
    "energy_df = pd.concat(df_list,axis=0)"
   ]
  },
  {
   "cell_type": "code",
   "execution_count": 161,
   "metadata": {},
   "outputs": [],
   "source": [
    "energy_df.to_pickle('data/raw_energy_timeseries.pkl')"
   ]
  },
  {
   "cell_type": "code",
   "execution_count": 2,
   "metadata": {
    "scrolled": true
   },
   "outputs": [
    {
     "name": "stderr",
     "output_type": "stream",
     "text": [
      "/home/kristoforus/miniconda3/envs/deeplearning/lib/python3.8/site-packages/IPython/core/interactiveshell.py:3062: DtypeWarning: Columns (4,5,7,8,9,11,12,51,55,57,59,61) have mixed types.Specify dtype option on import or set low_memory=False.\n",
      "  has_raised = await self.run_ast_nodes(code_ast.body, cell_name,\n"
     ]
    }
   ],
   "source": [
    "energy_2020 = pd.read_csv('data/annual_energy_2020.csv', encoding= 'unicode_escape')"
   ]
  },
  {
   "cell_type": "code",
   "execution_count": 5,
   "metadata": {},
   "outputs": [],
   "source": [
    "check = pd.read_pickle('raw_energy_timeseries.pkl')"
   ]
  },
  {
   "cell_type": "markdown",
   "metadata": {},
   "source": [
    "### Combine datasets"
   ]
  },
  {
   "cell_type": "code",
   "execution_count": 404,
   "metadata": {
    "scrolled": true
   },
   "outputs": [
    {
     "name": "stderr",
     "output_type": "stream",
     "text": [
      "/home/kristoforus/miniconda3/envs/deeplearning/lib/python3.8/site-packages/IPython/core/interactiveshell.py:3062: DtypeWarning: Columns (4,5,7,8,9,11,12,51,55,57,59,61) have mixed types.Specify dtype option on import or set low_memory=False.\n",
      "  has_raised = await self.run_ast_nodes(code_ast.body, cell_name,\n"
     ]
    }
   ],
   "source": [
    "energy = pd.read_pickle('data/raw_energy_timeseries.pkl')\n",
    "wind = pd.read_pickle('data/raw_wind_timeseries.pkl')\n",
    "energy_2020 = pd.read_csv('data/annual_energy_2020.csv', encoding= 'unicode_escape')"
   ]
  },
  {
   "cell_type": "code",
   "execution_count": 405,
   "metadata": {},
   "outputs": [],
   "source": [
    "# Combining Wind Energy Data (Only) from 2020\n",
    "wind_energy = energy[['Wind']].reset_index()\n",
    "wind_energy_2020 = energy_2020[['Date', 'Heures', 'Eolien']]\n",
    "wind_energy_2020.columns = ['Date', 'Hour', 'Wind']\n",
    "wind_energy_com = pd.concat((wind_energy, wind_energy_2020), axis=0).replace('ND', np.nan)\n",
    "\n",
    "## Taking hourly means \n",
    "hours = np.tile(np.repeat(np.arange(24), 4), len(wind_energy_com['Date'].unique()))\n",
    "wind_energy_com.loc[:, 'hours'] = hours\n",
    "wind_energy_com = wind_energy_com.drop(['Hour'], axis=1).set_index(['Date', 'hours'])\n",
    "wind_energy_com['Wind'] = wind_energy_com['Wind'].astype('float')\n",
    "wind_energy_com = wind_energy_com.groupby(['Date', 'hours']).agg('mean').reset_index()\n",
    "wind_energy_com['Date'] = wind_energy_com['Date'].astype('datetime64').dt.date"
   ]
  },
  {
   "cell_type": "code",
   "execution_count": 406,
   "metadata": {},
   "outputs": [],
   "source": [
    "# Break up hour and date in wind dataset\n",
    "wind.index.name = 'Date'\n",
    "wind = wind.reset_index()\n",
    "wind['Date'] = wind['Date'].astype('datetime64')\n",
    "wind['hours'] = wind['Date'].dt.hour\n",
    "wind['Date'] = wind['Date'].dt.date"
   ]
  },
  {
   "cell_type": "code",
   "execution_count": 407,
   "metadata": {},
   "outputs": [],
   "source": [
    "# Combine the two datasets and impute\n",
    "combined = pd.merge(wind_energy_com, wind, how='left', on=['Date', 'hours'])\n",
    "combined = combined.sort_values(['Date', 'hours']).set_index(['Date', 'hours'])\n",
    "combined = combined.groupby(['Date']).fillna(method='ffill')\n",
    "combined = combined.groupby(['Date']).fillna(method='bfill')\n",
    "combined = combined.dropna() "
   ]
  },
  {
   "cell_type": "code",
   "execution_count": 415,
   "metadata": {},
   "outputs": [],
   "source": [
    "# Save combined, cleaned data \n",
    "combined.to_pickle('data/combined_timeseries.pkl')"
   ]
  }
 ],
 "metadata": {
  "kernelspec": {
   "display_name": "deeplearning",
   "language": "python",
   "name": "deeplearning"
  },
  "language_info": {
   "codemirror_mode": {
    "name": "ipython",
    "version": 3
   },
   "file_extension": ".py",
   "mimetype": "text/x-python",
   "name": "python",
   "nbconvert_exporter": "python",
   "pygments_lexer": "ipython3",
   "version": "3.8.3"
  }
 },
 "nbformat": 4,
 "nbformat_minor": 2
}
