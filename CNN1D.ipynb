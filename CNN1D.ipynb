{
 "cells": [
  {
   "cell_type": "code",
   "execution_count": 1,
   "metadata": {
    "scrolled": true
   },
   "outputs": [],
   "source": [
    "import numpy as np\n",
    "import torch \n",
    "import os, copy\n",
    "from collections import OrderedDict\n",
    "\n",
    "from utils.sample_parameters import ParamSamples\n",
    "from utils.train_n_test import TrainTest\n",
    "from utils.custom_loss import opportunity_loss\n",
    "\n",
    "from models.CNN_1D import CNN_1D"
   ]
  },
  {
   "cell_type": "code",
   "execution_count": 2,
   "metadata": {},
   "outputs": [],
   "source": [
    "balance_params = {\n",
    "    'START': 1e7, \n",
    "    'REWARD': 10, \n",
    "    'FINE': 100, \n",
    "    'NORM_HYPERPARAMS': (0,87000),\n",
    "    'NORM': 'minmax',\n",
    "    'WARM': 1\n",
    "}\n",
    "\n",
    "params_dict = {\n",
    "    # HYPERMARAMETER RANGES\n",
    "    'BATCH_SIZE': ([64, 128, 256, 512], None),\n",
    "    'EPOCHS': ([20, 40, 50], None),\n",
    "    'OPTIMIZER': ([torch.optim.RMSprop, torch.optim.Adam], None),\n",
    "    'LEARNING_RATE': ([1e-5, 5e-5, 1e-4, 5e-4, 1e-3], None),\n",
    "    'LOSS': ([revenue_loss()], None),\n",
    "    'EARLY_STOPPING': ([True], None),\n",
    "    'PATIENCE': (list(range(0,3)), None),\n",
    "    'MIN_DELTA': ([1e-6, 5e-6, 1e-5, 5e-5, 1e-4, 5e-4], None), \n",
    "\n",
    "    # NETWORK PARAMETER RANGES\n",
    "    'HIDDEN_DEPTH': (np.arange(2, 5), None),\n",
    "    'HIDDEN_SIZES': ([64, 128, 256, 512], \n",
    "                       {'max_depth': 'HIDDEN_DEPTH', # sample a list of maximum HIDDEN_DEPTH length \n",
    "                        'consecutive': 1}), # list must be increasing \n",
    "    'KERNEL_SIZES': ([3,5,7,9], \n",
    "                        {'max_depth': 'HIDDEN_DEPTH', \n",
    "                        'monotonic': -1}),  \n",
    "    'MAXPOOL': ([2], None),\n",
    "    'FC_DEPTH':  (np.arange(1,3), None),\n",
    "    'FC_SIZES': ([256, 512], \n",
    "                    {'max_depth': 'FC_DEPTH',\n",
    "                    'consecutive': -1}),\n",
    "    'DROPOUT': (np.arange(8)/10, None),\n",
    "    'BALANCE': ([balance_params], None)\n",
    "}"
   ]
  },
  {
   "cell_type": "code",
   "execution_count": 34,
   "metadata": {},
   "outputs": [],
   "source": [
    "fixed_params = [{'BATCH_SIZE': 256,\n",
    "  'EPOCHS': 20,\n",
    "  'OPTIMIZER': torch.optim.RMSprop,\n",
    "  'LEARNING_RATE': 0.0001,\n",
    "  'LOSS': torch.nn.MSELoss(), \n",
    "  'EARLY_STOPPING': True,\n",
    "  'PATIENCE': 1,\n",
    "  'MIN_DELTA': 1e-06,\n",
    "  'HIDDEN_DEPTH': 4,\n",
    "  'HIDDEN_SIZES': np.array([64,128, 256, 512]),\n",
    "  'KERNEL_SIZES': np.array([9, 7, 5, 3]),\n",
    "  'MAXPOOL': 2,\n",
    "  'FC_DEPTH': 2,\n",
    "  'FC_SIZES': np.array([512]),\n",
    "  'DROPOUT': 0.2}]"
   ]
  },
  {
   "cell_type": "code",
   "execution_count": 4,
   "metadata": {},
   "outputs": [],
   "source": [
    "N = 5\n",
    "FIX = True\n",
    "PKL_NAMES = [i for i in os.listdir('data/tensors') if 'expt0' in i ]\n",
    "PKL_NAMES = [i for i in PKL_NAMES if 'persistence' not in i ]"
   ]
  },
  {
   "cell_type": "code",
   "execution_count": null,
   "metadata": {},
   "outputs": [],
   "source": [
    "for pkl in PKL_NAMES:  \n",
    "    PKL_NAME = pkl[:-4]\n",
    "    print(PKL_NAME)\n",
    "    train, val, test = torch.load('data/tensors/'+ PKL_NAME + '.pkl')\n",
    "    persistence = torch.load('data/tensors/'+ PKL_NAME + '_persistence.pkl')\n",
    "    \n",
    "    torch.nn.MSELoss()(persistence, test[1])\n",
    "    \n",
    "    if FIX: \n",
    "        param_samples = [copy.deepcopy(fixed_params[0]) for _ in range(N)]        \n",
    "    else: \n",
    "        params = ParamSamples(OrderedDict(params_dict))\n",
    "        param_samples = params.SampleAll(N)\n",
    "\n",
    "    stats = []\n",
    "    for i in np.arange(N): \n",
    "        print(param_samples[i])\n",
    "        run = TrainTest(CNN_1D, (train, val, test), param_samples[i], class_size=1)\n",
    "        run.train()\n",
    "        run.test()\n",
    "        stats.append(run.stats)\n",
    "    \n",
    "        for i in np.arange(N):\n",
    "            for key,val in stats[i].items():\n",
    "                param_samples[i][key] = val\n",
    "\n",
    "        torch.save(param_samples, 'results/CNN1D_experiment_N'+str(N)+'_'+PKL_NAME+'.pkl')"
   ]
  },
  {
   "cell_type": "code",
   "execution_count": null,
   "metadata": {},
   "outputs": [],
   "source": [
    "# Can't find a way to make this a function (plot not showing), so putting this in every notebook \n",
    "# from matplotlib.animation import FuncAnimation, PillowWriter \n",
    "# %matplotlib notebook\n",
    "\n",
    "# interval = 50\n",
    "# windowsize = 100\n",
    "# test_ = test[1]\n",
    "# pred = stats[0]['predictions']\n",
    "\n",
    "# fig  = plt.figure()\n",
    "# ax   = plt.axes(xlim=(0, windowsize), ylim=(-2, 2))\n",
    "# ln1, = plt.plot([],[])\n",
    "# ln2, = plt.plot([],[])\n",
    "\n",
    "# def update_animation(f):\n",
    "#     r = np.arange(f, f + windowsize)\n",
    "#     lim = ax.set_xlim(f, f+ windowsize)\n",
    "#     ln1.set_data(r, test_[r])\n",
    "#     ln2.set_data(r, pred[r])\n",
    "\n",
    "# frames = np.arange(0, len(pred)-windowsize, interval)\n",
    "# ani = FuncAnimation(fig, update_animation, frames=frames) \n",
    "# plt.show()\n",
    "# #ani.save('results/gif/'+PKL_NAME+'.gif', writer='imagemagick', fps=50)"
   ]
  }
 ],
 "metadata": {
  "kernelspec": {
   "display_name": "deeplearning",
   "language": "python",
   "name": "deeplearning"
  },
  "language_info": {
   "codemirror_mode": {
    "name": "ipython",
    "version": 3
   },
   "file_extension": ".py",
   "mimetype": "text/x-python",
   "name": "python",
   "nbconvert_exporter": "python",
   "pygments_lexer": "ipython3",
   "version": "3.8.3"
  }
 },
 "nbformat": 4,
 "nbformat_minor": 2
}
