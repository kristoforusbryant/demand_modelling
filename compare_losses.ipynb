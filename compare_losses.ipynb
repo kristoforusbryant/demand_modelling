{
 "cells": [
  {
   "cell_type": "code",
   "execution_count": 1,
   "metadata": {},
   "outputs": [],
   "source": [
    "import numpy as np\n",
    "import torch \n",
    "from collections import OrderedDict\n",
    "\n",
    "from utils.train_n_test import TrainTest\n",
    "\n",
    "from models.CNN_1D import CNN_1D\n",
    "\n",
    "from utils.visuals import lagged_correlation\n",
    "from utils.custom_loss import Balance, opportunity_loss\n",
    "import matplotlib\n",
    "import matplotlib.pyplot as plt"
   ]
  },
  {
   "cell_type": "code",
   "execution_count": 2,
   "metadata": {},
   "outputs": [],
   "source": [
    "N = 10\n",
    "FIX = True\n",
    "PKL_NAME = 'expt48'"
   ]
  },
  {
   "cell_type": "markdown",
   "metadata": {},
   "source": [
    "# MSE"
   ]
  },
  {
   "cell_type": "code",
   "execution_count": null,
   "metadata": {},
   "outputs": [],
   "source": [
    "balance_params = {\n",
    "    'START': 1e7, \n",
    "    'REWARD': 10, \n",
    "    'FINE': 100, \n",
    "    'NORM_HYPERPARAMS': (0,87000),\n",
    "    'NORM': 'minmax',\n",
    "    'WARM': 1\n",
    "}\n",
    "\n",
    "fixed_params = [{'BATCH_SIZE': 256,\n",
    "  'EPOCHS': 20,\n",
    "  'OPTIMIZER': torch.optim.RMSprop,\n",
    "  'LEARNING_RATE': 0.0001,\n",
    "  'LOSS': torch.nn.MSELoss(), #torch.nn.MSELoss()\n",
    "  'EARLY_STOPPING': True,\n",
    "  'PATIENCE': 2,\n",
    "  'MIN_DELTA': 1e-06,\n",
    "  'HIDDEN_DEPTH': 4,\n",
    "  'HIDDEN_SIZES': np.array([64,128, 256, 512]),\n",
    "  'KERNEL_SIZES': np.array([9, 7, 5, 3]),\n",
    "  'MAXPOOL': 2,\n",
    "  'FC_DEPTH': 2,\n",
    "  'FC_SIZES': np.array([512]),\n",
    "  'DROPOUT': 0.2,\n",
    "  'BALANCE': balance_params}]\n",
    "\n",
    "for i in np.arange(3,N + 3): \n",
    "    train, val, test = torch.load('data/tensors/'+ PKL_NAME + '.pkl')\n",
    "    persistence = torch.load('data/tensors/'+ PKL_NAME + '_persistence.pkl')     \n",
    "\n",
    "    print(fixed_params[0])\n",
    "    run = TrainTest(CNN_1D, (train, val, test), fixed_params[0], class_size=1)\n",
    "    run.train()\n",
    "    run.test()\n",
    "    torch.save(run.model, 'models/pkl/1DCNN_model_MSE_symmetric_1e7_N'+str(N)+'_'+str(i)+'.pt')"
   ]
  },
  {
   "cell_type": "markdown",
   "metadata": {},
   "source": [
    "# MAE"
   ]
  },
  {
   "cell_type": "code",
   "execution_count": null,
   "metadata": {},
   "outputs": [],
   "source": [
    "balance_params = {\n",
    "    'START': 1e7, \n",
    "    'REWARD': 10, \n",
    "    'FINE': 100, \n",
    "    'NORM_HYPERPARAMS': (0,87000),\n",
    "    'NORM': 'minmax',\n",
    "    'WARM': 1\n",
    "}\n",
    "\n",
    "fixed_params = [{'BATCH_SIZE': 256,\n",
    "  'EPOCHS': 20,\n",
    "  'OPTIMIZER': torch.optim.RMSprop,\n",
    "  'LEARNING_RATE': 0.0001,\n",
    "  'LOSS': torch.nn.L1Loss(), #torch.nn.MSELoss()\n",
    "  'EARLY_STOPPING': True,\n",
    "  'PATIENCE': 2,\n",
    "  'MIN_DELTA': 1e-06,\n",
    "  'HIDDEN_DEPTH': 4,\n",
    "  'HIDDEN_SIZES': np.array([64,128, 256, 512]),\n",
    "  'KERNEL_SIZES': np.array([9, 7, 5, 3]),\n",
    "  'MAXPOOL': 2,\n",
    "  'FC_DEPTH': 2,\n",
    "  'FC_SIZES': np.array([512]),\n",
    "  'DROPOUT': 0.2,\n",
    "  'BALANCE': balance_params}]\n",
    "\n",
    "for i in np.arange(3,N + 3): \n",
    "    train, val, test = torch.load('data/tensors/'+ PKL_NAME + '.pkl')\n",
    "    persistence = torch.load('data/tensors/'+ PKL_NAME + '_persistence.pkl')     \n",
    "\n",
    "    print(fixed_params[0])\n",
    "    run = TrainTest(CNN_1D, (train, val, test), fixed_params[0], class_size=1)\n",
    "    run.train()\n",
    "    run.test()\n",
    "    torch.save(run.model, 'models/pkl/1DCNN_model_MAE_symmetric_1e7_N'+str(N)+'_'+str(i)+'.pt')"
   ]
  },
  {
   "cell_type": "markdown",
   "metadata": {},
   "source": [
    "# Opportunity Loss"
   ]
  },
  {
   "cell_type": "code",
   "execution_count": null,
   "metadata": {},
   "outputs": [],
   "source": [
    "balance_params = {\n",
    "    'START': 0, \n",
    "    'REWARD': 10, \n",
    "    'OVERFIT_COST': 10,\n",
    "    'FINE': 100, \n",
    "    'NORM_HYPERPARAMS': (0,87000),\n",
    "    'NORM': 'minmax',\n",
    "    'WARM': 1\n",
    "}\n",
    "\n",
    "fixed_params = [{'BATCH_SIZE': 256,\n",
    "  'EPOCHS': 20,\n",
    "  'OPTIMIZER': torch.optim.RMSprop,\n",
    "  'LEARNING_RATE': 0.0001,\n",
    "  'LOSS': opportunity_loss(), #torch.nn.MSELoss()\n",
    "  'EARLY_STOPPING': True,\n",
    "  'PATIENCE': 2,\n",
    "  'MIN_DELTA': 1e-06,\n",
    "  'HIDDEN_DEPTH': 4,\n",
    "  'HIDDEN_SIZES': np.array([64,128, 256, 512]),\n",
    "  'KERNEL_SIZES': np.array([9, 7, 5, 3]),\n",
    "  'MAXPOOL': 2,\n",
    "  'FC_DEPTH': 2,\n",
    "  'FC_SIZES': np.array([512]),\n",
    "  'DROPOUT': 0.2,\n",
    "  'BALANCE': balance_params}]\n",
    "\n",
    "for i in np.arange(3,N + 3): \n",
    "    train, val, test = torch.load('data/tensors/'+ PKL_NAME + '.pkl')\n",
    "    persistence = torch.load('data/tensors/'+ PKL_NAME + '_persistence.pkl')     \n",
    "\n",
    "    print(fixed_params[0])\n",
    "    run = TrainTest(CNN_1D, (train, val, test), fixed_params[0], class_size=1)\n",
    "    run.train()\n",
    "    run.test()\n",
    "    torch.save(run.model, 'models/pkl/1DCNN_model_opploss_symmetric_N'+str(N)+'_'+str(i)+'.pt')"
   ]
  },
  {
   "cell_type": "code",
   "execution_count": null,
   "metadata": {},
   "outputs": [],
   "source": [
    "balance_params = {\n",
    "    'START': 0, \n",
    "    'REWARD': 10,\n",
    "    'OVERFIT_COST': 50,\n",
    "    'FINE': 100, \n",
    "    'NORM_HYPERPARAMS': (0,87000),\n",
    "    'NORM': 'minmax',\n",
    "    'WARM': 1\n",
    "}\n",
    "\n",
    "fixed_params = [{'BATCH_SIZE': 256,\n",
    "  'EPOCHS': 20,\n",
    "  'OPTIMIZER': torch.optim.RMSprop,\n",
    "  'LEARNING_RATE': 0.0001,\n",
    "  'LOSS': opportunity_loss(), #torch.nn.MSELoss()\n",
    "  'EARLY_STOPPING': True,\n",
    "  'PATIENCE': 2,\n",
    "  'MIN_DELTA': 1e-06,\n",
    "  'HIDDEN_DEPTH': 4,\n",
    "  'HIDDEN_SIZES': np.array([64,128, 256, 512]),\n",
    "  'KERNEL_SIZES': np.array([9, 7, 5, 3]),\n",
    "  'MAXPOOL': 2,\n",
    "  'FC_DEPTH': 2,\n",
    "  'FC_SIZES': np.array([512]),\n",
    "  'DROPOUT': 0.2,\n",
    "  'BALANCE': balance_params}]\n",
    "\n",
    "for i in np.arange(3,N + 3): \n",
    "    train, val, test = torch.load('data/tensors/'+ PKL_NAME + '.pkl')\n",
    "    persistence = torch.load('data/tensors/'+ PKL_NAME + '_persistence.pkl')     \n",
    "\n",
    "    print(fixed_params[0])\n",
    "    run = TrainTest(CNN_1D, (train, val, test), fixed_params[0], class_size=1)\n",
    "    run.train()\n",
    "    run.test()\n",
    "    torch.save(run.model, 'models/pkl/1DCNN_model_opploss_asymmetric_N'+str(N)+'_'+str(i)+'.pt')"
   ]
  },
  {
   "cell_type": "markdown",
   "metadata": {},
   "source": [
    "# Plotting Visuals"
   ]
  },
  {
   "cell_type": "code",
   "execution_count": 3,
   "metadata": {},
   "outputs": [
    {
     "name": "stdout",
     "output_type": "stream",
     "text": [
      "CPU times: user 3min 26s, sys: 2min 16s, total: 5min 42s\n",
      "Wall time: 1min 47s\n"
     ]
    }
   ],
   "source": [
    "%%time\n",
    "train, val, test = torch.load('data/tensors/'+ PKL_NAME + '.pkl')\n",
    "\n",
    "res = {}\n",
    "for filename in ['MSE_symmetric_1e7', 'MAE_symmetric_1e7', 'opploss_symmetric']: # 'opploss_asymmetric_small_0'\n",
    "    res[filename] = {}\n",
    "    res[filename]['raw'] = []\n",
    "    res[filename]['test_list'] = []\n",
    "    res[filename]['bal_list'] = []\n",
    "    res[filename]['corr'] = []\n",
    "    for i in np.arange(10):\n",
    "        mod = torch.load(\"models/pkl/1DCNN_model_\" + filename +\"_N\"+str(N)+'_'+str(i)+\".pt\")\n",
    "        pred = mod(test[0]).squeeze()\n",
    "        bal = Balance(1e7, 10, 100, (0,87000), 'minmax')\n",
    "        to_add = test[0][:-1,1]\n",
    "        bal.update(pred[18:], test[1][18:], test[0][18:,-1, 1])\n",
    "        res[filename]['raw'].append(pred.detach().numpy())\n",
    "        res[filename]['bal_list'].append(bal.balance_list)\n",
    "        res[filename]['corr'].append(lagged_correlation(pred.detach().numpy() + test[0][:,-1,1].detach().numpy(), \n",
    "                                                        test[1].detach().numpy() + test[0][:,-1,1].detach().numpy(), \n",
    "                                                        plot=False))\n",
    "        \n",
    "    res[filename]['mean'] = np.mean(np.array(res[filename]['raw']), axis=0)\n",
    "    res[filename]['std'] = np.std(np.array(res[filename]['raw']), axis=0)\n",
    "    res[filename]['mean_bal'] = np.mean(np.array(res[filename]['bal_list']), axis=0)\n",
    "    res[filename]['std_bal'] = np.std(np.array(res[filename]['bal_list']), axis=0)\n",
    "    res[filename]['mean_corr'] = np.mean(np.array(res[filename]['corr']), axis=0)\n",
    "    res[filename]['std_corr'] = np.std(np.array(res[filename]['corr']), axis=0)\n",
    "    \n",
    "    del res[filename]['raw'] \n",
    "    del res[filename]['bal_list']\n",
    "    del res[filename]['corr'] "
   ]
  },
  {
   "cell_type": "code",
   "execution_count": null,
   "metadata": {},
   "outputs": [],
   "source": [
    "cmap = plt.get_cmap('viridis', len(res))\n",
    "colors = [matplotlib.colors.rgb2hex(cmap(i)[:3]) for i in range(cmap.N)]\n",
    "legends = ['MSE', 'MAE', 'OppLoss_symmetric']\n",
    "\n",
    "fig = plt.figure()\n",
    "for i,k in enumerate(res): \n",
    "    plt.plot(res[k]['mean_bal'], color=colors[i], label = legends[i])\n",
    "    plt.fill_between(range(len(res[k]['mean_bal'])),\n",
    "                 res[k]['mean_bal'] - res[k]['std_bal'], \n",
    "                 res[k]['mean_bal'] + res[k]['std_bal'],\n",
    "                 color=colors[i], alpha=0.3)\n",
    "\n",
    "plt.xlabel('Time (in hours)')\n",
    "plt.ylabel('Balance (in Euro cents)')\n",
    "plt.legend(loc='lower left')\n",
    "\n",
    "plt.show() \n",
    "\n",
    "fig.savefig('results/visuals/compare_loss_balances_symmetric' + PKL_NAME +'.jpg')"
   ]
  },
  {
   "cell_type": "code",
   "execution_count": null,
   "metadata": {},
   "outputs": [],
   "source": [
    "%%time\n",
    "train, val, test = torch.load('data/tensors/'+ PKL_NAME + '.pkl')\n",
    "\n",
    "res = {}\n",
    "for filename in ['MSE_symmetric_1e7', 'MAE_symmetric_1e7', 'opploss_asymmetric']: # 'opploss_asymmetric_small_0'\n",
    "    res[filename] = {}\n",
    "    res[filename]['raw'] = []\n",
    "    res[filename]['test_list'] = []\n",
    "    res[filename]['bal_list'] = []\n",
    "    res[filename]['corr'] = []\n",
    "    for i in np.arange(10):\n",
    "        mod = torch.load(\"models/pkl/1DCNN_model_\" + filename +\"_N\"+str(N)+'_'+str(i)+\".pt\")\n",
    "        pred = mod(test[0]).squeeze()\n",
    "        bal = Balance(1e7, 10, 100, (0,87000), 'minmax')\n",
    "        to_add = test[0][:-1,1]\n",
    "        bal.update(pred[18:], test[1][18:], test[0][18:,-1, 1], 5)\n",
    "        res[filename]['raw'].append(pred.detach().numpy())\n",
    "        res[filename]['bal_list'].append(bal.balance_list)\n",
    "        res[filename]['corr'].append(lagged_correlation(pred.detach().numpy() + test[0][:,-1,1].detach().numpy(), \n",
    "                                                        test[1].detach().numpy() + test[0][:,-1,1].detach().numpy(), \n",
    "                                                        plot=False))\n",
    "        \n",
    "    res[filename]['mean'] = np.mean(np.array(res[filename]['raw']), axis=0)\n",
    "    res[filename]['std'] = np.std(np.array(res[filename]['raw']), axis=0)\n",
    "    res[filename]['mean_bal'] = np.mean(np.array(res[filename]['bal_list']), axis=0)\n",
    "    res[filename]['std_bal'] = np.std(np.array(res[filename]['bal_list']), axis=0)\n",
    "    res[filename]['mean_corr'] = np.mean(np.array(res[filename]['corr']), axis=0)\n",
    "    res[filename]['std_corr'] = np.std(np.array(res[filename]['corr']), axis=0)\n",
    "    \n",
    "    del res[filename]['raw'] \n",
    "    del res[filename]['bal_list']\n",
    "    del res[filename]['corr'] "
   ]
  },
  {
   "cell_type": "code",
   "execution_count": 10,
   "metadata": {},
   "outputs": [
    {
     "data": {
      "image/png": "[encoded data removed]",
      "text/plain": [
       "<Figure size 432x288 with 1 Axes>"
      ]
     },
     "metadata": {
      "needs_background": "light"
     },
     "output_type": "display_data"
    }
   ],
   "source": [
    "cmap = plt.get_cmap('viridis', len(res))\n",
    "colors = [matplotlib.colors.rgb2hex(cmap(i)[:3]) for i in range(cmap.N)]\n",
    "legends = ['MSE', 'MAE', 'OppLoss_asymmetric']\n",
    "\n",
    "fig = plt.figure()\n",
    "for i,k in enumerate(res): \n",
    "    plt.plot(res[k]['mean_bal'], color=colors[i], label = legends[i])\n",
    "    plt.fill_between(range(len(res[k]['mean_bal'])),\n",
    "                 res[k]['mean_bal'] - res[k]['std_bal'], \n",
    "                 res[k]['mean_bal'] + res[k]['std_bal'],\n",
    "                 color=colors[i], alpha=0.3)\n",
    "\n",
    "plt.xlabel('Time (in hours)')\n",
    "plt.ylabel('Balance (in Euro cents)')\n",
    "plt.legend(loc='lower left')\n",
    "\n",
    "plt.show() \n",
    "\n",
    "fig.savefig('results/visuals/compare_loss_balances_asymmetric' + PKL_NAME +'.jpg')"
   ]
  }
 ],
 "metadata": {
  "kernelspec": {
   "display_name": "deeplearning",
   "language": "python",
   "name": "deeplearning"
  },
  "language_info": {
   "codemirror_mode": {
    "name": "ipython",
    "version": 3
   },
   "file_extension": ".py",
   "mimetype": "text/x-python",
   "name": "python",
   "nbconvert_exporter": "python",
   "pygments_lexer": "ipython3",
   "version": "3.8.3"
  }
 },
 "nbformat": 4,
 "nbformat_minor": 2
}
